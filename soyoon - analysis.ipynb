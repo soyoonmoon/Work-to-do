{
 "cells": [
  {
   "cell_type": "code",
   "execution_count": 28,
   "metadata": {},
   "outputs": [],
   "source": [
    "import pandas as pd\n",
    "import numpy as np\n",
    "import matplotlib.pyplot as plt\n",
    "data = pd.read_csv('kaggle_imputed_and_lagged_weds.csv') #original database\n",
    "state = pd.read_csv('covid-cdc-states.csv')"
   ]
  },
  {
   "cell_type": "markdown",
   "metadata": {},
   "source": [
    "Put the 38 states in a list so that it's easy to use"
   ]
  },
  {
   "cell_type": "code",
   "execution_count": 29,
   "metadata": {},
   "outputs": [
    {
     "name": "stdout",
     "output_type": "stream",
     "text": [
      "['AL', 'AR', 'AZ', 'CA', 'CO', 'CT', 'FL', 'IA', 'ID', 'IN', 'KS', 'KY', 'LA', 'MA', 'MD', 'ME', 'MI', 'MN', 'MS', 'MT', 'NC', 'ND', 'NH', 'NJ', 'NM', 'NV', 'NY', 'OH', 'OK', 'OR', 'PA', 'SC', 'TN', 'UT', 'VA', 'VT', 'WI', 'WY']\n"
     ]
    }
   ],
   "source": [
    "states = []\n",
    "for i in range(38):\n",
    "    states.append(state.iloc[i]['state'])\n",
    "print(states)"
   ]
  },
  {
   "cell_type": "markdown",
   "metadata": {},
   "source": [
    "Make new dataframe with only 38 chosen states. This is using kaggle_imputed_and_lagged_weds.csv data."
   ]
  },
  {
   "cell_type": "code",
   "execution_count": 30,
   "metadata": {},
   "outputs": [],
   "source": [
    "new_data = data.loc[data['State'].isin(states)] #new database with only 38 chosen states"
   ]
  },
  {
   "cell_type": "code",
   "execution_count": 31,
   "metadata": {},
   "outputs": [
    {
     "name": "stdout",
     "output_type": "stream",
     "text": [
      "0.01615027427963683\n"
     ]
    }
   ],
   "source": [
    "###Overall###\n",
    "total_NewCases = new_data['NewCases'].sum(skipna=True)#Total NewCases not including NA values\n",
    "total_NewDeaths = new_data['NewDeaths'].sum(skipna=True) #Total NewDeaths not including NA values\n",
    "total_CFR = total_NewDeaths/total_NewCases\n",
    "total_NewCases_Lag1 = new_data['NewCases_Lag_1'].sum(skipna=True)#Total NewCases_Lag_1 not including NA values\n",
    "total_NewCases_Lag2 = new_data['NewCases_Lag_2'].sum(skipna=True)#Total NewCases_Lag_2 not including NA values\n",
    "total_NewCases_Lag3 = new_data['NewCases_Lag_3'].sum(skipna=True)#Total NewCases_Lag_3 not including NA values\n",
    "total_NewCases_Lag4 = new_data['NewCases_Lag_4'].sum(skipna=True)#Total NewCases_Lag_4 not including NA values\n",
    "print(total_CFR)"
   ]
  },
  {
   "cell_type": "markdown",
   "metadata": {},
   "source": [
    "Total new cases: 20,903,484 \n",
    "Total new deaths: 337,597 \n",
    "Total new cases Lag1: 20,560,498 \n",
    "Total new cases Lag2: 20,194,940 \n",
    "Total new cases Lag3: 19,764,335 \n",
    "Total new cases Lag4: 19,196,175 "
   ]
  },
  {
   "cell_type": "code",
   "execution_count": 33,
   "metadata": {},
   "outputs": [
    {
     "name": "stdout",
     "output_type": "stream",
     "text": [
      "0.022583151560240447\n",
      "0.02379827230306902\n",
      "0.02376984431742131\n",
      "0.018939654579233467\n",
      "0.007649499215369075\n",
      "0.0037630311812490227\n",
      "0.011554007064607418\n"
     ]
    }
   ],
   "source": [
    "new_data = data.loc[data['State'].isin(states)] \n",
    "##By Ethnicity###\n",
    "total_asian_NewCases = new_data.loc[new_data['Race'] == 'Asian']['NewCases'].sum()\n",
    "total_asian_NewDeaths = new_data.loc[new_data['Race'] == 'Asian']['NewDeaths'].sum()\n",
    "# print('asian',total_asian_NewCases)\n",
    "# print('asian',total_asian_NewDeaths)\n",
    "print(total_asian_NewDeaths/total_asian_NewCases)\n",
    "total_white_NewCases = new_data.loc[new_data['Race'] == 'White']['NewCases'].sum()\n",
    "total_white_NewDeaths = new_data.loc[new_data['Race'] == 'White']['NewDeaths'].sum()\n",
    "# print('white',total_white_NewCases)\n",
    "# print('white',total_white_NewDeaths)\n",
    "print(total_white_NewDeaths/total_white_NewCases)\n",
    "total_black_NewCases = new_data.loc[new_data['Race'] == 'Black']['NewCases'].sum()\n",
    "total_black_NewDeaths = new_data.loc[new_data['Race'] == 'Black']['NewDeaths'].sum()\n",
    "# print('black',total_black_NewCases)\n",
    "# print('black',total_black_NewDeaths)\n",
    "print(total_black_NewDeaths/total_black_NewCases)\n",
    "total_aian_NewCases = new_data.loc[new_data['Race'] == 'AIAN']['NewCases'].sum()\n",
    "total_aian_NewDeaths = new_data.loc[new_data['Race'] == 'AIAN']['NewDeaths'].sum()\n",
    "# print('aian',total_aian_NewCases)\n",
    "# print('aian',total_aian_NewDeaths)\n",
    "print(total_aian_NewDeaths/total_aian_NewCases)\n",
    "total_other_NewCases = new_data.loc[new_data['Race'] == 'Other']['NewCases'].sum()\n",
    "total_other_NewDeaths = new_data.loc[new_data['Race'] == 'Other']['NewDeaths'].sum()\n",
    "# print('other',total_other_NewCases)\n",
    "# print('other',total_other_NewDeaths)\n",
    "print(total_other_NewDeaths/total_other_NewCases)\n",
    "total_unknown_NewCases = new_data.loc[new_data['Race'] == 'Unknown']['NewCases'].sum()\n",
    "total_unknown_NewDeaths = new_data.loc[new_data['Race'] == 'Unknown']['NewDeaths'].sum()\n",
    "# print('unknown',total_unknown_NewCases)\n",
    "# print('unknown',total_unknown_NewDeaths)\n",
    "print(total_unknown_NewDeaths/total_unknown_NewCases)\n",
    "total_multiracial_NewCases = new_data.loc[new_data['Race'] == 'Multiracial']['NewCases'].sum()\n",
    "total_multiracial_NewDeaths = new_data.loc[new_data['Race'] == 'Multiracial']['NewDeaths'].sum()\n",
    "# print('multiracial',total_multiracial_NewCases)\n",
    "# print('multiracial',total_multiracial_NewDeaths)\n",
    "print(total_multiracial_NewDeaths/total_multiracial_NewCases)\n",
    "total_nhpi_NewCases = new_data.loc[new_data['Race'] == 'NHPI']['NewCases'].sum()\n",
    "total_nhpi_NewDeaths = new_data.loc[new_data['Race'] == 'NHPI']['NewDeaths'].sum()\n",
    "# print('nhpi',total_nhpi_NewCases)\n",
    "# print('nhpi',total_nhpi_NewDeaths)\n",
    "# print(total_nhpi_NewDeaths/total_nhpi_NewCases)"
   ]
  },
  {
   "cell_type": "markdown",
   "metadata": {},
   "source": [
    "Data Analysis using CDT data"
   ]
  },
  {
   "cell_type": "code",
   "execution_count": 34,
   "metadata": {},
   "outputs": [],
   "source": [
    "data = pd.read_csv('CRDT Data - CRDT.csv')"
   ]
  },
  {
   "cell_type": "code",
   "execution_count": 35,
   "metadata": {},
   "outputs": [],
   "source": [
    "new_data = data.loc[data['State'].isin(states)]  #CTP data"
   ]
  },
  {
   "cell_type": "code",
   "execution_count": 36,
   "metadata": {},
   "outputs": [
    {
     "name": "stdout",
     "output_type": "stream",
     "text": [
      "1822940 17150269.0 2.295938970299518\n",
      "########\n",
      "276849745.0 9122128.0 3.2949743190119243\n",
      "########\n",
      "72454777.0 2973989.0 4.104614109846754\n",
      "########\n",
      "107572198.0 2484498.0 2.309609774823045\n",
      "########\n",
      "45345126.0 597252.0 1.3171250202281939\n",
      "########\n",
      "218136714.0 1129825.0 0.5179435315047425\n",
      "########\n"
     ]
    }
   ],
   "source": [
    "total_NewCases = new_data['Cases_Total'].sum(skipna=True)#Total NewCases not including NA values\n",
    "total_NewDeaths = new_data['Deaths_Total'].sum(skipna=True) #Total NewDeaths not including NA values\n",
    "total_CFR = total_NewDeaths/total_NewCases*100\n",
    "print(total_black_NewCases, total_NewDeaths, total_CFR)\n",
    "print('########')\n",
    "\n",
    "white_nc = new_data['Cases_White'].sum(skipna=True)\n",
    "white_death = new_data['Deaths_White'].sum(skipna=True)\n",
    "white_CFR = white_death/white_nc*100\n",
    "print(white_nc,white_death,white_CFR)\n",
    "print('########')\n",
    "\n",
    "black_nc = new_data['Cases_Black'].sum(skipna=True)\n",
    "black_death = new_data['Deaths_Black'].sum(skipna=True)\n",
    "black_CFR = black_death/black_nc*100\n",
    "print(black_nc,black_death,black_CFR)\n",
    "print('########')\n",
    "\n",
    "latinx_nc = new_data['Cases_Latinx'].sum(skipna=True)\n",
    "latinx_death = new_data['Deaths_Latinx'].sum(skipna=True)\n",
    "latinx_CFR = latinx_death/latinx_nc*100\n",
    "print(latinx_nc,latinx_death,latinx_CFR)\n",
    "print('########')\n",
    "\n",
    "other_nc = new_data['Cases_Other'].sum(skipna=True)\n",
    "other_death = new_data['Deaths_Other'].sum(skipna=True)\n",
    "other_CFR = other_death/other_nc*100\n",
    "print(other_nc,other_death,other_CFR)\n",
    "print('########')\n",
    "\n",
    "unknown_nc = new_data['Cases_Unknown'].sum(skipna=True)\n",
    "unknown_death = new_data['Deaths_Unknown'].sum(skipna=True)\n",
    "unknown_CFR = unknown_death/unknown_nc*100\n",
    "print(unknown_nc,unknown_death,unknown_CFR)\n",
    "print('########')"
   ]
  },
  {
   "cell_type": "code",
   "execution_count": 37,
   "metadata": {},
   "outputs": [
    {
     "name": "stdout",
     "output_type": "stream",
     "text": [
      "[11.991658346256523, 11.96740107789141, 10.647586107470682, 7.41328078252118, 5.390909304550135, 4.917472382405884, 4.6932587938292265, 4.181119847749298, 3.382891419949583, 3.0369943062510893, 2.8962900071899296, 2.9605117169559136]\n"
     ]
    }
   ],
   "source": [
    "#Calculate CFR value per month for black/AA (2020 April- 2021 March)\n",
    "dates = [20200400,20200500,20200600,20200700,20200800,20200900,20201000,20201100,20201200,\n",
    "20210100,20210200,20210300]\n",
    "black_total_cases_cumulative = []\n",
    "black_total_cases = []\n",
    "for i in range(12):\n",
    "    black_total_cases_cumulative.append(new_data.loc[new_data['Date']>dates[i]]['Cases_Black'].sum(skipna=True))\n",
    "for i in range(11):\n",
    "    black_total_cases.append(black_total_cases_cumulative[i]-black_total_cases_cumulative[i+1])\n",
    "black_total_cases.append(black_total_cases_cumulative[11])\n",
    "\n",
    "black_total_deaths_cumulative = []\n",
    "black_total_deaths = []\n",
    "for i in range(12):\n",
    "    black_total_deaths_cumulative.append(new_data.loc[new_data['Date']>dates[i]]['Deaths_Black'].sum(skipna=True))\n",
    "for i in range(11):\n",
    "    black_total_deaths.append(black_total_deaths_cumulative[i]-black_total_deaths_cumulative[i+1])\n",
    "black_total_deaths.append(black_total_deaths_cumulative[11])\n",
    "\n",
    "black_CFR = []\n",
    "for i in range(12):\n",
    "    black_CFR.append(black_total_deaths[i]/black_total_cases[i]*100)\n",
    "print(black_CFR)"
   ]
  },
  {
   "cell_type": "code",
   "execution_count": 40,
   "metadata": {},
   "outputs": [
    {
     "name": "stdout",
     "output_type": "stream",
     "text": [
      "[11.568627450980392, 13.073157653889, 12.243546449886319, 8.336810302849853, 6.058812594286536, 5.055691101725576, 4.24555854497148, 3.227089225562231, 2.592092608158451, 2.430612387875718, 2.5600216667603877, 2.6325998533685993]\n"
     ]
    }
   ],
   "source": [
    "white_total_cases_cumulative = []\n",
    "white_total_cases = []\n",
    "for i in range(12):\n",
    "    white_total_cases_cumulative.append(new_data.loc[new_data['Date']>dates[i]]['Cases_White'].sum(skipna=True))\n",
    "for i in range(11):\n",
    "    white_total_cases.append(white_total_cases_cumulative[i]-white_total_cases_cumulative[i+1])\n",
    "white_total_cases.append(white_total_cases_cumulative[11])\n",
    "\n",
    "white_total_deaths_cumulative = []\n",
    "white_total_deaths = []\n",
    "for i in range(12):\n",
    "    white_total_deaths_cumulative.append(new_data.loc[new_data['Date']>dates[i]]['Deaths_White'].sum(skipna=True))\n",
    "for i in range(11):\n",
    "    white_total_deaths.append(white_total_deaths_cumulative[i]-white_total_deaths_cumulative[i+1])\n",
    "white_total_deaths.append(white_total_deaths_cumulative[11])\n",
    "\n",
    "white_CFR = []\n",
    "for i in range(12):\n",
    "    white_CFR.append(white_total_deaths[i]/white_total_cases[i]*100)\n",
    "print(white_CFR)"
   ]
  },
  {
   "cell_type": "code",
   "execution_count": 41,
   "metadata": {},
   "outputs": [
    {
     "name": "stdout",
     "output_type": "stream",
     "text": [
      "[12.329241734310038, 8.65741970799415, 6.34197838864172, 4.301007155947468, 3.3376605299311253, 3.036807259696884, 2.9254745965852433, 2.566808496484241, 1.9763963177255595, 1.639751661208343, 1.7043485807407597, 1.7822731677051937]\n"
     ]
    }
   ],
   "source": [
    "latinx_total_cases_cumulative = []\n",
    "latinx_total_cases = []\n",
    "for i in range(12):\n",
    "    latinx_total_cases_cumulative.append(new_data.loc[new_data['Date']>dates[i]]['Cases_Latinx'].sum(skipna=True))\n",
    "for i in range(11):\n",
    "    latinx_total_cases.append(latinx_total_cases_cumulative[i]-latinx_total_cases_cumulative[i+1])\n",
    "latinx_total_cases.append(latinx_total_cases_cumulative[11])\n",
    "\n",
    "latinx_total_deaths_cumulative = []\n",
    "latinx_total_deaths = []\n",
    "for i in range(12):\n",
    "    latinx_total_deaths_cumulative.append(new_data.loc[new_data['Date']>dates[i]]['Deaths_Latinx'].sum(skipna=True))\n",
    "for i in range(11):\n",
    "    latinx_total_deaths.append(latinx_total_deaths_cumulative[i]-latinx_total_deaths_cumulative[i+1])\n",
    "latinx_total_deaths.append(latinx_total_deaths_cumulative[11])\n",
    "\n",
    "latinx_CFR = []\n",
    "for i in range(12):\n",
    "    latinx_CFR.append(latinx_total_deaths[i]/latinx_total_cases[i]*100)\n",
    "print(latinx_CFR)"
   ]
  },
  {
   "cell_type": "code",
   "execution_count": 42,
   "metadata": {},
   "outputs": [
    {
     "data": {
      "text/plain": [
       "Text(0, 0.5, 'CFR(%)')"
      ]
     },
     "execution_count": 42,
     "metadata": {},
     "output_type": "execute_result"
    },
    {
     "data": {
      "image/png": "[encoded data removed]",
      "text/plain": [
       "<Figure size 432x288 with 1 Axes>"
      ]
     },
     "metadata": {
      "needs_background": "light"
     },
     "output_type": "display_data"
    }
   ],
   "source": [
    "x = np.arange(1,13)\n",
    "x = ['Apr 2020','May 2020','Jun 2020','July 2020','Aug 2020','Sep 2020','Oct 2020',\n",
    "     'Nov 2020','Dec 2020','Jan 2021','Feb 2021','Mar 2021']\n",
    "plt.plot(x,latinx_CFR, color =\"orange\",label = 'Latinx')\n",
    "plt.plot(x,white_CFR, color =\"red\",label = 'White')\n",
    "plt.plot(x,black_CFR, color =\"blue\",label = 'Black/AA')\n",
    "plt.legend()\n",
    "plt.title(\"CTP data\")\n",
    "plt.xlabel(\"Month\")\n",
    "plt.ylabel(\"CFR(%)\")"
   ]
  }
 ],
 "metadata": {
  "kernelspec": {
   "display_name": "Python 3",
   "language": "python",
   "name": "python3"
  },
  "language_info": {
   "codemirror_mode": {
    "name": "ipython",
    "version": 3
   },
   "file_extension": ".py",
   "mimetype": "text/x-python",
   "name": "python",
   "nbconvert_exporter": "python",
   "pygments_lexer": "ipython3",
   "version": "3.8.3"
  },
  "vscode": {
   "interpreter": {
    "hash": "31f2aee4e71d21fbe5cf8b01ff0e069b9275f58929596ceb00d14d90e3e16cd6"
   }
  }
 },
 "nbformat": 4,
 "nbformat_minor": 4
}
