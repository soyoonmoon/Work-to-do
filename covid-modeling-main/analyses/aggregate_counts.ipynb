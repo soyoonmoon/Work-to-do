{
 "cells": [
  {
   "cell_type": "code",
   "execution_count": 1,
   "metadata": {
    "tags": []
   },
   "outputs": [
    {
     "name": "stdout",
     "output_type": "stream",
     "text": [
      "Stata 17.0 (MP)\n"
     ]
    }
   ],
   "source": [
    "%run nb_header.py"
   ]
  },
  {
   "cell_type": "markdown",
   "metadata": {
    "tags": []
   },
   "source": [
    "# Analysis of Aggregate Counts"
   ]
  },
  {
   "cell_type": "markdown",
   "metadata": {
    "tags": []
   },
   "source": [
    "## Contents\n",
    "- [CDC Data](#CDC-Data)\n",
    "  - [Overall CFR](#Overall-CFR)\n",
    "  - [CFR by State](#CFR-by-State)\n",
    "  - [CFR by Race/Ethnicity](#CFR-by-Race/Ethnicity)\n",
    "  - [CFR Ratios Comparing Racial/Ethnic Groups](#CFR-Ratios-Comparing-Racial/Ethnic-Groups)\n",
    "  - [CFR Ratios Comparing Racial/Ethnic Groups, Separately by Age Group](#CFR-Ratios-Comparing-Racial/Ethnic-Groups,-Separately-by-Age-Group)\n",
    "- [CTP Data](#CTP-Data)\n",
    "  - [CFRs, Both Overall and by Race/Ethnicity](#CFRs,-Both-Overall-and-by-Race/Ethnicity)\n",
    "  - [CFR Ratios Comparing Racial/Ethnic Groups](#CFR-Ratios-Comparing-Racial/Ethnic-Groups)"
   ]
  },
  {
   "cell_type": "markdown",
   "metadata": {
    "tags": []
   },
   "source": [
    "## CDC Data"
   ]
  },
  {
   "cell_type": "markdown",
   "metadata": {
    "tags": []
   },
   "source": [
    "Start with the [CDC Public Use data](https://data.cdc.gov/Case-Surveillance/COVID-19-Case-Surveillance-Public-Use-Data-with-Ge/ynhu-f2s2) downloaded on 2021-10-28, restricted to the period up through February 2021 (i.e., when the COVID Tracking Project stopped operating). Data preprocessing performed by [preprocess.py](../data/cdc/preprocess.py)."
   ]
  },
  {
   "cell_type": "code",
   "execution_count": 2,
   "metadata": {},
   "outputs": [
    {
     "data": {
      "text/html": [
       "<div>\n",
       "<style scoped>\n",
       "    .dataframe tbody tr th:only-of-type {\n",
       "        vertical-align: middle;\n",
       "    }\n",
       "\n",
       "    .dataframe tbody tr th {\n",
       "        vertical-align: top;\n",
       "    }\n",
       "\n",
       "    .dataframe thead th {\n",
       "        text-align: right;\n",
       "    }\n",
       "</style>\n",
       "<table border=\"1\" class=\"dataframe\">\n",
       "  <thead>\n",
       "    <tr style=\"text-align: right;\">\n",
       "      <th></th>\n",
       "      <th>case_month</th>\n",
       "      <th>res_state</th>\n",
       "      <th>age_group</th>\n",
       "      <th>sex</th>\n",
       "      <th>race</th>\n",
       "      <th>ethnicity</th>\n",
       "      <th>death_yn</th>\n",
       "    </tr>\n",
       "  </thead>\n",
       "  <tbody>\n",
       "    <tr>\n",
       "      <th>0</th>\n",
       "      <td>2020-11</td>\n",
       "      <td>IN</td>\n",
       "      <td>0 - 17 years</td>\n",
       "      <td>NaN</td>\n",
       "      <td>NaN</td>\n",
       "      <td>NaN</td>\n",
       "      <td>No</td>\n",
       "    </tr>\n",
       "    <tr>\n",
       "      <th>1</th>\n",
       "      <td>2020-08</td>\n",
       "      <td>MI</td>\n",
       "      <td>18 to 49 years</td>\n",
       "      <td>NaN</td>\n",
       "      <td>NaN</td>\n",
       "      <td>NaN</td>\n",
       "      <td>No</td>\n",
       "    </tr>\n",
       "    <tr>\n",
       "      <th>2</th>\n",
       "      <td>2020-07</td>\n",
       "      <td>WI</td>\n",
       "      <td>18 to 49 years</td>\n",
       "      <td>NaN</td>\n",
       "      <td>NaN</td>\n",
       "      <td>NaN</td>\n",
       "      <td>Unknown</td>\n",
       "    </tr>\n",
       "    <tr>\n",
       "      <th>3</th>\n",
       "      <td>2020-12</td>\n",
       "      <td>KY</td>\n",
       "      <td>0 - 17 years</td>\n",
       "      <td>Female</td>\n",
       "      <td>NaN</td>\n",
       "      <td>NaN</td>\n",
       "      <td>NaN</td>\n",
       "    </tr>\n",
       "    <tr>\n",
       "      <th>4</th>\n",
       "      <td>2020-12</td>\n",
       "      <td>IL</td>\n",
       "      <td>0 - 17 years</td>\n",
       "      <td>Female</td>\n",
       "      <td>Missing</td>\n",
       "      <td>Missing</td>\n",
       "      <td>Missing</td>\n",
       "    </tr>\n",
       "  </tbody>\n",
       "</table>\n",
       "</div>"
      ],
      "text/plain": [
       "  case_month res_state       age_group     sex     race ethnicity death_yn\n",
       "0    2020-11        IN    0 - 17 years     NaN      NaN       NaN       No\n",
       "1    2020-08        MI  18 to 49 years     NaN      NaN       NaN       No\n",
       "2    2020-07        WI  18 to 49 years     NaN      NaN       NaN  Unknown\n",
       "3    2020-12        KY    0 - 17 years  Female      NaN       NaN      NaN\n",
       "4    2020-12        IL    0 - 17 years  Female  Missing   Missing  Missing"
      ]
     },
     "execution_count": 2,
     "metadata": {},
     "output_type": "execute_result"
    }
   ],
   "source": [
    "import pandas as pd\n",
    "df = pd.read_feather('data/cdc/preprocessed.lz4')\n",
    "df.head()"
   ]
  },
  {
   "cell_type": "markdown",
   "metadata": {
    "tags": []
   },
   "source": [
    "Translate `case_month` into date format, and create death indicator. Note that `death_yn` is missing for nearly half of the observations (10,371,233 of 22,072,232)."
   ]
  },
  {
   "cell_type": "code",
   "execution_count": 3,
   "metadata": {
    "tags": []
   },
   "outputs": [
    {
     "name": "stdout",
     "output_type": "stream",
     "text": [
      "\n",
      "   death_yn |      Freq.     Percent        Cum.\n",
      "------------+-----------------------------------\n",
      "    Missing |  7,027,205       31.84       31.84\n",
      "         No | 11,437,601       51.82       83.66\n",
      "    Unknown |  2,280,470       10.33       93.99\n",
      "        Yes |    263,398        1.19       95.18\n",
      "        nan |  1,063,558        4.82      100.00\n",
      "------------+-----------------------------------\n",
      "      Total | 22,072,232      100.00\n",
      "\n",
      "Missing information on survival status: 10371233\n",
      "\n"
     ]
    }
   ],
   "source": [
    "%%stata -d df -force -qui\n",
    "gen month = monthly(case_month,\"YM\")\n",
    "format month %tm\n",
    "drop case_month\n",
    "noi tab death_yn, m\n",
    "gen byte deceased = (death_yn==\"Yes\")\n",
    "gen byte death_miss = !inlist(death_yn,\"No\",\"Yes\")\n",
    "count if death_miss\n",
    "noi di as text _n \"Missing information on survival status: `r(N)'\"\n",
    "compress\n",
    "python: del df"
   ]
  },
  {
   "cell_type": "markdown",
   "metadata": {},
   "source": [
    "Finally, create race/ethnicity variable and look at differences across racial/ethnic groups in the missingness of survival status. Our new variable `ethgrp` takes values 1 (White), 2 (Black), 3 (Latinx) and 4 (Other). This shows that missingness is higher for Blacks (49%) and Unknown (52%) than for Whites (41%) or Latinx (42%)."
   ]
  },
  {
   "cell_type": "code",
   "execution_count": 4,
   "metadata": {},
   "outputs": [
    {
     "name": "stdout",
     "output_type": "stream",
     "text": [
      "\n",
      "           |                         ethgrp\n",
      "death_miss |         1          2          3          4          . |     Total\n",
      "-----------+-------------------------------------------------------+----------\n",
      "         0 | 3,976,231    867,970  1,161,221    855,820  4,839,757 |11,700,999 \n",
      "           |     58.58      51.04      58.48      59.18      47.67 |     53.01 \n",
      "-----------+-------------------------------------------------------+----------\n",
      "         1 | 2,811,597    832,448    824,359    590,240  5,312,589 |10,371,233 \n",
      "           |     41.42      48.96      41.52      40.82      52.33 |     46.99 \n",
      "-----------+-------------------------------------------------------+----------\n",
      "     Total | 6,787,828  1,700,418  1,985,580  1,446,060 10,152,346 |22,072,232 \n",
      "           |    100.00     100.00     100.00     100.00     100.00 |    100.00 \n",
      "\n"
     ]
    }
   ],
   "source": [
    "%%stata -qui\n",
    "gen byte ethgrp = 1 if race==\"White\" & ethnicity==\"Non-Hispanic/Latino\"\n",
    "replace ethgrp = 2 if race==\"Black\"\n",
    "replace ethgrp = 3 if ethnicity==\"Hispanic/Latino\" & mi(ethgrp)\n",
    "replace ethgrp = 4 if inlist(race,\"American Indian/Alaska Native\", ///\n",
    "                                  \"Asian\", ///\n",
    "                                  \"Multiple/Other\", ///\n",
    "                                  \"Native Hawaiian/Other Pacific Islander\") & mi(ethgrp)\n",
    "noi tab death_miss ethgrp, col nokey m"
   ]
  },
  {
   "cell_type": "markdown",
   "metadata": {
    "tags": []
   },
   "source": [
    "### Overall CFR"
   ]
  },
  {
   "cell_type": "markdown",
   "metadata": {},
   "source": [
    "Here we compute the overall case fatality ratio (CFR)."
   ]
  },
  {
   "cell_type": "code",
   "execution_count": 5,
   "metadata": {
    "tags": []
   },
   "outputs": [
    {
     "name": "stdout",
     "output_type": "stream",
     "text": [
      "\n",
      "   deceased |      Freq.     Percent        Cum.\n",
      "------------+-----------------------------------\n",
      "          0 | 11,437,601       97.75       97.75\n",
      "          1 |    263,398        2.25      100.00\n",
      "------------+-----------------------------------\n",
      "      Total | 11,700,999      100.00\n"
     ]
    }
   ],
   "source": [
    "%stata tab deceased if !death_miss"
   ]
  },
  {
   "cell_type": "markdown",
   "metadata": {},
   "source": [
    "It is likely that the large majority of observations with missing data represent individuals who survived. We may calculate a lower bound on the CFR by treating all of these as though they survived."
   ]
  },
  {
   "cell_type": "code",
   "execution_count": 6,
   "metadata": {
    "tags": []
   },
   "outputs": [
    {
     "name": "stdout",
     "output_type": "stream",
     "text": [
      "\n",
      "   deceased |      Freq.     Percent        Cum.\n",
      "------------+-----------------------------------\n",
      "          0 | 21,808,834       98.81       98.81\n",
      "          1 |    263,398        1.19      100.00\n",
      "------------+-----------------------------------\n",
      "      Total | 22,072,232      100.00\n"
     ]
    }
   ],
   "source": [
    "%stata tab deceased"
   ]
  },
  {
   "cell_type": "markdown",
   "metadata": {
    "tags": []
   },
   "source": [
    "### CFR by State"
   ]
  },
  {
   "cell_type": "markdown",
   "metadata": {},
   "source": [
    "Next, we look more closely at the data by state. We see that for 10 states, there are either no reported deaths (i.e., due to missing values for `death_yn`) or the same number of deaths as cases (i.e., the only non-missing values of `death_yn` are equal to \"Yes\"). Since these outcomes are implausible, we'll drop those states."
   ]
  },
  {
   "cell_type": "code",
   "execution_count": 7,
   "metadata": {},
   "outputs": [
    {
     "name": "stdout",
     "output_type": "stream",
     "text": [
      "\n",
      "     +----------------------------------------------------------+\n",
      "     | res_st~e       cfr   cfr2   deceased   death_~s    cases |\n",
      "     |----------------------------------------------------------|\n",
      "  1. |       AK         0      0          0      54518    56980 |\n",
      "  8. |       DE         0      0          0      81567    81616 |\n",
      " 11. |       HI         0      .          0      23878    23878 |\n",
      " 24. |       MO         0      .          0      42654    42654 |\n",
      " 29. |       NE         0      .          0      94111    94111 |\n",
      "     |----------------------------------------------------------|\n",
      " 42. |       SD         0      .          0      34089    34089 |\n",
      " 44. |       TX         0      .          0      47829    47829 |\n",
      " 47. |       VI         0      0          0        201     2221 |\n",
      " 49. |       WA   .006178      1       2142     344565   346707 |\n",
      " 51. |       WV         0      .          0       9845     9845 |\n",
      "     +----------------------------------------------------------+\n",
      "\n"
     ]
    }
   ],
   "source": [
    "%%stata -qui\n",
    "frame put res_state deceased death_miss death_yn, into(states)\n",
    "cwf states\n",
    "drop if res_state==\"nan\"\n",
    "gen byte deceased2 = deceased if !death_miss\n",
    "collapse (mean) cfr=deceased cfr2=deceased2 (sum) deceased death_miss (count) cases=deceased, by(res_state)\n",
    "noi li if inlist(cfr,1,0) | cfr2==1\n",
    "drop if inlist(cfr,1,0) | cfr2==1"
   ]
  },
  {
   "cell_type": "markdown",
   "metadata": {},
   "source": [
    "Plotting the number of deaths by the number of cases suggest two more outliers (PR and GA). We'll drop those too."
   ]
  },
  {
   "cell_type": "code",
   "execution_count": 8,
   "metadata": {},
   "outputs": [
    {
     "name": "stdout",
     "output_type": "stream",
     "text": [
      "\n"
     ]
    },
    {
     "data": {
      "image/svg+xml": [
       "<svg xmlns=\"http://www.w3.org/2000/svg\" xmlns:xlink=\"http://www.w3.org/1999/xlink\" version=\"1.1\" width=\"528px\" height=\"384px\" viewBox=\"0 0 3960 2880\">\n",
       "\t<desc>Stata Graph - Graph</desc>\n",
       "\t<rect x=\"0\" y=\"0\" width=\"3960\" height=\"2880\" style=\"fill:#FFFFFF;stroke:none\"/>\n",
       "\t<rect x=\"0.00\" y=\"0.00\" width=\"3959.88\" height=\"2880.00\" style=\"fill:#FFFFFF\"/>\n",
       "\t<rect x=\"2.88\" y=\"2.88\" width=\"3954.12\" height=\"2874.24\" style=\"fill:none;stroke:#FFFFFF;stroke-width:5.76\"/>\n",
       "\t<rect x=\"393.68\" y=\"103.74\" width=\"3462.46\" height=\"2382.57\" style=\"fill:none;stroke:#000000;stroke-width:5.76\"/>\n",
       "\t<circle cx=\"2585.76\" cy=\"1016.14\" r=\"26.35\" style=\"fill:#606060\"/>\n",
       "\t<circle cx=\"2585.76\" cy=\"1016.14\" r=\"22.03\" style=\"fill:none;stroke:#606060;stroke-width:8.64\"/>\n",
       "\t<text x=\"2627.71\" y=\"1044.15\" style=\"font-family:'Helvetica';font-size:79.94px;fill:#000000\">AL</text>\n",
       "\t<circle cx=\"2236.91\" cy=\"981.37\" r=\"26.35\" style=\"fill:#606060\"/>\n",
       "\t<circle cx=\"2236.91\" cy=\"981.37\" r=\"22.03\" style=\"fill:none;stroke:#606060;stroke-width:8.64\"/>\n",
       "\t<text x=\"2278.86\" y=\"1009.38\" style=\"font-family:'Helvetica';font-size:79.94px;fill:#000000\">AR</text>\n",
       "\t<circle cx=\"2969.88\" cy=\"526.20\" r=\"26.35\" style=\"fill:#606060\"/>\n",
       "\t<circle cx=\"2969.88\" cy=\"526.20\" r=\"22.03\" style=\"fill:none;stroke:#606060;stroke-width:8.64\"/>\n",
       "\t<text x=\"3011.83\" y=\"554.21\" style=\"font-family:'Helvetica';font-size:79.94px;fill:#000000\">AZ</text>\n",
       "\t<circle cx=\"3795.66\" cy=\"202.46\" r=\"26.35\" style=\"fill:#606060\"/>\n",
       "\t<circle cx=\"3795.66\" cy=\"202.46\" r=\"22.03\" style=\"fill:none;stroke:#606060;stroke-width:8.64\"/>\n",
       "\t<text x=\"3837.61\" y=\"230.47\" style=\"font-family:'Helvetica';font-size:79.94px;fill:#000000\">CA</text>\n",
       "\t<circle cx=\"2534.52\" cy=\"860.58\" r=\"26.35\" style=\"fill:#606060\"/>\n",
       "\t<circle cx=\"2534.52\" cy=\"860.58\" r=\"22.03\" style=\"fill:none;stroke:#606060;stroke-width:8.64\"/>\n",
       "\t<text x=\"2576.48\" y=\"888.60\" style=\"font-family:'Helvetica';font-size:79.94px;fill:#000000\">CO</text>\n",
       "\t<circle cx=\"2129.00\" cy=\"875.68\" r=\"26.35\" style=\"fill:#606060\"/>\n",
       "\t<circle cx=\"2129.00\" cy=\"875.68\" r=\"22.03\" style=\"fill:none;stroke:#606060;stroke-width:8.64\"/>\n",
       "\t<text x=\"2170.95\" y=\"903.69\" style=\"font-family:'Helvetica';font-size:79.94px;fill:#000000\">CT</text>\n",
       "\t<circle cx=\"3208.22\" cy=\"296.27\" r=\"26.35\" style=\"fill:#606060\"/>\n",
       "\t<circle cx=\"3208.22\" cy=\"296.27\" r=\"22.03\" style=\"fill:none;stroke:#606060;stroke-width:8.64\"/>\n",
       "\t<text x=\"3250.17\" y=\"324.28\" style=\"font-family:'Helvetica';font-size:79.94px;fill:#000000\">FL</text>\n",
       "\t<circle cx=\"2956.51\" cy=\"1490.37\" r=\"26.35\" style=\"fill:#606060\"/>\n",
       "\t<circle cx=\"2956.51\" cy=\"1490.37\" r=\"22.03\" style=\"fill:none;stroke:#606060;stroke-width:8.64\"/>\n",
       "\t<text x=\"2998.46\" y=\"1518.38\" style=\"font-family:'Helvetica';font-size:79.94px;fill:#000000\">GA</text>\n",
       "\t<circle cx=\"2465.47\" cy=\"1328.25\" r=\"26.35\" style=\"fill:#606060\"/>\n",
       "\t<circle cx=\"2465.47\" cy=\"1328.25\" r=\"22.03\" style=\"fill:none;stroke:#606060;stroke-width:8.64\"/>\n",
       "\t<text x=\"2507.42\" y=\"1356.26\" style=\"font-family:'Helvetica';font-size:79.94px;fill:#000000\">IA</text>\n",
       "\t<circle cx=\"2005.86\" cy=\"1350.65\" r=\"26.35\" style=\"fill:#606060\"/>\n",
       "\t<circle cx=\"2005.86\" cy=\"1350.65\" r=\"22.03\" style=\"fill:none;stroke:#606060;stroke-width:8.64\"/>\n",
       "\t<text x=\"2047.82\" y=\"1378.66\" style=\"font-family:'Helvetica';font-size:79.94px;fill:#000000\">ID</text>\n",
       "\t<circle cx=\"3175.55\" cy=\"340.69\" r=\"26.35\" style=\"fill:#606060\"/>\n",
       "\t<circle cx=\"3175.55\" cy=\"340.69\" r=\"22.03\" style=\"fill:none;stroke:#606060;stroke-width:8.64\"/>\n",
       "\t<text x=\"3217.50\" y=\"368.71\" style=\"font-family:'Helvetica';font-size:79.94px;fill:#000000\">IL</text>\n",
       "\t<circle cx=\"2839.57\" cy=\"882.24\" r=\"26.35\" style=\"fill:#606060\"/>\n",
       "\t<circle cx=\"2839.57\" cy=\"882.24\" r=\"22.03\" style=\"fill:none;stroke:#606060;stroke-width:8.64\"/>\n",
       "\t<text x=\"2881.52\" y=\"910.25\" style=\"font-family:'Helvetica';font-size:79.94px;fill:#000000\">IN</text>\n",
       "\t<circle cx=\"2346.42\" cy=\"1023.32\" r=\"26.35\" style=\"fill:#606060\"/>\n",
       "\t<circle cx=\"2346.42\" cy=\"1023.32\" r=\"22.03\" style=\"fill:none;stroke:#606060;stroke-width:8.64\"/>\n",
       "\t<text x=\"2388.38\" y=\"1051.33\" style=\"font-family:'Helvetica';font-size:79.94px;fill:#000000\">KS</text>\n",
       "\t<circle cx=\"2118.85\" cy=\"1495.44\" r=\"26.35\" style=\"fill:#606060\"/>\n",
       "\t<circle cx=\"2118.85\" cy=\"1495.44\" r=\"22.03\" style=\"fill:none;stroke:#606060;stroke-width:8.64\"/>\n",
       "\t<text x=\"2160.80\" y=\"1523.45\" style=\"font-family:'Helvetica';font-size:79.94px;fill:#000000\">KY</text>\n",
       "\t<circle cx=\"669.24\" cy=\"1668.33\" r=\"26.35\" style=\"fill:#606060\"/>\n",
       "\t<circle cx=\"669.24\" cy=\"1668.33\" r=\"22.03\" style=\"fill:none;stroke:#606060;stroke-width:8.64\"/>\n",
       "\t<text x=\"711.19\" y=\"1696.34\" style=\"font-family:'Helvetica';font-size:79.94px;fill:#000000\">LA</text>\n",
       "\t<circle cx=\"2762.72\" cy=\"489.94\" r=\"26.35\" style=\"fill:#606060\"/>\n",
       "\t<circle cx=\"2762.72\" cy=\"489.94\" r=\"22.03\" style=\"fill:none;stroke:#606060;stroke-width:8.64\"/>\n",
       "\t<text x=\"2804.67\" y=\"517.95\" style=\"font-family:'Helvetica';font-size:79.94px;fill:#000000\">MA</text>\n",
       "\t<circle cx=\"2486.63\" cy=\"991.76\" r=\"26.35\" style=\"fill:#606060\"/>\n",
       "\t<circle cx=\"2486.63\" cy=\"991.76\" r=\"22.03\" style=\"fill:none;stroke:#606060;stroke-width:8.64\"/>\n",
       "\t<text x=\"2528.58\" y=\"1019.78\" style=\"font-family:'Helvetica';font-size:79.94px;fill:#000000\">MD</text>\n",
       "\t<circle cx=\"1174.26\" cy=\"1800.00\" r=\"26.35\" style=\"fill:#606060\"/>\n",
       "\t<circle cx=\"1174.26\" cy=\"1800.00\" r=\"22.03\" style=\"fill:none;stroke:#606060;stroke-width:8.64\"/>\n",
       "\t<text x=\"1216.21\" y=\"1828.01\" style=\"font-family:'Helvetica';font-size:79.94px;fill:#000000\">ME</text>\n",
       "\t<circle cx=\"2565.83\" cy=\"716.29\" r=\"26.35\" style=\"fill:#606060\"/>\n",
       "\t<circle cx=\"2565.83\" cy=\"716.29\" r=\"22.03\" style=\"fill:none;stroke:#606060;stroke-width:8.64\"/>\n",
       "\t<text x=\"2607.78\" y=\"744.30\" style=\"font-family:'Helvetica';font-size:79.94px;fill:#000000\">MI</text>\n",
       "\t<circle cx=\"2649.49\" cy=\"845.86\" r=\"26.35\" style=\"fill:#606060\"/>\n",
       "\t<circle cx=\"2649.49\" cy=\"845.86\" r=\"22.03\" style=\"fill:none;stroke:#606060;stroke-width:8.64\"/>\n",
       "\t<text x=\"2691.44\" y=\"873.87\" style=\"font-family:'Helvetica';font-size:79.94px;fill:#000000\">MN</text>\n",
       "\t<circle cx=\"683.35\" cy=\"2425.82\" r=\"26.35\" style=\"fill:#606060\"/>\n",
       "\t<circle cx=\"683.35\" cy=\"2425.82\" r=\"22.03\" style=\"fill:none;stroke:#606060;stroke-width:8.64\"/>\n",
       "\t<text x=\"725.30\" y=\"2453.83\" style=\"font-family:'Helvetica';font-size:79.94px;fill:#000000\">MS</text>\n",
       "\t<circle cx=\"1446.02\" cy=\"1561.28\" r=\"26.35\" style=\"fill:#606060\"/>\n",
       "\t<circle cx=\"1446.02\" cy=\"1561.28\" r=\"22.03\" style=\"fill:none;stroke:#606060;stroke-width:8.64\"/>\n",
       "\t<text x=\"1487.97\" y=\"1589.29\" style=\"font-family:'Helvetica';font-size:79.94px;fill:#000000\">MT</text>\n",
       "\t<circle cx=\"2989.80\" cy=\"998.82\" r=\"26.35\" style=\"fill:#606060\"/>\n",
       "\t<circle cx=\"2989.80\" cy=\"998.82\" r=\"22.03\" style=\"fill:none;stroke:#606060;stroke-width:8.64\"/>\n",
       "\t<text x=\"3031.75\" y=\"1026.83\" style=\"font-family:'Helvetica';font-size:79.94px;fill:#000000\">NC</text>\n",
       "\t<circle cx=\"790.76\" cy=\"2136.12\" r=\"26.35\" style=\"fill:#606060\"/>\n",
       "\t<circle cx=\"790.76\" cy=\"2136.12\" r=\"22.03\" style=\"fill:none;stroke:#606060;stroke-width:8.64\"/>\n",
       "\t<text x=\"832.71\" y=\"2164.13\" style=\"font-family:'Helvetica';font-size:79.94px;fill:#000000\">ND</text>\n",
       "\t<circle cx=\"1375.48\" cy=\"1390.75\" r=\"26.35\" style=\"fill:#606060\"/>\n",
       "\t<circle cx=\"1375.48\" cy=\"1390.75\" r=\"22.03\" style=\"fill:none;stroke:#606060;stroke-width:8.64\"/>\n",
       "\t<text x=\"1417.43\" y=\"1418.76\" style=\"font-family:'Helvetica';font-size:79.94px;fill:#000000\">NH</text>\n",
       "\t<circle cx=\"2950.20\" cy=\"443.16\" r=\"26.35\" style=\"fill:#606060\"/>\n",
       "\t<circle cx=\"2950.20\" cy=\"443.16\" r=\"22.03\" style=\"fill:none;stroke:#606060;stroke-width:8.64\"/>\n",
       "\t<text x=\"2992.15\" y=\"471.17\" style=\"font-family:'Helvetica';font-size:79.94px;fill:#000000\">NJ</text>\n",
       "\t<circle cx=\"2057.84\" cy=\"1190.02\" r=\"26.35\" style=\"fill:#606060\"/>\n",
       "\t<circle cx=\"2057.84\" cy=\"1190.02\" r=\"22.03\" style=\"fill:none;stroke:#606060;stroke-width:8.64\"/>\n",
       "\t<text x=\"2099.79\" y=\"1218.03\" style=\"font-family:'Helvetica';font-size:79.94px;fill:#000000\">NM</text>\n",
       "\t<circle cx=\"2315.98\" cy=\"906.50\" r=\"26.35\" style=\"fill:#606060\"/>\n",
       "\t<circle cx=\"2315.98\" cy=\"906.50\" r=\"22.03\" style=\"fill:none;stroke:#606060;stroke-width:8.64\"/>\n",
       "\t<text x=\"2357.93\" y=\"934.51\" style=\"font-family:'Helvetica';font-size:79.94px;fill:#000000\">NV</text>\n",
       "\t<circle cx=\"3445.82\" cy=\"165.34\" r=\"26.35\" style=\"fill:#606060\"/>\n",
       "\t<circle cx=\"3445.82\" cy=\"165.34\" r=\"22.03\" style=\"fill:none;stroke:#606060;stroke-width:8.64\"/>\n",
       "\t<text x=\"3487.77\" y=\"193.35\" style=\"font-family:'Helvetica';font-size:79.94px;fill:#000000\">NY</text>\n",
       "\t<circle cx=\"3061.33\" cy=\"505.16\" r=\"26.35\" style=\"fill:#606060\"/>\n",
       "\t<circle cx=\"3061.33\" cy=\"505.16\" r=\"22.03\" style=\"fill:none;stroke:#606060;stroke-width:8.64\"/>\n",
       "\t<text x=\"3103.28\" y=\"533.17\" style=\"font-family:'Helvetica';font-size:79.94px;fill:#000000\">OH</text>\n",
       "\t<circle cx=\"2493.44\" cy=\"1079.26\" r=\"26.35\" style=\"fill:#606060\"/>\n",
       "\t<circle cx=\"2493.44\" cy=\"1079.26\" r=\"22.03\" style=\"fill:none;stroke:#606060;stroke-width:8.64\"/>\n",
       "\t<text x=\"2535.39\" y=\"1107.27\" style=\"font-family:'Helvetica';font-size:79.94px;fill:#000000\">OK</text>\n",
       "\t<circle cx=\"1932.11\" cy=\"1512.02\" r=\"26.35\" style=\"fill:#606060\"/>\n",
       "\t<circle cx=\"1932.11\" cy=\"1512.02\" r=\"22.03\" style=\"fill:none;stroke:#606060;stroke-width:8.64\"/>\n",
       "\t<text x=\"1974.06\" y=\"1540.04\" style=\"font-family:'Helvetica';font-size:79.94px;fill:#000000\">OR</text>\n",
       "\t<circle cx=\"3046.85\" cy=\"471.87\" r=\"26.35\" style=\"fill:#606060\"/>\n",
       "\t<circle cx=\"3046.85\" cy=\"471.87\" r=\"22.03\" style=\"fill:none;stroke:#606060;stroke-width:8.64\"/>\n",
       "\t<text x=\"3088.80\" y=\"499.89\" style=\"font-family:'Helvetica';font-size:79.94px;fill:#000000\">PA</text>\n",
       "\t<circle cx=\"822.69\" cy=\"1124.55\" r=\"26.35\" style=\"fill:#606060\"/>\n",
       "\t<circle cx=\"822.69\" cy=\"1124.55\" r=\"22.03\" style=\"fill:none;stroke:#606060;stroke-width:8.64\"/>\n",
       "\t<text x=\"864.64\" y=\"1152.56\" style=\"font-family:'Helvetica';font-size:79.94px;fill:#000000\">PR</text>\n",
       "\t<circle cx=\"1319.79\" cy=\"1506.83\" r=\"26.35\" style=\"fill:#606060\"/>\n",
       "\t<circle cx=\"1319.79\" cy=\"1506.83\" r=\"22.03\" style=\"fill:none;stroke:#606060;stroke-width:8.64\"/>\n",
       "\t<text x=\"1361.75\" y=\"1534.84\" style=\"font-family:'Helvetica';font-size:79.94px;fill:#000000\">RI</text>\n",
       "\t<circle cx=\"2685.75\" cy=\"976.42\" r=\"26.35\" style=\"fill:#606060\"/>\n",
       "\t<circle cx=\"2685.75\" cy=\"976.42\" r=\"22.03\" style=\"fill:none;stroke:#606060;stroke-width:8.64\"/>\n",
       "\t<text x=\"2727.70\" y=\"1004.43\" style=\"font-family:'Helvetica';font-size:79.94px;fill:#000000\">SC</text>\n",
       "\t<circle cx=\"2875.08\" cy=\"876.55\" r=\"26.35\" style=\"fill:#606060\"/>\n",
       "\t<circle cx=\"2875.08\" cy=\"876.55\" r=\"22.03\" style=\"fill:none;stroke:#606060;stroke-width:8.64\"/>\n",
       "\t<text x=\"2917.04\" y=\"904.56\" style=\"font-family:'Helvetica';font-size:79.94px;fill:#000000\">TN</text>\n",
       "\t<circle cx=\"2486.01\" cy=\"1404.73\" r=\"26.35\" style=\"fill:#606060\"/>\n",
       "\t<circle cx=\"2486.01\" cy=\"1404.73\" r=\"22.03\" style=\"fill:none;stroke:#606060;stroke-width:8.64\"/>\n",
       "\t<text x=\"2527.97\" y=\"1432.74\" style=\"font-family:'Helvetica';font-size:79.94px;fill:#000000\">UT</text>\n",
       "\t<circle cx=\"2695.03\" cy=\"1029.63\" r=\"26.35\" style=\"fill:#606060\"/>\n",
       "\t<circle cx=\"2695.03\" cy=\"1029.63\" r=\"22.03\" style=\"fill:none;stroke:#606060;stroke-width:8.64\"/>\n",
       "\t<text x=\"2736.98\" y=\"1057.64\" style=\"font-family:'Helvetica';font-size:79.94px;fill:#000000\">VA</text>\n",
       "\t<circle cx=\"454.16\" cy=\"2384.24\" r=\"26.35\" style=\"fill:#606060\"/>\n",
       "\t<circle cx=\"454.16\" cy=\"2384.24\" r=\"22.03\" style=\"fill:none;stroke:#606060;stroke-width:8.64\"/>\n",
       "\t<text x=\"496.11\" y=\"2412.25\" style=\"font-family:'Helvetica';font-size:79.94px;fill:#000000\">VT</text>\n",
       "\t<circle cx=\"2640.95\" cy=\"920.61\" r=\"26.35\" style=\"fill:#606060\"/>\n",
       "\t<circle cx=\"2640.95\" cy=\"920.61\" r=\"22.03\" style=\"fill:none;stroke:#606060;stroke-width:8.64\"/>\n",
       "\t<text x=\"2682.90\" y=\"948.62\" style=\"font-family:'Helvetica';font-size:79.94px;fill:#000000\">WI</text>\n",
       "\t<circle cx=\"1150.01\" cy=\"2005.56\" r=\"26.35\" style=\"fill:#606060\"/>\n",
       "\t<circle cx=\"1150.01\" cy=\"2005.56\" r=\"22.03\" style=\"fill:none;stroke:#606060;stroke-width:8.64\"/>\n",
       "\t<text x=\"1191.96\" y=\"2033.57\" style=\"font-family:'Helvetica';font-size:79.94px;fill:#000000\">WY</text>\n",
       "\t<line x1=\"390.80\" y1=\"2489.19\" x2=\"390.80\" y2=\"100.86\" style=\"stroke:#000000;stroke-width:5.76\"/>\n",
       "\t<line x1=\"390.80\" y1=\"595.75\" x2=\"350.83\" y2=\"595.75\" style=\"stroke:#000000;stroke-width:5.76\"/>\n",
       "\t<text x=\"300.72\" y=\"595.75\" style=\"font-family:'Helvetica';font-size:99.99px;fill:#000000\" transform=\"rotate(-90 300.72,595.75)\" text-anchor=\"middle\">10000</text>\n",
       "\t<line x1=\"390.80\" y1=\"379.92\" x2=\"350.83\" y2=\"379.92\" style=\"stroke:#000000;stroke-width:5.76\"/>\n",
       "\t<text x=\"300.72\" y=\"379.92\" style=\"font-family:'Helvetica';font-size:99.99px;fill:#000000\" transform=\"rotate(-90 300.72,379.92)\" text-anchor=\"middle\">20000</text>\n",
       "\t<line x1=\"390.80\" y1=\"253.70\" x2=\"350.83\" y2=\"253.70\" style=\"stroke:#000000;stroke-width:5.76\"/>\n",
       "\t<text x=\"300.72\" y=\"253.70\" style=\"font-family:'Helvetica';font-size:99.99px;fill:#000000\" transform=\"rotate(-90 300.72,253.70)\" text-anchor=\"middle\">30000</text>\n",
       "\t<line x1=\"390.80\" y1=\"164.22\" x2=\"350.83\" y2=\"164.22\" style=\"stroke:#000000;stroke-width:5.76\"/>\n",
       "\t<text x=\"300.72\" y=\"164.22\" style=\"font-family:'Helvetica';font-size:99.99px;fill:#000000\" transform=\"rotate(-90 300.72,164.22)\" text-anchor=\"middle\">40000</text>\n",
       "\t<text x=\"190.71\" y=\"1294.96\" style=\"font-family:'Helvetica';font-size:99.99px;fill:#000000\" transform=\"rotate(-90 190.71,1294.96)\" text-anchor=\"middle\">Number deceased</text>\n",
       "\t<line x1=\"390.80\" y1=\"2489.19\" x2=\"3859.02\" y2=\"2489.19\" style=\"stroke:#000000;stroke-width:5.76\"/>\n",
       "\t<line x1=\"3090.41\" y1=\"2489.19\" x2=\"3090.41\" y2=\"2529.16\" style=\"stroke:#000000;stroke-width:5.76\"/>\n",
       "\t<text x=\"3090.41\" y=\"2619.14\" style=\"font-family:'Helvetica';font-size:99.99px;fill:#000000\" text-anchor=\"middle\">1.0e+06</text>\n",
       "\t<line x1=\"3518.58\" y1=\"2489.19\" x2=\"3518.58\" y2=\"2529.16\" style=\"stroke:#000000;stroke-width:5.76\"/>\n",
       "\t<text x=\"3518.58\" y=\"2619.14\" style=\"font-family:'Helvetica';font-size:99.99px;fill:#000000\" text-anchor=\"middle\">2.0e+06</text>\n",
       "\t<line x1=\"3769.05\" y1=\"2489.19\" x2=\"3769.05\" y2=\"2529.16\" style=\"stroke:#000000;stroke-width:5.76\"/>\n",
       "\t<text x=\"3769.05\" y=\"2619.14\" style=\"font-family:'Helvetica';font-size:99.99px;fill:#000000\" text-anchor=\"middle\">3.0e+06</text>\n",
       "\t<text x=\"2124.91\" y=\"2729.16\" style=\"font-family:'Helvetica';font-size:99.99px;fill:#000000\" text-anchor=\"middle\">Number of cases</text>\n",
       "</svg>"
      ],
      "text/plain": [
       "<IPython.core.display.SVG object>"
      ]
     },
     "metadata": {},
     "output_type": "display_data"
    }
   ],
   "source": [
    "%%stata -qui\n",
    "sc deceased cases, xscale(log) yscale(log) mlab(res_state) ytitle(\"Number deceased\") xtitle(\"Number of cases\")\n",
    "drop if inlist(res_state,\"PR\",\"GA\")"
   ]
  },
  {
   "cell_type": "markdown",
   "metadata": {},
   "source": [
    "Finally, we see that nearly all of the IL cases and half of the RI cases with non-missing data are deaths; for now, we'll drop these two states too."
   ]
  },
  {
   "cell_type": "code",
   "execution_count": 9,
   "metadata": {},
   "outputs": [
    {
     "name": "stdout",
     "output_type": "stream",
     "text": [
      "\n"
     ]
    },
    {
     "data": {
      "image/svg+xml": [
       "<svg xmlns=\"http://www.w3.org/2000/svg\" xmlns:xlink=\"http://www.w3.org/1999/xlink\" version=\"1.1\" width=\"528px\" height=\"384px\" viewBox=\"0 0 3960 2880\">\n",
       "\t<desc>Stata Graph - Graph</desc>\n",
       "\t<rect x=\"0\" y=\"0\" width=\"3960\" height=\"2880\" style=\"fill:#FFFFFF;stroke:none\"/>\n",
       "\t<rect x=\"0.00\" y=\"0.00\" width=\"3959.88\" height=\"2880.00\" style=\"fill:#FFFFFF\"/>\n",
       "\t<rect x=\"2.88\" y=\"2.88\" width=\"3954.12\" height=\"2874.24\" style=\"fill:none;stroke:#FFFFFF;stroke-width:5.76\"/>\n",
       "\t<rect x=\"393.68\" y=\"103.74\" width=\"3462.46\" height=\"2382.57\" style=\"fill:none;stroke:#000000;stroke-width:5.76\"/>\n",
       "\t<circle cx=\"560.34\" cy=\"1895.04\" r=\"26.35\" style=\"fill:#606060\"/>\n",
       "\t<circle cx=\"560.34\" cy=\"1895.04\" r=\"22.03\" style=\"fill:none;stroke:#606060;stroke-width:8.64\"/>\n",
       "\t<text x=\"602.29\" y=\"1923.05\" style=\"font-family:'Helvetica';font-size:79.94px;fill:#000000\">AL</text>\n",
       "\t<circle cx=\"535.47\" cy=\"1381.96\" r=\"26.35\" style=\"fill:#606060\"/>\n",
       "\t<circle cx=\"535.47\" cy=\"1381.96\" r=\"22.03\" style=\"fill:none;stroke:#606060;stroke-width:8.64\"/>\n",
       "\t<text x=\"577.42\" y=\"1409.97\" style=\"font-family:'Helvetica';font-size:79.94px;fill:#000000\">AR</text>\n",
       "\t<circle cx=\"593.26\" cy=\"1050.92\" r=\"26.35\" style=\"fill:#606060\"/>\n",
       "\t<circle cx=\"593.26\" cy=\"1050.92\" r=\"22.03\" style=\"fill:none;stroke:#606060;stroke-width:8.64\"/>\n",
       "\t<text x=\"635.21\" y=\"1078.93\" style=\"font-family:'Helvetica';font-size:79.94px;fill:#000000\">AZ</text>\n",
       "\t<circle cx=\"492.03\" cy=\"1404.48\" r=\"26.35\" style=\"fill:#606060\"/>\n",
       "\t<circle cx=\"492.03\" cy=\"1404.48\" r=\"22.03\" style=\"fill:none;stroke:#606060;stroke-width:8.64\"/>\n",
       "\t<text x=\"533.98\" y=\"1432.49\" style=\"font-family:'Helvetica';font-size:79.94px;fill:#000000\">CA</text>\n",
       "\t<circle cx=\"653.40\" cy=\"1475.39\" r=\"26.35\" style=\"fill:#606060\"/>\n",
       "\t<circle cx=\"653.40\" cy=\"1475.39\" r=\"22.03\" style=\"fill:none;stroke:#606060;stroke-width:8.64\"/>\n",
       "\t<text x=\"695.35\" y=\"1503.41\" style=\"font-family:'Helvetica';font-size:79.94px;fill:#000000\">CO</text>\n",
       "\t<circle cx=\"1000.15\" cy=\"680.40\" r=\"26.35\" style=\"fill:#606060\"/>\n",
       "\t<circle cx=\"1000.15\" cy=\"680.40\" r=\"22.03\" style=\"fill:none;stroke:#606060;stroke-width:8.64\"/>\n",
       "\t<text x=\"1042.10\" y=\"708.41\" style=\"font-family:'Helvetica';font-size:79.94px;fill:#000000\">CT</text>\n",
       "\t<circle cx=\"583.23\" cy=\"469.65\" r=\"26.35\" style=\"fill:#606060\"/>\n",
       "\t<circle cx=\"583.23\" cy=\"469.65\" r=\"22.03\" style=\"fill:none;stroke:#606060;stroke-width:8.64\"/>\n",
       "\t<text x=\"625.18\" y=\"497.66\" style=\"font-family:'Helvetica';font-size:79.94px;fill:#000000\">FL</text>\n",
       "\t<circle cx=\"495.12\" cy=\"2189.21\" r=\"26.35\" style=\"fill:#606060\"/>\n",
       "\t<circle cx=\"495.12\" cy=\"2189.21\" r=\"22.03\" style=\"fill:none;stroke:#606060;stroke-width:8.64\"/>\n",
       "\t<text x=\"537.08\" y=\"2217.22\" style=\"font-family:'Helvetica';font-size:79.94px;fill:#000000\">IA</text>\n",
       "\t<circle cx=\"481.64\" cy=\"1962.61\" r=\"26.35\" style=\"fill:#606060\"/>\n",
       "\t<circle cx=\"481.64\" cy=\"1962.61\" r=\"22.03\" style=\"fill:none;stroke:#606060;stroke-width:8.64\"/>\n",
       "\t<text x=\"523.59\" y=\"1990.62\" style=\"font-family:'Helvetica';font-size:79.94px;fill:#000000\">ID</text>\n",
       "\t<circle cx=\"3740.96\" cy=\"637.58\" r=\"26.35\" style=\"fill:#606060\"/>\n",
       "\t<circle cx=\"3740.96\" cy=\"637.58\" r=\"22.03\" style=\"fill:none;stroke:#606060;stroke-width:8.64\"/>\n",
       "\t<text x=\"3782.91\" y=\"665.59\" style=\"font-family:'Helvetica';font-size:79.94px;fill:#000000\">IL</text>\n",
       "\t<circle cx=\"474.58\" cy=\"1884.90\" r=\"26.35\" style=\"fill:#606060\"/>\n",
       "\t<circle cx=\"474.58\" cy=\"1884.90\" r=\"22.03\" style=\"fill:none;stroke:#606060;stroke-width:8.64\"/>\n",
       "\t<text x=\"516.53\" y=\"1912.91\" style=\"font-family:'Helvetica';font-size:79.94px;fill:#000000\">IN</text>\n",
       "\t<circle cx=\"482.75\" cy=\"1661.77\" r=\"26.35\" style=\"fill:#606060\"/>\n",
       "\t<circle cx=\"482.75\" cy=\"1661.77\" r=\"22.03\" style=\"fill:none;stroke:#606060;stroke-width:8.64\"/>\n",
       "\t<text x=\"524.70\" y=\"1689.78\" style=\"font-family:'Helvetica';font-size:79.94px;fill:#000000\">KS</text>\n",
       "\t<circle cx=\"464.06\" cy=\"2183.39\" r=\"26.35\" style=\"fill:#606060\"/>\n",
       "\t<circle cx=\"464.06\" cy=\"2183.39\" r=\"22.03\" style=\"fill:none;stroke:#606060;stroke-width:8.64\"/>\n",
       "\t<text x=\"506.01\" y=\"2211.40\" style=\"font-family:'Helvetica';font-size:79.94px;fill:#000000\">KY</text>\n",
       "\t<circle cx=\"633.97\" cy=\"972.33\" r=\"26.35\" style=\"fill:#606060\"/>\n",
       "\t<circle cx=\"633.97\" cy=\"972.33\" r=\"22.03\" style=\"fill:none;stroke:#606060;stroke-width:8.64\"/>\n",
       "\t<text x=\"675.92\" y=\"1000.35\" style=\"font-family:'Helvetica';font-size:79.94px;fill:#000000\">LA</text>\n",
       "\t<circle cx=\"866.62\" cy=\"266.19\" r=\"26.35\" style=\"fill:#606060\"/>\n",
       "\t<circle cx=\"866.62\" cy=\"266.19\" r=\"22.03\" style=\"fill:none;stroke:#606060;stroke-width:8.64\"/>\n",
       "\t<text x=\"908.57\" y=\"294.21\" style=\"font-family:'Helvetica';font-size:79.94px;fill:#000000\">MA</text>\n",
       "\t<circle cx=\"507.38\" cy=\"1751.98\" r=\"26.35\" style=\"fill:#606060\"/>\n",
       "\t<circle cx=\"507.38\" cy=\"1751.98\" r=\"22.03\" style=\"fill:none;stroke:#606060;stroke-width:8.64\"/>\n",
       "\t<text x=\"549.33\" y=\"1780.00\" style=\"font-family:'Helvetica';font-size:79.94px;fill:#000000\">MD</text>\n",
       "\t<circle cx=\"470.00\" cy=\"2005.43\" r=\"26.35\" style=\"fill:#606060\"/>\n",
       "\t<circle cx=\"470.00\" cy=\"2005.43\" r=\"22.03\" style=\"fill:none;stroke:#606060;stroke-width:8.64\"/>\n",
       "\t<text x=\"511.95\" y=\"2033.44\" style=\"font-family:'Helvetica';font-size:79.94px;fill:#000000\">ME</text>\n",
       "\t<circle cx=\"551.68\" cy=\"990.15\" r=\"26.35\" style=\"fill:#606060\"/>\n",
       "\t<circle cx=\"551.68\" cy=\"990.15\" r=\"22.03\" style=\"fill:none;stroke:#606060;stroke-width:8.64\"/>\n",
       "\t<text x=\"593.63\" y=\"1018.17\" style=\"font-family:'Helvetica';font-size:79.94px;fill:#000000\">MI</text>\n",
       "\t<circle cx=\"484.98\" cy=\"1598.53\" r=\"26.35\" style=\"fill:#606060\"/>\n",
       "\t<circle cx=\"484.98\" cy=\"1598.53\" r=\"22.03\" style=\"fill:none;stroke:#606060;stroke-width:8.64\"/>\n",
       "\t<text x=\"526.93\" y=\"1626.54\" style=\"font-family:'Helvetica';font-size:79.94px;fill:#000000\">MN</text>\n",
       "\t<circle cx=\"463.69\" cy=\"2301.20\" r=\"26.35\" style=\"fill:#606060\"/>\n",
       "\t<circle cx=\"463.69\" cy=\"2301.20\" r=\"22.03\" style=\"fill:none;stroke:#606060;stroke-width:8.64\"/>\n",
       "\t<text x=\"505.64\" y=\"2329.21\" style=\"font-family:'Helvetica';font-size:79.94px;fill:#000000\">MS</text>\n",
       "\t<circle cx=\"487.08\" cy=\"1842.82\" r=\"26.35\" style=\"fill:#606060\"/>\n",
       "\t<circle cx=\"487.08\" cy=\"1842.82\" r=\"22.03\" style=\"fill:none;stroke:#606060;stroke-width:8.64\"/>\n",
       "\t<text x=\"529.03\" y=\"1870.83\" style=\"font-family:'Helvetica';font-size:79.94px;fill:#000000\">MT</text>\n",
       "\t<circle cx=\"465.05\" cy=\"2134.14\" r=\"26.35\" style=\"fill:#606060\"/>\n",
       "\t<circle cx=\"465.05\" cy=\"2134.14\" r=\"22.03\" style=\"fill:none;stroke:#606060;stroke-width:8.64\"/>\n",
       "\t<text x=\"507.00\" y=\"2162.15\" style=\"font-family:'Helvetica';font-size:79.94px;fill:#000000\">NC</text>\n",
       "\t<circle cx=\"498.47\" cy=\"2160.12\" r=\"26.35\" style=\"fill:#606060\"/>\n",
       "\t<circle cx=\"498.47\" cy=\"2160.12\" r=\"22.03\" style=\"fill:none;stroke:#606060;stroke-width:8.64\"/>\n",
       "\t<text x=\"540.42\" y=\"2188.14\" style=\"font-family:'Helvetica';font-size:79.94px;fill:#000000\">ND</text>\n",
       "\t<circle cx=\"496.49\" cy=\"1295.83\" r=\"26.35\" style=\"fill:#606060\"/>\n",
       "\t<circle cx=\"496.49\" cy=\"1295.83\" r=\"22.03\" style=\"fill:none;stroke:#606060;stroke-width:8.64\"/>\n",
       "\t<text x=\"538.44\" y=\"1323.84\" style=\"font-family:'Helvetica';font-size:79.94px;fill:#000000\">NH</text>\n",
       "\t<circle cx=\"523.59\" cy=\"572.61\" r=\"26.35\" style=\"fill:#606060\"/>\n",
       "\t<circle cx=\"523.59\" cy=\"572.61\" r=\"22.03\" style=\"fill:none;stroke:#606060;stroke-width:8.64\"/>\n",
       "\t<text x=\"565.54\" y=\"600.62\" style=\"font-family:'Helvetica';font-size:79.94px;fill:#000000\">NJ</text>\n",
       "\t<circle cx=\"824.30\" cy=\"1712.13\" r=\"26.35\" style=\"fill:#606060\"/>\n",
       "\t<circle cx=\"824.30\" cy=\"1712.13\" r=\"22.03\" style=\"fill:none;stroke:#606060;stroke-width:8.64\"/>\n",
       "\t<text x=\"866.25\" y=\"1740.15\" style=\"font-family:'Helvetica';font-size:79.94px;fill:#000000\">NM</text>\n",
       "\t<circle cx=\"520.62\" cy=\"1257.83\" r=\"26.35\" style=\"fill:#606060\"/>\n",
       "\t<circle cx=\"520.62\" cy=\"1257.83\" r=\"22.03\" style=\"fill:none;stroke:#606060;stroke-width:8.64\"/>\n",
       "\t<text x=\"562.57\" y=\"1285.85\" style=\"font-family:'Helvetica';font-size:79.94px;fill:#000000\">NV</text>\n",
       "\t<circle cx=\"599.57\" cy=\"397.87\" r=\"26.35\" style=\"fill:#606060\"/>\n",
       "\t<circle cx=\"599.57\" cy=\"397.87\" r=\"22.03\" style=\"fill:none;stroke:#606060;stroke-width:8.64\"/>\n",
       "\t<text x=\"641.52\" y=\"425.88\" style=\"font-family:'Helvetica';font-size:79.94px;fill:#000000\">NY</text>\n",
       "\t<circle cx=\"536.58\" cy=\"1157.59\" r=\"26.35\" style=\"fill:#606060\"/>\n",
       "\t<circle cx=\"536.58\" cy=\"1157.59\" r=\"22.03\" style=\"fill:none;stroke:#606060;stroke-width:8.64\"/>\n",
       "\t<text x=\"578.53\" y=\"1185.61\" style=\"font-family:'Helvetica';font-size:79.94px;fill:#000000\">OH</text>\n",
       "\t<circle cx=\"486.83\" cy=\"1922.76\" r=\"26.35\" style=\"fill:#606060\"/>\n",
       "\t<circle cx=\"486.83\" cy=\"1922.76\" r=\"22.03\" style=\"fill:none;stroke:#606060;stroke-width:8.64\"/>\n",
       "\t<text x=\"528.78\" y=\"1950.78\" style=\"font-family:'Helvetica';font-size:79.94px;fill:#000000\">OK</text>\n",
       "\t<circle cx=\"468.39\" cy=\"2114.95\" r=\"26.35\" style=\"fill:#606060\"/>\n",
       "\t<circle cx=\"468.39\" cy=\"2114.95\" r=\"22.03\" style=\"fill:none;stroke:#606060;stroke-width:8.64\"/>\n",
       "\t<text x=\"510.35\" y=\"2142.97\" style=\"font-family:'Helvetica';font-size:79.94px;fill:#000000\">OR</text>\n",
       "\t<circle cx=\"714.78\" cy=\"980.63\" r=\"26.35\" style=\"fill:#606060\"/>\n",
       "\t<circle cx=\"714.78\" cy=\"980.63\" r=\"22.03\" style=\"fill:none;stroke:#606060;stroke-width:8.64\"/>\n",
       "\t<text x=\"756.73\" y=\"1008.64\" style=\"font-family:'Helvetica';font-size:79.94px;fill:#000000\">PA</text>\n",
       "\t<circle cx=\"2151.89\" cy=\"1573.90\" r=\"26.35\" style=\"fill:#606060\"/>\n",
       "\t<circle cx=\"2151.89\" cy=\"1573.90\" r=\"22.03\" style=\"fill:none;stroke:#606060;stroke-width:8.64\"/>\n",
       "\t<text x=\"2193.84\" y=\"1601.91\" style=\"font-family:'Helvetica';font-size:79.94px;fill:#000000\">RI</text>\n",
       "\t<circle cx=\"494.01\" cy=\"1912.99\" r=\"26.35\" style=\"fill:#606060\"/>\n",
       "\t<circle cx=\"494.01\" cy=\"1912.99\" r=\"22.03\" style=\"fill:none;stroke:#606060;stroke-width:8.64\"/>\n",
       "\t<text x=\"535.96\" y=\"1941.00\" style=\"font-family:'Helvetica';font-size:79.94px;fill:#000000\">SC</text>\n",
       "\t<circle cx=\"582.37\" cy=\"1905.69\" r=\"26.35\" style=\"fill:#606060\"/>\n",
       "\t<circle cx=\"582.37\" cy=\"1905.69\" r=\"22.03\" style=\"fill:none;stroke:#606060;stroke-width:8.64\"/>\n",
       "\t<text x=\"624.32\" y=\"1933.70\" style=\"font-family:'Helvetica';font-size:79.94px;fill:#000000\">TN</text>\n",
       "\t<circle cx=\"467.53\" cy=\"2246.88\" r=\"26.35\" style=\"fill:#606060\"/>\n",
       "\t<circle cx=\"467.53\" cy=\"2246.88\" r=\"22.03\" style=\"fill:none;stroke:#606060;stroke-width:8.64\"/>\n",
       "\t<text x=\"509.48\" y=\"2274.89\" style=\"font-family:'Helvetica';font-size:79.94px;fill:#000000\">UT</text>\n",
       "\t<circle cx=\"490.30\" cy=\"1999.99\" r=\"26.35\" style=\"fill:#606060\"/>\n",
       "\t<circle cx=\"490.30\" cy=\"1999.99\" r=\"22.03\" style=\"fill:none;stroke:#606060;stroke-width:8.64\"/>\n",
       "\t<text x=\"532.25\" y=\"2028.00\" style=\"font-family:'Helvetica';font-size:79.94px;fill:#000000\">VA</text>\n",
       "\t<circle cx=\"462.83\" cy=\"2219.28\" r=\"26.35\" style=\"fill:#606060\"/>\n",
       "\t<circle cx=\"462.83\" cy=\"2219.28\" r=\"22.03\" style=\"fill:none;stroke:#606060;stroke-width:8.64\"/>\n",
       "\t<text x=\"504.78\" y=\"2247.29\" style=\"font-family:'Helvetica';font-size:79.94px;fill:#000000\">VT</text>\n",
       "\t<circle cx=\"520.00\" cy=\"1766.22\" r=\"26.35\" style=\"fill:#606060\"/>\n",
       "\t<circle cx=\"520.00\" cy=\"1766.22\" r=\"22.03\" style=\"fill:none;stroke:#606060;stroke-width:8.64\"/>\n",
       "\t<text x=\"561.95\" y=\"1794.23\" style=\"font-family:'Helvetica';font-size:79.94px;fill:#000000\">WI</text>\n",
       "\t<circle cx=\"496.36\" cy=\"2199.85\" r=\"26.35\" style=\"fill:#606060\"/>\n",
       "\t<circle cx=\"496.36\" cy=\"2199.85\" r=\"22.03\" style=\"fill:none;stroke:#606060;stroke-width:8.64\"/>\n",
       "\t<text x=\"538.31\" y=\"2227.86\" style=\"font-family:'Helvetica';font-size:79.94px;fill:#000000\">WY</text>\n",
       "\t<line x1=\"390.80\" y1=\"2489.19\" x2=\"390.80\" y2=\"100.86\" style=\"stroke:#000000;stroke-width:5.76\"/>\n",
       "\t<line x1=\"390.80\" y1=\"2425.82\" x2=\"350.83\" y2=\"2425.82\" style=\"stroke:#000000;stroke-width:5.76\"/>\n",
       "\t<text x=\"300.72\" y=\"2425.82\" style=\"font-family:'Helvetica';font-size:99.99px;fill:#000000\" transform=\"rotate(-90 300.72,2425.82)\" text-anchor=\"middle\">0</text>\n",
       "\t<line x1=\"390.80\" y1=\"1973.50\" x2=\"350.83\" y2=\"1973.50\" style=\"stroke:#000000;stroke-width:5.76\"/>\n",
       "\t<text x=\"300.72\" y=\"1973.50\" style=\"font-family:'Helvetica';font-size:99.99px;fill:#000000\" transform=\"rotate(-90 300.72,1973.50)\" text-anchor=\"middle\">.005</text>\n",
       "\t<line x1=\"390.80\" y1=\"1521.18\" x2=\"350.83\" y2=\"1521.18\" style=\"stroke:#000000;stroke-width:5.76\"/>\n",
       "\t<text x=\"300.72\" y=\"1521.18\" style=\"font-family:'Helvetica';font-size:99.99px;fill:#000000\" transform=\"rotate(-90 300.72,1521.18)\" text-anchor=\"middle\">.01</text>\n",
       "\t<line x1=\"390.80\" y1=\"1068.86\" x2=\"350.83\" y2=\"1068.86\" style=\"stroke:#000000;stroke-width:5.76\"/>\n",
       "\t<text x=\"300.72\" y=\"1068.86\" style=\"font-family:'Helvetica';font-size:99.99px;fill:#000000\" transform=\"rotate(-90 300.72,1068.86)\" text-anchor=\"middle\">.015</text>\n",
       "\t<line x1=\"390.80\" y1=\"616.54\" x2=\"350.83\" y2=\"616.54\" style=\"stroke:#000000;stroke-width:5.76\"/>\n",
       "\t<text x=\"300.72\" y=\"616.54\" style=\"font-family:'Helvetica';font-size:99.99px;fill:#000000\" transform=\"rotate(-90 300.72,616.54)\" text-anchor=\"middle\">.02</text>\n",
       "\t<line x1=\"390.80\" y1=\"164.22\" x2=\"350.83\" y2=\"164.22\" style=\"stroke:#000000;stroke-width:5.76\"/>\n",
       "\t<text x=\"300.72\" y=\"164.22\" style=\"font-family:'Helvetica';font-size:99.99px;fill:#000000\" transform=\"rotate(-90 300.72,164.22)\" text-anchor=\"middle\">.025</text>\n",
       "\t<text x=\"190.71\" y=\"1294.96\" style=\"font-family:'Helvetica';font-size:99.99px;fill:#000000\" transform=\"rotate(-90 190.71,1294.96)\" text-anchor=\"middle\">CFR</text>\n",
       "\t<line x1=\"390.80\" y1=\"2489.19\" x2=\"3859.02\" y2=\"2489.19\" style=\"stroke:#000000;stroke-width:5.76\"/>\n",
       "\t<line x1=\"454.16\" y1=\"2489.19\" x2=\"454.16\" y2=\"2529.16\" style=\"stroke:#000000;stroke-width:5.76\"/>\n",
       "\t<text x=\"454.16\" y=\"2619.14\" style=\"font-family:'Helvetica';font-size:99.99px;fill:#000000\" text-anchor=\"middle\">0</text>\n",
       "\t<line x1=\"1122.41\" y1=\"2489.19\" x2=\"1122.41\" y2=\"2529.16\" style=\"stroke:#000000;stroke-width:5.76\"/>\n",
       "\t<text x=\"1122.41\" y=\"2619.14\" style=\"font-family:'Helvetica';font-size:99.99px;fill:#000000\" text-anchor=\"middle\">.2</text>\n",
       "\t<line x1=\"1790.79\" y1=\"2489.19\" x2=\"1790.79\" y2=\"2529.16\" style=\"stroke:#000000;stroke-width:5.76\"/>\n",
       "\t<text x=\"1790.79\" y=\"2619.14\" style=\"font-family:'Helvetica';font-size:99.99px;fill:#000000\" text-anchor=\"middle\">.4</text>\n",
       "\t<line x1=\"2459.04\" y1=\"2489.19\" x2=\"2459.04\" y2=\"2529.16\" style=\"stroke:#000000;stroke-width:5.76\"/>\n",
       "\t<text x=\"2459.04\" y=\"2619.14\" style=\"font-family:'Helvetica';font-size:99.99px;fill:#000000\" text-anchor=\"middle\">.6</text>\n",
       "\t<line x1=\"3127.41\" y1=\"2489.19\" x2=\"3127.41\" y2=\"2529.16\" style=\"stroke:#000000;stroke-width:5.76\"/>\n",
       "\t<text x=\"3127.41\" y=\"2619.14\" style=\"font-family:'Helvetica';font-size:99.99px;fill:#000000\" text-anchor=\"middle\">.8</text>\n",
       "\t<line x1=\"3795.66\" y1=\"2489.19\" x2=\"3795.66\" y2=\"2529.16\" style=\"stroke:#000000;stroke-width:5.76\"/>\n",
       "\t<text x=\"3795.66\" y=\"2619.14\" style=\"font-family:'Helvetica';font-size:99.99px;fill:#000000\" text-anchor=\"middle\">1</text>\n",
       "\t<text x=\"2124.91\" y=\"2729.16\" style=\"font-family:'Helvetica';font-size:99.99px;fill:#000000\" text-anchor=\"middle\">CFR (omitting missing data)</text>\n",
       "</svg>"
      ],
      "text/plain": [
       "<IPython.core.display.SVG object>"
      ]
     },
     "metadata": {},
     "output_type": "display_data"
    }
   ],
   "source": [
    "%%stata -qui\n",
    "sc cfr cfr2 if res_state!=\"\", mlab(res_state) ytitle(\"CFR\") xtitle(\"CFR (omitting missing data)\")\n",
    "drop if inlist(res_state,\"IL\",\"RI\")"
   ]
  },
  {
   "cell_type": "markdown",
   "metadata": {},
   "source": [
    "With these states removed, we have 38 remaining; these represent 19,296,398 total cases and 235,635 deaths. The resulting CFR is 2.0% with a lower bound of 1.2% (as compared to the 2.3% and 1.2% obtained above)."
   ]
  },
  {
   "cell_type": "code",
   "execution_count": 10,
   "metadata": {},
   "outputs": [
    {
     "name": "stdout",
     "output_type": "stream",
     "text": [
      "\n",
      "Total estimation                             Number of obs = 38\n",
      "\n",
      "---------------------------------------------------------------\n",
      "              |      Total   Std. err.     [95% conf. interval]\n",
      "--------------+------------------------------------------------\n",
      "     deceased |     235635      58258        117593      353677\n",
      "cases_nonmiss |   11661626    3263993       5048149    18275103\n",
      "        cases |   19296398    3552551      12098246    26494550\n",
      "---------------------------------------------------------------\n",
      "\n",
      "Ratio estimation                            Number of obs = 38\n",
      "\n",
      "          cfr: deceased/cases_nonmiss\n",
      "\n",
      "--------------------------------------------------------------\n",
      "             |             Linearized\n",
      "             |      Ratio   std. err.     [95% conf. interval]\n",
      "-------------+------------------------------------------------\n",
      "         cfr |    .020206   .0039585      .0121854    .0282266\n",
      "--------------------------------------------------------------\n",
      "\n",
      "Ratio estimation                            Number of obs = 38\n",
      "\n",
      "          cfr: deceased/cases\n",
      "\n",
      "--------------------------------------------------------------\n",
      "             |             Linearized\n",
      "             |      Ratio   std. err.     [95% conf. interval]\n",
      "-------------+------------------------------------------------\n",
      "         cfr |   .0122113   .0014574      .0092584    .0151643\n",
      "--------------------------------------------------------------\n",
      "\n"
     ]
    }
   ],
   "source": [
    "%%stata -qui\n",
    "gen cases_nonmiss = cases - death_miss\n",
    "noi total deceased cases_nonmiss cases, cformat(\"%8.0f\")\n",
    "noi ratio cfr: deceased / cases_nonmiss\n",
    "noi ratio cfr: deceased / cases"
   ]
  },
  {
   "cell_type": "markdown",
   "metadata": {},
   "source": [
    "### CFR by Race/Ethnicity"
   ]
  },
  {
   "cell_type": "markdown",
   "metadata": {},
   "source": [
    "Filter out problematic states identified above, and save the dataset for use in plotting later on."
   ]
  },
  {
   "cell_type": "code",
   "execution_count": 11,
   "metadata": {},
   "outputs": [
    {
     "name": "stdout",
     "output_type": "stream",
     "text": [
      "\n"
     ]
    }
   ],
   "source": [
    "%%stata -qui\n",
    "cwf default\n",
    "frlink m:1 res_state, frame(states)\n",
    "keep if !mi(states)\n",
    "cap mkdir tmp\n",
    "save tmp/cdc_cleaned, replace"
   ]
  },
  {
   "cell_type": "markdown",
   "metadata": {},
   "source": [
    "Here we calculate the CFR separately by ethnic group. This yields a risk ratio for Blacks compared to Whites of 2.64/3.36 = 0.79, and for Latinos compared to Whites of 2.26/3.36 = 0.67."
   ]
  },
  {
   "cell_type": "code",
   "execution_count": 12,
   "metadata": {},
   "outputs": [
    {
     "name": "stdout",
     "output_type": "stream",
     "text": [
      "\n",
      "           |                         ethgrp\n",
      "  deceased |         1          2          3          4          . |     Total\n",
      "-----------+-------------------------------------------------------+----------\n",
      "         0 | 3,822,995    839,088  1,132,122    843,293  4,788,493 |11,425,991 \n",
      "           |     96.64      97.36      97.74      98.70      99.11 |     97.98 \n",
      "-----------+-------------------------------------------------------+----------\n",
      "         1 |   132,822     22,735     26,191     11,074     42,813 |   235,635 \n",
      "           |      3.36       2.64       2.26       1.30       0.89 |      2.02 \n",
      "-----------+-------------------------------------------------------+----------\n",
      "     Total | 3,955,817    861,823  1,158,313    854,367  4,831,306 |11,661,626 \n",
      "           |    100.00     100.00     100.00     100.00     100.00 |    100.00 \n"
     ]
    }
   ],
   "source": [
    "%stata tab deceased ethgrp if !death_miss, col nokey m"
   ]
  },
  {
   "cell_type": "markdown",
   "metadata": {
    "tags": []
   },
   "source": [
    "We can do slightly better by using only those states for each comparison that include deaths from both groups. This yields ratios of 0.73 and 0.48, as compared to 0.79 and 0.67 above."
   ]
  },
  {
   "cell_type": "code",
   "execution_count": 13,
   "metadata": {},
   "outputs": [
    {
     "name": "stdout",
     "output_type": "stream",
     "text": [
      "Black versus White: 0.73\n",
      "Latino versus White: 0.48\n",
      "\n"
     ]
    }
   ],
   "source": [
    "%%stata -qui\n",
    "egen byte b = total(deceased & ethgrp==2), by(res_state)\n",
    "egen byte l = total(deceased & ethgrp==3), by(res_state)\n",
    "mean deceased if !death_miss & inlist(ethgrp,1,2) & b, over(ethgrp)\n",
    "noi di \"Black versus White: \" %4.2f _b[c.deceased@2.ethgrp]/_b[c.deceased@1.ethgrp]\n",
    "mean deceased if !death_miss & inlist(ethgrp,1,3) & l, over(ethgrp)\n",
    "noi di \"Latino versus White: \" %4.2f _b[c.deceased@3.ethgrp]/_b[c.deceased@1.ethgrp]"
   ]
  },
  {
   "cell_type": "markdown",
   "metadata": {},
   "source": [
    "Before going on, let's take a quick look at the distribution of ``age_group`` and calculate the CFRs within each age group. Out of the 11.7 million cases with reported mortality status, the large majority (6.3 million) are 18–49, while the smallest group are those 65+ (1.6 million). The CFRs are 0.1%, 0.8% and 13.5% among those aged 18–49, 50–54 and 65+, respectively; among the subset of 6 million cases with non-missing information for race/ethnnicity, the corresponding CFRs are 0.1%, 1.0% and 17.3%.\n",
    "\n",
    "As we can see from the third table below, the age distribution of cases differs substantially between ethnic groups, with a smaller proportion of minority cases being in the oldest age group than non-minority cases. Given the huge differences in CFR by age, we clearly need to adjust for age when comparing CFRs across ethnic groups. We return to this in the section [CFR Ratios Comparing Racial/Ethnic Groups, Separately by Age Group](#CFR-Ratios-Comparing-Racial/Ethnic-Groups,-Separately-by-Age-Group) below."
   ]
  },
  {
   "cell_type": "code",
   "execution_count": 14,
   "metadata": {},
   "outputs": [
    {
     "name": "stdout",
     "output_type": "stream",
     "text": [
      "\n",
      "           |                       age_group\n",
      "  deceased | 0 - 17 ..  18 to 4..  50 to 6..  65+ years    Missing |     Total\n",
      "-----------+-------------------------------------------------------+----------\n",
      "         0 | 1,327,892  6,334,981  2,298,016  1,367,319     97,783 |11,425,991 \n",
      "           |    100.00      99.94      99.19      86.52      99.86 |     97.98 \n",
      "-----------+-------------------------------------------------------+----------\n",
      "         1 |         0      3,728     18,689    213,077        141 |   235,635 \n",
      "           |      0.00       0.06       0.81      13.48       0.14 |      2.02 \n",
      "-----------+-------------------------------------------------------+----------\n",
      "     Total | 1,327,892  6,338,709  2,316,705  1,580,396     97,924 |11,661,626 \n",
      "           |    100.00     100.00     100.00     100.00     100.00 |    100.00 \n",
      "\n",
      "           |                       age_group\n",
      "  deceased | 0 - 17 ..  18 to 4..  50 to 6..  65+ years    Missing |     Total\n",
      "-----------+-------------------------------------------------------+----------\n",
      "         0 |   623,626  3,173,450  1,197,095    798,990      1,044 | 5,794,205 \n",
      "           |    100.00      99.92      98.96      82.74     100.00 |     96.96 \n",
      "-----------+-------------------------------------------------------+----------\n",
      "         1 |         0      2,497     12,550    166,701          0 |   181,748 \n",
      "           |      0.00       0.08       1.04      17.26       0.00 |      3.04 \n",
      "-----------+-------------------------------------------------------+----------\n",
      "     Total |   623,626  3,175,947  1,209,645    965,691      1,044 | 5,975,953 \n",
      "           |    100.00     100.00     100.00     100.00     100.00 |    100.00 \n",
      "\n",
      "--------------------------------------------------------------------------------------------------------------------\n",
      "                                 |                                      age_group                                   \n",
      "                                 |  0 - 17 years   18 to 49 years   50 to 64 years   65+ years   Missing       Total\n",
      "---------------------------------+----------------------------------------------------------------------------------\n",
      "ethgrp                           |                                                                                  \n",
      "  1                              |                                                                                  \n",
      "    Total                        |             0              163            4,233     128,426         0     132,822\n",
      "    Number of non-missing values |       367,990        1,939,326          859,862     788,121       518   3,955,817\n",
      "  2                              |                                                                                  \n",
      "    Total                        |             0              446            3,192      19,097         0      22,735\n",
      "    Number of non-missing values |        87,180          503,425          173,743      97,464        11     861,823\n",
      "  3                              |                                                                                  \n",
      "    Total                        |             0            1,888            5,125      19,178         0      26,191\n",
      "    Number of non-missing values |       168,456          733,196          176,040      80,106       515   1,158,313\n",
      "  4                              |                                                                                  \n",
      "    Total                        |             0               98            1,082       9,894         0      11,074\n",
      "    Number of non-missing values |        96,598          536,581          145,934      75,220        34     854,367\n",
      "  Total                          |                                                                                  \n",
      "    Total                        |             0            2,595           13,632     176,595         0     192,822\n",
      "    Number of non-missing values |       720,224        3,712,528        1,355,579   1,040,911     1,078   6,830,320\n",
      "--------------------------------------------------------------------------------------------------------------------\n",
      "\n"
     ]
    }
   ],
   "source": [
    "%%stata -qui\n",
    "replace age_group = \"Missing\" if age_group==\"nan\"\n",
    "noi tab deceased age_group if !death_miss, col nokey m\n",
    "noi tab deceased age_group if !death_miss & inlist(ethgrp,1,2,3), col nokey m\n",
    "noi table ethgrp age_group if !death_miss, statistic(sum deceased) statistic(count deceased)"
   ]
  },
  {
   "cell_type": "markdown",
   "metadata": {},
   "source": [
    "### CFR Ratios Comparing Racial/Ethnic Groups, Stratified by State"
   ]
  },
  {
   "cell_type": "markdown",
   "metadata": {
    "tags": []
   },
   "source": [
    "Even when restricting our comparisons to states that include deaths from both groups, differences in the CFR across states combined with differences in their racial/ethnic composition may bias our comparisons. To address this, we need to stratify by state. We start by aggregating counts by state, race/ethnicity, and age group."
   ]
  },
  {
   "cell_type": "code",
   "execution_count": 15,
   "metadata": {},
   "outputs": [
    {
     "name": "stdout",
     "output_type": "stream",
     "text": [
      "\n"
     ]
    }
   ],
   "source": [
    "%%stata -qui\n",
    "keep if inlist(ethgrp,1,2,3) & !death_miss\n",
    "contract deceased res_state ethgrp age_group, zero freq(n)"
   ]
  },
  {
   "cell_type": "markdown",
   "metadata": {},
   "source": [
    "We'll treat this as a meta-analysis; to use Stata's meta-analysis routines, we have to reshape to wide format."
   ]
  },
  {
   "cell_type": "code",
   "execution_count": 16,
   "metadata": {
    "tags": []
   },
   "outputs": [
    {
     "name": "stdout",
     "output_type": "stream",
     "text": [
      "\n"
     ]
    }
   ],
   "source": [
    "%%stata -qui\n",
    "frame copy default all_ages\n",
    "cwf all_ages\n",
    "egen m = total(n), by(deceased res_state ethgrp)\n",
    "drop age_group n\n",
    "duplicates drop\n",
    "reshape wide m, i(res_state deceased) j(ethgrp)\n",
    "reshape wide m1 m2 m3, i(res_state) j(deceased)"
   ]
  },
  {
   "cell_type": "markdown",
   "metadata": {},
   "source": [
    "First, we'll estimate the CFR ratio comparing Black to White. As above, we include only those states that reported deaths among Blacks."
   ]
  },
  {
   "cell_type": "code",
   "execution_count": 17,
   "metadata": {},
   "outputs": [
    {
     "name": "stdout",
     "output_type": "stream",
     "text": [
      "\n",
      "  Effect-size label: Log risk-ratio\n",
      "        Effect size: _meta_es\n",
      "          Std. err.: _meta_se\n",
      "        Study label: res_state\n",
      "\n",
      "Meta-analysis summary                     Number of studies =     26\n",
      "Random-effects model                      Heterogeneity:\n",
      "Method: DerSimonian–Laird                             tau2 =  0.5928\n",
      "                                                    I2 (%) =   99.73\n",
      "                                                        H2 =  375.58\n",
      "\n",
      "--------------------------------------------------------------------\n",
      "            Study |     Risk ratio    [95% conf. interval]  % weight\n",
      "------------------+-------------------------------------------------\n",
      "               AL |          0.542       0.494       0.595      3.91\n",
      "               AR |          0.306       0.265       0.353      3.89\n",
      "               AZ |          0.314       0.273       0.360      3.90\n",
      "               CA |          0.672       0.640       0.706      3.92\n",
      "               CO |          0.181       0.134       0.245      3.78\n",
      "               CT |          0.546       0.496       0.602      3.91\n",
      "               FL |          0.466       0.448       0.484      3.93\n",
      "               IN |          0.748       0.648       0.863      3.89\n",
      "               KS |          0.078       0.044       0.138      3.44\n",
      "               LA |          0.920       0.667       1.267      3.76\n",
      "               MA |          0.366       0.337       0.398      3.92\n",
      "               MD |          1.146       1.050       1.252      3.92\n",
      "               MI |          1.751       1.645       1.863      3.92\n",
      "               MN |          0.148       0.120       0.183      3.85\n",
      "               MS |          0.446       0.213       0.936      3.17\n",
      "               NC |          0.280       0.248       0.317      3.90\n",
      "               NJ |          0.582       0.557       0.608      3.93\n",
      "               NV |          0.580       0.515       0.654      3.90\n",
      "               NY |          2.295       2.232       2.360      3.93\n",
      "               OH |          0.520       0.490       0.551      3.92\n",
      "               OK |          0.345       0.263       0.453      3.80\n",
      "               PA |          0.536       0.479       0.599      3.91\n",
      "               SC |          0.282       0.249       0.320      3.90\n",
      "               TN |          0.848       0.788       0.912      3.92\n",
      "               VA |          0.362       0.320       0.409      3.90\n",
      "               WI |          0.458       0.382       0.549      3.87\n",
      "------------------+-------------------------------------------------\n",
      "       exp(theta) |          0.478       0.354       0.645\n",
      "--------------------------------------------------------------------\n",
      "Test of theta = 0: z = -4.84                     Prob > |z| = 0.0000\n",
      "Test of homogeneity: Q = chi2(25) = 9389.46        Prob > Q = 0.0000\n",
      "\n"
     ]
    }
   ],
   "source": [
    "%%stata -qui\n",
    "meta esize m21 m20 m11 m10, esize(lnrratio) random(dlaird) studylabel(res_state)\n",
    "noi meta summarize if m11 & m21, rr"
   ]
  },
  {
   "cell_type": "markdown",
   "metadata": {},
   "source": [
    "Next, we'll estimate the CFR ratio comparing Latinx to White."
   ]
  },
  {
   "cell_type": "code",
   "execution_count": 18,
   "metadata": {},
   "outputs": [
    {
     "name": "stdout",
     "output_type": "stream",
     "text": [
      "\n",
      "  Effect-size label: Log risk-ratio\n",
      "        Effect size: _meta_es\n",
      "          Std. err.: _meta_se\n",
      "        Study label: res_state\n",
      "\n",
      "Meta-analysis summary                     Number of studies =     14\n",
      "Random-effects model                      Heterogeneity:\n",
      "Method: DerSimonian–Laird                             tau2 =  0.2815\n",
      "                                                    I2 (%) =   99.66\n",
      "                                                        H2 =  295.11\n",
      "\n",
      "--------------------------------------------------------------------\n",
      "            Study |     Risk ratio    [95% conf. interval]  % weight\n",
      "------------------+-------------------------------------------------\n",
      "               AZ |          0.708       0.680       0.737      7.59\n",
      "               CA |          0.734       0.716       0.753      7.59\n",
      "               CO |          0.037       0.029       0.048      7.18\n",
      "               CT |          0.111       0.094       0.132      7.40\n",
      "               FL |          0.477       0.463       0.491      7.59\n",
      "               MA |          0.079       0.064       0.097      7.32\n",
      "               MD |          0.082       0.046       0.145      5.85\n",
      "               NJ |          0.374       0.353       0.395      7.58\n",
      "               NM |          0.386       0.347       0.429      7.52\n",
      "               NV |          0.478       0.442       0.517      7.56\n",
      "               NY |          1.369       1.312       1.428      7.59\n",
      "               PA |          0.284       0.238       0.338      7.39\n",
      "               UT |          0.055       0.030       0.100      5.72\n",
      "               VA |          0.044       0.027       0.074      6.14\n",
      "------------------+-------------------------------------------------\n",
      "       exp(theta) |          0.231       0.173       0.308\n",
      "--------------------------------------------------------------------\n",
      "Test of theta = 0: z = -10.02                    Prob > |z| = 0.0000\n",
      "Test of homogeneity: Q = chi2(13) = 3836.38        Prob > Q = 0.0000\n",
      "\n"
     ]
    }
   ],
   "source": [
    "%%stata -qui\n",
    "meta esize m31 m30 m11 m10, esize(lnrratio) random(dlaird) studylabel(res_state)\n",
    "noi meta summarize if m31 & m31, rr"
   ]
  },
  {
   "cell_type": "markdown",
   "metadata": {},
   "source": [
    "### CFR Ratios Comparing Racial/Ethnic Groups, Separately by Age Group"
   ]
  },
  {
   "cell_type": "markdown",
   "metadata": {},
   "source": [
    "Now we'll repeat the analyses in the section above, separately by age group. Once again, we start by reshaping so we can use Stata's meta-analysis routines."
   ]
  },
  {
   "cell_type": "code",
   "execution_count": 19,
   "metadata": {},
   "outputs": [
    {
     "name": "stdout",
     "output_type": "stream",
     "text": [
      "\n"
     ]
    }
   ],
   "source": [
    "%%stata -qui\n",
    "cwf default\n",
    "reshape wide n, i(res_state age_group deceased) j(ethgrp)\n",
    "reshape wide n1 n2 n3, i(res_state age_group) j(deceased)"
   ]
  },
  {
   "cell_type": "markdown",
   "metadata": {},
   "source": [
    "CFR ratio comparing Black to White, ages 18-49:"
   ]
  },
  {
   "cell_type": "code",
   "execution_count": 20,
   "metadata": {},
   "outputs": [
    {
     "name": "stdout",
     "output_type": "stream",
     "text": [
      "\n",
      "  Effect-size label: Log risk-ratio\n",
      "        Effect size: _meta_es\n",
      "          Std. err.: _meta_se\n",
      "        Study label: res_state\n",
      "\n",
      "Meta-analysis summary                     Number of studies =      2\n",
      "Random-effects model                      Heterogeneity:\n",
      "Method: DerSimonian–Laird                             tau2 =  3.0032\n",
      "                                                    I2 (%) =   97.89\n",
      "                                                        H2 =   47.48\n",
      "\n",
      "--------------------------------------------------------------------\n",
      "            Study |     Risk ratio    [95% conf. interval]  % weight\n",
      "------------------+-------------------------------------------------\n",
      "               CA |          1.119       0.587       2.132     49.29\n",
      "               NY |         13.318      10.032      17.682     50.71\n",
      "------------------+-------------------------------------------------\n",
      "       exp(theta) |          3.929       0.347      44.499\n",
      "--------------------------------------------------------------------\n",
      "Test of theta = 0: z = 1.10                      Prob > |z| = 0.2692\n",
      "Test of homogeneity: Q = chi2(1) = 47.48           Prob > Q = 0.0000\n",
      "\n"
     ]
    }
   ],
   "source": [
    "%%stata -qui\n",
    "meta esize n21 n20 n11 n10, esize(lnrratio) random(dlaird) studylabel(res_state)\n",
    "noi meta summarize if age_group==\"18 to 49 years\" & n11 & n21, rr"
   ]
  },
  {
   "cell_type": "markdown",
   "metadata": {},
   "source": [
    "CFR ratio comparing Black to White, ages 50-64. Because the risk ratio for TN is so high, we recompute without TN to evaluate its impact on the result."
   ]
  },
  {
   "cell_type": "code",
   "execution_count": 21,
   "metadata": {},
   "outputs": [
    {
     "name": "stdout",
     "output_type": "stream",
     "text": [
      "\n",
      "  Effect-size label: Log risk-ratio\n",
      "        Effect size: _meta_es\n",
      "          Std. err.: _meta_se\n",
      "        Study label: res_state\n",
      "\n",
      "Meta-analysis summary                     Number of studies =     12\n",
      "Random-effects model                      Heterogeneity:\n",
      "Method: DerSimonian–Laird                             tau2 =  0.8529\n",
      "                                                    I2 (%) =   98.76\n",
      "                                                        H2 =   80.83\n",
      "\n",
      "--------------------------------------------------------------------\n",
      "            Study |     Risk ratio    [95% conf. interval]  % weight\n",
      "------------------+-------------------------------------------------\n",
      "               AR |          1.722       0.890       3.330      7.67\n",
      "               AZ |          0.603       0.411       0.884      8.32\n",
      "               CA |          1.492       1.296       1.717      8.64\n",
      "               CT |          0.498       0.288       0.861      7.96\n",
      "               FL |          4.768       4.054       5.608      8.62\n",
      "               MA |          0.435       0.300       0.631      8.34\n",
      "               MI |         10.893       8.861      13.391      8.58\n",
      "               NJ |          2.235       1.961       2.547      8.65\n",
      "               NV |          1.125       0.805       1.572      8.41\n",
      "               NY |          6.053       5.558       6.592      8.67\n",
      "               OH |          0.806       0.554       1.174      8.33\n",
      "               TN |         36.606      19.867      67.447      7.80\n",
      "------------------+-------------------------------------------------\n",
      "       exp(theta) |          2.112       1.238       3.600\n",
      "--------------------------------------------------------------------\n",
      "Test of theta = 0: z = 2.75                      Prob > |z| = 0.0061\n",
      "Test of homogeneity: Q = chi2(11) = 889.09         Prob > Q = 0.0000\n",
      "\n",
      "  Effect-size label: Log risk-ratio\n",
      "        Effect size: _meta_es\n",
      "          Std. err.: _meta_se\n",
      "        Study label: res_state\n",
      "\n",
      "Meta-analysis summary                     Number of studies =     11\n",
      "Random-effects model                      Heterogeneity:\n",
      "Method: DerSimonian–Laird                             tau2 =  0.8075\n",
      "                                                    I2 (%) =   98.80\n",
      "                                                        H2 =   83.13\n",
      "\n",
      "--------------------------------------------------------------------\n",
      "            Study |     Risk ratio    [95% conf. interval]  % weight\n",
      "------------------+-------------------------------------------------\n",
      "               AR |          1.722       0.890       3.330      8.28\n",
      "               AZ |          0.603       0.411       0.884      9.02\n",
      "               CA |          1.492       1.296       1.717      9.39\n",
      "               CT |          0.498       0.288       0.861      8.61\n",
      "               FL |          4.768       4.054       5.608      9.37\n",
      "               MA |          0.435       0.300       0.631      9.04\n",
      "               MI |         10.893       8.861      13.391      9.32\n",
      "               NJ |          2.235       1.961       2.547      9.39\n",
      "               NV |          1.125       0.805       1.572      9.12\n",
      "               NY |          6.053       5.558       6.592      9.42\n",
      "               OH |          0.806       0.554       1.174      9.04\n",
      "------------------+-------------------------------------------------\n",
      "       exp(theta) |          1.660       0.966       2.853\n",
      "--------------------------------------------------------------------\n",
      "Test of theta = 0: z = 1.84                      Prob > |z| = 0.0664\n",
      "Test of homogeneity: Q = chi2(10) = 831.25         Prob > Q = 0.0000\n",
      "\n"
     ]
    }
   ],
   "source": [
    "%%stata -qui\n",
    "noi meta summarize if age_group==\"50 to 64 years\" & n11 & n21, rr\n",
    "noi meta summarize if age_group==\"50 to 64 years\" & n11 & n21 & res_state!=\"TN\", rr"
   ]
  },
  {
   "cell_type": "markdown",
   "metadata": {},
   "source": [
    "CFR ratio comparing Black to White, ages 65+:"
   ]
  },
  {
   "cell_type": "code",
   "execution_count": 22,
   "metadata": {
    "tags": []
   },
   "outputs": [
    {
     "name": "stdout",
     "output_type": "stream",
     "text": [
      "\n",
      "  Effect-size label: Log risk-ratio\n",
      "        Effect size: _meta_es\n",
      "          Std. err.: _meta_se\n",
      "        Study label: res_state\n",
      "\n",
      "Meta-analysis summary                     Number of studies =     26\n",
      "Random-effects model                      Heterogeneity:\n",
      "Method: DerSimonian–Laird                             tau2 =  0.2203\n",
      "                                                    I2 (%) =   99.37\n",
      "                                                        H2 =  159.80\n",
      "\n",
      "--------------------------------------------------------------------\n",
      "            Study |     Risk ratio    [95% conf. interval]  % weight\n",
      "------------------+-------------------------------------------------\n",
      "               AL |          0.889       0.813       0.972      3.99\n",
      "               AR |          0.711       0.619       0.817      3.94\n",
      "               AZ |          0.959       0.840       1.095      3.95\n",
      "               CA |          0.945       0.898       0.994      4.02\n",
      "               CO |          0.569       0.438       0.739      3.73\n",
      "               CT |          1.009       0.931       1.093      4.00\n",
      "               FL |          1.025       0.989       1.062      4.02\n",
      "               IN |          1.376       1.198       1.580      3.94\n",
      "               KS |          0.217       0.124       0.381      2.93\n",
      "               LA |          1.440       1.071       1.937      3.65\n",
      "               MA |          0.670       0.625       0.719      4.01\n",
      "               MD |          1.644       1.510       1.789      4.00\n",
      "               MI |          2.206       2.081       2.338      4.01\n",
      "               MN |          0.578       0.471       0.710      3.84\n",
      "               MS |          1.304       0.628       2.711      2.47\n",
      "               NC |          0.521       0.460       0.589      3.96\n",
      "               NJ |          0.831       0.796       0.868      4.02\n",
      "               NV |          1.008       0.896       1.134      3.96\n",
      "               NY |          2.074       2.024       2.125      4.03\n",
      "               OH |          0.813       0.769       0.859      4.01\n",
      "               OK |          0.841       0.646       1.095      3.72\n",
      "               PA |          1.160       1.051       1.281      3.98\n",
      "               SC |          0.523       0.462       0.592      3.96\n",
      "               TN |          1.278       1.192       1.370      4.01\n",
      "               VA |          0.684       0.608       0.770      3.96\n",
      "               WI |          0.836       0.705       0.990      3.90\n",
      "------------------+-------------------------------------------------\n",
      "       exp(theta) |          0.914       0.760       1.099\n",
      "--------------------------------------------------------------------\n",
      "Test of theta = 0: z = -0.95                     Prob > |z| = 0.3402\n",
      "Test of homogeneity: Q = chi2(25) = 3995.10        Prob > Q = 0.0000\n"
     ]
    }
   ],
   "source": [
    "%stata noi meta summarize if age_group==\"65+ years\" & n11 & n21, rr"
   ]
  },
  {
   "cell_type": "markdown",
   "metadata": {},
   "source": [
    "CFR ratio comparing Latino to White, ages 18-49:"
   ]
  },
  {
   "cell_type": "code",
   "execution_count": 23,
   "metadata": {},
   "outputs": [
    {
     "name": "stdout",
     "output_type": "stream",
     "text": [
      "\n",
      "  Effect-size label: Log risk-ratio\n",
      "        Effect size: _meta_es\n",
      "          Std. err.: _meta_se\n",
      "        Study label: res_state\n",
      "\n",
      "Meta-analysis summary                     Number of studies =      3\n",
      "Random-effects model                      Heterogeneity:\n",
      "Method: DerSimonian–Laird                             tau2 =  0.4816\n",
      "                                                    I2 (%) =   95.50\n",
      "                                                        H2 =   22.24\n",
      "\n",
      "--------------------------------------------------------------------\n",
      "            Study |     Risk ratio    [95% conf. interval]  % weight\n",
      "------------------+-------------------------------------------------\n",
      "               AZ |          4.514       3.427       5.944     33.54\n",
      "               CA |         17.302      12.632      23.698     33.14\n",
      "               NY |         12.108       8.998      16.293     33.32\n",
      "------------------+-------------------------------------------------\n",
      "       exp(theta) |          9.789       4.382      21.865\n",
      "--------------------------------------------------------------------\n",
      "Test of theta = 0: z = 5.56                      Prob > |z| = 0.0000\n",
      "Test of homogeneity: Q = chi2(2) = 44.48           Prob > Q = 0.0000\n",
      "\n"
     ]
    }
   ],
   "source": [
    "%%stata -qui\n",
    "meta esize n31 n30 n11 n10, esize(lnrratio) random(dlaird) studylabel(res_state)\n",
    "noi meta summarize if age_group==\"18 to 49 years\" & n11 & n31, rr"
   ]
  },
  {
   "cell_type": "markdown",
   "metadata": {},
   "source": [
    "CFR ratio comparing Latino to White, ages 50-64:"
   ]
  },
  {
   "cell_type": "code",
   "execution_count": 24,
   "metadata": {},
   "outputs": [
    {
     "name": "stdout",
     "output_type": "stream",
     "text": [
      "\n",
      "  Effect-size label: Log risk-ratio\n",
      "        Effect size: _meta_es\n",
      "          Std. err.: _meta_se\n",
      "        Study label: res_state\n",
      "\n",
      "Meta-analysis summary                     Number of studies =      9\n",
      "Random-effects model                      Heterogeneity:\n",
      "Method: DerSimonian–Laird                             tau2 =  0.1624\n",
      "                                                    I2 (%) =   96.60\n",
      "                                                        H2 =   29.39\n",
      "\n",
      "--------------------------------------------------------------------\n",
      "            Study |     Risk ratio    [95% conf. interval]  % weight\n",
      "------------------+-------------------------------------------------\n",
      "               AZ |          3.049       2.752       3.378     12.86\n",
      "               CA |          3.709       3.426       4.015     12.95\n",
      "               CT |          0.306       0.163       0.573      8.01\n",
      "               FL |          4.075       3.502       4.741     12.62\n",
      "               NJ |          2.156       1.869       2.487     12.67\n",
      "               NM |          1.128       0.598       2.130      7.94\n",
      "               NV |          2.428       2.007       2.937     12.36\n",
      "               NY |          5.329       4.771       5.951     12.83\n",
      "               PA |         27.594      14.341      53.097      7.75\n",
      "------------------+-------------------------------------------------\n",
      "       exp(theta) |          2.956       2.222       3.933\n",
      "--------------------------------------------------------------------\n",
      "Test of theta = 0: z = 7.44                      Prob > |z| = 0.0000\n",
      "Test of homogeneity: Q = chi2(8) = 235.13          Prob > Q = 0.0000\n"
     ]
    }
   ],
   "source": [
    "%stata meta summarize if age_group==\"50 to 64 years\" & n11 & n31, rr"
   ]
  },
  {
   "cell_type": "markdown",
   "metadata": {},
   "source": [
    "CFR ratio comparing Latino to White, ages 65+:"
   ]
  },
  {
   "cell_type": "code",
   "execution_count": 25,
   "metadata": {},
   "outputs": [
    {
     "name": "stdout",
     "output_type": "stream",
     "text": [
      "\n",
      "  Effect-size label: Log risk-ratio\n",
      "        Effect size: _meta_es\n",
      "          Std. err.: _meta_se\n",
      "        Study label: res_state\n",
      "\n",
      "Meta-analysis summary                     Number of studies =     13\n",
      "Random-effects model                      Heterogeneity:\n",
      "Method: DerSimonian–Laird                             tau2 =  0.1536\n",
      "                                                    I2 (%) =   99.51\n",
      "                                                        H2 =  205.41\n",
      "\n",
      "--------------------------------------------------------------------\n",
      "            Study |     Risk ratio    [95% conf. interval]  % weight\n",
      "------------------+-------------------------------------------------\n",
      "               AZ |          1.474       1.416       1.534      8.24\n",
      "               CA |          1.457       1.419       1.496      8.25\n",
      "               CO |          0.336       0.267       0.424      7.57\n",
      "               CT |          0.626       0.537       0.729      7.94\n",
      "               FL |          1.044       1.015       1.073      8.25\n",
      "               MA |          0.985       0.862       1.126      8.01\n",
      "               NJ |          0.835       0.787       0.885      8.21\n",
      "               NM |          1.481       1.384       1.585      8.19\n",
      "               NV |          1.209       1.111       1.315      8.16\n",
      "               NY |          2.522       2.445       2.603      8.24\n",
      "               PA |          1.081       0.908       1.288      7.85\n",
      "               UT |          0.180       0.100       0.326      5.18\n",
      "               VA |          0.652       0.401       1.059      5.90\n",
      "------------------+-------------------------------------------------\n",
      "       exp(theta) |          0.948       0.760       1.182\n",
      "--------------------------------------------------------------------\n",
      "Test of theta = 0: z = -0.47                     Prob > |z| = 0.6373\n",
      "Test of homogeneity: Q = chi2(12) = 2464.94        Prob > Q = 0.0000\n"
     ]
    }
   ],
   "source": [
    "%stata meta summarize if age_group==\"65+ years\" & n11 & n31, rr"
   ]
  },
  {
   "cell_type": "markdown",
   "metadata": {},
   "source": [
    "## CTP Data"
   ]
  },
  {
   "cell_type": "markdown",
   "metadata": {},
   "source": [
    "Now we'll turn to the data from the COVID Tracking Project (CTP), downloaded from [their site](https://covidtracking.com/race/dashboard) on 2021-10-31. Unlike the CDC data, the CTP data are cumulative counts of cases and deaths. We will work with the counts from the last day in February 2021 (i.e., the last full month of data before the project shut down)."
   ]
  },
  {
   "cell_type": "code",
   "execution_count": 26,
   "metadata": {
    "tags": []
   },
   "outputs": [
    {
     "data": {
      "text/html": [
       "<div>\n",
       "<style scoped>\n",
       "    .dataframe tbody tr th:only-of-type {\n",
       "        vertical-align: middle;\n",
       "    }\n",
       "\n",
       "    .dataframe tbody tr th {\n",
       "        vertical-align: top;\n",
       "    }\n",
       "\n",
       "    .dataframe thead th {\n",
       "        text-align: right;\n",
       "    }\n",
       "</style>\n",
       "<table border=\"1\" class=\"dataframe\">\n",
       "  <thead>\n",
       "    <tr style=\"text-align: right;\">\n",
       "      <th></th>\n",
       "      <th>Date</th>\n",
       "      <th>State</th>\n",
       "      <th>Cases_Total</th>\n",
       "      <th>Deaths_Total</th>\n",
       "      <th>Cases_White</th>\n",
       "      <th>Deaths_White</th>\n",
       "      <th>Cases_Black</th>\n",
       "      <th>Deaths_Black</th>\n",
       "      <th>Cases_Latinx</th>\n",
       "      <th>Deaths_Latinx</th>\n",
       "      <th>Cases_Other</th>\n",
       "      <th>Deaths_Other</th>\n",
       "      <th>Cases_Missing</th>\n",
       "      <th>Deaths_Missing</th>\n",
       "    </tr>\n",
       "  </thead>\n",
       "  <tbody>\n",
       "    <tr>\n",
       "      <th>112</th>\n",
       "      <td>20210228</td>\n",
       "      <td>AK</td>\n",
       "      <td>58293.0</td>\n",
       "      <td>290.0</td>\n",
       "      <td>17991.0</td>\n",
       "      <td>122.0</td>\n",
       "      <td>1481.0</td>\n",
       "      <td>9.0</td>\n",
       "      <td>NaN</td>\n",
       "      <td>NaN</td>\n",
       "      <td>27442.0</td>\n",
       "      <td>154.0</td>\n",
       "      <td>11379.0</td>\n",
       "      <td>5.0</td>\n",
       "    </tr>\n",
       "    <tr>\n",
       "      <th>113</th>\n",
       "      <td>20210228</td>\n",
       "      <td>AL</td>\n",
       "      <td>493252.0</td>\n",
       "      <td>9929.0</td>\n",
       "      <td>158420.0</td>\n",
       "      <td>4625.0</td>\n",
       "      <td>81782.0</td>\n",
       "      <td>2168.0</td>\n",
       "      <td>NaN</td>\n",
       "      <td>NaN</td>\n",
       "      <td>40046.0</td>\n",
       "      <td>318.0</td>\n",
       "      <td>213004.0</td>\n",
       "      <td>2818.0</td>\n",
       "    </tr>\n",
       "    <tr>\n",
       "      <th>114</th>\n",
       "      <td>20210228</td>\n",
       "      <td>AR</td>\n",
       "      <td>322415.0</td>\n",
       "      <td>5243.0</td>\n",
       "      <td>205690.0</td>\n",
       "      <td>4113.0</td>\n",
       "      <td>50508.0</td>\n",
       "      <td>773.0</td>\n",
       "      <td>NaN</td>\n",
       "      <td>NaN</td>\n",
       "      <td>25410.0</td>\n",
       "      <td>321.0</td>\n",
       "      <td>40807.0</td>\n",
       "      <td>36.0</td>\n",
       "    </tr>\n",
       "    <tr>\n",
       "      <th>115</th>\n",
       "      <td>20210228</td>\n",
       "      <td>AS</td>\n",
       "      <td>NaN</td>\n",
       "      <td>NaN</td>\n",
       "      <td>NaN</td>\n",
       "      <td>NaN</td>\n",
       "      <td>NaN</td>\n",
       "      <td>NaN</td>\n",
       "      <td>NaN</td>\n",
       "      <td>NaN</td>\n",
       "      <td>0.0</td>\n",
       "      <td>0.0</td>\n",
       "      <td>NaN</td>\n",
       "      <td>NaN</td>\n",
       "    </tr>\n",
       "    <tr>\n",
       "      <th>116</th>\n",
       "      <td>20210228</td>\n",
       "      <td>AZ</td>\n",
       "      <td>816782.0</td>\n",
       "      <td>15980.0</td>\n",
       "      <td>304962.0</td>\n",
       "      <td>7874.0</td>\n",
       "      <td>25464.0</td>\n",
       "      <td>423.0</td>\n",
       "      <td>242379.0</td>\n",
       "      <td>4587.0</td>\n",
       "      <td>98718.0</td>\n",
       "      <td>2002.0</td>\n",
       "      <td>145259.0</td>\n",
       "      <td>1094.0</td>\n",
       "    </tr>\n",
       "  </tbody>\n",
       "</table>\n",
       "</div>"
      ],
      "text/plain": [
       "         Date State  Cases_Total  Deaths_Total  Cases_White  Deaths_White  \\\n",
       "112  20210228    AK      58293.0         290.0      17991.0         122.0   \n",
       "113  20210228    AL     493252.0        9929.0     158420.0        4625.0   \n",
       "114  20210228    AR     322415.0        5243.0     205690.0        4113.0   \n",
       "115  20210228    AS          NaN           NaN          NaN           NaN   \n",
       "116  20210228    AZ     816782.0       15980.0     304962.0        7874.0   \n",
       "\n",
       "     Cases_Black  Deaths_Black  Cases_Latinx  Deaths_Latinx  Cases_Other  \\\n",
       "112       1481.0           9.0           NaN            NaN      27442.0   \n",
       "113      81782.0        2168.0           NaN            NaN      40046.0   \n",
       "114      50508.0         773.0           NaN            NaN      25410.0   \n",
       "115          NaN           NaN           NaN            NaN          0.0   \n",
       "116      25464.0         423.0      242379.0         4587.0      98718.0   \n",
       "\n",
       "     Deaths_Other  Cases_Missing  Deaths_Missing  \n",
       "112         154.0        11379.0             5.0  \n",
       "113         318.0       213004.0          2818.0  \n",
       "114         321.0        40807.0            36.0  \n",
       "115           0.0            NaN             NaN  \n",
       "116        2002.0       145259.0          1094.0  "
      ]
     },
     "execution_count": 26,
     "metadata": {},
     "output_type": "execute_result"
    }
   ],
   "source": [
    "df = pd.read_csv('data/ctp/CRDT Data - CRDT.csv')\n",
    "df['Cases_Other'] = df[['Cases_Asian','Cases_AIAN','Cases_NHPI','Cases_Multiracial','Cases_Other']].sum(axis=1)\n",
    "df['Deaths_Other'] = df[['Deaths_Asian','Deaths_AIAN','Deaths_NHPI','Deaths_Multiracial','Deaths_Other']].sum(axis=1)\n",
    "df['Cases_Missing'] = df.Cases_Total - df[['Cases_White','Cases_Black','Cases_Latinx','Cases_Other']].sum(axis=1)\n",
    "df['Deaths_Missing'] = df.Deaths_Total - df[['Deaths_White','Deaths_Black','Deaths_Latinx','Deaths_Other']].sum(axis=1)\n",
    "df = df.loc[df.Date==20210228,['Date','State','Cases_Total','Deaths_Total','Cases_White','Deaths_White','Cases_Black',\n",
    "                               'Deaths_Black','Cases_Latinx','Deaths_Latinx','Cases_Other','Deaths_Other','Cases_Missing',\n",
    "                               'Deaths_Missing']]\n",
    "df.head()"
   ]
  },
  {
   "cell_type": "markdown",
   "metadata": {},
   "source": [
    "### CFRs, Both Overall and by Race/Ethnicity"
   ]
  },
  {
   "cell_type": "markdown",
   "metadata": {},
   "source": [
    "Compute CFRs, both overall and separately by racial/ethnic group."
   ]
  },
  {
   "cell_type": "code",
   "execution_count": 27,
   "metadata": {},
   "outputs": [
    {
     "name": "stdout",
     "output_type": "stream",
     "text": [
      "\n",
      "Group: Total (1 missing)\n",
      "\n",
      "--------------------\n",
      "        |  Frequency\n",
      "--------+-----------\n",
      "State   |           \n",
      "  AS    |          1\n",
      "  Total |          1\n",
      "--------------------\n",
      "\n",
      "Total estimation                            Number of obs = 55\n",
      "\n",
      "--------------------------------------------------------------\n",
      "             |      Total   Std. err.     [95% conf. interval]\n",
      "-------------+------------------------------------------------\n",
      " Cases_Total |   28443555    4764867      18890571    37996539\n",
      "--------------------------------------------------------------\n",
      "\n",
      "Total estimation                            Number of obs = 55\n",
      "\n",
      "--------------------------------------------------------------\n",
      "             |      Total   Std. err.     [95% conf. interval]\n",
      "-------------+------------------------------------------------\n",
      "Deaths_Total |     512627      86818        338566      686688\n",
      "--------------------------------------------------------------\n",
      "\n",
      "Ratio estimation                            Number of obs = 55\n",
      "\n",
      "          CFR: Deaths_Total/Cases_Total\n",
      "\n",
      "--------------------------------------------------------------\n",
      "             |             Linearized\n",
      "             |      Ratio   std. err.     [95% conf. interval]\n",
      "-------------+------------------------------------------------\n",
      "         CFR |   .0180226   .0010017      .0160144    .0200308\n",
      "--------------------------------------------------------------\n",
      "\n",
      "Group: White (6 missing)\n",
      "\n",
      "--------------------\n",
      "        |  Frequency\n",
      "--------+-----------\n",
      "State   |           \n",
      "  AS    |          1\n",
      "  MP    |          1\n",
      "  ND    |          1\n",
      "  NY    |          1\n",
      "  PR    |          1\n",
      "  VI    |          1\n",
      "  Total |          6\n",
      "--------------------\n",
      "\n",
      "Total estimation                            Number of obs = 50\n",
      "\n",
      "--------------------------------------------------------------\n",
      "             |      Total   Std. err.     [95% conf. interval]\n",
      "-------------+------------------------------------------------\n",
      " Cases_White |   10309363    1215529       7866665    12752061\n",
      "--------------------------------------------------------------\n",
      "\n",
      "Total estimation                            Number of obs = 50\n",
      "\n",
      "--------------------------------------------------------------\n",
      "             |      Total   Std. err.     [95% conf. interval]\n",
      "-------------+------------------------------------------------\n",
      "Deaths_White |     268373      36163        195701      341045\n",
      "--------------------------------------------------------------\n",
      "\n",
      "Ratio estimation                            Number of obs = 50\n",
      "\n",
      "          CFR: Deaths_White/Cases_White\n",
      "\n",
      "--------------------------------------------------------------\n",
      "             |             Linearized\n",
      "             |      Ratio   std. err.     [95% conf. interval]\n",
      "-------------+------------------------------------------------\n",
      "         CFR |    .026032   .0023633      .0212827    .0307812\n",
      "--------------------------------------------------------------\n",
      "\n",
      "Group: Black (7 missing)\n",
      "\n",
      "--------------------\n",
      "        |  Frequency\n",
      "--------+-----------\n",
      "State   |           \n",
      "  AS    |          1\n",
      "  GU    |          1\n",
      "  MP    |          1\n",
      "  ND    |          1\n",
      "  NY    |          1\n",
      "  PR    |          1\n",
      "  VI    |          1\n",
      "  Total |          7\n",
      "--------------------\n",
      "\n",
      "Total estimation                            Number of obs = 49\n",
      "\n",
      "--------------------------------------------------------------\n",
      "             |      Total   Std. err.     [95% conf. interval]\n",
      "-------------+------------------------------------------------\n",
      " Cases_Black |    2359473     390042       1575242     3143704\n",
      "--------------------------------------------------------------\n",
      "\n",
      "Total estimation                            Number of obs = 49\n",
      "\n",
      "--------------------------------------------------------------\n",
      "             |      Total   Std. err.     [95% conf. interval]\n",
      "-------------+------------------------------------------------\n",
      "Deaths_Black |      61989      10433         41012       82966\n",
      "--------------------------------------------------------------\n",
      "\n",
      "Ratio estimation                            Number of obs = 49\n",
      "\n",
      "          CFR: Deaths_Black/Cases_Black\n",
      "\n",
      "--------------------------------------------------------------\n",
      "             |             Linearized\n",
      "             |      Ratio   std. err.     [95% conf. interval]\n",
      "-------------+------------------------------------------------\n",
      "         CFR |   .0262724    .002296      .0216561    .0308887\n",
      "--------------------------------------------------------------\n",
      "\n",
      "Group: Latinx (33 missing)\n",
      "\n",
      "Total estimation                            Number of obs = 23\n",
      "\n",
      "--------------------------------------------------------------\n",
      "             |      Total   Std. err.     [95% conf. interval]\n",
      "-------------+------------------------------------------------\n",
      "Cases_Latinx |    3666785    1513464        528052     6805518\n",
      "--------------------------------------------------------------\n",
      "\n",
      "Total estimation                             Number of obs = 23\n",
      "\n",
      "---------------------------------------------------------------\n",
      "              |      Total   Std. err.     [95% conf. interval]\n",
      "--------------+------------------------------------------------\n",
      "Deaths_Latinx |      71844      29347         10982      132706\n",
      "---------------------------------------------------------------\n",
      "\n",
      "Ratio estimation                            Number of obs = 23\n",
      "\n",
      "          CFR: Deaths_Latinx/Cases_Latinx\n",
      "\n",
      "--------------------------------------------------------------\n",
      "             |             Linearized\n",
      "             |      Ratio   std. err.     [95% conf. interval]\n",
      "-------------+------------------------------------------------\n",
      "         CFR |   .0195932   .0057941      .0075769    .0316095\n",
      "--------------------------------------------------------------\n",
      "\n",
      "Group: Other (0 missing)\n",
      "\n",
      "Total estimation                            Number of obs = 56\n",
      "\n",
      "--------------------------------------------------------------\n",
      "             |      Total   Std. err.     [95% conf. interval]\n",
      "-------------+------------------------------------------------\n",
      " Cases_Other |    2539435     581214       1374656     3704214\n",
      "--------------------------------------------------------------\n",
      "\n",
      "Total estimation                            Number of obs = 56\n",
      "\n",
      "--------------------------------------------------------------\n",
      "             |      Total   Std. err.     [95% conf. interval]\n",
      "-------------+------------------------------------------------\n",
      "Deaths_Other |      39403       9915         19533       59273\n",
      "--------------------------------------------------------------\n",
      "\n",
      "Ratio estimation                            Number of obs = 56\n",
      "\n",
      "          CFR: Deaths_Other/Cases_Other\n",
      "\n",
      "--------------------------------------------------------------\n",
      "             |             Linearized\n",
      "             |      Ratio   std. err.     [95% conf. interval]\n",
      "-------------+------------------------------------------------\n",
      "         CFR |   .0155164   .0024834      .0105396    .0204933\n",
      "--------------------------------------------------------------\n",
      "\n",
      "Group: Missing (1 missing)\n",
      "\n",
      "--------------------\n",
      "        |  Frequency\n",
      "--------+-----------\n",
      "State   |           \n",
      "  AS    |          1\n",
      "  Total |          1\n",
      "--------------------\n",
      "\n",
      "Total estimation                             Number of obs = 55\n",
      "\n",
      "---------------------------------------------------------------\n",
      "              |      Total   Std. err.     [95% conf. interval]\n",
      "--------------+------------------------------------------------\n",
      "Cases_Missing |    9510434    3042008       3411575    15609293\n",
      "---------------------------------------------------------------\n",
      "\n",
      "Total estimation                              Number of obs = 55\n",
      "\n",
      "----------------------------------------------------------------\n",
      "               |      Total   Std. err.     [95% conf. interval]\n",
      "---------------+------------------------------------------------\n",
      "Deaths_Missing |      34715       7591         19495       49935\n",
      "----------------------------------------------------------------\n",
      "\n",
      "Ratio estimation                            Number of obs = 55\n",
      "\n",
      "          CFR: Deaths_Missing/Cases_Missing\n",
      "\n",
      "--------------------------------------------------------------\n",
      "             |             Linearized\n",
      "             |      Ratio   std. err.     [95% conf. interval]\n",
      "-------------+------------------------------------------------\n",
      "         CFR |   .0036502     .00106      .0015251    .0057753\n",
      "--------------------------------------------------------------\n",
      "\n"
     ]
    }
   ],
   "source": [
    "%%stata -d df -force -qui\n",
    "foreach grp in Total White Black Latinx Other Missing {\n",
    "    count if mi(Cases_`grp',Deaths_`grp')\n",
    "    noi di as text _n \"Group: `grp' (`r(N)' missing)\"\n",
    "    if inrange(r(N),1,9) noi table State if mi(Cases_`grp',Deaths_`grp')\n",
    "    noi total Cases_`grp' if !mi(Cases_`grp',Deaths_`grp'), cformat(%8.0f)\n",
    "    noi total Deaths_`grp' if !mi(Cases_`grp',Deaths_`grp'), cformat(%8.0f)\n",
    "    noi ratio CFR: Deaths_`grp' / Cases_`grp' if !mi(Cases_`grp',Deaths_`grp')\n",
    "}"
   ]
  },
  {
   "cell_type": "markdown",
   "metadata": {},
   "source": [
    "### CFR Ratios Comparing Racial/Ethnic Groups"
   ]
  },
  {
   "cell_type": "markdown",
   "metadata": {},
   "source": [
    "Before computing the CFR ratios we need to reshape the data to long form."
   ]
  },
  {
   "cell_type": "code",
   "execution_count": 28,
   "metadata": {},
   "outputs": [
    {
     "name": "stdout",
     "output_type": "stream",
     "text": [
      "\n"
     ]
    }
   ],
   "source": [
    "%%stata -qui\n",
    "drop *_Total *_Other *_Missing\n",
    "reshape long Deaths_ Cases_, i(State) j(ethgrp) string\n",
    "gen n0 = Cases_ - Deaths_\n",
    "ren Deaths_ n1\n",
    "keep State ethgrp n0 n1\n",
    "reshape long n, i(State ethgrp) j(deceased)\n",
    "keep if inlist(ethgrp,\"Black\",\"Latinx\",\"Total\",\"White\")\n",
    "gen byte minority = inlist(ethgrp,\"Black\",\"Latinx\") if ethgrp!=\"Total\""
   ]
  },
  {
   "cell_type": "markdown",
   "metadata": {},
   "source": [
    "NY has no case counts by race/ethnicity, so we'll drop it."
   ]
  },
  {
   "cell_type": "code",
   "execution_count": 29,
   "metadata": {},
   "outputs": [
    {
     "name": "stdout",
     "output_type": "stream",
     "text": [
      "\n",
      "     +----------------------------------------------+\n",
      "     | State   ethgrp   deceased       n   minority |\n",
      "     |----------------------------------------------|\n",
      "223. |    NY    Black          0       .          1 |\n",
      "224. |    NY    Black          1    9448          1 |\n",
      "225. |    NY   Latinx          0       .          1 |\n",
      "226. |    NY   Latinx          1    9816          1 |\n",
      "227. |    NY    White          0       .          0 |\n",
      "     |----------------------------------------------|\n",
      "228. |    NY    White          1   16920          0 |\n",
      "     +----------------------------------------------+\n",
      "\n"
     ]
    }
   ],
   "source": [
    "%%stata -qui\n",
    "noi li if State==\"NY\"\n",
    "drop if State==\"NY\""
   ]
  },
  {
   "cell_type": "markdown",
   "metadata": {},
   "source": [
    "Calculate CFR ratio comparing Black to White, stratified by state. As above, we include only those states that reported deaths among Blacks."
   ]
  },
  {
   "cell_type": "code",
   "execution_count": 30,
   "metadata": {
    "tags": []
   },
   "outputs": [
    {
     "name": "stdout",
     "output_type": "stream",
     "text": [
      "\n",
      "  Effect-size label: Log risk-ratio\n",
      "        Effect size: _meta_es\n",
      "          Std. err.: _meta_se\n",
      "        Study label: State\n",
      "\n",
      "Meta-analysis summary                     Number of studies =     49\n",
      "Random-effects model                      Heterogeneity:\n",
      "Method: DerSimonian–Laird                             tau2 =  0.1142\n",
      "                                                    I2 (%) =   99.12\n",
      "                                                        H2 =  113.15\n",
      "\n",
      "--------------------------------------------------------------------\n",
      "            Study |     Risk ratio    [95% conf. interval]  % weight\n",
      "------------------+-------------------------------------------------\n",
      "               AK |          0.896       0.456       1.760      1.18\n",
      "               AL |          0.908       0.863       0.955      2.39\n",
      "               AR |          0.765       0.709       0.826      2.37\n",
      "               AZ |          0.643       0.584       0.709      2.35\n",
      "               CA |          0.971       0.936       1.009      2.39\n",
      "               CO |          0.716       0.621       0.827      2.29\n",
      "               CT |          0.727       0.678       0.779      2.37\n",
      "               DC |          3.849       3.143       4.713      2.19\n",
      "               DE |          0.692       0.611       0.784      2.32\n",
      "               FL |          0.776       0.751       0.801      2.39\n",
      "               GA |          0.870       0.840       0.900      2.39\n",
      "               HI |          0.677       0.242       1.893      0.70\n",
      "               IA |          0.494       0.416       0.587      2.25\n",
      "               ID |          0.513       0.267       0.985      1.22\n",
      "               IL |          1.272       1.227       1.320      2.39\n",
      "               IN |          1.051       0.983       1.124      2.38\n",
      "               KS |          0.919       0.805       1.049      2.31\n",
      "               KY |          0.965       0.867       1.074      2.34\n",
      "               LA |          1.033       0.992       1.076      2.39\n",
      "               MA |          0.551       0.518       0.586      2.38\n",
      "               MD |          0.811       0.773       0.851      2.39\n",
      "               ME |          0.282       0.151       0.525      1.27\n",
      "               MI |          1.648       1.588       1.709      2.39\n",
      "               MN |          0.492       0.440       0.551      2.33\n",
      "               MO |          1.233       1.154       1.317      2.38\n",
      "               MS |          1.050       0.999       1.103      2.39\n",
      "               MT |          0.165       0.023       1.174      0.25\n",
      "               NC |          1.124       1.075       1.175      2.39\n",
      "               NE |          0.871       0.671       1.131      2.08\n",
      "               NH |          0.517       0.293       0.910      1.39\n",
      "               NJ |          1.109       1.071       1.150      2.39\n",
      "               NM |          0.623       0.469       0.827      2.03\n",
      "               NV |          0.826       0.749       0.911      2.35\n",
      "               OH |          0.796       0.760       0.835      2.39\n",
      "               OK |          0.887       0.784       1.005      2.32\n",
      "               OR |          0.612       0.456       0.822      2.00\n",
      "               PA |          0.867       0.834       0.901      2.39\n",
      "               RI |          0.444       0.364       0.541      2.20\n",
      "               SC |          1.128       1.074       1.184      2.39\n",
      "               SD |          0.158       0.075       0.331      1.06\n",
      "               TN |          1.090       1.039       1.144      2.39\n",
      "               TX |          0.464       0.452       0.477      2.40\n",
      "               UT |          0.653       0.411       1.039      1.61\n",
      "               VA |          0.888       0.844       0.935      2.39\n",
      "               VT |          0.224       0.056       0.902      0.44\n",
      "               WA |          0.394       0.336       0.462      2.27\n",
      "               WI |          0.932       0.849       1.022      2.35\n",
      "               WV |          0.573       0.416       0.789      1.95\n",
      "               WY |          0.221       0.055       0.885      0.45\n",
      "------------------+-------------------------------------------------\n",
      "       exp(theta) |          0.791       0.714       0.876\n",
      "--------------------------------------------------------------------\n",
      "Test of theta = 0: z = -4.48                     Prob > |z| = 0.0000\n",
      "Test of homogeneity: Q = chi2(48) = 5431.08        Prob > Q = 0.0000\n",
      "\n"
     ]
    }
   ],
   "source": [
    "%%stata -qui\n",
    "drop minority\n",
    "reshape wide n, i(State deceased) j(ethgrp) string\n",
    "reshape wide nBlack nLatinx nWhite, i(State) j(deceased)\n",
    "meta esize nBlack1 nBlack0 nWhite1 nWhite0, esize(lnrratio) random(dlaird) studylabel(State)\n",
    "noi meta summarize if nWhite1 & nBlack1, rr"
   ]
  },
  {
   "cell_type": "markdown",
   "metadata": {},
   "source": [
    "CFR ratio comparing Latinx to White, stratified by state"
   ]
  },
  {
   "cell_type": "code",
   "execution_count": 31,
   "metadata": {},
   "outputs": [
    {
     "name": "stdout",
     "output_type": "stream",
     "text": [
      "\n",
      "  Effect-size label: Log risk-ratio\n",
      "        Effect size: _meta_es\n",
      "          Std. err.: _meta_se\n",
      "        Study label: State\n",
      "\n",
      "Meta-analysis summary                     Number of studies =     23\n",
      "Random-effects model                      Heterogeneity:\n",
      "Method: DerSimonian–Laird                             tau2 =  0.2575\n",
      "                                                    I2 (%) =   99.81\n",
      "                                                        H2 =  520.63\n",
      "\n",
      "--------------------------------------------------------------------\n",
      "            Study |     Risk ratio    [95% conf. interval]  % weight\n",
      "------------------+-------------------------------------------------\n",
      "               AZ |          0.733       0.707       0.760      4.46\n",
      "               CA |          0.531       0.520       0.541      4.46\n",
      "               CO |          0.471       0.441       0.502      4.44\n",
      "               CT |          0.292       0.271       0.315      4.44\n",
      "               DE |          0.223       0.177       0.281      4.23\n",
      "               FL |          0.461       0.449       0.474      4.46\n",
      "               GA |          0.357       0.333       0.383      4.44\n",
      "               IL |          0.571       0.550       0.594      4.46\n",
      "               MA |          0.183       0.173       0.194      4.45\n",
      "               MD |          0.384       0.355       0.415      4.43\n",
      "               MN |          0.272       0.236       0.314      4.37\n",
      "               MS |          0.355       0.275       0.459      4.18\n",
      "               NH |          0.242       0.160       0.366      3.81\n",
      "               NJ |          0.557       0.538       0.576      4.46\n",
      "               NM |          0.488       0.452       0.528      4.43\n",
      "               NV |          0.448       0.419       0.480      4.44\n",
      "               RI |          0.217       0.187       0.250      4.37\n",
      "               SD |          0.316       0.209       0.476      3.81\n",
      "               TX |          1.027       1.015       1.038      4.46\n",
      "               UT |          0.656       0.577       0.747      4.39\n",
      "               VA |          0.329       0.302       0.358      4.43\n",
      "               WA |          0.260       0.238       0.283      4.43\n",
      "               WY |          0.649       0.496       0.851      4.16\n",
      "------------------+-------------------------------------------------\n",
      "       exp(theta) |          0.399       0.323       0.492\n",
      "--------------------------------------------------------------------\n",
      "Test of theta = 0: z = -8.58                     Prob > |z| = 0.0000\n",
      "Test of homogeneity: Q = chi2(22) = 11453.97       Prob > Q = 0.0000\n",
      "\n"
     ]
    }
   ],
   "source": [
    "%%stata -qui\n",
    "meta esize nLatinx1 nLatinx0 nWhite1 nWhite0, esize(lnrratio) random(dlaird) studylabel(State)\n",
    "noi meta summarize if nWhite1 & nLatinx1, rr"
   ]
  }
 ],
 "metadata": {
  "kernelspec": {
   "display_name": "Python 3 (ipykernel)",
   "language": "python",
   "name": "python3"
  },
  "language_info": {
   "codemirror_mode": {
    "name": "ipython",
    "version": 3
   },
   "file_extension": ".py",
   "mimetype": "text/x-python",
   "name": "python",
   "nbconvert_exporter": "python",
   "pygments_lexer": "ipython3",
   "version": "3.8.9"
  },
  "toc-autonumbering": false,
  "toc-showcode": false,
  "toc-showmarkdowntxt": false
 },
 "nbformat": 4,
 "nbformat_minor": 4
}
