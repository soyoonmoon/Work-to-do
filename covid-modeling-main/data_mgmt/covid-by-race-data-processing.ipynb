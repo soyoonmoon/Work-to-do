{
 "cells": [
  {
   "cell_type": "markdown",
   "metadata": {
    "papermill": {
     "duration": 0.072538,
     "end_time": "2021-03-18T02:22:07.278274",
     "exception": false,
     "start_time": "2021-03-18T02:22:07.205736",
     "status": "completed"
    },
    "tags": []
   },
   "source": [
    "# Covid by race data processing"
   ]
  },
  {
   "cell_type": "markdown",
   "metadata": {
    "papermill": {
     "duration": 0.068284,
     "end_time": "2021-03-18T02:22:07.413857",
     "exception": false,
     "start_time": "2021-03-18T02:22:07.345573",
     "status": "completed"
    },
    "tags": []
   },
   "source": [
    "This notebook pre-processes a csv available from  https://covidtracking.com/race ."
   ]
  },
  {
   "cell_type": "markdown",
   "metadata": {
    "papermill": {
     "duration": 0.068472,
     "end_time": "2021-03-18T02:22:07.550148",
     "exception": false,
     "start_time": "2021-03-18T02:22:07.481676",
     "status": "completed"
    },
    "tags": []
   },
   "source": [
    "# Libraries"
   ]
  },
  {
   "cell_type": "code",
   "execution_count": 1,
   "metadata": {
    "_execution_state": "idle",
    "_uuid": "051d70d956493feee0c6d64651c6a088724dca2a",
    "execution": {
     "iopub.execute_input": "2021-03-18T02:22:07.721592Z",
     "iopub.status.busy": "2021-03-18T02:22:07.719307Z",
     "iopub.status.idle": "2021-03-18T02:22:09.653762Z",
     "shell.execute_reply": "2021-03-18T02:22:09.652257Z"
    },
    "papermill": {
     "duration": 2.034987,
     "end_time": "2021-03-18T02:22:09.654019",
     "exception": false,
     "start_time": "2021-03-18T02:22:07.619032",
     "status": "completed"
    },
    "tags": []
   },
   "outputs": [
    {
     "name": "stderr",
     "output_type": "stream",
     "text": [
      "── \u001b[1mAttaching packages\u001b[22m ─────────────────────────────────────── tidyverse 1.3.0 ──\n",
      "\n",
      "\u001b[32m✔\u001b[39m \u001b[34mggplot2\u001b[39m 3.3.2     \u001b[32m✔\u001b[39m \u001b[34mpurrr  \u001b[39m 0.3.4\n",
      "\u001b[32m✔\u001b[39m \u001b[34mtibble \u001b[39m 3.0.4     \u001b[32m✔\u001b[39m \u001b[34mdplyr  \u001b[39m 1.0.2\n",
      "\u001b[32m✔\u001b[39m \u001b[34mtidyr  \u001b[39m 1.1.2     \u001b[32m✔\u001b[39m \u001b[34mstringr\u001b[39m 1.4.0\n",
      "\u001b[32m✔\u001b[39m \u001b[34mreadr  \u001b[39m 1.4.0     \u001b[32m✔\u001b[39m \u001b[34mforcats\u001b[39m 0.5.0\n",
      "\n",
      "── \u001b[1mConflicts\u001b[22m ────────────────────────────────────────── tidyverse_conflicts() ──\n",
      "\u001b[31m✖\u001b[39m \u001b[34mdplyr\u001b[39m::\u001b[32mfilter()\u001b[39m masks \u001b[34mstats\u001b[39m::filter()\n",
      "\u001b[31m✖\u001b[39m \u001b[34mdplyr\u001b[39m::\u001b[32mlag()\u001b[39m    masks \u001b[34mstats\u001b[39m::lag()\n",
      "\n",
      "Loading required package: lubridate\n",
      "\n",
      "\n",
      "Attaching package: ‘lubridate’\n",
      "\n",
      "\n",
      "The following objects are masked from ‘package:base’:\n",
      "\n",
      "    date, intersect, setdiff, union\n",
      "\n",
      "\n",
      "Loading required package: PerformanceAnalytics\n",
      "\n",
      "Loading required package: xts\n",
      "\n",
      "Loading required package: zoo\n",
      "\n",
      "\n",
      "Attaching package: ‘zoo’\n",
      "\n",
      "\n",
      "The following objects are masked from ‘package:base’:\n",
      "\n",
      "    as.Date, as.Date.numeric\n",
      "\n",
      "\n",
      "\n",
      "Attaching package: ‘xts’\n",
      "\n",
      "\n",
      "The following objects are masked from ‘package:dplyr’:\n",
      "\n",
      "    first, last\n",
      "\n",
      "\n",
      "\n",
      "Attaching package: ‘PerformanceAnalytics’\n",
      "\n",
      "\n",
      "The following object is masked from ‘package:graphics’:\n",
      "\n",
      "    legend\n",
      "\n",
      "\n",
      "Loading required package: quantmod\n",
      "\n",
      "Loading required package: TTR\n",
      "\n",
      "Registered S3 method overwritten by 'quantmod':\n",
      "  method            from\n",
      "  as.zoo.data.frame zoo \n",
      "\n",
      "Version 0.4-0 included new data defaults. See ?getSymbols.\n",
      "\n",
      "\u001b[38;5;238m══\u001b[39m \u001b[38;5;238mNeed to Learn tidyquant?\u001b[39m \u001b[38;5;238m════════════════════════════════════════════════════\u001b[39m\u001b[38;5;32m\n",
      "Business Science offers a 1-hour course - Learning Lab #9: Performance Analysis & Portfolio Optimization with tidyquant!\n",
      "\u001b[39m\u001b[38;5;32m</> Learn more at: https://university.business-science.io/p/learning-labs-pro </>\u001b[39m\n",
      "\n"
     ]
    }
   ],
   "source": [
    "library(tidyverse)\n",
    "library(tidyquant)"
   ]
  },
  {
   "cell_type": "markdown",
   "metadata": {
    "papermill": {
     "duration": 0.073602,
     "end_time": "2021-03-18T02:22:09.817163",
     "exception": false,
     "start_time": "2021-03-18T02:22:09.743561",
     "status": "completed"
    },
    "tags": []
   },
   "source": [
    "# Input"
   ]
  },
  {
   "cell_type": "markdown",
   "metadata": {
    "papermill": {
     "duration": 0.074121,
     "end_time": "2021-03-18T02:22:09.965397",
     "exception": false,
     "start_time": "2021-03-18T02:22:09.891276",
     "status": "completed"
    },
    "tags": []
   },
   "source": [
    "## Read"
   ]
  },
  {
   "cell_type": "markdown",
   "metadata": {
    "papermill": {
     "duration": 0.076755,
     "end_time": "2021-03-18T02:22:10.117773",
     "exception": false,
     "start_time": "2021-03-18T02:22:10.041018",
     "status": "completed"
    },
    "tags": []
   },
   "source": [
    "**Go to https://covidtracking.com/race and update the link below.  It updates on every upload.**"
   ]
  },
  {
   "cell_type": "code",
   "execution_count": 2,
   "metadata": {
    "execution": {
     "iopub.execute_input": "2021-03-18T02:22:10.328510Z",
     "iopub.status.busy": "2021-03-18T02:22:10.273655Z",
     "iopub.status.idle": "2021-03-18T02:22:10.340663Z",
     "shell.execute_reply": "2021-03-18T02:22:10.339479Z"
    },
    "papermill": {
     "duration": 0.146844,
     "end_time": "2021-03-18T02:22:10.340830",
     "exception": false,
     "start_time": "2021-03-18T02:22:10.193986",
     "status": "completed"
    },
    "tags": []
   },
   "outputs": [],
   "source": [
    "url <- \"https://docs.google.com/spreadsheets/d/e/2PACX-1vS8SzaERcKJOD_EzrtCDK1dX1zkoMochlA9iHoHg_RSw3V8bkpfk1mpw4pfL5RdtSOyx_oScsUtyXyk/pub?gid=43720681&single=true&output=csv\""
   ]
  },
  {
   "cell_type": "code",
   "execution_count": 3,
   "metadata": {
    "execution": {
     "iopub.execute_input": "2021-03-18T02:22:10.494847Z",
     "iopub.status.busy": "2021-03-18T02:22:10.493022Z",
     "iopub.status.idle": "2021-03-18T02:22:19.721426Z",
     "shell.execute_reply": "2021-03-18T02:22:19.718482Z"
    },
    "papermill": {
     "duration": 9.306968,
     "end_time": "2021-03-18T02:22:19.721842",
     "exception": false,
     "start_time": "2021-03-18T02:22:10.414874",
     "status": "completed"
    },
    "tags": []
   },
   "outputs": [],
   "source": [
    "covidByStateRaw <- read_csv(url, col_types = cols(\n",
    "     .default = col_double(),\n",
    "     State = col_character()))"
   ]
  },
  {
   "cell_type": "markdown",
   "metadata": {
    "papermill": {
     "duration": 0.073882,
     "end_time": "2021-03-18T02:22:19.870784",
     "exception": false,
     "start_time": "2021-03-18T02:22:19.796902",
     "status": "completed"
    },
    "tags": []
   },
   "source": [
    "This is what it looks like-- a very wide data set with lots of columns."
   ]
  },
  {
   "cell_type": "code",
   "execution_count": 4,
   "metadata": {
    "execution": {
     "iopub.execute_input": "2021-03-18T02:22:20.024956Z",
     "iopub.status.busy": "2021-03-18T02:22:20.023150Z",
     "iopub.status.idle": "2021-03-18T02:22:20.062013Z",
     "shell.execute_reply": "2021-03-18T02:22:20.060672Z"
    },
    "papermill": {
     "duration": 0.117517,
     "end_time": "2021-03-18T02:22:20.062170",
     "exception": false,
     "start_time": "2021-03-18T02:22:19.944653",
     "status": "completed"
    },
    "tags": []
   },
   "outputs": [
    {
     "data": {
      "text/html": [
       "<table class=\"dataframe\">\n",
       "<caption>A tibble: 1 × 54</caption>\n",
       "<thead>\n",
       "\t<tr><th scope=col>Date</th><th scope=col>State</th><th scope=col>Cases_Total</th><th scope=col>Cases_White</th><th scope=col>Cases_Black</th><th scope=col>Cases_Latinx</th><th scope=col>Cases_Asian</th><th scope=col>Cases_AIAN</th><th scope=col>Cases_NHPI</th><th scope=col>Cases_Multiracial</th><th scope=col>⋯</th><th scope=col>Tests_Latinx</th><th scope=col>Tests_Asian</th><th scope=col>Tests_AIAN</th><th scope=col>Tests_NHPI</th><th scope=col>Tests_Multiracial</th><th scope=col>Tests_Other</th><th scope=col>Tests_Unknown</th><th scope=col>Tests_Ethnicity_Hispanic</th><th scope=col>Tests_Ethnicity_NonHispanic</th><th scope=col>Tests_Ethnicity_Unknown</th></tr>\n",
       "\t<tr><th scope=col>&lt;dbl&gt;</th><th scope=col>&lt;chr&gt;</th><th scope=col>&lt;dbl&gt;</th><th scope=col>&lt;dbl&gt;</th><th scope=col>&lt;dbl&gt;</th><th scope=col>&lt;dbl&gt;</th><th scope=col>&lt;dbl&gt;</th><th scope=col>&lt;dbl&gt;</th><th scope=col>&lt;dbl&gt;</th><th scope=col>&lt;dbl&gt;</th><th scope=col>⋯</th><th scope=col>&lt;dbl&gt;</th><th scope=col>&lt;dbl&gt;</th><th scope=col>&lt;dbl&gt;</th><th scope=col>&lt;dbl&gt;</th><th scope=col>&lt;dbl&gt;</th><th scope=col>&lt;dbl&gt;</th><th scope=col>&lt;dbl&gt;</th><th scope=col>&lt;dbl&gt;</th><th scope=col>&lt;dbl&gt;</th><th scope=col>&lt;dbl&gt;</th></tr>\n",
       "</thead>\n",
       "<tbody>\n",
       "\t<tr><td>20210307</td><td>AK</td><td>59332</td><td>18300</td><td>1499</td><td>NA</td><td>2447</td><td>12238</td><td>1508</td><td>4453</td><td>⋯</td><td>NA</td><td>NA</td><td>NA</td><td>NA</td><td>NA</td><td>NA</td><td>NA</td><td>NA</td><td>NA</td><td>NA</td></tr>\n",
       "</tbody>\n",
       "</table>\n"
      ],
      "text/latex": [
       "A tibble: 1 × 54\n",
       "\\begin{tabular}{lllllllllllllllllllll}\n",
       " Date & State & Cases\\_Total & Cases\\_White & Cases\\_Black & Cases\\_Latinx & Cases\\_Asian & Cases\\_AIAN & Cases\\_NHPI & Cases\\_Multiracial & ⋯ & Tests\\_Latinx & Tests\\_Asian & Tests\\_AIAN & Tests\\_NHPI & Tests\\_Multiracial & Tests\\_Other & Tests\\_Unknown & Tests\\_Ethnicity\\_Hispanic & Tests\\_Ethnicity\\_NonHispanic & Tests\\_Ethnicity\\_Unknown\\\\\n",
       " <dbl> & <chr> & <dbl> & <dbl> & <dbl> & <dbl> & <dbl> & <dbl> & <dbl> & <dbl> & ⋯ & <dbl> & <dbl> & <dbl> & <dbl> & <dbl> & <dbl> & <dbl> & <dbl> & <dbl> & <dbl>\\\\\n",
       "\\hline\n",
       "\t 20210307 & AK & 59332 & 18300 & 1499 & NA & 2447 & 12238 & 1508 & 4453 & ⋯ & NA & NA & NA & NA & NA & NA & NA & NA & NA & NA\\\\\n",
       "\\end{tabular}\n"
      ],
      "text/markdown": [
       "\n",
       "A tibble: 1 × 54\n",
       "\n",
       "| Date &lt;dbl&gt; | State &lt;chr&gt; | Cases_Total &lt;dbl&gt; | Cases_White &lt;dbl&gt; | Cases_Black &lt;dbl&gt; | Cases_Latinx &lt;dbl&gt; | Cases_Asian &lt;dbl&gt; | Cases_AIAN &lt;dbl&gt; | Cases_NHPI &lt;dbl&gt; | Cases_Multiracial &lt;dbl&gt; | ⋯ ⋯ | Tests_Latinx &lt;dbl&gt; | Tests_Asian &lt;dbl&gt; | Tests_AIAN &lt;dbl&gt; | Tests_NHPI &lt;dbl&gt; | Tests_Multiracial &lt;dbl&gt; | Tests_Other &lt;dbl&gt; | Tests_Unknown &lt;dbl&gt; | Tests_Ethnicity_Hispanic &lt;dbl&gt; | Tests_Ethnicity_NonHispanic &lt;dbl&gt; | Tests_Ethnicity_Unknown &lt;dbl&gt; |\n",
       "|---|---|---|---|---|---|---|---|---|---|---|---|---|---|---|---|---|---|---|---|---|\n",
       "| 20210307 | AK | 59332 | 18300 | 1499 | NA | 2447 | 12238 | 1508 | 4453 | ⋯ | NA | NA | NA | NA | NA | NA | NA | NA | NA | NA |\n",
       "\n"
      ],
      "text/plain": [
       "  Date     State Cases_Total Cases_White Cases_Black Cases_Latinx Cases_Asian\n",
       "1 20210307 AK    59332       18300       1499        NA           2447       \n",
       "  Cases_AIAN Cases_NHPI Cases_Multiracial ⋯ Tests_Latinx Tests_Asian Tests_AIAN\n",
       "1 12238      1508       4453              ⋯ NA           NA          NA        \n",
       "  Tests_NHPI Tests_Multiracial Tests_Other Tests_Unknown\n",
       "1 NA         NA                NA          NA           \n",
       "  Tests_Ethnicity_Hispanic Tests_Ethnicity_NonHispanic Tests_Ethnicity_Unknown\n",
       "1 NA                       NA                          NA                     "
      ]
     },
     "metadata": {},
     "output_type": "display_data"
    }
   ],
   "source": [
    "head(covidByStateRaw, 1)"
   ]
  },
  {
   "cell_type": "markdown",
   "metadata": {
    "papermill": {
     "duration": 0.073853,
     "end_time": "2021-03-18T02:22:20.209535",
     "exception": false,
     "start_time": "2021-03-18T02:22:20.135682",
     "status": "completed"
    },
    "tags": []
   },
   "source": [
    "## Pivoting"
   ]
  },
  {
   "cell_type": "markdown",
   "metadata": {
    "papermill": {
     "duration": 0.073852,
     "end_time": "2021-03-18T02:22:20.357149",
     "exception": false,
     "start_time": "2021-03-18T02:22:20.283297",
     "status": "completed"
    },
    "tags": []
   },
   "source": [
    "Pivoting: The data has a separate column for each race's covid cases and deaths.  That's a lot of columns.  The pivot turns the columns into rows, adding a new column, Race, to track which data is counted."
   ]
  },
  {
   "cell_type": "code",
   "execution_count": 5,
   "metadata": {
    "execution": {
     "iopub.execute_input": "2021-03-18T02:22:20.509137Z",
     "iopub.status.busy": "2021-03-18T02:22:20.508017Z",
     "iopub.status.idle": "2021-03-18T02:22:20.550843Z",
     "shell.execute_reply": "2021-03-18T02:22:20.549501Z"
    },
    "papermill": {
     "duration": 0.120387,
     "end_time": "2021-03-18T02:22:20.550996",
     "exception": false,
     "start_time": "2021-03-18T02:22:20.430609",
     "status": "completed"
    },
    "tags": []
   },
   "outputs": [],
   "source": [
    "keyCols <- c(\"Date\", \"State\")\n",
    "valCols <- c(\"Cases_White\", \"Cases_Black\", \"Cases_Latinx\", \"Cases_Asian\", \"Cases_AIAN\", \"Cases_NHPI\", \"Cases_Multiracial\", \"Cases_Other\", \"Cases_Unknown\")\n",
    "\n",
    "cases <- pivot_longer(covidByStateRaw[c(keyCols, valCols)], all_of(valCols), names_to=\"Race\", names_pattern = \"Cases_(.*)\", values_to=\"Cases\")"
   ]
  },
  {
   "cell_type": "code",
   "execution_count": null,
   "metadata": {
    "papermill": {
     "duration": 0.073783,
     "end_time": "2021-03-18T02:22:20.698609",
     "exception": false,
     "start_time": "2021-03-18T02:22:20.624826",
     "status": "completed"
    },
    "tags": []
   },
   "outputs": [],
   "source": []
  },
  {
   "cell_type": "markdown",
   "metadata": {
    "papermill": {
     "duration": 0.073981,
     "end_time": "2021-03-18T02:22:20.874444",
     "exception": false,
     "start_time": "2021-03-18T02:22:20.800463",
     "status": "completed"
    },
    "tags": []
   },
   "source": [
    "What it looks like now-- rows are good but lots of NA."
   ]
  },
  {
   "cell_type": "code",
   "execution_count": 6,
   "metadata": {
    "execution": {
     "iopub.execute_input": "2021-03-18T02:22:21.030860Z",
     "iopub.status.busy": "2021-03-18T02:22:21.029755Z",
     "iopub.status.idle": "2021-03-18T02:22:21.051238Z",
     "shell.execute_reply": "2021-03-18T02:22:21.049978Z"
    },
    "papermill": {
     "duration": 0.101394,
     "end_time": "2021-03-18T02:22:21.051395",
     "exception": false,
     "start_time": "2021-03-18T02:22:20.950001",
     "status": "completed"
    },
    "tags": []
   },
   "outputs": [
    {
     "data": {
      "text/html": [
       "<table class=\"dataframe\">\n",
       "<caption>A tibble: 6 × 4</caption>\n",
       "<thead>\n",
       "\t<tr><th scope=col>Date</th><th scope=col>State</th><th scope=col>Race</th><th scope=col>Cases</th></tr>\n",
       "\t<tr><th scope=col>&lt;dbl&gt;</th><th scope=col>&lt;chr&gt;</th><th scope=col>&lt;chr&gt;</th><th scope=col>&lt;dbl&gt;</th></tr>\n",
       "</thead>\n",
       "<tbody>\n",
       "\t<tr><td>20210307</td><td>AK</td><td>White </td><td>18300</td></tr>\n",
       "\t<tr><td>20210307</td><td>AK</td><td>Black </td><td> 1499</td></tr>\n",
       "\t<tr><td>20210307</td><td>AK</td><td>Latinx</td><td>   NA</td></tr>\n",
       "\t<tr><td>20210307</td><td>AK</td><td>Asian </td><td> 2447</td></tr>\n",
       "\t<tr><td>20210307</td><td>AK</td><td>AIAN  </td><td>12238</td></tr>\n",
       "\t<tr><td>20210307</td><td>AK</td><td>NHPI  </td><td> 1508</td></tr>\n",
       "</tbody>\n",
       "</table>\n"
      ],
      "text/latex": [
       "A tibble: 6 × 4\n",
       "\\begin{tabular}{llll}\n",
       " Date & State & Race & Cases\\\\\n",
       " <dbl> & <chr> & <chr> & <dbl>\\\\\n",
       "\\hline\n",
       "\t 20210307 & AK & White  & 18300\\\\\n",
       "\t 20210307 & AK & Black  &  1499\\\\\n",
       "\t 20210307 & AK & Latinx &    NA\\\\\n",
       "\t 20210307 & AK & Asian  &  2447\\\\\n",
       "\t 20210307 & AK & AIAN   & 12238\\\\\n",
       "\t 20210307 & AK & NHPI   &  1508\\\\\n",
       "\\end{tabular}\n"
      ],
      "text/markdown": [
       "\n",
       "A tibble: 6 × 4\n",
       "\n",
       "| Date &lt;dbl&gt; | State &lt;chr&gt; | Race &lt;chr&gt; | Cases &lt;dbl&gt; |\n",
       "|---|---|---|---|\n",
       "| 20210307 | AK | White  | 18300 |\n",
       "| 20210307 | AK | Black  |  1499 |\n",
       "| 20210307 | AK | Latinx |    NA |\n",
       "| 20210307 | AK | Asian  |  2447 |\n",
       "| 20210307 | AK | AIAN   | 12238 |\n",
       "| 20210307 | AK | NHPI   |  1508 |\n",
       "\n"
      ],
      "text/plain": [
       "  Date     State Race   Cases\n",
       "1 20210307 AK    White  18300\n",
       "2 20210307 AK    Black   1499\n",
       "3 20210307 AK    Latinx    NA\n",
       "4 20210307 AK    Asian   2447\n",
       "5 20210307 AK    AIAN   12238\n",
       "6 20210307 AK    NHPI    1508"
      ]
     },
     "metadata": {},
     "output_type": "display_data"
    }
   ],
   "source": [
    "head(cases, 6)"
   ]
  },
  {
   "cell_type": "markdown",
   "metadata": {
    "papermill": {
     "duration": 0.074673,
     "end_time": "2021-03-18T02:22:21.202426",
     "exception": false,
     "start_time": "2021-03-18T02:22:21.127753",
     "status": "completed"
    },
    "tags": []
   },
   "source": [
    "Do the same pivot for deaths"
   ]
  },
  {
   "cell_type": "code",
   "execution_count": 7,
   "metadata": {
    "execution": {
     "iopub.execute_input": "2021-03-18T02:22:21.357705Z",
     "iopub.status.busy": "2021-03-18T02:22:21.356013Z",
     "iopub.status.idle": "2021-03-18T02:22:21.389244Z",
     "shell.execute_reply": "2021-03-18T02:22:21.387834Z"
    },
    "papermill": {
     "duration": 0.11212,
     "end_time": "2021-03-18T02:22:21.389403",
     "exception": false,
     "start_time": "2021-03-18T02:22:21.277283",
     "status": "completed"
    },
    "tags": []
   },
   "outputs": [],
   "source": [
    "keyCols <- c(\"Date\", \"State\")\n",
    "valCols <- c(\"Deaths_White\", \"Deaths_Black\", \"Deaths_Latinx\", \"Deaths_Asian\", \"Deaths_AIAN\", \"Deaths_NHPI\", \"Deaths_Multiracial\", \"Deaths_Other\", \"Deaths_Unknown\")\n",
    "\n",
    "deaths <- pivot_longer(covidByStateRaw[c(keyCols, valCols)], all_of(valCols), names_to=\"Race\", names_pattern = \"Deaths_(.*)\", values_to=\"Deaths\")"
   ]
  },
  {
   "cell_type": "markdown",
   "metadata": {
    "papermill": {
     "duration": 0.074996,
     "end_time": "2021-03-18T02:22:21.539128",
     "exception": false,
     "start_time": "2021-03-18T02:22:21.464132",
     "status": "completed"
    },
    "tags": []
   },
   "source": [
    "Join the cases and deaths into one table."
   ]
  },
  {
   "cell_type": "code",
   "execution_count": 8,
   "metadata": {
    "execution": {
     "iopub.execute_input": "2021-03-18T02:22:21.696487Z",
     "iopub.status.busy": "2021-03-18T02:22:21.694623Z",
     "iopub.status.idle": "2021-03-18T02:22:21.773440Z",
     "shell.execute_reply": "2021-03-18T02:22:21.771795Z"
    },
    "papermill": {
     "duration": 0.158704,
     "end_time": "2021-03-18T02:22:21.773594",
     "exception": false,
     "start_time": "2021-03-18T02:22:21.614890",
     "status": "completed"
    },
    "tags": []
   },
   "outputs": [
    {
     "name": "stderr",
     "output_type": "stream",
     "text": [
      "Joining, by = c(\"Date\", \"State\", \"Race\")\n",
      "\n"
     ]
    },
    {
     "data": {
      "text/html": [
       "<table class=\"dataframe\">\n",
       "<caption>A tibble: 3 × 5</caption>\n",
       "<thead>\n",
       "\t<tr><th scope=col>Date</th><th scope=col>State</th><th scope=col>Race</th><th scope=col>Cases</th><th scope=col>Deaths</th></tr>\n",
       "\t<tr><th scope=col>&lt;dbl&gt;</th><th scope=col>&lt;chr&gt;</th><th scope=col>&lt;chr&gt;</th><th scope=col>&lt;dbl&gt;</th><th scope=col>&lt;dbl&gt;</th></tr>\n",
       "</thead>\n",
       "<tbody>\n",
       "\t<tr><td>20210307</td><td>AK</td><td>White </td><td>18300</td><td>127</td></tr>\n",
       "\t<tr><td>20210307</td><td>AK</td><td>Black </td><td> 1499</td><td>  9</td></tr>\n",
       "\t<tr><td>20210307</td><td>AK</td><td>Latinx</td><td>   NA</td><td> NA</td></tr>\n",
       "</tbody>\n",
       "</table>\n"
      ],
      "text/latex": [
       "A tibble: 3 × 5\n",
       "\\begin{tabular}{lllll}\n",
       " Date & State & Race & Cases & Deaths\\\\\n",
       " <dbl> & <chr> & <chr> & <dbl> & <dbl>\\\\\n",
       "\\hline\n",
       "\t 20210307 & AK & White  & 18300 & 127\\\\\n",
       "\t 20210307 & AK & Black  &  1499 &   9\\\\\n",
       "\t 20210307 & AK & Latinx &    NA &  NA\\\\\n",
       "\\end{tabular}\n"
      ],
      "text/markdown": [
       "\n",
       "A tibble: 3 × 5\n",
       "\n",
       "| Date &lt;dbl&gt; | State &lt;chr&gt; | Race &lt;chr&gt; | Cases &lt;dbl&gt; | Deaths &lt;dbl&gt; |\n",
       "|---|---|---|---|---|\n",
       "| 20210307 | AK | White  | 18300 | 127 |\n",
       "| 20210307 | AK | Black  |  1499 |   9 |\n",
       "| 20210307 | AK | Latinx |    NA |  NA |\n",
       "\n"
      ],
      "text/plain": [
       "  Date     State Race   Cases Deaths\n",
       "1 20210307 AK    White  18300 127   \n",
       "2 20210307 AK    Black   1499   9   \n",
       "3 20210307 AK    Latinx    NA  NA   "
      ]
     },
     "metadata": {},
     "output_type": "display_data"
    }
   ],
   "source": [
    "covidJoin <- full_join(cases, deaths)\n",
    "head(covidJoin, 3)"
   ]
  },
  {
   "cell_type": "markdown",
   "metadata": {
    "papermill": {
     "duration": 0.07821,
     "end_time": "2021-03-18T02:22:21.930882",
     "exception": false,
     "start_time": "2021-03-18T02:22:21.852672",
     "status": "completed"
    },
    "tags": []
   },
   "source": [
    "## Handling NA"
   ]
  },
  {
   "cell_type": "markdown",
   "metadata": {
    "papermill": {
     "duration": 0.076693,
     "end_time": "2021-03-18T02:22:22.084333",
     "exception": false,
     "start_time": "2021-03-18T02:22:22.007640",
     "status": "completed"
    },
    "tags": []
   },
   "source": [
    "Let's focus on a subset of data-- Arkansas for AIAN race-- to see how the NAs will be handled."
   ]
  },
  {
   "cell_type": "code",
   "execution_count": 9,
   "metadata": {
    "execution": {
     "iopub.execute_input": "2021-03-18T02:22:22.242962Z",
     "iopub.status.busy": "2021-03-18T02:22:22.241301Z",
     "iopub.status.idle": "2021-03-18T02:22:22.256054Z",
     "shell.execute_reply": "2021-03-18T02:22:22.254480Z"
    },
    "papermill": {
     "duration": 0.095792,
     "end_time": "2021-03-18T02:22:22.256249",
     "exception": false,
     "start_time": "2021-03-18T02:22:22.160457",
     "status": "completed"
    },
    "tags": []
   },
   "outputs": [],
   "source": [
    "covidClean <- covidJoin"
   ]
  },
  {
   "cell_type": "code",
   "execution_count": 10,
   "metadata": {
    "execution": {
     "iopub.execute_input": "2021-03-18T02:22:22.415293Z",
     "iopub.status.busy": "2021-03-18T02:22:22.413630Z",
     "iopub.status.idle": "2021-03-18T02:22:22.451724Z",
     "shell.execute_reply": "2021-03-18T02:22:22.450463Z"
    },
    "papermill": {
     "duration": 0.118792,
     "end_time": "2021-03-18T02:22:22.451879",
     "exception": false,
     "start_time": "2021-03-18T02:22:22.333087",
     "status": "completed"
    },
    "tags": []
   },
   "outputs": [
    {
     "data": {
      "text/html": [
       "<table class=\"dataframe\">\n",
       "<caption>A tibble: 15 × 5</caption>\n",
       "<thead>\n",
       "\t<tr><th scope=col>Date</th><th scope=col>State</th><th scope=col>Race</th><th scope=col>Cases</th><th scope=col>Deaths</th></tr>\n",
       "\t<tr><th scope=col>&lt;dbl&gt;</th><th scope=col>&lt;chr&gt;</th><th scope=col>&lt;chr&gt;</th><th scope=col>&lt;dbl&gt;</th><th scope=col>&lt;dbl&gt;</th></tr>\n",
       "</thead>\n",
       "<tbody>\n",
       "\t<tr><td>20200412</td><td>AK</td><td>AIAN</td><td>NA</td><td>NA</td></tr>\n",
       "\t<tr><td>20200415</td><td>AK</td><td>AIAN</td><td>13</td><td> 2</td></tr>\n",
       "\t<tr><td>20200419</td><td>AK</td><td>AIAN</td><td>14</td><td> 2</td></tr>\n",
       "\t<tr><td>20200422</td><td>AK</td><td>AIAN</td><td>18</td><td> 2</td></tr>\n",
       "\t<tr><td>20200426</td><td>AK</td><td>AIAN</td><td>18</td><td> 2</td></tr>\n",
       "\t<tr><td>20200429</td><td>AK</td><td>AIAN</td><td>19</td><td>NA</td></tr>\n",
       "\t<tr><td>20200503</td><td>AK</td><td>AIAN</td><td>22</td><td>NA</td></tr>\n",
       "\t<tr><td>20200506</td><td>AK</td><td>AIAN</td><td>22</td><td>NA</td></tr>\n",
       "\t<tr><td>20200510</td><td>AK</td><td>AIAN</td><td>24</td><td>NA</td></tr>\n",
       "\t<tr><td>20200513</td><td>AK</td><td>AIAN</td><td>24</td><td>NA</td></tr>\n",
       "\t<tr><td>20200517</td><td>AK</td><td>AIAN</td><td>29</td><td>NA</td></tr>\n",
       "\t<tr><td>20200520</td><td>AK</td><td>AIAN</td><td>31</td><td>NA</td></tr>\n",
       "\t<tr><td>20200524</td><td>AK</td><td>AIAN</td><td>33</td><td>NA</td></tr>\n",
       "\t<tr><td>20200527</td><td>AK</td><td>AIAN</td><td>36</td><td> 2</td></tr>\n",
       "\t<tr><td>20200531</td><td>AK</td><td>AIAN</td><td>41</td><td> 2</td></tr>\n",
       "</tbody>\n",
       "</table>\n"
      ],
      "text/latex": [
       "A tibble: 15 × 5\n",
       "\\begin{tabular}{lllll}\n",
       " Date & State & Race & Cases & Deaths\\\\\n",
       " <dbl> & <chr> & <chr> & <dbl> & <dbl>\\\\\n",
       "\\hline\n",
       "\t 20200412 & AK & AIAN & NA & NA\\\\\n",
       "\t 20200415 & AK & AIAN & 13 &  2\\\\\n",
       "\t 20200419 & AK & AIAN & 14 &  2\\\\\n",
       "\t 20200422 & AK & AIAN & 18 &  2\\\\\n",
       "\t 20200426 & AK & AIAN & 18 &  2\\\\\n",
       "\t 20200429 & AK & AIAN & 19 & NA\\\\\n",
       "\t 20200503 & AK & AIAN & 22 & NA\\\\\n",
       "\t 20200506 & AK & AIAN & 22 & NA\\\\\n",
       "\t 20200510 & AK & AIAN & 24 & NA\\\\\n",
       "\t 20200513 & AK & AIAN & 24 & NA\\\\\n",
       "\t 20200517 & AK & AIAN & 29 & NA\\\\\n",
       "\t 20200520 & AK & AIAN & 31 & NA\\\\\n",
       "\t 20200524 & AK & AIAN & 33 & NA\\\\\n",
       "\t 20200527 & AK & AIAN & 36 &  2\\\\\n",
       "\t 20200531 & AK & AIAN & 41 &  2\\\\\n",
       "\\end{tabular}\n"
      ],
      "text/markdown": [
       "\n",
       "A tibble: 15 × 5\n",
       "\n",
       "| Date &lt;dbl&gt; | State &lt;chr&gt; | Race &lt;chr&gt; | Cases &lt;dbl&gt; | Deaths &lt;dbl&gt; |\n",
       "|---|---|---|---|---|\n",
       "| 20200412 | AK | AIAN | NA | NA |\n",
       "| 20200415 | AK | AIAN | 13 |  2 |\n",
       "| 20200419 | AK | AIAN | 14 |  2 |\n",
       "| 20200422 | AK | AIAN | 18 |  2 |\n",
       "| 20200426 | AK | AIAN | 18 |  2 |\n",
       "| 20200429 | AK | AIAN | 19 | NA |\n",
       "| 20200503 | AK | AIAN | 22 | NA |\n",
       "| 20200506 | AK | AIAN | 22 | NA |\n",
       "| 20200510 | AK | AIAN | 24 | NA |\n",
       "| 20200513 | AK | AIAN | 24 | NA |\n",
       "| 20200517 | AK | AIAN | 29 | NA |\n",
       "| 20200520 | AK | AIAN | 31 | NA |\n",
       "| 20200524 | AK | AIAN | 33 | NA |\n",
       "| 20200527 | AK | AIAN | 36 |  2 |\n",
       "| 20200531 | AK | AIAN | 41 |  2 |\n",
       "\n"
      ],
      "text/plain": [
       "   Date     State Race Cases Deaths\n",
       "1  20200412 AK    AIAN NA    NA    \n",
       "2  20200415 AK    AIAN 13     2    \n",
       "3  20200419 AK    AIAN 14     2    \n",
       "4  20200422 AK    AIAN 18     2    \n",
       "5  20200426 AK    AIAN 18     2    \n",
       "6  20200429 AK    AIAN 19    NA    \n",
       "7  20200503 AK    AIAN 22    NA    \n",
       "8  20200506 AK    AIAN 22    NA    \n",
       "9  20200510 AK    AIAN 24    NA    \n",
       "10 20200513 AK    AIAN 24    NA    \n",
       "11 20200517 AK    AIAN 29    NA    \n",
       "12 20200520 AK    AIAN 31    NA    \n",
       "13 20200524 AK    AIAN 33    NA    \n",
       "14 20200527 AK    AIAN 36     2    \n",
       "15 20200531 AK    AIAN 41     2    "
      ]
     },
     "metadata": {},
     "output_type": "display_data"
    }
   ],
   "source": [
    "tmp <- covidClean[covidClean$State==\"AK\",]\n",
    "head(tmp[tmp$Race==\"AIAN\",] %>% arrange(Date), 15)"
   ]
  },
  {
   "cell_type": "markdown",
   "metadata": {
    "papermill": {
     "duration": 0.079212,
     "end_time": "2021-03-18T02:22:22.609991",
     "exception": false,
     "start_time": "2021-03-18T02:22:22.530779",
     "status": "completed"
    },
    "tags": []
   },
   "source": [
    "Apply the fill function to replace an NA with a value from the previous date, if it had a value.  (An alternative would have been to interpolate, but let's keep it simple for now.)****"
   ]
  },
  {
   "cell_type": "code",
   "execution_count": 11,
   "metadata": {
    "execution": {
     "iopub.execute_input": "2021-03-18T02:22:22.774270Z",
     "iopub.status.busy": "2021-03-18T02:22:22.772832Z",
     "iopub.status.idle": "2021-03-18T02:22:22.969954Z",
     "shell.execute_reply": "2021-03-18T02:22:22.968909Z"
    },
    "papermill": {
     "duration": 0.281578,
     "end_time": "2021-03-18T02:22:22.970104",
     "exception": false,
     "start_time": "2021-03-18T02:22:22.688526",
     "status": "completed"
    },
    "tags": []
   },
   "outputs": [],
   "source": [
    "covidClean <- covidClean %>% group_by(State, Race) %>% arrange(Date, .by_group = TRUE) %>% fill(Cases, Deaths, .direction = \"down\")"
   ]
  },
  {
   "cell_type": "markdown",
   "metadata": {
    "papermill": {
     "duration": 0.078751,
     "end_time": "2021-03-18T02:22:23.127864",
     "exception": false,
     "start_time": "2021-03-18T02:22:23.049113",
     "status": "completed"
    },
    "tags": []
   },
   "source": [
    "Here's the Arkansas AIAN data-- all NAs gone except at the start.\n",
    "* The stretch of NA's in Deaths from 20200429 to 20200524 has been filled in with 2's, the value last seen (on 20200426)."
   ]
  },
  {
   "cell_type": "code",
   "execution_count": 12,
   "metadata": {
    "execution": {
     "iopub.execute_input": "2021-03-18T02:22:23.288557Z",
     "iopub.status.busy": "2021-03-18T02:22:23.287348Z",
     "iopub.status.idle": "2021-03-18T02:22:23.345334Z",
     "shell.execute_reply": "2021-03-18T02:22:23.344148Z"
    },
    "papermill": {
     "duration": 0.13947,
     "end_time": "2021-03-18T02:22:23.345490",
     "exception": false,
     "start_time": "2021-03-18T02:22:23.206020",
     "status": "completed"
    },
    "tags": []
   },
   "outputs": [
    {
     "data": {
      "text/html": [
       "<table class=\"dataframe\">\n",
       "<caption>A grouped_df: 15 × 5</caption>\n",
       "<thead>\n",
       "\t<tr><th scope=col>Date</th><th scope=col>State</th><th scope=col>Race</th><th scope=col>Cases</th><th scope=col>Deaths</th></tr>\n",
       "\t<tr><th scope=col>&lt;dbl&gt;</th><th scope=col>&lt;chr&gt;</th><th scope=col>&lt;chr&gt;</th><th scope=col>&lt;dbl&gt;</th><th scope=col>&lt;dbl&gt;</th></tr>\n",
       "</thead>\n",
       "<tbody>\n",
       "\t<tr><td>20200412</td><td>AK</td><td>AIAN</td><td>NA</td><td>NA</td></tr>\n",
       "\t<tr><td>20200415</td><td>AK</td><td>AIAN</td><td>13</td><td> 2</td></tr>\n",
       "\t<tr><td>20200419</td><td>AK</td><td>AIAN</td><td>14</td><td> 2</td></tr>\n",
       "\t<tr><td>20200422</td><td>AK</td><td>AIAN</td><td>18</td><td> 2</td></tr>\n",
       "\t<tr><td>20200426</td><td>AK</td><td>AIAN</td><td>18</td><td> 2</td></tr>\n",
       "\t<tr><td>20200429</td><td>AK</td><td>AIAN</td><td>19</td><td> 2</td></tr>\n",
       "\t<tr><td>20200503</td><td>AK</td><td>AIAN</td><td>22</td><td> 2</td></tr>\n",
       "\t<tr><td>20200506</td><td>AK</td><td>AIAN</td><td>22</td><td> 2</td></tr>\n",
       "\t<tr><td>20200510</td><td>AK</td><td>AIAN</td><td>24</td><td> 2</td></tr>\n",
       "\t<tr><td>20200513</td><td>AK</td><td>AIAN</td><td>24</td><td> 2</td></tr>\n",
       "\t<tr><td>20200517</td><td>AK</td><td>AIAN</td><td>29</td><td> 2</td></tr>\n",
       "\t<tr><td>20200520</td><td>AK</td><td>AIAN</td><td>31</td><td> 2</td></tr>\n",
       "\t<tr><td>20200524</td><td>AK</td><td>AIAN</td><td>33</td><td> 2</td></tr>\n",
       "\t<tr><td>20200527</td><td>AK</td><td>AIAN</td><td>36</td><td> 2</td></tr>\n",
       "\t<tr><td>20200531</td><td>AK</td><td>AIAN</td><td>41</td><td> 2</td></tr>\n",
       "</tbody>\n",
       "</table>\n"
      ],
      "text/latex": [
       "A grouped\\_df: 15 × 5\n",
       "\\begin{tabular}{lllll}\n",
       " Date & State & Race & Cases & Deaths\\\\\n",
       " <dbl> & <chr> & <chr> & <dbl> & <dbl>\\\\\n",
       "\\hline\n",
       "\t 20200412 & AK & AIAN & NA & NA\\\\\n",
       "\t 20200415 & AK & AIAN & 13 &  2\\\\\n",
       "\t 20200419 & AK & AIAN & 14 &  2\\\\\n",
       "\t 20200422 & AK & AIAN & 18 &  2\\\\\n",
       "\t 20200426 & AK & AIAN & 18 &  2\\\\\n",
       "\t 20200429 & AK & AIAN & 19 &  2\\\\\n",
       "\t 20200503 & AK & AIAN & 22 &  2\\\\\n",
       "\t 20200506 & AK & AIAN & 22 &  2\\\\\n",
       "\t 20200510 & AK & AIAN & 24 &  2\\\\\n",
       "\t 20200513 & AK & AIAN & 24 &  2\\\\\n",
       "\t 20200517 & AK & AIAN & 29 &  2\\\\\n",
       "\t 20200520 & AK & AIAN & 31 &  2\\\\\n",
       "\t 20200524 & AK & AIAN & 33 &  2\\\\\n",
       "\t 20200527 & AK & AIAN & 36 &  2\\\\\n",
       "\t 20200531 & AK & AIAN & 41 &  2\\\\\n",
       "\\end{tabular}\n"
      ],
      "text/markdown": [
       "\n",
       "A grouped_df: 15 × 5\n",
       "\n",
       "| Date &lt;dbl&gt; | State &lt;chr&gt; | Race &lt;chr&gt; | Cases &lt;dbl&gt; | Deaths &lt;dbl&gt; |\n",
       "|---|---|---|---|---|\n",
       "| 20200412 | AK | AIAN | NA | NA |\n",
       "| 20200415 | AK | AIAN | 13 |  2 |\n",
       "| 20200419 | AK | AIAN | 14 |  2 |\n",
       "| 20200422 | AK | AIAN | 18 |  2 |\n",
       "| 20200426 | AK | AIAN | 18 |  2 |\n",
       "| 20200429 | AK | AIAN | 19 |  2 |\n",
       "| 20200503 | AK | AIAN | 22 |  2 |\n",
       "| 20200506 | AK | AIAN | 22 |  2 |\n",
       "| 20200510 | AK | AIAN | 24 |  2 |\n",
       "| 20200513 | AK | AIAN | 24 |  2 |\n",
       "| 20200517 | AK | AIAN | 29 |  2 |\n",
       "| 20200520 | AK | AIAN | 31 |  2 |\n",
       "| 20200524 | AK | AIAN | 33 |  2 |\n",
       "| 20200527 | AK | AIAN | 36 |  2 |\n",
       "| 20200531 | AK | AIAN | 41 |  2 |\n",
       "\n"
      ],
      "text/plain": [
       "   Date     State Race Cases Deaths\n",
       "1  20200412 AK    AIAN NA    NA    \n",
       "2  20200415 AK    AIAN 13     2    \n",
       "3  20200419 AK    AIAN 14     2    \n",
       "4  20200422 AK    AIAN 18     2    \n",
       "5  20200426 AK    AIAN 18     2    \n",
       "6  20200429 AK    AIAN 19     2    \n",
       "7  20200503 AK    AIAN 22     2    \n",
       "8  20200506 AK    AIAN 22     2    \n",
       "9  20200510 AK    AIAN 24     2    \n",
       "10 20200513 AK    AIAN 24     2    \n",
       "11 20200517 AK    AIAN 29     2    \n",
       "12 20200520 AK    AIAN 31     2    \n",
       "13 20200524 AK    AIAN 33     2    \n",
       "14 20200527 AK    AIAN 36     2    \n",
       "15 20200531 AK    AIAN 41     2    "
      ]
     },
     "metadata": {},
     "output_type": "display_data"
    }
   ],
   "source": [
    "tmp <- covidClean[covidClean$State==\"AK\",]\n",
    "head(tmp[tmp$Race==\"AIAN\",] %>% arrange(Date), 15)"
   ]
  },
  {
   "cell_type": "markdown",
   "metadata": {
    "papermill": {
     "duration": 0.079767,
     "end_time": "2021-03-18T02:22:23.507361",
     "exception": false,
     "start_time": "2021-03-18T02:22:23.427594",
     "status": "completed"
    },
    "tags": []
   },
   "source": [
    "The NA at the start might be zero... but I think it's more likely the same as the most recent data.  For example, a jump in cases from 0 to 13 seems less likely to me than staying at 13.  This requires a fill in the direction \"up\" rather than \"down.\""
   ]
  },
  {
   "cell_type": "code",
   "execution_count": 13,
   "metadata": {
    "execution": {
     "iopub.execute_input": "2021-03-18T02:22:23.675747Z",
     "iopub.status.busy": "2021-03-18T02:22:23.674398Z",
     "iopub.status.idle": "2021-03-18T02:22:23.758378Z",
     "shell.execute_reply": "2021-03-18T02:22:23.756794Z"
    },
    "papermill": {
     "duration": 0.168868,
     "end_time": "2021-03-18T02:22:23.758550",
     "exception": false,
     "start_time": "2021-03-18T02:22:23.589682",
     "status": "completed"
    },
    "tags": []
   },
   "outputs": [],
   "source": [
    "covidClean <- covidClean %>% group_by(State, Race) %>% arrange(Date, .by_group = TRUE) %>% fill(Cases, Deaths, .direction = \"up\")"
   ]
  },
  {
   "cell_type": "markdown",
   "metadata": {
    "papermill": {
     "duration": 0.079989,
     "end_time": "2021-03-18T02:22:23.918297",
     "exception": false,
     "start_time": "2021-03-18T02:22:23.838308",
     "status": "completed"
    },
    "tags": []
   },
   "source": [
    "Now let's look again at that Arkansas AIAN data."
   ]
  },
  {
   "cell_type": "code",
   "execution_count": 14,
   "metadata": {
    "execution": {
     "iopub.execute_input": "2021-03-18T02:22:24.082002Z",
     "iopub.status.busy": "2021-03-18T02:22:24.080626Z",
     "iopub.status.idle": "2021-03-18T02:22:24.132176Z",
     "shell.execute_reply": "2021-03-18T02:22:24.131031Z"
    },
    "papermill": {
     "duration": 0.134714,
     "end_time": "2021-03-18T02:22:24.132356",
     "exception": false,
     "start_time": "2021-03-18T02:22:23.997642",
     "status": "completed"
    },
    "tags": []
   },
   "outputs": [
    {
     "data": {
      "text/html": [
       "<table class=\"dataframe\">\n",
       "<caption>A grouped_df: 15 × 5</caption>\n",
       "<thead>\n",
       "\t<tr><th scope=col>Date</th><th scope=col>State</th><th scope=col>Race</th><th scope=col>Cases</th><th scope=col>Deaths</th></tr>\n",
       "\t<tr><th scope=col>&lt;dbl&gt;</th><th scope=col>&lt;chr&gt;</th><th scope=col>&lt;chr&gt;</th><th scope=col>&lt;dbl&gt;</th><th scope=col>&lt;dbl&gt;</th></tr>\n",
       "</thead>\n",
       "<tbody>\n",
       "\t<tr><td>20200412</td><td>AK</td><td>AIAN</td><td>13</td><td>2</td></tr>\n",
       "\t<tr><td>20200415</td><td>AK</td><td>AIAN</td><td>13</td><td>2</td></tr>\n",
       "\t<tr><td>20200419</td><td>AK</td><td>AIAN</td><td>14</td><td>2</td></tr>\n",
       "\t<tr><td>20200422</td><td>AK</td><td>AIAN</td><td>18</td><td>2</td></tr>\n",
       "\t<tr><td>20200426</td><td>AK</td><td>AIAN</td><td>18</td><td>2</td></tr>\n",
       "\t<tr><td>20200429</td><td>AK</td><td>AIAN</td><td>19</td><td>2</td></tr>\n",
       "\t<tr><td>20200503</td><td>AK</td><td>AIAN</td><td>22</td><td>2</td></tr>\n",
       "\t<tr><td>20200506</td><td>AK</td><td>AIAN</td><td>22</td><td>2</td></tr>\n",
       "\t<tr><td>20200510</td><td>AK</td><td>AIAN</td><td>24</td><td>2</td></tr>\n",
       "\t<tr><td>20200513</td><td>AK</td><td>AIAN</td><td>24</td><td>2</td></tr>\n",
       "\t<tr><td>20200517</td><td>AK</td><td>AIAN</td><td>29</td><td>2</td></tr>\n",
       "\t<tr><td>20200520</td><td>AK</td><td>AIAN</td><td>31</td><td>2</td></tr>\n",
       "\t<tr><td>20200524</td><td>AK</td><td>AIAN</td><td>33</td><td>2</td></tr>\n",
       "\t<tr><td>20200527</td><td>AK</td><td>AIAN</td><td>36</td><td>2</td></tr>\n",
       "\t<tr><td>20200531</td><td>AK</td><td>AIAN</td><td>41</td><td>2</td></tr>\n",
       "</tbody>\n",
       "</table>\n"
      ],
      "text/latex": [
       "A grouped\\_df: 15 × 5\n",
       "\\begin{tabular}{lllll}\n",
       " Date & State & Race & Cases & Deaths\\\\\n",
       " <dbl> & <chr> & <chr> & <dbl> & <dbl>\\\\\n",
       "\\hline\n",
       "\t 20200412 & AK & AIAN & 13 & 2\\\\\n",
       "\t 20200415 & AK & AIAN & 13 & 2\\\\\n",
       "\t 20200419 & AK & AIAN & 14 & 2\\\\\n",
       "\t 20200422 & AK & AIAN & 18 & 2\\\\\n",
       "\t 20200426 & AK & AIAN & 18 & 2\\\\\n",
       "\t 20200429 & AK & AIAN & 19 & 2\\\\\n",
       "\t 20200503 & AK & AIAN & 22 & 2\\\\\n",
       "\t 20200506 & AK & AIAN & 22 & 2\\\\\n",
       "\t 20200510 & AK & AIAN & 24 & 2\\\\\n",
       "\t 20200513 & AK & AIAN & 24 & 2\\\\\n",
       "\t 20200517 & AK & AIAN & 29 & 2\\\\\n",
       "\t 20200520 & AK & AIAN & 31 & 2\\\\\n",
       "\t 20200524 & AK & AIAN & 33 & 2\\\\\n",
       "\t 20200527 & AK & AIAN & 36 & 2\\\\\n",
       "\t 20200531 & AK & AIAN & 41 & 2\\\\\n",
       "\\end{tabular}\n"
      ],
      "text/markdown": [
       "\n",
       "A grouped_df: 15 × 5\n",
       "\n",
       "| Date &lt;dbl&gt; | State &lt;chr&gt; | Race &lt;chr&gt; | Cases &lt;dbl&gt; | Deaths &lt;dbl&gt; |\n",
       "|---|---|---|---|---|\n",
       "| 20200412 | AK | AIAN | 13 | 2 |\n",
       "| 20200415 | AK | AIAN | 13 | 2 |\n",
       "| 20200419 | AK | AIAN | 14 | 2 |\n",
       "| 20200422 | AK | AIAN | 18 | 2 |\n",
       "| 20200426 | AK | AIAN | 18 | 2 |\n",
       "| 20200429 | AK | AIAN | 19 | 2 |\n",
       "| 20200503 | AK | AIAN | 22 | 2 |\n",
       "| 20200506 | AK | AIAN | 22 | 2 |\n",
       "| 20200510 | AK | AIAN | 24 | 2 |\n",
       "| 20200513 | AK | AIAN | 24 | 2 |\n",
       "| 20200517 | AK | AIAN | 29 | 2 |\n",
       "| 20200520 | AK | AIAN | 31 | 2 |\n",
       "| 20200524 | AK | AIAN | 33 | 2 |\n",
       "| 20200527 | AK | AIAN | 36 | 2 |\n",
       "| 20200531 | AK | AIAN | 41 | 2 |\n",
       "\n"
      ],
      "text/plain": [
       "   Date     State Race Cases Deaths\n",
       "1  20200412 AK    AIAN 13    2     \n",
       "2  20200415 AK    AIAN 13    2     \n",
       "3  20200419 AK    AIAN 14    2     \n",
       "4  20200422 AK    AIAN 18    2     \n",
       "5  20200426 AK    AIAN 18    2     \n",
       "6  20200429 AK    AIAN 19    2     \n",
       "7  20200503 AK    AIAN 22    2     \n",
       "8  20200506 AK    AIAN 22    2     \n",
       "9  20200510 AK    AIAN 24    2     \n",
       "10 20200513 AK    AIAN 24    2     \n",
       "11 20200517 AK    AIAN 29    2     \n",
       "12 20200520 AK    AIAN 31    2     \n",
       "13 20200524 AK    AIAN 33    2     \n",
       "14 20200527 AK    AIAN 36    2     \n",
       "15 20200531 AK    AIAN 41    2     "
      ]
     },
     "metadata": {},
     "output_type": "display_data"
    }
   ],
   "source": [
    "tmp <- covidClean[covidClean$State==\"AK\",]\n",
    "head(tmp[tmp$Race==\"AIAN\",] %>% arrange(Date), 15)"
   ]
  },
  {
   "cell_type": "markdown",
   "metadata": {
    "papermill": {
     "duration": 0.079747,
     "end_time": "2021-03-18T02:22:24.292795",
     "exception": false,
     "start_time": "2021-03-18T02:22:24.213048",
     "status": "completed"
    },
    "tags": []
   },
   "source": [
    "## Weekly"
   ]
  },
  {
   "cell_type": "markdown",
   "metadata": {
    "papermill": {
     "duration": 0.080537,
     "end_time": "2021-03-18T02:22:24.452569",
     "exception": false,
     "start_time": "2021-03-18T02:22:24.372032",
     "status": "completed"
    },
    "tags": []
   },
   "source": [
    "You might have noticed gaps in days in the Date column.  In fact only certain days of the week are available-- Sundays and Wednesdays."
   ]
  },
  {
   "cell_type": "code",
   "execution_count": 15,
   "metadata": {
    "execution": {
     "iopub.execute_input": "2021-03-18T02:22:24.619358Z",
     "iopub.status.busy": "2021-03-18T02:22:24.618070Z",
     "iopub.status.idle": "2021-03-18T02:22:24.775419Z",
     "shell.execute_reply": "2021-03-18T02:22:24.773983Z"
    },
    "papermill": {
     "duration": 0.242815,
     "end_time": "2021-03-18T02:22:24.775606",
     "exception": false,
     "start_time": "2021-03-18T02:22:24.532791",
     "status": "completed"
    },
    "tags": []
   },
   "outputs": [
    {
     "data": {
      "text/html": [
       "<style>\n",
       ".list-inline {list-style: none; margin:0; padding: 0}\n",
       ".list-inline>li {display: inline-block}\n",
       ".list-inline>li:not(:last-child)::after {content: \"\\00b7\"; padding: 0 .5ex}\n",
       "</style>\n",
       "<ol class=list-inline><li>'Sunday'</li><li>'Wednesday'</li></ol>\n"
      ],
      "text/latex": [
       "\\begin{enumerate*}\n",
       "\\item 'Sunday'\n",
       "\\item 'Wednesday'\n",
       "\\end{enumerate*}\n"
      ],
      "text/markdown": [
       "1. 'Sunday'\n",
       "2. 'Wednesday'\n",
       "\n",
       "\n"
      ],
      "text/plain": [
       "[1] \"Sunday\"    \"Wednesday\""
      ]
     },
     "metadata": {},
     "output_type": "display_data"
    }
   ],
   "source": [
    "covidDay <- covidClean\n",
    "covidDay[[\"DateAsDate\"]] <- as.Date(as.character(covidDay[[\"Date\"]]), \"%Y%m%d\")\n",
    "covidDay[[\"Weekday\"]] <- weekdays(covidDay[[\"DateAsDate\"]])\n",
    "unique(covidDay$Weekday)"
   ]
  },
  {
   "cell_type": "markdown",
   "metadata": {
    "papermill": {
     "duration": 0.08285,
     "end_time": "2021-03-18T02:22:24.944455",
     "exception": false,
     "start_time": "2021-03-18T02:22:24.861605",
     "status": "completed"
    },
    "tags": []
   },
   "source": [
    "There are 3 days from Sunday to Wednesday and 4 days from Wednesday to Sunday.  Inconsistent spacing is more difficult to handle correctly, so let's just use Sundays so we have data every 7 days."
   ]
  },
  {
   "cell_type": "code",
   "execution_count": 16,
   "metadata": {
    "execution": {
     "iopub.execute_input": "2021-03-18T02:22:25.122079Z",
     "iopub.status.busy": "2021-03-18T02:22:25.113832Z",
     "iopub.status.idle": "2021-03-18T02:22:25.199613Z",
     "shell.execute_reply": "2021-03-18T02:22:25.198599Z"
    },
    "papermill": {
     "duration": 0.172793,
     "end_time": "2021-03-18T02:22:25.199774",
     "exception": false,
     "start_time": "2021-03-18T02:22:25.026981",
     "status": "completed"
    },
    "tags": []
   },
   "outputs": [],
   "source": [
    "covidWeekly <- covidClean[covidDay$Weekday==\"Sunday\",]\n",
    "covidWeekly[[\"DateAsDate\"]] <- as.Date(as.character(covidWeekly[[\"Date\"]]), \"%Y%m%d\")"
   ]
  },
  {
   "cell_type": "markdown",
   "metadata": {
    "papermill": {
     "duration": 0.081841,
     "end_time": "2021-03-18T02:22:25.363373",
     "exception": false,
     "start_time": "2021-03-18T02:22:25.281532",
     "status": "completed"
    },
    "tags": []
   },
   "source": [
    "## Outliers: Identifying and cleaning with Hampel filter"
   ]
  },
  {
   "cell_type": "markdown",
   "metadata": {
    "papermill": {
     "duration": 0.08187,
     "end_time": "2021-03-18T02:22:25.525934",
     "exception": false,
     "start_time": "2021-03-18T02:22:25.444064",
     "status": "completed"
    },
    "tags": []
   },
   "source": [
    "When doing plotting, I noticed some severe outliers such as the one below, jumping from 2 deaths to 512 and back to 2.  We don't want to build a model with such obviously wrong data, so we want to replace the 512 by values similar to those before and after."
   ]
  },
  {
   "cell_type": "code",
   "execution_count": 17,
   "metadata": {
    "execution": {
     "iopub.execute_input": "2021-03-18T02:22:25.691971Z",
     "iopub.status.busy": "2021-03-18T02:22:25.690610Z",
     "iopub.status.idle": "2021-03-18T02:22:25.715774Z",
     "shell.execute_reply": "2021-03-18T02:22:25.714592Z"
    },
    "papermill": {
     "duration": 0.109805,
     "end_time": "2021-03-18T02:22:25.715920",
     "exception": false,
     "start_time": "2021-03-18T02:22:25.606115",
     "status": "completed"
    },
    "tags": []
   },
   "outputs": [
    {
     "data": {
      "text/html": [
       "<table class=\"dataframe\">\n",
       "<caption>A tibble: 5 × 2</caption>\n",
       "<thead>\n",
       "\t<tr><th scope=col>Date</th><th scope=col>Deaths_AIAN</th></tr>\n",
       "\t<tr><th scope=col>&lt;dbl&gt;</th><th scope=col>&lt;dbl&gt;</th></tr>\n",
       "</thead>\n",
       "<tbody>\n",
       "\t<tr><td>20200412</td><td>  2</td></tr>\n",
       "\t<tr><td>20200415</td><td>  1</td></tr>\n",
       "\t<tr><td>20200419</td><td>512</td></tr>\n",
       "\t<tr><td>20200422</td><td>  1</td></tr>\n",
       "\t<tr><td>20200426</td><td>  2</td></tr>\n",
       "</tbody>\n",
       "</table>\n"
      ],
      "text/latex": [
       "A tibble: 5 × 2\n",
       "\\begin{tabular}{ll}\n",
       " Date & Deaths\\_AIAN\\\\\n",
       " <dbl> & <dbl>\\\\\n",
       "\\hline\n",
       "\t 20200412 &   2\\\\\n",
       "\t 20200415 &   1\\\\\n",
       "\t 20200419 & 512\\\\\n",
       "\t 20200422 &   1\\\\\n",
       "\t 20200426 &   2\\\\\n",
       "\\end{tabular}\n"
      ],
      "text/markdown": [
       "\n",
       "A tibble: 5 × 2\n",
       "\n",
       "| Date &lt;dbl&gt; | Deaths_AIAN &lt;dbl&gt; |\n",
       "|---|---|\n",
       "| 20200412 |   2 |\n",
       "| 20200415 |   1 |\n",
       "| 20200419 | 512 |\n",
       "| 20200422 |   1 |\n",
       "| 20200426 |   2 |\n",
       "\n"
      ],
      "text/plain": [
       "  Date     Deaths_AIAN\n",
       "1 20200412   2        \n",
       "2 20200415   1        \n",
       "3 20200419 512        \n",
       "4 20200422   1        \n",
       "5 20200426   2        "
      ]
     },
     "metadata": {},
     "output_type": "display_data"
    }
   ],
   "source": [
    "tmp <- covidByStateRaw[covidByStateRaw$State==\"IL\", c(\"Date\", \"Deaths_AIAN\")]\n",
    "tmp[tmp$Date <= 20200426,] %>% arrange(Date)"
   ]
  },
  {
   "cell_type": "markdown",
   "metadata": {
    "papermill": {
     "duration": 0.081992,
     "end_time": "2021-03-18T02:22:25.881770",
     "exception": false,
     "start_time": "2021-03-18T02:22:25.799778",
     "status": "completed"
    },
    "tags": []
   },
   "source": [
    "Practice a new way to identify outliers and impute below."
   ]
  },
  {
   "cell_type": "code",
   "execution_count": 18,
   "metadata": {
    "execution": {
     "iopub.execute_input": "2021-03-18T02:22:26.051497Z",
     "iopub.status.busy": "2021-03-18T02:22:26.049972Z",
     "iopub.status.idle": "2021-03-18T02:23:54.822693Z",
     "shell.execute_reply": "2021-03-18T02:23:54.821255Z"
    },
    "papermill": {
     "duration": 88.859632,
     "end_time": "2021-03-18T02:23:54.822922",
     "exception": false,
     "start_time": "2021-03-18T02:22:25.963290",
     "status": "completed"
    },
    "tags": []
   },
   "outputs": [],
   "source": [
    "covidMad <- covidWeekly %>%\n",
    "  group_by(State, Race) %>%\n",
    "  arrange(Date) %>%\n",
    "    tq_mutate(\n",
    "        # tq_mutate args\n",
    "        select     = Cases,\n",
    "        mutate_fun = rollapply,\n",
    "        # rollapply args\n",
    "        width      = 9,\n",
    "        # partial    = TRUE,\n",
    "        align      = \"center\",\n",
    "        FUN        = mad,\n",
    "        # mad args\n",
    "        # tq_mutate args\n",
    "        col_rename = \"CasesMad_9\"\n",
    "    )%>%\n",
    "    tq_mutate(\n",
    "        # tq_mutate args\n",
    "        select     = Cases,\n",
    "        mutate_fun = rollapply,\n",
    "        # rollapply args\n",
    "        width      = 7,\n",
    "        # partial    = TRUE,\n",
    "        align      = \"center\",\n",
    "        FUN        = mad,\n",
    "        # mad args\n",
    "        # tq_mutate args\n",
    "        col_rename = \"CasesMad_7\"\n",
    "    ) %>%\n",
    "    tq_mutate(\n",
    "        # tq_mutate args\n",
    "        select     = Cases,\n",
    "        mutate_fun = rollapply,\n",
    "        # rollapply args\n",
    "        width      = 5,\n",
    "        # partial    = TRUE,\n",
    "        align      = \"center\",\n",
    "        FUN        = mad,\n",
    "        # mad args\n",
    "        # tq_mutate args\n",
    "        col_rename = \"CasesMad_5\"\n",
    "    ) %>%\n",
    "    tq_mutate(\n",
    "        # tq_mutate args\n",
    "        select     = Cases,\n",
    "        mutate_fun = rollapply,\n",
    "        # rollapply args\n",
    "        width      = 3,\n",
    "        # partial    = TRUE,\n",
    "        align      = \"center\",\n",
    "        FUN        = mad,\n",
    "        # mad args\n",
    "        # tq_mutate args\n",
    "        col_rename = \"CasesMad_3\"\n",
    "    ) %>% \n",
    "    mutate(\n",
    "        CasesMad = coalesce(CasesMad_9, CasesMad_7, CasesMad_5, CasesMad_3), \n",
    "    )"
   ]
  },
  {
   "cell_type": "code",
   "execution_count": 19,
   "metadata": {
    "execution": {
     "iopub.execute_input": "2021-03-18T02:23:54.997481Z",
     "iopub.status.busy": "2021-03-18T02:23:54.996225Z",
     "iopub.status.idle": "2021-03-18T02:23:55.029023Z",
     "shell.execute_reply": "2021-03-18T02:23:55.027821Z"
    },
    "papermill": {
     "duration": 0.119098,
     "end_time": "2021-03-18T02:23:55.029204",
     "exception": false,
     "start_time": "2021-03-18T02:23:54.910106",
     "status": "completed"
    },
    "tags": []
   },
   "outputs": [
    {
     "data": {
      "text/html": [
       "<table class=\"dataframe\">\n",
       "<caption>A grouped_df: 6 × 11</caption>\n",
       "<thead>\n",
       "\t<tr><th scope=col>State</th><th scope=col>Race</th><th scope=col>Date</th><th scope=col>Cases</th><th scope=col>Deaths</th><th scope=col>DateAsDate</th><th scope=col>CasesMad_9</th><th scope=col>CasesMad_7</th><th scope=col>CasesMad_5</th><th scope=col>CasesMad_3</th><th scope=col>CasesMad</th></tr>\n",
       "\t<tr><th scope=col>&lt;chr&gt;</th><th scope=col>&lt;chr&gt;</th><th scope=col>&lt;dbl&gt;</th><th scope=col>&lt;dbl&gt;</th><th scope=col>&lt;dbl&gt;</th><th scope=col>&lt;date&gt;</th><th scope=col>&lt;dbl&gt;</th><th scope=col>&lt;dbl&gt;</th><th scope=col>&lt;dbl&gt;</th><th scope=col>&lt;dbl&gt;</th><th scope=col>&lt;dbl&gt;</th></tr>\n",
       "</thead>\n",
       "<tbody>\n",
       "\t<tr><td>AK</td><td>AIAN</td><td>20200412</td><td>13</td><td>2</td><td>2020-04-12</td><td>     NA</td><td>     NA</td><td>    NA</td><td>    NA</td><td>     NA</td></tr>\n",
       "\t<tr><td>AK</td><td>AIAN</td><td>20200419</td><td>14</td><td>2</td><td>2020-04-19</td><td>     NA</td><td>     NA</td><td>    NA</td><td>1.4826</td><td> 1.4826</td></tr>\n",
       "\t<tr><td>AK</td><td>AIAN</td><td>20200426</td><td>18</td><td>2</td><td>2020-04-26</td><td>     NA</td><td>     NA</td><td>5.9304</td><td>5.9304</td><td> 5.9304</td></tr>\n",
       "\t<tr><td>AK</td><td>AIAN</td><td>20200503</td><td>22</td><td>2</td><td>2020-05-03</td><td>     NA</td><td>10.3782</td><td>5.9304</td><td>2.9652</td><td>10.3782</td></tr>\n",
       "\t<tr><td>AK</td><td>AIAN</td><td>20200510</td><td>24</td><td>2</td><td>2020-05-10</td><td>13.3434</td><td> 8.8956</td><td>7.4130</td><td>2.9652</td><td>13.3434</td></tr>\n",
       "\t<tr><td>AK</td><td>AIAN</td><td>20200517</td><td>29</td><td>2</td><td>2020-05-17</td><td>16.3086</td><td>10.3782</td><td>7.4130</td><td>5.9304</td><td>16.3086</td></tr>\n",
       "</tbody>\n",
       "</table>\n"
      ],
      "text/latex": [
       "A grouped\\_df: 6 × 11\n",
       "\\begin{tabular}{lllllllllll}\n",
       " State & Race & Date & Cases & Deaths & DateAsDate & CasesMad\\_9 & CasesMad\\_7 & CasesMad\\_5 & CasesMad\\_3 & CasesMad\\\\\n",
       " <chr> & <chr> & <dbl> & <dbl> & <dbl> & <date> & <dbl> & <dbl> & <dbl> & <dbl> & <dbl>\\\\\n",
       "\\hline\n",
       "\t AK & AIAN & 20200412 & 13 & 2 & 2020-04-12 &      NA &      NA &     NA &     NA &      NA\\\\\n",
       "\t AK & AIAN & 20200419 & 14 & 2 & 2020-04-19 &      NA &      NA &     NA & 1.4826 &  1.4826\\\\\n",
       "\t AK & AIAN & 20200426 & 18 & 2 & 2020-04-26 &      NA &      NA & 5.9304 & 5.9304 &  5.9304\\\\\n",
       "\t AK & AIAN & 20200503 & 22 & 2 & 2020-05-03 &      NA & 10.3782 & 5.9304 & 2.9652 & 10.3782\\\\\n",
       "\t AK & AIAN & 20200510 & 24 & 2 & 2020-05-10 & 13.3434 &  8.8956 & 7.4130 & 2.9652 & 13.3434\\\\\n",
       "\t AK & AIAN & 20200517 & 29 & 2 & 2020-05-17 & 16.3086 & 10.3782 & 7.4130 & 5.9304 & 16.3086\\\\\n",
       "\\end{tabular}\n"
      ],
      "text/markdown": [
       "\n",
       "A grouped_df: 6 × 11\n",
       "\n",
       "| State &lt;chr&gt; | Race &lt;chr&gt; | Date &lt;dbl&gt; | Cases &lt;dbl&gt; | Deaths &lt;dbl&gt; | DateAsDate &lt;date&gt; | CasesMad_9 &lt;dbl&gt; | CasesMad_7 &lt;dbl&gt; | CasesMad_5 &lt;dbl&gt; | CasesMad_3 &lt;dbl&gt; | CasesMad &lt;dbl&gt; |\n",
       "|---|---|---|---|---|---|---|---|---|---|---|\n",
       "| AK | AIAN | 20200412 | 13 | 2 | 2020-04-12 |      NA |      NA |     NA |     NA |      NA |\n",
       "| AK | AIAN | 20200419 | 14 | 2 | 2020-04-19 |      NA |      NA |     NA | 1.4826 |  1.4826 |\n",
       "| AK | AIAN | 20200426 | 18 | 2 | 2020-04-26 |      NA |      NA | 5.9304 | 5.9304 |  5.9304 |\n",
       "| AK | AIAN | 20200503 | 22 | 2 | 2020-05-03 |      NA | 10.3782 | 5.9304 | 2.9652 | 10.3782 |\n",
       "| AK | AIAN | 20200510 | 24 | 2 | 2020-05-10 | 13.3434 |  8.8956 | 7.4130 | 2.9652 | 13.3434 |\n",
       "| AK | AIAN | 20200517 | 29 | 2 | 2020-05-17 | 16.3086 | 10.3782 | 7.4130 | 5.9304 | 16.3086 |\n",
       "\n"
      ],
      "text/plain": [
       "  State Race Date     Cases Deaths DateAsDate CasesMad_9 CasesMad_7 CasesMad_5\n",
       "1 AK    AIAN 20200412 13    2      2020-04-12      NA         NA        NA    \n",
       "2 AK    AIAN 20200419 14    2      2020-04-19      NA         NA        NA    \n",
       "3 AK    AIAN 20200426 18    2      2020-04-26      NA         NA    5.9304    \n",
       "4 AK    AIAN 20200503 22    2      2020-05-03      NA    10.3782    5.9304    \n",
       "5 AK    AIAN 20200510 24    2      2020-05-10 13.3434     8.8956    7.4130    \n",
       "6 AK    AIAN 20200517 29    2      2020-05-17 16.3086    10.3782    7.4130    \n",
       "  CasesMad_3 CasesMad\n",
       "1     NA          NA \n",
       "2 1.4826      1.4826 \n",
       "3 5.9304      5.9304 \n",
       "4 2.9652     10.3782 \n",
       "5 2.9652     13.3434 \n",
       "6 5.9304     16.3086 "
      ]
     },
     "metadata": {},
     "output_type": "display_data"
    }
   ],
   "source": [
    "head(covidMad)"
   ]
  },
  {
   "cell_type": "code",
   "execution_count": 20,
   "metadata": {
    "execution": {
     "iopub.execute_input": "2021-03-18T02:23:55.202534Z",
     "iopub.status.busy": "2021-03-18T02:23:55.201345Z",
     "iopub.status.idle": "2021-03-18T02:23:55.241535Z",
     "shell.execute_reply": "2021-03-18T02:23:55.240290Z"
    },
    "papermill": {
     "duration": 0.128304,
     "end_time": "2021-03-18T02:23:55.241796",
     "exception": false,
     "start_time": "2021-03-18T02:23:55.113492",
     "status": "completed"
    },
    "tags": []
   },
   "outputs": [
    {
     "data": {
      "text/html": [
       "<table class=\"dataframe\">\n",
       "<caption>A grouped_df: 6 × 11</caption>\n",
       "<thead>\n",
       "\t<tr><th scope=col>State</th><th scope=col>Race</th><th scope=col>Date</th><th scope=col>Cases</th><th scope=col>Deaths</th><th scope=col>DateAsDate</th><th scope=col>CasesMad_9</th><th scope=col>CasesMad_7</th><th scope=col>CasesMad_5</th><th scope=col>CasesMad_3</th><th scope=col>CasesMad</th></tr>\n",
       "\t<tr><th scope=col>&lt;chr&gt;</th><th scope=col>&lt;chr&gt;</th><th scope=col>&lt;dbl&gt;</th><th scope=col>&lt;dbl&gt;</th><th scope=col>&lt;dbl&gt;</th><th scope=col>&lt;date&gt;</th><th scope=col>&lt;dbl&gt;</th><th scope=col>&lt;dbl&gt;</th><th scope=col>&lt;dbl&gt;</th><th scope=col>&lt;dbl&gt;</th><th scope=col>&lt;dbl&gt;</th></tr>\n",
       "</thead>\n",
       "<tbody>\n",
       "\t<tr><td>WY</td><td>White</td><td>20210131</td><td>26384</td><td>499</td><td>2021-01-31</td><td>1733.159</td><td>1276.5186</td><td>1074.8850</td><td>796.1562</td><td>1733.1594</td></tr>\n",
       "\t<tr><td>WY</td><td>White</td><td>20210207</td><td>26921</td><td>550</td><td>2021-02-07</td><td>1406.987</td><td> 937.0032</td><td> 796.1562</td><td>480.3624</td><td>1406.9874</td></tr>\n",
       "\t<tr><td>WY</td><td>White</td><td>20210214</td><td>27245</td><td>572</td><td>2021-02-14</td><td>      NA</td><td> 926.6250</td><td> 480.3624</td><td>456.6408</td><td> 926.6250</td></tr>\n",
       "\t<tr><td>WY</td><td>White</td><td>20210221</td><td>27553</td><td>588</td><td>2021-02-21</td><td>      NA</td><td>       NA</td><td> 469.9842</td><td>456.6408</td><td> 469.9842</td></tr>\n",
       "\t<tr><td>WY</td><td>White</td><td>20210228</td><td>27870</td><td>595</td><td>2021-02-28</td><td>      NA</td><td>       NA</td><td>       NA</td><td>366.2022</td><td> 366.2022</td></tr>\n",
       "\t<tr><td>WY</td><td>White</td><td>20210307</td><td>28117</td><td>606</td><td>2021-03-07</td><td>      NA</td><td>       NA</td><td>       NA</td><td>      NA</td><td>       NA</td></tr>\n",
       "</tbody>\n",
       "</table>\n"
      ],
      "text/latex": [
       "A grouped\\_df: 6 × 11\n",
       "\\begin{tabular}{lllllllllll}\n",
       " State & Race & Date & Cases & Deaths & DateAsDate & CasesMad\\_9 & CasesMad\\_7 & CasesMad\\_5 & CasesMad\\_3 & CasesMad\\\\\n",
       " <chr> & <chr> & <dbl> & <dbl> & <dbl> & <date> & <dbl> & <dbl> & <dbl> & <dbl> & <dbl>\\\\\n",
       "\\hline\n",
       "\t WY & White & 20210131 & 26384 & 499 & 2021-01-31 & 1733.159 & 1276.5186 & 1074.8850 & 796.1562 & 1733.1594\\\\\n",
       "\t WY & White & 20210207 & 26921 & 550 & 2021-02-07 & 1406.987 &  937.0032 &  796.1562 & 480.3624 & 1406.9874\\\\\n",
       "\t WY & White & 20210214 & 27245 & 572 & 2021-02-14 &       NA &  926.6250 &  480.3624 & 456.6408 &  926.6250\\\\\n",
       "\t WY & White & 20210221 & 27553 & 588 & 2021-02-21 &       NA &        NA &  469.9842 & 456.6408 &  469.9842\\\\\n",
       "\t WY & White & 20210228 & 27870 & 595 & 2021-02-28 &       NA &        NA &        NA & 366.2022 &  366.2022\\\\\n",
       "\t WY & White & 20210307 & 28117 & 606 & 2021-03-07 &       NA &        NA &        NA &       NA &        NA\\\\\n",
       "\\end{tabular}\n"
      ],
      "text/markdown": [
       "\n",
       "A grouped_df: 6 × 11\n",
       "\n",
       "| State &lt;chr&gt; | Race &lt;chr&gt; | Date &lt;dbl&gt; | Cases &lt;dbl&gt; | Deaths &lt;dbl&gt; | DateAsDate &lt;date&gt; | CasesMad_9 &lt;dbl&gt; | CasesMad_7 &lt;dbl&gt; | CasesMad_5 &lt;dbl&gt; | CasesMad_3 &lt;dbl&gt; | CasesMad &lt;dbl&gt; |\n",
       "|---|---|---|---|---|---|---|---|---|---|---|\n",
       "| WY | White | 20210131 | 26384 | 499 | 2021-01-31 | 1733.159 | 1276.5186 | 1074.8850 | 796.1562 | 1733.1594 |\n",
       "| WY | White | 20210207 | 26921 | 550 | 2021-02-07 | 1406.987 |  937.0032 |  796.1562 | 480.3624 | 1406.9874 |\n",
       "| WY | White | 20210214 | 27245 | 572 | 2021-02-14 |       NA |  926.6250 |  480.3624 | 456.6408 |  926.6250 |\n",
       "| WY | White | 20210221 | 27553 | 588 | 2021-02-21 |       NA |        NA |  469.9842 | 456.6408 |  469.9842 |\n",
       "| WY | White | 20210228 | 27870 | 595 | 2021-02-28 |       NA |        NA |        NA | 366.2022 |  366.2022 |\n",
       "| WY | White | 20210307 | 28117 | 606 | 2021-03-07 |       NA |        NA |        NA |       NA |        NA |\n",
       "\n"
      ],
      "text/plain": [
       "  State Race  Date     Cases Deaths DateAsDate CasesMad_9 CasesMad_7 CasesMad_5\n",
       "1 WY    White 20210131 26384 499    2021-01-31 1733.159   1276.5186  1074.8850 \n",
       "2 WY    White 20210207 26921 550    2021-02-07 1406.987    937.0032   796.1562 \n",
       "3 WY    White 20210214 27245 572    2021-02-14       NA    926.6250   480.3624 \n",
       "4 WY    White 20210221 27553 588    2021-02-21       NA          NA   469.9842 \n",
       "5 WY    White 20210228 27870 595    2021-02-28       NA          NA         NA \n",
       "6 WY    White 20210307 28117 606    2021-03-07       NA          NA         NA \n",
       "  CasesMad_3 CasesMad \n",
       "1 796.1562   1733.1594\n",
       "2 480.3624   1406.9874\n",
       "3 456.6408    926.6250\n",
       "4 456.6408    469.9842\n",
       "5 366.2022    366.2022\n",
       "6       NA          NA"
      ]
     },
     "metadata": {},
     "output_type": "display_data"
    }
   ],
   "source": [
    "tail(covidMad)"
   ]
  },
  {
   "cell_type": "code",
   "execution_count": 21,
   "metadata": {
    "execution": {
     "iopub.execute_input": "2021-03-18T02:23:55.414264Z",
     "iopub.status.busy": "2021-03-18T02:23:55.412843Z",
     "iopub.status.idle": "2021-03-18T02:23:55.564438Z",
     "shell.execute_reply": "2021-03-18T02:23:55.563045Z"
    },
    "papermill": {
     "duration": 0.239125,
     "end_time": "2021-03-18T02:23:55.564591",
     "exception": false,
     "start_time": "2021-03-18T02:23:55.325466",
     "status": "completed"
    },
    "tags": []
   },
   "outputs": [
    {
     "data": {
      "text/html": [
       "<table class=\"dataframe\">\n",
       "<caption>A grouped_df: 19677 × 11</caption>\n",
       "<thead>\n",
       "\t<tr><th scope=col>State</th><th scope=col>Race</th><th scope=col>Date</th><th scope=col>Cases</th><th scope=col>Deaths</th><th scope=col>DateAsDate</th><th scope=col>CasesMad_9</th><th scope=col>CasesMad_7</th><th scope=col>CasesMad_5</th><th scope=col>CasesMad_3</th><th scope=col>CasesMad</th></tr>\n",
       "\t<tr><th scope=col>&lt;chr&gt;</th><th scope=col>&lt;chr&gt;</th><th scope=col>&lt;dbl&gt;</th><th scope=col>&lt;dbl&gt;</th><th scope=col>&lt;dbl&gt;</th><th scope=col>&lt;date&gt;</th><th scope=col>&lt;dbl&gt;</th><th scope=col>&lt;dbl&gt;</th><th scope=col>&lt;dbl&gt;</th><th scope=col>&lt;dbl&gt;</th><th scope=col>&lt;dbl&gt;</th></tr>\n",
       "</thead>\n",
       "<tbody>\n",
       "\t<tr><td>NA</td><td>NA   </td><td>      NA</td><td>   NA</td><td> NA</td><td>NA</td><td>       NA</td><td>       NA</td><td>       NA</td><td>      NA</td><td>       NA</td></tr>\n",
       "\t<tr><td>AK</td><td>AIAN </td><td>20200419</td><td>   14</td><td>  2</td><td>2020-04-19</td><td>       NA</td><td>       NA</td><td>       NA</td><td>  1.4826</td><td>   1.4826</td></tr>\n",
       "\t<tr><td>AK</td><td>AIAN </td><td>20200426</td><td>   18</td><td>  2</td><td>2020-04-26</td><td>       NA</td><td>       NA</td><td>   5.9304</td><td>  5.9304</td><td>   5.9304</td></tr>\n",
       "\t<tr><td>AK</td><td>AIAN </td><td>20201206</td><td> 7323</td><td> 54</td><td>2020-12-06</td><td>2066.7444</td><td>1959.9972</td><td>1040.7852</td><td>874.7340</td><td>2066.7444</td></tr>\n",
       "\t<tr><td>AK</td><td>AIAN </td><td>20201213</td><td> 8025</td><td> 65</td><td>2020-12-13</td><td>1915.5192</td><td>1399.5744</td><td>1040.7852</td><td>919.2120</td><td>1915.5192</td></tr>\n",
       "\t<tr><td>AK</td><td>AIAN </td><td>20201220</td><td> 8645</td><td> 67</td><td>2020-12-20</td><td>1959.9972</td><td>1449.9828</td><td> 919.2120</td><td>480.3624</td><td>1959.9972</td></tr>\n",
       "\t<tr><td>AK</td><td>AIAN </td><td>20201227</td><td> 8969</td><td> 74</td><td>2020-12-27</td><td>1881.4194</td><td>1399.5744</td><td> 969.6204</td><td>480.3624</td><td>1881.4194</td></tr>\n",
       "\t<tr><td>AK</td><td>AIAN </td><td>20210103</td><td> 9623</td><td> 76</td><td>2021-01-03</td><td>1676.8206</td><td>1449.9828</td><td> 969.6204</td><td>911.7990</td><td>1676.8206</td></tr>\n",
       "\t<tr><td>AK</td><td>AIAN </td><td>20210110</td><td>10238</td><td> 83</td><td>2021-01-10</td><td>1811.7372</td><td>1366.9572</td><td> 911.7990</td><td>765.0216</td><td>1811.7372</td></tr>\n",
       "\t<tr><td>AK</td><td>AIAN </td><td>20210117</td><td>10754</td><td> 90</td><td>2021-01-17</td><td>1294.3098</td><td>1046.7156</td><td> 765.0216</td><td>601.9356</td><td>1294.3098</td></tr>\n",
       "\t<tr><td>AK</td><td>AIAN </td><td>20210124</td><td>11160</td><td> 97</td><td>2021-01-24</td><td>1003.7202</td><td> 692.3742</td><td> 601.9356</td><td>444.7800</td><td>1003.7202</td></tr>\n",
       "\t<tr><td>AK</td><td>AIAN </td><td>20210131</td><td>11460</td><td> 99</td><td>2021-01-31</td><td> 785.7780</td><td> 558.9402</td><td> 444.7800</td><td>247.5942</td><td> 785.7780</td></tr>\n",
       "\t<tr><td>AK</td><td>AIAN </td><td>20210207</td><td>11627</td><td>103</td><td>2021-02-07</td><td> 692.3742</td><td> 538.1838</td><td> 311.3460</td><td>247.5942</td><td> 692.3742</td></tr>\n",
       "\t<tr><td>AK</td><td>AIAN </td><td>20210214</td><td>11837</td><td>103</td><td>2021-02-14</td><td>       NA</td><td> 415.1280</td><td> 311.3460</td><td>226.8378</td><td> 415.1280</td></tr>\n",
       "\t<tr><td>AK</td><td>AIAN </td><td>20210221</td><td>11990</td><td>104</td><td>2021-02-21</td><td>       NA</td><td>       NA</td><td> 226.8378</td><td>188.2902</td><td> 226.8378</td></tr>\n",
       "\t<tr><td>AK</td><td>AIAN </td><td>20210228</td><td>12117</td><td>104</td><td>2021-02-28</td><td>       NA</td><td>       NA</td><td>       NA</td><td>179.3946</td><td> 179.3946</td></tr>\n",
       "\t<tr><td>NA</td><td>NA   </td><td>      NA</td><td>   NA</td><td> NA</td><td>NA</td><td>       NA</td><td>       NA</td><td>       NA</td><td>      NA</td><td>       NA</td></tr>\n",
       "\t<tr><td>NA</td><td>NA   </td><td>      NA</td><td>   NA</td><td> NA</td><td>NA</td><td>       NA</td><td>       NA</td><td>       NA</td><td>      NA</td><td>       NA</td></tr>\n",
       "\t<tr><td>AK</td><td>Asian</td><td>20200426</td><td>   41</td><td>  2</td><td>2020-04-26</td><td>       NA</td><td>       NA</td><td>   5.9304</td><td>  4.4478</td><td>   5.9304</td></tr>\n",
       "\t<tr><td>AK</td><td>Asian</td><td>20200503</td><td>   44</td><td>  2</td><td>2020-05-03</td><td>       NA</td><td>   2.9652</td><td>   1.4826</td><td>  1.4826</td><td>   2.9652</td></tr>\n",
       "\t<tr><td>AK</td><td>Asian</td><td>20200510</td><td>   45</td><td>  2</td><td>2020-05-10</td><td>   1.4826</td><td>   1.4826</td><td>   1.4826</td><td>  0.0000</td><td>   1.4826</td></tr>\n",
       "\t<tr><td>AK</td><td>Asian</td><td>20200517</td><td>   45</td><td>  2</td><td>2020-05-17</td><td>   1.4826</td><td>   1.4826</td><td>   1.4826</td><td>  0.0000</td><td>   1.4826</td></tr>\n",
       "\t<tr><td>AK</td><td>Asian</td><td>20200524</td><td>   46</td><td>  2</td><td>2020-05-24</td><td>   2.9652</td><td>   1.4826</td><td>   1.4826</td><td>  0.0000</td><td>   2.9652</td></tr>\n",
       "\t<tr><td>AK</td><td>Asian</td><td>20200531</td><td>   46</td><td>  2</td><td>2020-05-31</td><td>   2.9652</td><td>   1.4826</td><td>   1.4826</td><td>  0.0000</td><td>   2.9652</td></tr>\n",
       "\t<tr><td>AK</td><td>Asian</td><td>20200607</td><td>   52</td><td>  2</td><td>2020-06-07</td><td>   8.8956</td><td>   8.8956</td><td>   8.8956</td><td>  8.8956</td><td>   8.8956</td></tr>\n",
       "\t<tr><td>AK</td><td>Asian</td><td>20200614</td><td>   58</td><td>  2</td><td>2020-06-14</td><td>   7.4130</td><td>   2.9652</td><td>   2.9652</td><td>  0.0000</td><td>   7.4130</td></tr>\n",
       "\t<tr><td>AK</td><td>Asian</td><td>20200621</td><td>   58</td><td>  2</td><td>2020-06-21</td><td>   7.4130</td><td>   2.9652</td><td>   2.9652</td><td>  0.0000</td><td>   7.4130</td></tr>\n",
       "\t<tr><td>AK</td><td>Asian</td><td>20200628</td><td>   60</td><td>  2</td><td>2020-06-28</td><td>   4.4478</td><td>   2.9652</td><td>   2.9652</td><td>  0.0000</td><td>   4.4478</td></tr>\n",
       "\t<tr><td>AK</td><td>Asian</td><td>20200705</td><td>   60</td><td>  2</td><td>2020-07-05</td><td>   4.4478</td><td>   2.9652</td><td>   2.9652</td><td>  0.0000</td><td>   4.4478</td></tr>\n",
       "\t<tr><td>AK</td><td>Asian</td><td>20200712</td><td>   63</td><td>  2</td><td>2020-07-12</td><td>   7.4130</td><td>   5.9304</td><td>   4.4478</td><td>  4.4478</td><td>   7.4130</td></tr>\n",
       "\t<tr><td>⋮</td><td>⋮</td><td>⋮</td><td>⋮</td><td>⋮</td><td>⋮</td><td>⋮</td><td>⋮</td><td>⋮</td><td>⋮</td><td>⋮</td></tr>\n",
       "\t<tr><td>WY</td><td>Unknown</td><td>20210228</td><td>21222</td><td> 11</td><td>2021-02-28</td><td>       NA</td><td>       NA</td><td>       NA</td><td> 103.7820</td><td> 103.7820</td></tr>\n",
       "\t<tr><td>NA</td><td>NA     </td><td>      NA</td><td>   NA</td><td> NA</td><td>NA</td><td>       NA</td><td>       NA</td><td>       NA</td><td>       NA</td><td>       NA</td></tr>\n",
       "\t<tr><td>NA</td><td>NA     </td><td>      NA</td><td>   NA</td><td> NA</td><td>NA</td><td>       NA</td><td>       NA</td><td>       NA</td><td>       NA</td><td>       NA</td></tr>\n",
       "\t<tr><td>WY</td><td>White  </td><td>20200419</td><td>  210</td><td>  8</td><td>2020-04-19</td><td>       NA</td><td>       NA</td><td>       NA</td><td>   0.0000</td><td>   0.0000</td></tr>\n",
       "\t<tr><td>WY</td><td>White  </td><td>20200426</td><td>  217</td><td>  8</td><td>2020-04-26</td><td>       NA</td><td>       NA</td><td>  10.3782</td><td>  10.3782</td><td>  10.3782</td></tr>\n",
       "\t<tr><td>WY</td><td>White  </td><td>20200503</td><td>  240</td><td>  8</td><td>2020-05-03</td><td>       NA</td><td>  44.4780</td><td>  34.0998</td><td>  10.3782</td><td>  44.4780</td></tr>\n",
       "\t<tr><td>WY</td><td>White  </td><td>20200510</td><td>  247</td><td>  8</td><td>2020-05-10</td><td>  54.8562</td><td>  44.4780</td><td>  42.9954</td><td>  10.3782</td><td>  54.8562</td></tr>\n",
       "\t<tr><td>WY</td><td>White  </td><td>20200517</td><td>  276</td><td>  8</td><td>2020-05-17</td><td>  68.1996</td><td>  53.3736</td><td>  44.4780</td><td>  42.9954</td><td>  68.1996</td></tr>\n",
       "\t<tr><td>WY</td><td>White  </td><td>20200524</td><td>  306</td><td>  8</td><td>2020-05-24</td><td>  87.4734</td><td>  72.6474</td><td>  44.4780</td><td>  23.7216</td><td>  87.4734</td></tr>\n",
       "\t<tr><td>WY</td><td>White  </td><td>20200607</td><td>  355</td><td>  8</td><td>2020-06-07</td><td> 117.1254</td><td>  87.4734</td><td>  72.6474</td><td>  48.9258</td><td> 117.1254</td></tr>\n",
       "\t<tr><td>WY</td><td>White  </td><td>20200809</td><td> 1512</td><td> 12</td><td>2020-08-09</td><td> 498.1536</td><td> 464.0538</td><td> 213.4944</td><td> 160.1208</td><td> 498.1536</td></tr>\n",
       "\t<tr><td>WY</td><td>White  </td><td>20200816</td><td> 1656</td><td> 14</td><td>2020-08-16</td><td> 464.0538</td><td> 373.6152</td><td> 284.6592</td><td> 213.4944</td><td> 464.0538</td></tr>\n",
       "\t<tr><td>WY</td><td>White  </td><td>20200823</td><td> 1848</td><td> 15</td><td>2020-08-23</td><td> 498.1536</td><td> 361.7544</td><td> 284.6592</td><td> 179.3946</td><td> 498.1536</td></tr>\n",
       "\t<tr><td>WY</td><td>White  </td><td>20200830</td><td> 1969</td><td> 15</td><td>2020-08-30</td><td> 464.0538</td><td> 444.7800</td><td> 182.3598</td><td> 179.3946</td><td> 464.0538</td></tr>\n",
       "\t<tr><td>WY</td><td>White  </td><td>20200906</td><td> 2092</td><td> 17</td><td>2020-09-06</td><td> 646.4136</td><td> 361.7544</td><td> 262.4202</td><td> 182.3598</td><td> 646.4136</td></tr>\n",
       "\t<tr><td>WY</td><td>White  </td><td>20200913</td><td> 2269</td><td> 17</td><td>2020-09-13</td><td> 624.1746</td><td> 487.7754</td><td> 444.7800</td><td> 262.4202</td><td> 624.1746</td></tr>\n",
       "\t<tr><td>WY</td><td>White  </td><td>20201206</td><td>18224</td><td>196</td><td>2020-12-06</td><td>5279.5386</td><td>4210.5840</td><td>3587.8920</td><td>2585.6544</td><td>5279.5386</td></tr>\n",
       "\t<tr><td>WY</td><td>White  </td><td>20201213</td><td>19968</td><td>252</td><td>2020-12-13</td><td>3919.9944</td><td>2693.8842</td><td>2585.6544</td><td>1624.9296</td><td>3919.9944</td></tr>\n",
       "\t<tr><td>WY</td><td>White  </td><td>20201220</td><td>21064</td><td>279</td><td>2020-12-20</td><td>3957.0594</td><td>2295.0648</td><td>1624.9296</td><td>1068.9546</td><td>3957.0594</td></tr>\n",
       "\t<tr><td>WY</td><td>White  </td><td>20201227</td><td>21785</td><td>301</td><td>2020-12-27</td><td>2888.1048</td><td>2693.8842</td><td>1226.1102</td><td>1068.9546</td><td>2888.1048</td></tr>\n",
       "\t<tr><td>WY</td><td>White  </td><td>20210103</td><td>22612</td><td>359</td><td>2021-01-03</td><td>3205.3812</td><td>2295.0648</td><td>1661.9946</td><td>1226.1102</td><td>3205.3812</td></tr>\n",
       "\t<tr><td>WY</td><td>White  </td><td>20210110</td><td>23733</td><td>404</td><td>2021-01-10</td><td>2888.1048</td><td>2855.4876</td><td>1661.9946</td><td>1543.3866</td><td>2888.1048</td></tr>\n",
       "\t<tr><td>WY</td><td>White  </td><td>20210117</td><td>24774</td><td>436</td><td>2021-01-17</td><td>3183.1422</td><td>2386.9860</td><td>1543.3866</td><td>1312.1010</td><td>3183.1422</td></tr>\n",
       "\t<tr><td>WY</td><td>White  </td><td>20210124</td><td>25659</td><td>479</td><td>2021-01-24</td><td>2351.4036</td><td>1871.0412</td><td>1312.1010</td><td>1074.8850</td><td>2351.4036</td></tr>\n",
       "\t<tr><td>WY</td><td>White  </td><td>20210131</td><td>26384</td><td>499</td><td>2021-01-31</td><td>1733.1594</td><td>1276.5186</td><td>1074.8850</td><td> 796.1562</td><td>1733.1594</td></tr>\n",
       "\t<tr><td>WY</td><td>White  </td><td>20210207</td><td>26921</td><td>550</td><td>2021-02-07</td><td>1406.9874</td><td> 937.0032</td><td> 796.1562</td><td> 480.3624</td><td>1406.9874</td></tr>\n",
       "\t<tr><td>WY</td><td>White  </td><td>20210214</td><td>27245</td><td>572</td><td>2021-02-14</td><td>       NA</td><td> 926.6250</td><td> 480.3624</td><td> 456.6408</td><td> 926.6250</td></tr>\n",
       "\t<tr><td>WY</td><td>White  </td><td>20210221</td><td>27553</td><td>588</td><td>2021-02-21</td><td>       NA</td><td>       NA</td><td> 469.9842</td><td> 456.6408</td><td> 469.9842</td></tr>\n",
       "\t<tr><td>WY</td><td>White  </td><td>20210228</td><td>27870</td><td>595</td><td>2021-02-28</td><td>       NA</td><td>       NA</td><td>       NA</td><td> 366.2022</td><td> 366.2022</td></tr>\n",
       "\t<tr><td>NA</td><td>NA     </td><td>      NA</td><td>   NA</td><td> NA</td><td>NA</td><td>       NA</td><td>       NA</td><td>       NA</td><td>       NA</td><td>       NA</td></tr>\n",
       "</tbody>\n",
       "</table>\n"
      ],
      "text/latex": [
       "A grouped\\_df: 19677 × 11\n",
       "\\begin{tabular}{lllllllllll}\n",
       " State & Race & Date & Cases & Deaths & DateAsDate & CasesMad\\_9 & CasesMad\\_7 & CasesMad\\_5 & CasesMad\\_3 & CasesMad\\\\\n",
       " <chr> & <chr> & <dbl> & <dbl> & <dbl> & <date> & <dbl> & <dbl> & <dbl> & <dbl> & <dbl>\\\\\n",
       "\\hline\n",
       "\t NA & NA    &       NA &    NA &  NA & NA &        NA &        NA &        NA &       NA &        NA\\\\\n",
       "\t AK & AIAN  & 20200419 &    14 &   2 & 2020-04-19 &        NA &        NA &        NA &   1.4826 &    1.4826\\\\\n",
       "\t AK & AIAN  & 20200426 &    18 &   2 & 2020-04-26 &        NA &        NA &    5.9304 &   5.9304 &    5.9304\\\\\n",
       "\t AK & AIAN  & 20201206 &  7323 &  54 & 2020-12-06 & 2066.7444 & 1959.9972 & 1040.7852 & 874.7340 & 2066.7444\\\\\n",
       "\t AK & AIAN  & 20201213 &  8025 &  65 & 2020-12-13 & 1915.5192 & 1399.5744 & 1040.7852 & 919.2120 & 1915.5192\\\\\n",
       "\t AK & AIAN  & 20201220 &  8645 &  67 & 2020-12-20 & 1959.9972 & 1449.9828 &  919.2120 & 480.3624 & 1959.9972\\\\\n",
       "\t AK & AIAN  & 20201227 &  8969 &  74 & 2020-12-27 & 1881.4194 & 1399.5744 &  969.6204 & 480.3624 & 1881.4194\\\\\n",
       "\t AK & AIAN  & 20210103 &  9623 &  76 & 2021-01-03 & 1676.8206 & 1449.9828 &  969.6204 & 911.7990 & 1676.8206\\\\\n",
       "\t AK & AIAN  & 20210110 & 10238 &  83 & 2021-01-10 & 1811.7372 & 1366.9572 &  911.7990 & 765.0216 & 1811.7372\\\\\n",
       "\t AK & AIAN  & 20210117 & 10754 &  90 & 2021-01-17 & 1294.3098 & 1046.7156 &  765.0216 & 601.9356 & 1294.3098\\\\\n",
       "\t AK & AIAN  & 20210124 & 11160 &  97 & 2021-01-24 & 1003.7202 &  692.3742 &  601.9356 & 444.7800 & 1003.7202\\\\\n",
       "\t AK & AIAN  & 20210131 & 11460 &  99 & 2021-01-31 &  785.7780 &  558.9402 &  444.7800 & 247.5942 &  785.7780\\\\\n",
       "\t AK & AIAN  & 20210207 & 11627 & 103 & 2021-02-07 &  692.3742 &  538.1838 &  311.3460 & 247.5942 &  692.3742\\\\\n",
       "\t AK & AIAN  & 20210214 & 11837 & 103 & 2021-02-14 &        NA &  415.1280 &  311.3460 & 226.8378 &  415.1280\\\\\n",
       "\t AK & AIAN  & 20210221 & 11990 & 104 & 2021-02-21 &        NA &        NA &  226.8378 & 188.2902 &  226.8378\\\\\n",
       "\t AK & AIAN  & 20210228 & 12117 & 104 & 2021-02-28 &        NA &        NA &        NA & 179.3946 &  179.3946\\\\\n",
       "\t NA & NA    &       NA &    NA &  NA & NA &        NA &        NA &        NA &       NA &        NA\\\\\n",
       "\t NA & NA    &       NA &    NA &  NA & NA &        NA &        NA &        NA &       NA &        NA\\\\\n",
       "\t AK & Asian & 20200426 &    41 &   2 & 2020-04-26 &        NA &        NA &    5.9304 &   4.4478 &    5.9304\\\\\n",
       "\t AK & Asian & 20200503 &    44 &   2 & 2020-05-03 &        NA &    2.9652 &    1.4826 &   1.4826 &    2.9652\\\\\n",
       "\t AK & Asian & 20200510 &    45 &   2 & 2020-05-10 &    1.4826 &    1.4826 &    1.4826 &   0.0000 &    1.4826\\\\\n",
       "\t AK & Asian & 20200517 &    45 &   2 & 2020-05-17 &    1.4826 &    1.4826 &    1.4826 &   0.0000 &    1.4826\\\\\n",
       "\t AK & Asian & 20200524 &    46 &   2 & 2020-05-24 &    2.9652 &    1.4826 &    1.4826 &   0.0000 &    2.9652\\\\\n",
       "\t AK & Asian & 20200531 &    46 &   2 & 2020-05-31 &    2.9652 &    1.4826 &    1.4826 &   0.0000 &    2.9652\\\\\n",
       "\t AK & Asian & 20200607 &    52 &   2 & 2020-06-07 &    8.8956 &    8.8956 &    8.8956 &   8.8956 &    8.8956\\\\\n",
       "\t AK & Asian & 20200614 &    58 &   2 & 2020-06-14 &    7.4130 &    2.9652 &    2.9652 &   0.0000 &    7.4130\\\\\n",
       "\t AK & Asian & 20200621 &    58 &   2 & 2020-06-21 &    7.4130 &    2.9652 &    2.9652 &   0.0000 &    7.4130\\\\\n",
       "\t AK & Asian & 20200628 &    60 &   2 & 2020-06-28 &    4.4478 &    2.9652 &    2.9652 &   0.0000 &    4.4478\\\\\n",
       "\t AK & Asian & 20200705 &    60 &   2 & 2020-07-05 &    4.4478 &    2.9652 &    2.9652 &   0.0000 &    4.4478\\\\\n",
       "\t AK & Asian & 20200712 &    63 &   2 & 2020-07-12 &    7.4130 &    5.9304 &    4.4478 &   4.4478 &    7.4130\\\\\n",
       "\t ⋮ & ⋮ & ⋮ & ⋮ & ⋮ & ⋮ & ⋮ & ⋮ & ⋮ & ⋮ & ⋮\\\\\n",
       "\t WY & Unknown & 20210228 & 21222 &  11 & 2021-02-28 &        NA &        NA &        NA &  103.7820 &  103.7820\\\\\n",
       "\t NA & NA      &       NA &    NA &  NA & NA &        NA &        NA &        NA &        NA &        NA\\\\\n",
       "\t NA & NA      &       NA &    NA &  NA & NA &        NA &        NA &        NA &        NA &        NA\\\\\n",
       "\t WY & White   & 20200419 &   210 &   8 & 2020-04-19 &        NA &        NA &        NA &    0.0000 &    0.0000\\\\\n",
       "\t WY & White   & 20200426 &   217 &   8 & 2020-04-26 &        NA &        NA &   10.3782 &   10.3782 &   10.3782\\\\\n",
       "\t WY & White   & 20200503 &   240 &   8 & 2020-05-03 &        NA &   44.4780 &   34.0998 &   10.3782 &   44.4780\\\\\n",
       "\t WY & White   & 20200510 &   247 &   8 & 2020-05-10 &   54.8562 &   44.4780 &   42.9954 &   10.3782 &   54.8562\\\\\n",
       "\t WY & White   & 20200517 &   276 &   8 & 2020-05-17 &   68.1996 &   53.3736 &   44.4780 &   42.9954 &   68.1996\\\\\n",
       "\t WY & White   & 20200524 &   306 &   8 & 2020-05-24 &   87.4734 &   72.6474 &   44.4780 &   23.7216 &   87.4734\\\\\n",
       "\t WY & White   & 20200607 &   355 &   8 & 2020-06-07 &  117.1254 &   87.4734 &   72.6474 &   48.9258 &  117.1254\\\\\n",
       "\t WY & White   & 20200809 &  1512 &  12 & 2020-08-09 &  498.1536 &  464.0538 &  213.4944 &  160.1208 &  498.1536\\\\\n",
       "\t WY & White   & 20200816 &  1656 &  14 & 2020-08-16 &  464.0538 &  373.6152 &  284.6592 &  213.4944 &  464.0538\\\\\n",
       "\t WY & White   & 20200823 &  1848 &  15 & 2020-08-23 &  498.1536 &  361.7544 &  284.6592 &  179.3946 &  498.1536\\\\\n",
       "\t WY & White   & 20200830 &  1969 &  15 & 2020-08-30 &  464.0538 &  444.7800 &  182.3598 &  179.3946 &  464.0538\\\\\n",
       "\t WY & White   & 20200906 &  2092 &  17 & 2020-09-06 &  646.4136 &  361.7544 &  262.4202 &  182.3598 &  646.4136\\\\\n",
       "\t WY & White   & 20200913 &  2269 &  17 & 2020-09-13 &  624.1746 &  487.7754 &  444.7800 &  262.4202 &  624.1746\\\\\n",
       "\t WY & White   & 20201206 & 18224 & 196 & 2020-12-06 & 5279.5386 & 4210.5840 & 3587.8920 & 2585.6544 & 5279.5386\\\\\n",
       "\t WY & White   & 20201213 & 19968 & 252 & 2020-12-13 & 3919.9944 & 2693.8842 & 2585.6544 & 1624.9296 & 3919.9944\\\\\n",
       "\t WY & White   & 20201220 & 21064 & 279 & 2020-12-20 & 3957.0594 & 2295.0648 & 1624.9296 & 1068.9546 & 3957.0594\\\\\n",
       "\t WY & White   & 20201227 & 21785 & 301 & 2020-12-27 & 2888.1048 & 2693.8842 & 1226.1102 & 1068.9546 & 2888.1048\\\\\n",
       "\t WY & White   & 20210103 & 22612 & 359 & 2021-01-03 & 3205.3812 & 2295.0648 & 1661.9946 & 1226.1102 & 3205.3812\\\\\n",
       "\t WY & White   & 20210110 & 23733 & 404 & 2021-01-10 & 2888.1048 & 2855.4876 & 1661.9946 & 1543.3866 & 2888.1048\\\\\n",
       "\t WY & White   & 20210117 & 24774 & 436 & 2021-01-17 & 3183.1422 & 2386.9860 & 1543.3866 & 1312.1010 & 3183.1422\\\\\n",
       "\t WY & White   & 20210124 & 25659 & 479 & 2021-01-24 & 2351.4036 & 1871.0412 & 1312.1010 & 1074.8850 & 2351.4036\\\\\n",
       "\t WY & White   & 20210131 & 26384 & 499 & 2021-01-31 & 1733.1594 & 1276.5186 & 1074.8850 &  796.1562 & 1733.1594\\\\\n",
       "\t WY & White   & 20210207 & 26921 & 550 & 2021-02-07 & 1406.9874 &  937.0032 &  796.1562 &  480.3624 & 1406.9874\\\\\n",
       "\t WY & White   & 20210214 & 27245 & 572 & 2021-02-14 &        NA &  926.6250 &  480.3624 &  456.6408 &  926.6250\\\\\n",
       "\t WY & White   & 20210221 & 27553 & 588 & 2021-02-21 &        NA &        NA &  469.9842 &  456.6408 &  469.9842\\\\\n",
       "\t WY & White   & 20210228 & 27870 & 595 & 2021-02-28 &        NA &        NA &        NA &  366.2022 &  366.2022\\\\\n",
       "\t NA & NA      &       NA &    NA &  NA & NA &        NA &        NA &        NA &        NA &        NA\\\\\n",
       "\\end{tabular}\n"
      ],
      "text/markdown": [
       "\n",
       "A grouped_df: 19677 × 11\n",
       "\n",
       "| State &lt;chr&gt; | Race &lt;chr&gt; | Date &lt;dbl&gt; | Cases &lt;dbl&gt; | Deaths &lt;dbl&gt; | DateAsDate &lt;date&gt; | CasesMad_9 &lt;dbl&gt; | CasesMad_7 &lt;dbl&gt; | CasesMad_5 &lt;dbl&gt; | CasesMad_3 &lt;dbl&gt; | CasesMad &lt;dbl&gt; |\n",
       "|---|---|---|---|---|---|---|---|---|---|---|\n",
       "| NA | NA    |       NA |    NA |  NA | NA |        NA |        NA |        NA |       NA |        NA |\n",
       "| AK | AIAN  | 20200419 |    14 |   2 | 2020-04-19 |        NA |        NA |        NA |   1.4826 |    1.4826 |\n",
       "| AK | AIAN  | 20200426 |    18 |   2 | 2020-04-26 |        NA |        NA |    5.9304 |   5.9304 |    5.9304 |\n",
       "| AK | AIAN  | 20201206 |  7323 |  54 | 2020-12-06 | 2066.7444 | 1959.9972 | 1040.7852 | 874.7340 | 2066.7444 |\n",
       "| AK | AIAN  | 20201213 |  8025 |  65 | 2020-12-13 | 1915.5192 | 1399.5744 | 1040.7852 | 919.2120 | 1915.5192 |\n",
       "| AK | AIAN  | 20201220 |  8645 |  67 | 2020-12-20 | 1959.9972 | 1449.9828 |  919.2120 | 480.3624 | 1959.9972 |\n",
       "| AK | AIAN  | 20201227 |  8969 |  74 | 2020-12-27 | 1881.4194 | 1399.5744 |  969.6204 | 480.3624 | 1881.4194 |\n",
       "| AK | AIAN  | 20210103 |  9623 |  76 | 2021-01-03 | 1676.8206 | 1449.9828 |  969.6204 | 911.7990 | 1676.8206 |\n",
       "| AK | AIAN  | 20210110 | 10238 |  83 | 2021-01-10 | 1811.7372 | 1366.9572 |  911.7990 | 765.0216 | 1811.7372 |\n",
       "| AK | AIAN  | 20210117 | 10754 |  90 | 2021-01-17 | 1294.3098 | 1046.7156 |  765.0216 | 601.9356 | 1294.3098 |\n",
       "| AK | AIAN  | 20210124 | 11160 |  97 | 2021-01-24 | 1003.7202 |  692.3742 |  601.9356 | 444.7800 | 1003.7202 |\n",
       "| AK | AIAN  | 20210131 | 11460 |  99 | 2021-01-31 |  785.7780 |  558.9402 |  444.7800 | 247.5942 |  785.7780 |\n",
       "| AK | AIAN  | 20210207 | 11627 | 103 | 2021-02-07 |  692.3742 |  538.1838 |  311.3460 | 247.5942 |  692.3742 |\n",
       "| AK | AIAN  | 20210214 | 11837 | 103 | 2021-02-14 |        NA |  415.1280 |  311.3460 | 226.8378 |  415.1280 |\n",
       "| AK | AIAN  | 20210221 | 11990 | 104 | 2021-02-21 |        NA |        NA |  226.8378 | 188.2902 |  226.8378 |\n",
       "| AK | AIAN  | 20210228 | 12117 | 104 | 2021-02-28 |        NA |        NA |        NA | 179.3946 |  179.3946 |\n",
       "| NA | NA    |       NA |    NA |  NA | NA |        NA |        NA |        NA |       NA |        NA |\n",
       "| NA | NA    |       NA |    NA |  NA | NA |        NA |        NA |        NA |       NA |        NA |\n",
       "| AK | Asian | 20200426 |    41 |   2 | 2020-04-26 |        NA |        NA |    5.9304 |   4.4478 |    5.9304 |\n",
       "| AK | Asian | 20200503 |    44 |   2 | 2020-05-03 |        NA |    2.9652 |    1.4826 |   1.4826 |    2.9652 |\n",
       "| AK | Asian | 20200510 |    45 |   2 | 2020-05-10 |    1.4826 |    1.4826 |    1.4826 |   0.0000 |    1.4826 |\n",
       "| AK | Asian | 20200517 |    45 |   2 | 2020-05-17 |    1.4826 |    1.4826 |    1.4826 |   0.0000 |    1.4826 |\n",
       "| AK | Asian | 20200524 |    46 |   2 | 2020-05-24 |    2.9652 |    1.4826 |    1.4826 |   0.0000 |    2.9652 |\n",
       "| AK | Asian | 20200531 |    46 |   2 | 2020-05-31 |    2.9652 |    1.4826 |    1.4826 |   0.0000 |    2.9652 |\n",
       "| AK | Asian | 20200607 |    52 |   2 | 2020-06-07 |    8.8956 |    8.8956 |    8.8956 |   8.8956 |    8.8956 |\n",
       "| AK | Asian | 20200614 |    58 |   2 | 2020-06-14 |    7.4130 |    2.9652 |    2.9652 |   0.0000 |    7.4130 |\n",
       "| AK | Asian | 20200621 |    58 |   2 | 2020-06-21 |    7.4130 |    2.9652 |    2.9652 |   0.0000 |    7.4130 |\n",
       "| AK | Asian | 20200628 |    60 |   2 | 2020-06-28 |    4.4478 |    2.9652 |    2.9652 |   0.0000 |    4.4478 |\n",
       "| AK | Asian | 20200705 |    60 |   2 | 2020-07-05 |    4.4478 |    2.9652 |    2.9652 |   0.0000 |    4.4478 |\n",
       "| AK | Asian | 20200712 |    63 |   2 | 2020-07-12 |    7.4130 |    5.9304 |    4.4478 |   4.4478 |    7.4130 |\n",
       "| ⋮ | ⋮ | ⋮ | ⋮ | ⋮ | ⋮ | ⋮ | ⋮ | ⋮ | ⋮ | ⋮ |\n",
       "| WY | Unknown | 20210228 | 21222 |  11 | 2021-02-28 |        NA |        NA |        NA |  103.7820 |  103.7820 |\n",
       "| NA | NA      |       NA |    NA |  NA | NA |        NA |        NA |        NA |        NA |        NA |\n",
       "| NA | NA      |       NA |    NA |  NA | NA |        NA |        NA |        NA |        NA |        NA |\n",
       "| WY | White   | 20200419 |   210 |   8 | 2020-04-19 |        NA |        NA |        NA |    0.0000 |    0.0000 |\n",
       "| WY | White   | 20200426 |   217 |   8 | 2020-04-26 |        NA |        NA |   10.3782 |   10.3782 |   10.3782 |\n",
       "| WY | White   | 20200503 |   240 |   8 | 2020-05-03 |        NA |   44.4780 |   34.0998 |   10.3782 |   44.4780 |\n",
       "| WY | White   | 20200510 |   247 |   8 | 2020-05-10 |   54.8562 |   44.4780 |   42.9954 |   10.3782 |   54.8562 |\n",
       "| WY | White   | 20200517 |   276 |   8 | 2020-05-17 |   68.1996 |   53.3736 |   44.4780 |   42.9954 |   68.1996 |\n",
       "| WY | White   | 20200524 |   306 |   8 | 2020-05-24 |   87.4734 |   72.6474 |   44.4780 |   23.7216 |   87.4734 |\n",
       "| WY | White   | 20200607 |   355 |   8 | 2020-06-07 |  117.1254 |   87.4734 |   72.6474 |   48.9258 |  117.1254 |\n",
       "| WY | White   | 20200809 |  1512 |  12 | 2020-08-09 |  498.1536 |  464.0538 |  213.4944 |  160.1208 |  498.1536 |\n",
       "| WY | White   | 20200816 |  1656 |  14 | 2020-08-16 |  464.0538 |  373.6152 |  284.6592 |  213.4944 |  464.0538 |\n",
       "| WY | White   | 20200823 |  1848 |  15 | 2020-08-23 |  498.1536 |  361.7544 |  284.6592 |  179.3946 |  498.1536 |\n",
       "| WY | White   | 20200830 |  1969 |  15 | 2020-08-30 |  464.0538 |  444.7800 |  182.3598 |  179.3946 |  464.0538 |\n",
       "| WY | White   | 20200906 |  2092 |  17 | 2020-09-06 |  646.4136 |  361.7544 |  262.4202 |  182.3598 |  646.4136 |\n",
       "| WY | White   | 20200913 |  2269 |  17 | 2020-09-13 |  624.1746 |  487.7754 |  444.7800 |  262.4202 |  624.1746 |\n",
       "| WY | White   | 20201206 | 18224 | 196 | 2020-12-06 | 5279.5386 | 4210.5840 | 3587.8920 | 2585.6544 | 5279.5386 |\n",
       "| WY | White   | 20201213 | 19968 | 252 | 2020-12-13 | 3919.9944 | 2693.8842 | 2585.6544 | 1624.9296 | 3919.9944 |\n",
       "| WY | White   | 20201220 | 21064 | 279 | 2020-12-20 | 3957.0594 | 2295.0648 | 1624.9296 | 1068.9546 | 3957.0594 |\n",
       "| WY | White   | 20201227 | 21785 | 301 | 2020-12-27 | 2888.1048 | 2693.8842 | 1226.1102 | 1068.9546 | 2888.1048 |\n",
       "| WY | White   | 20210103 | 22612 | 359 | 2021-01-03 | 3205.3812 | 2295.0648 | 1661.9946 | 1226.1102 | 3205.3812 |\n",
       "| WY | White   | 20210110 | 23733 | 404 | 2021-01-10 | 2888.1048 | 2855.4876 | 1661.9946 | 1543.3866 | 2888.1048 |\n",
       "| WY | White   | 20210117 | 24774 | 436 | 2021-01-17 | 3183.1422 | 2386.9860 | 1543.3866 | 1312.1010 | 3183.1422 |\n",
       "| WY | White   | 20210124 | 25659 | 479 | 2021-01-24 | 2351.4036 | 1871.0412 | 1312.1010 | 1074.8850 | 2351.4036 |\n",
       "| WY | White   | 20210131 | 26384 | 499 | 2021-01-31 | 1733.1594 | 1276.5186 | 1074.8850 |  796.1562 | 1733.1594 |\n",
       "| WY | White   | 20210207 | 26921 | 550 | 2021-02-07 | 1406.9874 |  937.0032 |  796.1562 |  480.3624 | 1406.9874 |\n",
       "| WY | White   | 20210214 | 27245 | 572 | 2021-02-14 |        NA |  926.6250 |  480.3624 |  456.6408 |  926.6250 |\n",
       "| WY | White   | 20210221 | 27553 | 588 | 2021-02-21 |        NA |        NA |  469.9842 |  456.6408 |  469.9842 |\n",
       "| WY | White   | 20210228 | 27870 | 595 | 2021-02-28 |        NA |        NA |        NA |  366.2022 |  366.2022 |\n",
       "| NA | NA      |       NA |    NA |  NA | NA |        NA |        NA |        NA |        NA |        NA |\n",
       "\n"
      ],
      "text/plain": [
       "      State Race    Date     Cases Deaths DateAsDate CasesMad_9 CasesMad_7\n",
       "1     NA    NA            NA    NA  NA    <NA>              NA         NA \n",
       "2     AK    AIAN    20200419    14   2    2020-04-19        NA         NA \n",
       "3     AK    AIAN    20200426    18   2    2020-04-26        NA         NA \n",
       "4     AK    AIAN    20201206  7323  54    2020-12-06 2066.7444  1959.9972 \n",
       "5     AK    AIAN    20201213  8025  65    2020-12-13 1915.5192  1399.5744 \n",
       "6     AK    AIAN    20201220  8645  67    2020-12-20 1959.9972  1449.9828 \n",
       "7     AK    AIAN    20201227  8969  74    2020-12-27 1881.4194  1399.5744 \n",
       "8     AK    AIAN    20210103  9623  76    2021-01-03 1676.8206  1449.9828 \n",
       "9     AK    AIAN    20210110 10238  83    2021-01-10 1811.7372  1366.9572 \n",
       "10    AK    AIAN    20210117 10754  90    2021-01-17 1294.3098  1046.7156 \n",
       "11    AK    AIAN    20210124 11160  97    2021-01-24 1003.7202   692.3742 \n",
       "12    AK    AIAN    20210131 11460  99    2021-01-31  785.7780   558.9402 \n",
       "13    AK    AIAN    20210207 11627 103    2021-02-07  692.3742   538.1838 \n",
       "14    AK    AIAN    20210214 11837 103    2021-02-14        NA   415.1280 \n",
       "15    AK    AIAN    20210221 11990 104    2021-02-21        NA         NA \n",
       "16    AK    AIAN    20210228 12117 104    2021-02-28        NA         NA \n",
       "17    NA    NA            NA    NA  NA    <NA>              NA         NA \n",
       "18    NA    NA            NA    NA  NA    <NA>              NA         NA \n",
       "19    AK    Asian   20200426    41   2    2020-04-26        NA         NA \n",
       "20    AK    Asian   20200503    44   2    2020-05-03        NA     2.9652 \n",
       "21    AK    Asian   20200510    45   2    2020-05-10    1.4826     1.4826 \n",
       "22    AK    Asian   20200517    45   2    2020-05-17    1.4826     1.4826 \n",
       "23    AK    Asian   20200524    46   2    2020-05-24    2.9652     1.4826 \n",
       "24    AK    Asian   20200531    46   2    2020-05-31    2.9652     1.4826 \n",
       "25    AK    Asian   20200607    52   2    2020-06-07    8.8956     8.8956 \n",
       "26    AK    Asian   20200614    58   2    2020-06-14    7.4130     2.9652 \n",
       "27    AK    Asian   20200621    58   2    2020-06-21    7.4130     2.9652 \n",
       "28    AK    Asian   20200628    60   2    2020-06-28    4.4478     2.9652 \n",
       "29    AK    Asian   20200705    60   2    2020-07-05    4.4478     2.9652 \n",
       "30    AK    Asian   20200712    63   2    2020-07-12    7.4130     5.9304 \n",
       "⋮     ⋮     ⋮       ⋮        ⋮     ⋮      ⋮          ⋮          ⋮         \n",
       "19648 WY    Unknown 20210228 21222  11    2021-02-28        NA         NA \n",
       "19649 NA    NA            NA    NA  NA    <NA>              NA         NA \n",
       "19650 NA    NA            NA    NA  NA    <NA>              NA         NA \n",
       "19651 WY    White   20200419   210   8    2020-04-19        NA         NA \n",
       "19652 WY    White   20200426   217   8    2020-04-26        NA         NA \n",
       "19653 WY    White   20200503   240   8    2020-05-03        NA    44.4780 \n",
       "19654 WY    White   20200510   247   8    2020-05-10   54.8562    44.4780 \n",
       "19655 WY    White   20200517   276   8    2020-05-17   68.1996    53.3736 \n",
       "19656 WY    White   20200524   306   8    2020-05-24   87.4734    72.6474 \n",
       "19657 WY    White   20200607   355   8    2020-06-07  117.1254    87.4734 \n",
       "19658 WY    White   20200809  1512  12    2020-08-09  498.1536   464.0538 \n",
       "19659 WY    White   20200816  1656  14    2020-08-16  464.0538   373.6152 \n",
       "19660 WY    White   20200823  1848  15    2020-08-23  498.1536   361.7544 \n",
       "19661 WY    White   20200830  1969  15    2020-08-30  464.0538   444.7800 \n",
       "19662 WY    White   20200906  2092  17    2020-09-06  646.4136   361.7544 \n",
       "19663 WY    White   20200913  2269  17    2020-09-13  624.1746   487.7754 \n",
       "19664 WY    White   20201206 18224 196    2020-12-06 5279.5386  4210.5840 \n",
       "19665 WY    White   20201213 19968 252    2020-12-13 3919.9944  2693.8842 \n",
       "19666 WY    White   20201220 21064 279    2020-12-20 3957.0594  2295.0648 \n",
       "19667 WY    White   20201227 21785 301    2020-12-27 2888.1048  2693.8842 \n",
       "19668 WY    White   20210103 22612 359    2021-01-03 3205.3812  2295.0648 \n",
       "19669 WY    White   20210110 23733 404    2021-01-10 2888.1048  2855.4876 \n",
       "19670 WY    White   20210117 24774 436    2021-01-17 3183.1422  2386.9860 \n",
       "19671 WY    White   20210124 25659 479    2021-01-24 2351.4036  1871.0412 \n",
       "19672 WY    White   20210131 26384 499    2021-01-31 1733.1594  1276.5186 \n",
       "19673 WY    White   20210207 26921 550    2021-02-07 1406.9874   937.0032 \n",
       "19674 WY    White   20210214 27245 572    2021-02-14        NA   926.6250 \n",
       "19675 WY    White   20210221 27553 588    2021-02-21        NA         NA \n",
       "19676 WY    White   20210228 27870 595    2021-02-28        NA         NA \n",
       "19677 NA    NA            NA    NA  NA    <NA>              NA         NA \n",
       "      CasesMad_5 CasesMad_3 CasesMad \n",
       "1            NA        NA          NA\n",
       "2            NA    1.4826      1.4826\n",
       "3        5.9304    5.9304      5.9304\n",
       "4     1040.7852  874.7340   2066.7444\n",
       "5     1040.7852  919.2120   1915.5192\n",
       "6      919.2120  480.3624   1959.9972\n",
       "7      969.6204  480.3624   1881.4194\n",
       "8      969.6204  911.7990   1676.8206\n",
       "9      911.7990  765.0216   1811.7372\n",
       "10     765.0216  601.9356   1294.3098\n",
       "11     601.9356  444.7800   1003.7202\n",
       "12     444.7800  247.5942    785.7780\n",
       "13     311.3460  247.5942    692.3742\n",
       "14     311.3460  226.8378    415.1280\n",
       "15     226.8378  188.2902    226.8378\n",
       "16           NA  179.3946    179.3946\n",
       "17           NA        NA          NA\n",
       "18           NA        NA          NA\n",
       "19       5.9304    4.4478      5.9304\n",
       "20       1.4826    1.4826      2.9652\n",
       "21       1.4826    0.0000      1.4826\n",
       "22       1.4826    0.0000      1.4826\n",
       "23       1.4826    0.0000      2.9652\n",
       "24       1.4826    0.0000      2.9652\n",
       "25       8.8956    8.8956      8.8956\n",
       "26       2.9652    0.0000      7.4130\n",
       "27       2.9652    0.0000      7.4130\n",
       "28       2.9652    0.0000      4.4478\n",
       "29       2.9652    0.0000      4.4478\n",
       "30       4.4478    4.4478      7.4130\n",
       "⋮     ⋮          ⋮          ⋮        \n",
       "19648        NA   103.7820   103.7820\n",
       "19649        NA         NA         NA\n",
       "19650        NA         NA         NA\n",
       "19651        NA     0.0000     0.0000\n",
       "19652   10.3782    10.3782    10.3782\n",
       "19653   34.0998    10.3782    44.4780\n",
       "19654   42.9954    10.3782    54.8562\n",
       "19655   44.4780    42.9954    68.1996\n",
       "19656   44.4780    23.7216    87.4734\n",
       "19657   72.6474    48.9258   117.1254\n",
       "19658  213.4944   160.1208   498.1536\n",
       "19659  284.6592   213.4944   464.0538\n",
       "19660  284.6592   179.3946   498.1536\n",
       "19661  182.3598   179.3946   464.0538\n",
       "19662  262.4202   182.3598   646.4136\n",
       "19663  444.7800   262.4202   624.1746\n",
       "19664 3587.8920  2585.6544  5279.5386\n",
       "19665 2585.6544  1624.9296  3919.9944\n",
       "19666 1624.9296  1068.9546  3957.0594\n",
       "19667 1226.1102  1068.9546  2888.1048\n",
       "19668 1661.9946  1226.1102  3205.3812\n",
       "19669 1661.9946  1543.3866  2888.1048\n",
       "19670 1543.3866  1312.1010  3183.1422\n",
       "19671 1312.1010  1074.8850  2351.4036\n",
       "19672 1074.8850   796.1562  1733.1594\n",
       "19673  796.1562   480.3624  1406.9874\n",
       "19674  480.3624   456.6408   926.6250\n",
       "19675  469.9842   456.6408   469.9842\n",
       "19676        NA   366.2022   366.2022\n",
       "19677        NA         NA         NA"
      ]
     },
     "metadata": {},
     "output_type": "display_data"
    }
   ],
   "source": [
    "covidMad[(covidMad$Cases > 3 * covidMad$CasesMad),]"
   ]
  },
  {
   "cell_type": "code",
   "execution_count": 22,
   "metadata": {
    "execution": {
     "iopub.execute_input": "2021-03-18T02:23:55.741765Z",
     "iopub.status.busy": "2021-03-18T02:23:55.740445Z",
     "iopub.status.idle": "2021-03-18T02:23:55.751702Z",
     "shell.execute_reply": "2021-03-18T02:23:55.750528Z"
    },
    "papermill": {
     "duration": 0.101428,
     "end_time": "2021-03-18T02:23:55.751848",
     "exception": false,
     "start_time": "2021-03-18T02:23:55.650420",
     "status": "completed"
    },
    "tags": []
   },
   "outputs": [],
   "source": [
    "# covidMad$CasesImputed <= if(covidMad$Cases > 3 * covidMad$CasesMad, covidMad$Cases)"
   ]
  },
  {
   "cell_type": "markdown",
   "metadata": {
    "papermill": {
     "duration": 0.087682,
     "end_time": "2021-03-18T02:23:55.927333",
     "exception": false,
     "start_time": "2021-03-18T02:23:55.839651",
     "status": "completed"
    },
    "tags": []
   },
   "source": [
    "### Library"
   ]
  },
  {
   "cell_type": "markdown",
   "metadata": {
    "papermill": {
     "duration": 0.085994,
     "end_time": "2021-03-18T02:23:56.098571",
     "exception": false,
     "start_time": "2021-03-18T02:23:56.012577",
     "status": "completed"
    },
    "tags": []
   },
   "source": [
    "The pracma library has a function called hampel to do this."
   ]
  },
  {
   "cell_type": "code",
   "execution_count": 23,
   "metadata": {
    "execution": {
     "iopub.execute_input": "2021-03-18T02:23:56.277475Z",
     "iopub.status.busy": "2021-03-18T02:23:56.276122Z",
     "iopub.status.idle": "2021-03-18T02:23:56.351878Z",
     "shell.execute_reply": "2021-03-18T02:23:56.350237Z"
    },
    "papermill": {
     "duration": 0.167611,
     "end_time": "2021-03-18T02:23:56.352034",
     "exception": false,
     "start_time": "2021-03-18T02:23:56.184423",
     "status": "completed"
    },
    "tags": []
   },
   "outputs": [
    {
     "name": "stderr",
     "output_type": "stream",
     "text": [
      "\n",
      "Attaching package: ‘pracma’\n",
      "\n",
      "\n",
      "The following object is masked from ‘package:purrr’:\n",
      "\n",
      "    cross\n",
      "\n",
      "\n"
     ]
    }
   ],
   "source": [
    "library(pracma)"
   ]
  },
  {
   "cell_type": "markdown",
   "metadata": {
    "papermill": {
     "duration": 0.086167,
     "end_time": "2021-03-18T02:23:56.526215",
     "exception": false,
     "start_time": "2021-03-18T02:23:56.440048",
     "status": "completed"
    },
    "tags": []
   },
   "source": [
    "### Usage"
   ]
  },
  {
   "cell_type": "code",
   "execution_count": 24,
   "metadata": {
    "execution": {
     "iopub.execute_input": "2021-03-18T02:23:56.705468Z",
     "iopub.status.busy": "2021-03-18T02:23:56.703657Z",
     "iopub.status.idle": "2021-03-18T02:23:56.717210Z",
     "shell.execute_reply": "2021-03-18T02:23:56.715744Z"
    },
    "papermill": {
     "duration": 0.104403,
     "end_time": "2021-03-18T02:23:56.717380",
     "exception": false,
     "start_time": "2021-03-18T02:23:56.612977",
     "status": "completed"
    },
    "tags": []
   },
   "outputs": [],
   "source": [
    "covidToImpute <- covidWeekly"
   ]
  },
  {
   "cell_type": "code",
   "execution_count": 25,
   "metadata": {
    "execution": {
     "iopub.execute_input": "2021-03-18T02:23:56.900854Z",
     "iopub.status.busy": "2021-03-18T02:23:56.899289Z",
     "iopub.status.idle": "2021-03-18T02:23:56.914024Z",
     "shell.execute_reply": "2021-03-18T02:23:56.912478Z"
    },
    "papermill": {
     "duration": 0.108167,
     "end_time": "2021-03-18T02:23:56.914175",
     "exception": false,
     "start_time": "2021-03-18T02:23:56.806008",
     "status": "completed"
    },
    "tags": []
   },
   "outputs": [],
   "source": [
    "hampelWindow <- 5\n",
    "hampelThreshold <- 3"
   ]
  },
  {
   "cell_type": "code",
   "execution_count": 26,
   "metadata": {
    "execution": {
     "iopub.execute_input": "2021-03-18T02:23:57.097834Z",
     "iopub.status.busy": "2021-03-18T02:23:57.096042Z",
     "iopub.status.idle": "2021-03-18T02:24:06.297927Z",
     "shell.execute_reply": "2021-03-18T02:24:06.297218Z"
    },
    "papermill": {
     "duration": 9.296513,
     "end_time": "2021-03-18T02:24:06.298091",
     "exception": false,
     "start_time": "2021-03-18T02:23:57.001578",
     "status": "completed"
    },
    "tags": []
   },
   "outputs": [],
   "source": [
    "states <- unique(covidToImpute$State)\n",
    "races <- unique(covidToImpute$Race)\n",
    "datalist = list()\n",
    "countlist = list()\n",
    "i <- 1\n",
    "for (state in states) {\n",
    "    for (race in races) {\n",
    "        oneState <- covidToImpute[covidToImpute$State == state,]\n",
    "        oneStateOneRace <- oneState[oneState$Race == race,]\n",
    "        len <- nrow(oneStateOneRace)\n",
    "        if (len > 0  && sum(is.na(oneStateOneRace$Cases))<len && sum(is.na(oneStateOneRace$Deaths))<len) {\n",
    "            h1 <- hampel(oneStateOneRace$Cases, hampelWindow, hampelThreshold)\n",
    "            numCaseOutliers <- length(h1$ind) \n",
    "            h2 <- hampel(oneStateOneRace$Deaths, hampelWindow, hampelThreshold)\n",
    "            numDeathOutliers <- length(h2$ind)\n",
    "            \n",
    "            df <- data.frame(Date=oneStateOneRace$Date,\n",
    "                             DateAsDate=oneStateOneRace$DateAsDate,\n",
    "                             State=rep(state, len),\n",
    "                             Race=rep(race, len),\n",
    "                             Cases <- h1$y, Deaths <- h2$y)\n",
    "            datalist[[i]] <- df\n",
    "            countlist[[i]] <- data.frame(State=state, Race=race,\n",
    "                             NumCaseOutliers=length(h1$ind),\n",
    "                             NumDeathOutliers=length(h2$ind))\n",
    "          i <- i+1\n",
    "        }\n",
    "    }\n",
    "}\n",
    "numOutliers <- dplyr::bind_rows(countlist)\n",
    "covidImputed <- dplyr::bind_rows(datalist)\n",
    "names(covidImputed) <- c(\"Date\", \"DateAsDate\", \"State\", \"Race\", \"Cases\", \"Deaths\")"
   ]
  },
  {
   "cell_type": "code",
   "execution_count": 27,
   "metadata": {
    "execution": {
     "iopub.execute_input": "2021-03-18T02:24:06.477815Z",
     "iopub.status.busy": "2021-03-18T02:24:06.476631Z",
     "iopub.status.idle": "2021-03-18T02:24:06.491498Z",
     "shell.execute_reply": "2021-03-18T02:24:06.490416Z"
    },
    "papermill": {
     "duration": 0.105256,
     "end_time": "2021-03-18T02:24:06.491649",
     "exception": false,
     "start_time": "2021-03-18T02:24:06.386393",
     "status": "completed"
    },
    "tags": []
   },
   "outputs": [
    {
     "data": {
      "text/html": [
       "17088"
      ],
      "text/latex": [
       "17088"
      ],
      "text/markdown": [
       "17088"
      ],
      "text/plain": [
       "[1] 17088"
      ]
     },
     "metadata": {},
     "output_type": "display_data"
    }
   ],
   "source": [
    "nrow(covidImputed)"
   ]
  },
  {
   "cell_type": "markdown",
   "metadata": {
    "papermill": {
     "duration": 0.087292,
     "end_time": "2021-03-18T02:24:06.666611",
     "exception": false,
     "start_time": "2021-03-18T02:24:06.579319",
     "status": "completed"
    },
    "tags": []
   },
   "source": [
    "How many data points did this affect?"
   ]
  },
  {
   "cell_type": "code",
   "execution_count": 28,
   "metadata": {
    "execution": {
     "iopub.execute_input": "2021-03-18T02:24:06.851870Z",
     "iopub.status.busy": "2021-03-18T02:24:06.851170Z",
     "iopub.status.idle": "2021-03-18T02:24:06.868007Z",
     "shell.execute_reply": "2021-03-18T02:24:06.866890Z"
    },
    "papermill": {
     "duration": 0.11427,
     "end_time": "2021-03-18T02:24:06.868157",
     "exception": false,
     "start_time": "2021-03-18T02:24:06.753887",
     "status": "completed"
    },
    "tags": []
   },
   "outputs": [
    {
     "data": {
      "text/html": [
       "<table class=\"dataframe\">\n",
       "<caption>A data.frame: 1 × 2</caption>\n",
       "<thead>\n",
       "\t<tr><th scope=col>NumCaseImputed</th><th scope=col>NumDeathImputed</th></tr>\n",
       "\t<tr><th scope=col>&lt;int&gt;</th><th scope=col>&lt;int&gt;</th></tr>\n",
       "</thead>\n",
       "<tbody>\n",
       "\t<tr><td>37</td><td>121</td></tr>\n",
       "</tbody>\n",
       "</table>\n"
      ],
      "text/latex": [
       "A data.frame: 1 × 2\n",
       "\\begin{tabular}{ll}\n",
       " NumCaseImputed & NumDeathImputed\\\\\n",
       " <int> & <int>\\\\\n",
       "\\hline\n",
       "\t 37 & 121\\\\\n",
       "\\end{tabular}\n"
      ],
      "text/markdown": [
       "\n",
       "A data.frame: 1 × 2\n",
       "\n",
       "| NumCaseImputed &lt;int&gt; | NumDeathImputed &lt;int&gt; |\n",
       "|---|---|\n",
       "| 37 | 121 |\n",
       "\n"
      ],
      "text/plain": [
       "  NumCaseImputed NumDeathImputed\n",
       "1 37             121            "
      ]
     },
     "metadata": {},
     "output_type": "display_data"
    }
   ],
   "source": [
    "data.frame(NumCaseImputed=sum(numOutliers$NumCaseOutliers), NumDeathImputed=sum(numOutliers$NumDeathOutliers))"
   ]
  },
  {
   "cell_type": "markdown",
   "metadata": {
    "papermill": {
     "duration": 0.089551,
     "end_time": "2021-03-18T02:24:07.046927",
     "exception": false,
     "start_time": "2021-03-18T02:24:06.957376",
     "status": "completed"
    },
    "tags": []
   },
   "source": [
    "Which cases had values imputed?  Let's look at a few examples."
   ]
  },
  {
   "cell_type": "code",
   "execution_count": 29,
   "metadata": {
    "execution": {
     "iopub.execute_input": "2021-03-18T02:24:07.231724Z",
     "iopub.status.busy": "2021-03-18T02:24:07.230555Z",
     "iopub.status.idle": "2021-03-18T02:24:07.252054Z",
     "shell.execute_reply": "2021-03-18T02:24:07.250822Z"
    },
    "papermill": {
     "duration": 0.11568,
     "end_time": "2021-03-18T02:24:07.252235",
     "exception": false,
     "start_time": "2021-03-18T02:24:07.136555",
     "status": "completed"
    },
    "tags": []
   },
   "outputs": [
    {
     "data": {
      "text/html": [
       "<table class=\"dataframe\">\n",
       "<caption>A data.frame: 6 × 4</caption>\n",
       "<thead>\n",
       "\t<tr><th></th><th scope=col>State</th><th scope=col>Race</th><th scope=col>NumCaseOutliers</th><th scope=col>NumDeathOutliers</th></tr>\n",
       "\t<tr><th></th><th scope=col>&lt;fct&gt;</th><th scope=col>&lt;fct&gt;</th><th scope=col>&lt;int&gt;</th><th scope=col>&lt;int&gt;</th></tr>\n",
       "</thead>\n",
       "<tbody>\n",
       "\t<tr><th scope=row>3</th><td>AK</td><td>Black  </td><td>1</td><td>0</td></tr>\n",
       "\t<tr><th scope=row>27</th><td>AZ</td><td>Unknown</td><td>1</td><td>0</td></tr>\n",
       "\t<tr><th scope=row>31</th><td>CA</td><td>Black  </td><td>1</td><td>0</td></tr>\n",
       "\t<tr><th scope=row>65</th><td>DE</td><td>Unknown</td><td>2</td><td>2</td></tr>\n",
       "\t<tr><th scope=row>91</th><td>HI</td><td>White  </td><td>1</td><td>0</td></tr>\n",
       "\t<tr><th scope=row>94</th><td>IA</td><td>Black  </td><td>1</td><td>0</td></tr>\n",
       "</tbody>\n",
       "</table>\n"
      ],
      "text/latex": [
       "A data.frame: 6 × 4\n",
       "\\begin{tabular}{r|llll}\n",
       "  & State & Race & NumCaseOutliers & NumDeathOutliers\\\\\n",
       "  & <fct> & <fct> & <int> & <int>\\\\\n",
       "\\hline\n",
       "\t3 & AK & Black   & 1 & 0\\\\\n",
       "\t27 & AZ & Unknown & 1 & 0\\\\\n",
       "\t31 & CA & Black   & 1 & 0\\\\\n",
       "\t65 & DE & Unknown & 2 & 2\\\\\n",
       "\t91 & HI & White   & 1 & 0\\\\\n",
       "\t94 & IA & Black   & 1 & 0\\\\\n",
       "\\end{tabular}\n"
      ],
      "text/markdown": [
       "\n",
       "A data.frame: 6 × 4\n",
       "\n",
       "| <!--/--> | State &lt;fct&gt; | Race &lt;fct&gt; | NumCaseOutliers &lt;int&gt; | NumDeathOutliers &lt;int&gt; |\n",
       "|---|---|---|---|---|\n",
       "| 3 | AK | Black   | 1 | 0 |\n",
       "| 27 | AZ | Unknown | 1 | 0 |\n",
       "| 31 | CA | Black   | 1 | 0 |\n",
       "| 65 | DE | Unknown | 2 | 2 |\n",
       "| 91 | HI | White   | 1 | 0 |\n",
       "| 94 | IA | Black   | 1 | 0 |\n",
       "\n"
      ],
      "text/plain": [
       "   State Race    NumCaseOutliers NumDeathOutliers\n",
       "3  AK    Black   1               0               \n",
       "27 AZ    Unknown 1               0               \n",
       "31 CA    Black   1               0               \n",
       "65 DE    Unknown 2               2               \n",
       "91 HI    White   1               0               \n",
       "94 IA    Black   1               0               "
      ]
     },
     "metadata": {},
     "output_type": "display_data"
    }
   ],
   "source": [
    "head(numOutliers[numOutliers$NumCaseOutliers > 0,])"
   ]
  },
  {
   "cell_type": "markdown",
   "metadata": {
    "papermill": {
     "duration": 0.088687,
     "end_time": "2021-03-18T02:24:07.430207",
     "exception": false,
     "start_time": "2021-03-18T02:24:07.341520",
     "status": "completed"
    },
    "tags": []
   },
   "source": [
    "We know data for Unknown races tends to be messy (leftovers not counted elsewehre), so let's focus on the first non-Unknown, HI White cases"
   ]
  },
  {
   "cell_type": "markdown",
   "metadata": {
    "papermill": {
     "duration": 0.08995,
     "end_time": "2021-03-18T02:24:07.610831",
     "exception": false,
     "start_time": "2021-03-18T02:24:07.520881",
     "status": "completed"
    },
    "tags": []
   },
   "source": [
    "### Example cleaning: HI White"
   ]
  },
  {
   "cell_type": "markdown",
   "metadata": {
    "papermill": {
     "duration": 0.091828,
     "end_time": "2021-03-18T02:24:07.793947",
     "exception": false,
     "start_time": "2021-03-18T02:24:07.702119",
     "status": "completed"
    },
    "tags": []
   },
   "source": [
    "Let's look at before and after plots.  Below I apply hampel again directly.  $ind returns the indices of any outliers."
   ]
  },
  {
   "cell_type": "code",
   "execution_count": 30,
   "metadata": {
    "execution": {
     "iopub.execute_input": "2021-03-18T02:24:07.984534Z",
     "iopub.status.busy": "2021-03-18T02:24:07.983117Z",
     "iopub.status.idle": "2021-03-18T02:24:08.471369Z",
     "shell.execute_reply": "2021-03-18T02:24:08.470825Z"
    },
    "papermill": {
     "duration": 0.584917,
     "end_time": "2021-03-18T02:24:08.471505",
     "exception": false,
     "start_time": "2021-03-18T02:24:07.886588",
     "status": "completed"
    },
    "tags": []
   },
   "outputs": [
    {
     "data": {
      "image/png": "[encoded data removed]"
     },
     "metadata": {
      "image/png": {
       "height": 420,
       "width": 420
      }
     },
     "output_type": "display_data"
    },
    {
     "data": {
      "image/png": "[encoded data removed]"
     },
     "metadata": {
      "image/png": {
       "height": 420,
       "width": 420
      }
     },
     "output_type": "display_data"
    }
   ],
   "source": [
    "ts <- covidWeekly %>% filter(State==\"HI\" && Race==\"White\")\n",
    "plot(ts[,c(\"DateAsDate\", \"Cases\")], col=\"dodgerblue2\",\n",
    "     main = \"HI White before (outlier in red)\" )\n",
    "ts.hampel <- hampel(ts$Cases, hampelWindow, hampelThreshold)\n",
    "points(ts$DateAsDate[ts.hampel$ind], ts.hampel$y[ts.hampel$ind],\n",
    "    pch=4, col=\"red\")\n",
    "grid()\n",
    "\n",
    "tmp <- covidImputed[(covidImputed$State == \"HI\"),]\n",
    "ts <- tmp[(tmp$Race==\"White\"),]\n",
    "plot(ts[,c(\"DateAsDate\", \"Cases\")], col=\"dodgerblue2\",\n",
    "     main = \"HI White after\" )"
   ]
  },
  {
   "cell_type": "markdown",
   "metadata": {
    "papermill": {
     "duration": 0.092791,
     "end_time": "2021-03-18T02:24:08.659967",
     "exception": false,
     "start_time": "2021-03-18T02:24:08.567176",
     "status": "completed"
    },
    "tags": []
   },
   "source": [
    "Arizona unknown-- a data point is changed, but since it was a level shift it wasn't really necessary.  This justifies not analyzing the race=Unknown data."
   ]
  },
  {
   "cell_type": "code",
   "execution_count": 31,
   "metadata": {
    "execution": {
     "iopub.execute_input": "2021-03-18T02:24:08.856941Z",
     "iopub.status.busy": "2021-03-18T02:24:08.855574Z",
     "iopub.status.idle": "2021-03-18T02:24:09.039799Z",
     "shell.execute_reply": "2021-03-18T02:24:09.038544Z"
    },
    "papermill": {
     "duration": 0.287299,
     "end_time": "2021-03-18T02:24:09.039997",
     "exception": false,
     "start_time": "2021-03-18T02:24:08.752698",
     "status": "completed"
    },
    "tags": []
   },
   "outputs": [
    {
     "data": {
      "image/png": "[encoded data removed]"
     },
     "metadata": {
      "image/png": {
       "height": 420,
       "width": 420
      }
     },
     "output_type": "display_data"
    },
    {
     "data": {
      "image/png": "[encoded data removed]"
     },
     "metadata": {
      "image/png": {
       "height": 420,
       "width": 420
      }
     },
     "output_type": "display_data"
    }
   ],
   "source": [
    "ts <- covidWeekly %>% filter(State==\"AZ\" && Race==\"Unknown\")\n",
    "plot(ts[,c(\"DateAsDate\", \"Cases\")], col=\"dodgerblue2\",\n",
    "     main = \"AZ Unknown before\" )\n",
    "ts.hampel <- hampel(ts$Cases, hampelWindow, hampelThreshold)\n",
    "points(ts$DateAsDate[ts.hampel$ind], ts.hampel$y[ts.hampel$ind],\n",
    "    pch=4, col=\"red\")\n",
    "grid()\n",
    "\n",
    "tmp <- covidImputed[(covidImputed$State == \"AZ\"),]\n",
    "ts <- tmp[(tmp$Race==\"Unknown\"),]\n",
    "plot(ts[,c(\"DateAsDate\", \"Cases\")], col=\"dodgerblue2\",\n",
    "     main = \"AZ Unknown after\" )"
   ]
  },
  {
   "cell_type": "markdown",
   "metadata": {
    "papermill": {
     "duration": 0.097861,
     "end_time": "2021-03-18T02:24:09.234888",
     "exception": false,
     "start_time": "2021-03-18T02:24:09.137027",
     "status": "completed"
    },
    "tags": []
   },
   "source": [
    "### Level shift not captured."
   ]
  },
  {
   "cell_type": "markdown",
   "metadata": {
    "papermill": {
     "duration": 0.097447,
     "end_time": "2021-03-18T02:24:09.428824",
     "exception": false,
     "start_time": "2021-03-18T02:24:09.331377",
     "status": "completed"
    },
    "tags": []
   },
   "source": [
    "Some level shifts like the one below for Illinois Unknown deaths is not considered an outlier in overall numbers and so is still present in the data set.  But we can do the same outlier analysis for the diffs-- the lagged values where we calculate \"New Cases\" and \"New Deaths.\"  First lets calculate diffs."
   ]
  },
  {
   "cell_type": "code",
   "execution_count": 32,
   "metadata": {
    "execution": {
     "iopub.execute_input": "2021-03-18T02:24:09.630276Z",
     "iopub.status.busy": "2021-03-18T02:24:09.628717Z",
     "iopub.status.idle": "2021-03-18T02:24:09.718943Z",
     "shell.execute_reply": "2021-03-18T02:24:09.717972Z"
    },
    "papermill": {
     "duration": 0.192078,
     "end_time": "2021-03-18T02:24:09.719111",
     "exception": false,
     "start_time": "2021-03-18T02:24:09.527033",
     "status": "completed"
    },
    "tags": []
   },
   "outputs": [
    {
     "data": {
      "image/png": "[encoded data removed]"
     },
     "metadata": {
      "image/png": {
       "height": 420,
       "width": 420
      }
     },
     "output_type": "display_data"
    }
   ],
   "source": [
    "ts <- covidWeekly %>% filter(State==\"IL\" && Race==\"Unknown\")\n",
    "plot(ts[,c(\"DateAsDate\", \"Deaths\")], col=\"dodgerblue2\",\n",
    "     main = \"Illinois Unknown\" )"
   ]
  },
  {
   "cell_type": "markdown",
   "metadata": {
    "papermill": {
     "duration": 0.100205,
     "end_time": "2021-03-18T02:24:09.920346",
     "exception": false,
     "start_time": "2021-03-18T02:24:09.820141",
     "status": "completed"
    },
    "tags": []
   },
   "source": [
    "## New cases and new deaths"
   ]
  },
  {
   "cell_type": "markdown",
   "metadata": {
    "papermill": {
     "duration": 0.100038,
     "end_time": "2021-03-18T02:24:10.121624",
     "exception": false,
     "start_time": "2021-03-18T02:24:10.021586",
     "status": "completed"
    },
    "tags": []
   },
   "source": [
    "A cumulative count drags a lot of past history with it.  Modeling is more easily done on immediate effects.  So let's calculate how many *new* cases or *new* deaths occurred since the previous week."
   ]
  },
  {
   "cell_type": "code",
   "execution_count": 33,
   "metadata": {
    "execution": {
     "iopub.execute_input": "2021-03-18T02:24:10.325035Z",
     "iopub.status.busy": "2021-03-18T02:24:10.323417Z",
     "iopub.status.idle": "2021-03-18T02:24:10.404036Z",
     "shell.execute_reply": "2021-03-18T02:24:10.402985Z"
    },
    "papermill": {
     "duration": 0.18442,
     "end_time": "2021-03-18T02:24:10.404366",
     "exception": false,
     "start_time": "2021-03-18T02:24:10.219946",
     "status": "completed"
    },
    "tags": []
   },
   "outputs": [],
   "source": [
    "covidLagged <- covidImputed %>%\n",
    "     group_by(State, Race) %>%\n",
    "     arrange(Date, .by_group = TRUE) %>%\n",
    "     mutate(PrevDate = lag(Date), PrevCases = lag(Cases), PrevDeaths = lag(Deaths))\n",
    "\n",
    "covidLagged$NewCases <- (covidLagged$Cases - covidLagged$PrevCases)\n",
    "covidLagged$NewDeaths <- (covidLagged$Deaths - covidLagged$PrevDeaths)"
   ]
  },
  {
   "cell_type": "code",
   "execution_count": 34,
   "metadata": {
    "execution": {
     "iopub.execute_input": "2021-03-18T02:24:10.608030Z",
     "iopub.status.busy": "2021-03-18T02:24:10.606972Z",
     "iopub.status.idle": "2021-03-18T02:24:10.664641Z",
     "shell.execute_reply": "2021-03-18T02:24:10.663374Z"
    },
    "papermill": {
     "duration": 0.161819,
     "end_time": "2021-03-18T02:24:10.664811",
     "exception": false,
     "start_time": "2021-03-18T02:24:10.502992",
     "status": "completed"
    },
    "tags": []
   },
   "outputs": [
    {
     "data": {
      "text/html": [
       "<table class=\"dataframe\">\n",
       "<caption>A grouped_df: 15 × 11</caption>\n",
       "<thead>\n",
       "\t<tr><th scope=col>Date</th><th scope=col>DateAsDate</th><th scope=col>State</th><th scope=col>Race</th><th scope=col>Cases</th><th scope=col>Deaths</th><th scope=col>PrevDate</th><th scope=col>PrevCases</th><th scope=col>PrevDeaths</th><th scope=col>NewCases</th><th scope=col>NewDeaths</th></tr>\n",
       "\t<tr><th scope=col>&lt;dbl&gt;</th><th scope=col>&lt;date&gt;</th><th scope=col>&lt;fct&gt;</th><th scope=col>&lt;fct&gt;</th><th scope=col>&lt;dbl&gt;</th><th scope=col>&lt;dbl&gt;</th><th scope=col>&lt;dbl&gt;</th><th scope=col>&lt;dbl&gt;</th><th scope=col>&lt;dbl&gt;</th><th scope=col>&lt;dbl&gt;</th><th scope=col>&lt;dbl&gt;</th></tr>\n",
       "</thead>\n",
       "<tbody>\n",
       "\t<tr><td>20200412</td><td>2020-04-12</td><td>AK</td><td>AIAN</td><td> 13</td><td>2</td><td>      NA</td><td> NA</td><td>NA</td><td>NA</td><td>NA</td></tr>\n",
       "\t<tr><td>20200419</td><td>2020-04-19</td><td>AK</td><td>AIAN</td><td> 14</td><td>2</td><td>20200412</td><td> 13</td><td> 2</td><td> 1</td><td> 0</td></tr>\n",
       "\t<tr><td>20200426</td><td>2020-04-26</td><td>AK</td><td>AIAN</td><td> 18</td><td>2</td><td>20200419</td><td> 14</td><td> 2</td><td> 4</td><td> 0</td></tr>\n",
       "\t<tr><td>20200503</td><td>2020-05-03</td><td>AK</td><td>AIAN</td><td> 22</td><td>2</td><td>20200426</td><td> 18</td><td> 2</td><td> 4</td><td> 0</td></tr>\n",
       "\t<tr><td>20200510</td><td>2020-05-10</td><td>AK</td><td>AIAN</td><td> 24</td><td>2</td><td>20200503</td><td> 22</td><td> 2</td><td> 2</td><td> 0</td></tr>\n",
       "\t<tr><td>20200517</td><td>2020-05-17</td><td>AK</td><td>AIAN</td><td> 29</td><td>2</td><td>20200510</td><td> 24</td><td> 2</td><td> 5</td><td> 0</td></tr>\n",
       "\t<tr><td>20200524</td><td>2020-05-24</td><td>AK</td><td>AIAN</td><td> 33</td><td>2</td><td>20200517</td><td> 29</td><td> 2</td><td> 4</td><td> 0</td></tr>\n",
       "\t<tr><td>20200531</td><td>2020-05-31</td><td>AK</td><td>AIAN</td><td> 41</td><td>2</td><td>20200524</td><td> 33</td><td> 2</td><td> 8</td><td> 0</td></tr>\n",
       "\t<tr><td>20200607</td><td>2020-06-07</td><td>AK</td><td>AIAN</td><td> 59</td><td>2</td><td>20200531</td><td> 41</td><td> 2</td><td>18</td><td> 0</td></tr>\n",
       "\t<tr><td>20200614</td><td>2020-06-14</td><td>AK</td><td>AIAN</td><td> 71</td><td>2</td><td>20200607</td><td> 59</td><td> 2</td><td>12</td><td> 0</td></tr>\n",
       "\t<tr><td>20200621</td><td>2020-06-21</td><td>AK</td><td>AIAN</td><td> 83</td><td>2</td><td>20200614</td><td> 71</td><td> 2</td><td>12</td><td> 0</td></tr>\n",
       "\t<tr><td>20200628</td><td>2020-06-28</td><td>AK</td><td>AIAN</td><td>101</td><td>2</td><td>20200621</td><td> 83</td><td> 2</td><td>18</td><td> 0</td></tr>\n",
       "\t<tr><td>20200705</td><td>2020-07-05</td><td>AK</td><td>AIAN</td><td>131</td><td>3</td><td>20200628</td><td>101</td><td> 2</td><td>30</td><td> 1</td></tr>\n",
       "\t<tr><td>20200712</td><td>2020-07-12</td><td>AK</td><td>AIAN</td><td>177</td><td>3</td><td>20200705</td><td>131</td><td> 3</td><td>46</td><td> 0</td></tr>\n",
       "\t<tr><td>20200719</td><td>2020-07-19</td><td>AK</td><td>AIAN</td><td>247</td><td>4</td><td>20200712</td><td>177</td><td> 3</td><td>70</td><td> 1</td></tr>\n",
       "</tbody>\n",
       "</table>\n"
      ],
      "text/latex": [
       "A grouped\\_df: 15 × 11\n",
       "\\begin{tabular}{lllllllllll}\n",
       " Date & DateAsDate & State & Race & Cases & Deaths & PrevDate & PrevCases & PrevDeaths & NewCases & NewDeaths\\\\\n",
       " <dbl> & <date> & <fct> & <fct> & <dbl> & <dbl> & <dbl> & <dbl> & <dbl> & <dbl> & <dbl>\\\\\n",
       "\\hline\n",
       "\t 20200412 & 2020-04-12 & AK & AIAN &  13 & 2 &       NA &  NA & NA & NA & NA\\\\\n",
       "\t 20200419 & 2020-04-19 & AK & AIAN &  14 & 2 & 20200412 &  13 &  2 &  1 &  0\\\\\n",
       "\t 20200426 & 2020-04-26 & AK & AIAN &  18 & 2 & 20200419 &  14 &  2 &  4 &  0\\\\\n",
       "\t 20200503 & 2020-05-03 & AK & AIAN &  22 & 2 & 20200426 &  18 &  2 &  4 &  0\\\\\n",
       "\t 20200510 & 2020-05-10 & AK & AIAN &  24 & 2 & 20200503 &  22 &  2 &  2 &  0\\\\\n",
       "\t 20200517 & 2020-05-17 & AK & AIAN &  29 & 2 & 20200510 &  24 &  2 &  5 &  0\\\\\n",
       "\t 20200524 & 2020-05-24 & AK & AIAN &  33 & 2 & 20200517 &  29 &  2 &  4 &  0\\\\\n",
       "\t 20200531 & 2020-05-31 & AK & AIAN &  41 & 2 & 20200524 &  33 &  2 &  8 &  0\\\\\n",
       "\t 20200607 & 2020-06-07 & AK & AIAN &  59 & 2 & 20200531 &  41 &  2 & 18 &  0\\\\\n",
       "\t 20200614 & 2020-06-14 & AK & AIAN &  71 & 2 & 20200607 &  59 &  2 & 12 &  0\\\\\n",
       "\t 20200621 & 2020-06-21 & AK & AIAN &  83 & 2 & 20200614 &  71 &  2 & 12 &  0\\\\\n",
       "\t 20200628 & 2020-06-28 & AK & AIAN & 101 & 2 & 20200621 &  83 &  2 & 18 &  0\\\\\n",
       "\t 20200705 & 2020-07-05 & AK & AIAN & 131 & 3 & 20200628 & 101 &  2 & 30 &  1\\\\\n",
       "\t 20200712 & 2020-07-12 & AK & AIAN & 177 & 3 & 20200705 & 131 &  3 & 46 &  0\\\\\n",
       "\t 20200719 & 2020-07-19 & AK & AIAN & 247 & 4 & 20200712 & 177 &  3 & 70 &  1\\\\\n",
       "\\end{tabular}\n"
      ],
      "text/markdown": [
       "\n",
       "A grouped_df: 15 × 11\n",
       "\n",
       "| Date &lt;dbl&gt; | DateAsDate &lt;date&gt; | State &lt;fct&gt; | Race &lt;fct&gt; | Cases &lt;dbl&gt; | Deaths &lt;dbl&gt; | PrevDate &lt;dbl&gt; | PrevCases &lt;dbl&gt; | PrevDeaths &lt;dbl&gt; | NewCases &lt;dbl&gt; | NewDeaths &lt;dbl&gt; |\n",
       "|---|---|---|---|---|---|---|---|---|---|---|\n",
       "| 20200412 | 2020-04-12 | AK | AIAN |  13 | 2 |       NA |  NA | NA | NA | NA |\n",
       "| 20200419 | 2020-04-19 | AK | AIAN |  14 | 2 | 20200412 |  13 |  2 |  1 |  0 |\n",
       "| 20200426 | 2020-04-26 | AK | AIAN |  18 | 2 | 20200419 |  14 |  2 |  4 |  0 |\n",
       "| 20200503 | 2020-05-03 | AK | AIAN |  22 | 2 | 20200426 |  18 |  2 |  4 |  0 |\n",
       "| 20200510 | 2020-05-10 | AK | AIAN |  24 | 2 | 20200503 |  22 |  2 |  2 |  0 |\n",
       "| 20200517 | 2020-05-17 | AK | AIAN |  29 | 2 | 20200510 |  24 |  2 |  5 |  0 |\n",
       "| 20200524 | 2020-05-24 | AK | AIAN |  33 | 2 | 20200517 |  29 |  2 |  4 |  0 |\n",
       "| 20200531 | 2020-05-31 | AK | AIAN |  41 | 2 | 20200524 |  33 |  2 |  8 |  0 |\n",
       "| 20200607 | 2020-06-07 | AK | AIAN |  59 | 2 | 20200531 |  41 |  2 | 18 |  0 |\n",
       "| 20200614 | 2020-06-14 | AK | AIAN |  71 | 2 | 20200607 |  59 |  2 | 12 |  0 |\n",
       "| 20200621 | 2020-06-21 | AK | AIAN |  83 | 2 | 20200614 |  71 |  2 | 12 |  0 |\n",
       "| 20200628 | 2020-06-28 | AK | AIAN | 101 | 2 | 20200621 |  83 |  2 | 18 |  0 |\n",
       "| 20200705 | 2020-07-05 | AK | AIAN | 131 | 3 | 20200628 | 101 |  2 | 30 |  1 |\n",
       "| 20200712 | 2020-07-12 | AK | AIAN | 177 | 3 | 20200705 | 131 |  3 | 46 |  0 |\n",
       "| 20200719 | 2020-07-19 | AK | AIAN | 247 | 4 | 20200712 | 177 |  3 | 70 |  1 |\n",
       "\n"
      ],
      "text/plain": [
       "   Date     DateAsDate State Race Cases Deaths PrevDate PrevCases PrevDeaths\n",
       "1  20200412 2020-04-12 AK    AIAN  13   2            NA  NA       NA        \n",
       "2  20200419 2020-04-19 AK    AIAN  14   2      20200412  13        2        \n",
       "3  20200426 2020-04-26 AK    AIAN  18   2      20200419  14        2        \n",
       "4  20200503 2020-05-03 AK    AIAN  22   2      20200426  18        2        \n",
       "5  20200510 2020-05-10 AK    AIAN  24   2      20200503  22        2        \n",
       "6  20200517 2020-05-17 AK    AIAN  29   2      20200510  24        2        \n",
       "7  20200524 2020-05-24 AK    AIAN  33   2      20200517  29        2        \n",
       "8  20200531 2020-05-31 AK    AIAN  41   2      20200524  33        2        \n",
       "9  20200607 2020-06-07 AK    AIAN  59   2      20200531  41        2        \n",
       "10 20200614 2020-06-14 AK    AIAN  71   2      20200607  59        2        \n",
       "11 20200621 2020-06-21 AK    AIAN  83   2      20200614  71        2        \n",
       "12 20200628 2020-06-28 AK    AIAN 101   2      20200621  83        2        \n",
       "13 20200705 2020-07-05 AK    AIAN 131   3      20200628 101        2        \n",
       "14 20200712 2020-07-12 AK    AIAN 177   3      20200705 131        3        \n",
       "15 20200719 2020-07-19 AK    AIAN 247   4      20200712 177        3        \n",
       "   NewCases NewDeaths\n",
       "1  NA       NA       \n",
       "2   1        0       \n",
       "3   4        0       \n",
       "4   4        0       \n",
       "5   2        0       \n",
       "6   5        0       \n",
       "7   4        0       \n",
       "8   8        0       \n",
       "9  18        0       \n",
       "10 12        0       \n",
       "11 12        0       \n",
       "12 18        0       \n",
       "13 30        1       \n",
       "14 46        0       \n",
       "15 70        1       "
      ]
     },
     "metadata": {},
     "output_type": "display_data"
    }
   ],
   "source": [
    "tmp <- covidLagged[covidLagged$State==\"AK\",]\n",
    "head(tmp[tmp$Race==\"AIAN\",] %>% arrange(Date), 15)"
   ]
  },
  {
   "cell_type": "markdown",
   "metadata": {
    "papermill": {
     "duration": 0.100269,
     "end_time": "2021-03-18T02:24:10.864752",
     "exception": false,
     "start_time": "2021-03-18T02:24:10.764483",
     "status": "completed"
    },
    "tags": []
   },
   "source": [
    "## Clean again"
   ]
  },
  {
   "cell_type": "markdown",
   "metadata": {
    "papermill": {
     "duration": 0.101534,
     "end_time": "2021-03-18T02:24:11.068374",
     "exception": false,
     "start_time": "2021-03-18T02:24:10.966840",
     "status": "completed"
    },
    "tags": []
   },
   "source": [
    "Now I am going to remove any row with NA.  There are two cases:\n",
    "* The first row of every state / race has NA for NewCases and NewDeaths because they are a difference from a previous row and these have no previous row. \n",
    "* There are also some state / race combinations that have NAs for everything.  There's nothing to analyze, so let's remove those."
   ]
  },
  {
   "cell_type": "code",
   "execution_count": 35,
   "metadata": {
    "execution": {
     "iopub.execute_input": "2021-03-18T02:24:11.275206Z",
     "iopub.status.busy": "2021-03-18T02:24:11.273953Z",
     "iopub.status.idle": "2021-03-18T02:24:11.295450Z",
     "shell.execute_reply": "2021-03-18T02:24:11.294627Z"
    },
    "papermill": {
     "duration": 0.12529,
     "end_time": "2021-03-18T02:24:11.295660",
     "exception": false,
     "start_time": "2021-03-18T02:24:11.170370",
     "status": "completed"
    },
    "tags": []
   },
   "outputs": [],
   "source": [
    "covidLaggedClean <- covidLagged[complete.cases(covidLagged), ]"
   ]
  },
  {
   "cell_type": "markdown",
   "metadata": {
    "papermill": {
     "duration": 0.110215,
     "end_time": "2021-03-18T02:24:11.524966",
     "exception": false,
     "start_time": "2021-03-18T02:24:11.414751",
     "status": "completed"
    },
    "tags": []
   },
   "source": [
    "## Negative new cases and deaths"
   ]
  },
  {
   "cell_type": "markdown",
   "metadata": {
    "papermill": {
     "duration": 0.104336,
     "end_time": "2021-03-18T02:24:11.745834",
     "exception": false,
     "start_time": "2021-03-18T02:24:11.641498",
     "status": "completed"
    },
    "tags": []
   },
   "source": [
    "After plotting and seeing some \"oops\" data below, I decided to look at cases of negative new cases and deaths.  Below I calculate the min value for each State/Race combination."
   ]
  },
  {
   "cell_type": "code",
   "execution_count": 36,
   "metadata": {
    "execution": {
     "iopub.execute_input": "2021-03-18T02:24:11.958233Z",
     "iopub.status.busy": "2021-03-18T02:24:11.956069Z",
     "iopub.status.idle": "2021-03-18T02:24:12.009228Z",
     "shell.execute_reply": "2021-03-18T02:24:12.007036Z"
    },
    "papermill": {
     "duration": 0.163171,
     "end_time": "2021-03-18T02:24:12.009405",
     "exception": false,
     "start_time": "2021-03-18T02:24:11.846234",
     "status": "completed"
    },
    "tags": []
   },
   "outputs": [],
   "source": [
    "covidLaggedClean$DateAsDate <- as.Date(as.character(covidLaggedClean[[\"Date\"]]), \"%Y%m%d\")"
   ]
  },
  {
   "cell_type": "code",
   "execution_count": 37,
   "metadata": {
    "execution": {
     "iopub.execute_input": "2021-03-18T02:24:12.226128Z",
     "iopub.status.busy": "2021-03-18T02:24:12.225107Z",
     "iopub.status.idle": "2021-03-18T02:24:12.444365Z",
     "shell.execute_reply": "2021-03-18T02:24:12.442723Z"
    },
    "papermill": {
     "duration": 0.323268,
     "end_time": "2021-03-18T02:24:12.444549",
     "exception": false,
     "start_time": "2021-03-18T02:24:12.121281",
     "status": "completed"
    },
    "tags": []
   },
   "outputs": [],
   "source": [
    "minNewCasesOrDeaths <- covidLaggedClean %>%\n",
    "  group_by(State, Race) %>%\n",
    "  group_modify(~ {\n",
    "     min(min(.x$NewCases), min(.x$NewDeaths)) %>%\n",
    "     tibble::enframe(value = \"min\")\n",
    "  })"
   ]
  },
  {
   "cell_type": "markdown",
   "metadata": {
    "papermill": {
     "duration": 0.100209,
     "end_time": "2021-03-18T02:24:12.646031",
     "exception": false,
     "start_time": "2021-03-18T02:24:12.545822",
     "status": "completed"
    },
    "tags": []
   },
   "source": [
    "How many state / race combinations had some negative?  The summary below shows-- Yikes-- more than half!"
   ]
  },
  {
   "cell_type": "code",
   "execution_count": 38,
   "metadata": {
    "execution": {
     "iopub.execute_input": "2021-03-18T02:24:12.852289Z",
     "iopub.status.busy": "2021-03-18T02:24:12.850919Z",
     "iopub.status.idle": "2021-03-18T02:24:12.883582Z",
     "shell.execute_reply": "2021-03-18T02:24:12.882019Z"
    },
    "papermill": {
     "duration": 0.13748,
     "end_time": "2021-03-18T02:24:12.883737",
     "exception": false,
     "start_time": "2021-03-18T02:24:12.746257",
     "status": "completed"
    },
    "tags": []
   },
   "outputs": [
    {
     "data": {
      "text/html": [
       "<table class=\"dataframe\">\n",
       "<caption>A data.frame: 1 × 2</caption>\n",
       "<thead>\n",
       "\t<tr><th scope=col>acceptable</th><th scope=col>hadNegatives</th></tr>\n",
       "\t<tr><th scope=col>&lt;int&gt;</th><th scope=col>&lt;int&gt;</th></tr>\n",
       "</thead>\n",
       "<tbody>\n",
       "\t<tr><td>113</td><td>243</td></tr>\n",
       "</tbody>\n",
       "</table>\n"
      ],
      "text/latex": [
       "A data.frame: 1 × 2\n",
       "\\begin{tabular}{ll}\n",
       " acceptable & hadNegatives\\\\\n",
       " <int> & <int>\\\\\n",
       "\\hline\n",
       "\t 113 & 243\\\\\n",
       "\\end{tabular}\n"
      ],
      "text/markdown": [
       "\n",
       "A data.frame: 1 × 2\n",
       "\n",
       "| acceptable &lt;int&gt; | hadNegatives &lt;int&gt; |\n",
       "|---|---|\n",
       "| 113 | 243 |\n",
       "\n"
      ],
      "text/plain": [
       "  acceptable hadNegatives\n",
       "1 113        243         "
      ]
     },
     "metadata": {},
     "output_type": "display_data"
    }
   ],
   "source": [
    "data.frame(acceptable= nrow(minNewCasesOrDeaths[minNewCasesOrDeaths$min >= 0,]), hadNegatives=nrow(minNewCasesOrDeaths[minNewCasesOrDeaths$min < 0,]))"
   ]
  },
  {
   "cell_type": "markdown",
   "metadata": {
    "papermill": {
     "duration": 0.128635,
     "end_time": "2021-03-18T02:24:13.114374",
     "exception": false,
     "start_time": "2021-03-18T02:24:12.985739",
     "status": "completed"
    },
    "tags": []
   },
   "source": [
    "If we tolerate up to -10, we can get most of our series to be acceptable."
   ]
  },
  {
   "cell_type": "code",
   "execution_count": 39,
   "metadata": {
    "execution": {
     "iopub.execute_input": "2021-03-18T02:24:13.324905Z",
     "iopub.status.busy": "2021-03-18T02:24:13.324382Z",
     "iopub.status.idle": "2021-03-18T02:24:13.353604Z",
     "shell.execute_reply": "2021-03-18T02:24:13.352502Z"
    },
    "papermill": {
     "duration": 0.138525,
     "end_time": "2021-03-18T02:24:13.353775",
     "exception": false,
     "start_time": "2021-03-18T02:24:13.215250",
     "status": "completed"
    },
    "tags": []
   },
   "outputs": [
    {
     "data": {
      "text/html": [
       "<table class=\"dataframe\">\n",
       "<caption>A data.frame: 1 × 2</caption>\n",
       "<thead>\n",
       "\t<tr><th scope=col>acceptable</th><th scope=col>belowNegative10</th></tr>\n",
       "\t<tr><th scope=col>&lt;int&gt;</th><th scope=col>&lt;int&gt;</th></tr>\n",
       "</thead>\n",
       "<tbody>\n",
       "\t<tr><td>182</td><td>174</td></tr>\n",
       "</tbody>\n",
       "</table>\n"
      ],
      "text/latex": [
       "A data.frame: 1 × 2\n",
       "\\begin{tabular}{ll}\n",
       " acceptable & belowNegative10\\\\\n",
       " <int> & <int>\\\\\n",
       "\\hline\n",
       "\t 182 & 174\\\\\n",
       "\\end{tabular}\n"
      ],
      "text/markdown": [
       "\n",
       "A data.frame: 1 × 2\n",
       "\n",
       "| acceptable &lt;int&gt; | belowNegative10 &lt;int&gt; |\n",
       "|---|---|\n",
       "| 182 | 174 |\n",
       "\n"
      ],
      "text/plain": [
       "  acceptable belowNegative10\n",
       "1 182        174            "
      ]
     },
     "metadata": {},
     "output_type": "display_data"
    }
   ],
   "source": [
    "data.frame(acceptable= nrow(minNewCasesOrDeaths[minNewCasesOrDeaths$min >= -10,]), belowNegative10=nrow(minNewCasesOrDeaths[minNewCasesOrDeaths$min < -10,]))"
   ]
  },
  {
   "cell_type": "markdown",
   "metadata": {
    "papermill": {
     "duration": 0.106551,
     "end_time": "2021-03-18T02:24:13.563442",
     "exception": false,
     "start_time": "2021-03-18T02:24:13.456891",
     "status": "completed"
    },
    "tags": []
   },
   "source": [
    "## Cleaning diff (New Case / Death) outliers with a Hampel filter"
   ]
  },
  {
   "cell_type": "code",
   "execution_count": 40,
   "metadata": {
    "execution": {
     "iopub.execute_input": "2021-03-18T02:24:13.774136Z",
     "iopub.status.busy": "2021-03-18T02:24:13.772408Z",
     "iopub.status.idle": "2021-03-18T02:24:13.787145Z",
     "shell.execute_reply": "2021-03-18T02:24:13.785432Z"
    },
    "papermill": {
     "duration": 0.121993,
     "end_time": "2021-03-18T02:24:13.787467",
     "exception": false,
     "start_time": "2021-03-18T02:24:13.665474",
     "status": "completed"
    },
    "tags": []
   },
   "outputs": [],
   "source": [
    "library(pracma)"
   ]
  },
  {
   "cell_type": "markdown",
   "metadata": {
    "papermill": {
     "duration": 0.103919,
     "end_time": "2021-03-18T02:24:13.997557",
     "exception": false,
     "start_time": "2021-03-18T02:24:13.893638",
     "status": "completed"
    },
    "tags": []
   },
   "source": [
    "### Illinois AIAN"
   ]
  },
  {
   "cell_type": "code",
   "execution_count": 41,
   "metadata": {
    "execution": {
     "iopub.execute_input": "2021-03-18T02:24:14.211790Z",
     "iopub.status.busy": "2021-03-18T02:24:14.209957Z",
     "iopub.status.idle": "2021-03-18T02:24:14.233088Z",
     "shell.execute_reply": "2021-03-18T02:24:14.231594Z"
    },
    "papermill": {
     "duration": 0.131887,
     "end_time": "2021-03-18T02:24:14.233283",
     "exception": false,
     "start_time": "2021-03-18T02:24:14.101396",
     "status": "completed"
    },
    "tags": []
   },
   "outputs": [],
   "source": [
    "ts <- covidLaggedClean %>% filter(State==\"IL\" && Race==\"AIAN\")"
   ]
  },
  {
   "cell_type": "code",
   "execution_count": 42,
   "metadata": {
    "execution": {
     "iopub.execute_input": "2021-03-18T02:24:14.442984Z",
     "iopub.status.busy": "2021-03-18T02:24:14.441099Z",
     "iopub.status.idle": "2021-03-18T02:24:14.475089Z",
     "shell.execute_reply": "2021-03-18T02:24:14.473434Z"
    },
    "papermill": {
     "duration": 0.140212,
     "end_time": "2021-03-18T02:24:14.475287",
     "exception": false,
     "start_time": "2021-03-18T02:24:14.335075",
     "status": "completed"
    },
    "tags": []
   },
   "outputs": [
    {
     "data": {
      "text/html": [
       "<table class=\"dataframe\">\n",
       "<caption>A grouped_df: 6 × 11</caption>\n",
       "<thead>\n",
       "\t<tr><th scope=col>Date</th><th scope=col>DateAsDate</th><th scope=col>State</th><th scope=col>Race</th><th scope=col>Cases</th><th scope=col>Deaths</th><th scope=col>PrevDate</th><th scope=col>PrevCases</th><th scope=col>PrevDeaths</th><th scope=col>NewCases</th><th scope=col>NewDeaths</th></tr>\n",
       "\t<tr><th scope=col>&lt;dbl&gt;</th><th scope=col>&lt;date&gt;</th><th scope=col>&lt;fct&gt;</th><th scope=col>&lt;fct&gt;</th><th scope=col>&lt;dbl&gt;</th><th scope=col>&lt;dbl&gt;</th><th scope=col>&lt;dbl&gt;</th><th scope=col>&lt;dbl&gt;</th><th scope=col>&lt;dbl&gt;</th><th scope=col>&lt;dbl&gt;</th><th scope=col>&lt;dbl&gt;</th></tr>\n",
       "</thead>\n",
       "<tbody>\n",
       "\t<tr><td>20200419</td><td>2020-04-19</td><td>IL</td><td>AIAN</td><td> 46</td><td>512</td><td>20200412</td><td> 24</td><td>  2</td><td>22</td><td> 510</td></tr>\n",
       "\t<tr><td>20200426</td><td>2020-04-26</td><td>IL</td><td>AIAN</td><td> 65</td><td>  2</td><td>20200419</td><td> 46</td><td>512</td><td>19</td><td>-510</td></tr>\n",
       "\t<tr><td>20200503</td><td>2020-05-03</td><td>IL</td><td>AIAN</td><td> 82</td><td>  3</td><td>20200426</td><td> 65</td><td>  2</td><td>17</td><td>   1</td></tr>\n",
       "\t<tr><td>20200510</td><td>2020-05-10</td><td>IL</td><td>AIAN</td><td>126</td><td>  6</td><td>20200503</td><td> 82</td><td>  3</td><td>44</td><td>   3</td></tr>\n",
       "\t<tr><td>20200517</td><td>2020-05-17</td><td>IL</td><td>AIAN</td><td>159</td><td>  7</td><td>20200510</td><td>126</td><td>  6</td><td>33</td><td>   1</td></tr>\n",
       "\t<tr><td>20200524</td><td>2020-05-24</td><td>IL</td><td>AIAN</td><td>181</td><td>  7</td><td>20200517</td><td>159</td><td>  7</td><td>22</td><td>   0</td></tr>\n",
       "</tbody>\n",
       "</table>\n"
      ],
      "text/latex": [
       "A grouped\\_df: 6 × 11\n",
       "\\begin{tabular}{lllllllllll}\n",
       " Date & DateAsDate & State & Race & Cases & Deaths & PrevDate & PrevCases & PrevDeaths & NewCases & NewDeaths\\\\\n",
       " <dbl> & <date> & <fct> & <fct> & <dbl> & <dbl> & <dbl> & <dbl> & <dbl> & <dbl> & <dbl>\\\\\n",
       "\\hline\n",
       "\t 20200419 & 2020-04-19 & IL & AIAN &  46 & 512 & 20200412 &  24 &   2 & 22 &  510\\\\\n",
       "\t 20200426 & 2020-04-26 & IL & AIAN &  65 &   2 & 20200419 &  46 & 512 & 19 & -510\\\\\n",
       "\t 20200503 & 2020-05-03 & IL & AIAN &  82 &   3 & 20200426 &  65 &   2 & 17 &    1\\\\\n",
       "\t 20200510 & 2020-05-10 & IL & AIAN & 126 &   6 & 20200503 &  82 &   3 & 44 &    3\\\\\n",
       "\t 20200517 & 2020-05-17 & IL & AIAN & 159 &   7 & 20200510 & 126 &   6 & 33 &    1\\\\\n",
       "\t 20200524 & 2020-05-24 & IL & AIAN & 181 &   7 & 20200517 & 159 &   7 & 22 &    0\\\\\n",
       "\\end{tabular}\n"
      ],
      "text/markdown": [
       "\n",
       "A grouped_df: 6 × 11\n",
       "\n",
       "| Date &lt;dbl&gt; | DateAsDate &lt;date&gt; | State &lt;fct&gt; | Race &lt;fct&gt; | Cases &lt;dbl&gt; | Deaths &lt;dbl&gt; | PrevDate &lt;dbl&gt; | PrevCases &lt;dbl&gt; | PrevDeaths &lt;dbl&gt; | NewCases &lt;dbl&gt; | NewDeaths &lt;dbl&gt; |\n",
       "|---|---|---|---|---|---|---|---|---|---|---|\n",
       "| 20200419 | 2020-04-19 | IL | AIAN |  46 | 512 | 20200412 |  24 |   2 | 22 |  510 |\n",
       "| 20200426 | 2020-04-26 | IL | AIAN |  65 |   2 | 20200419 |  46 | 512 | 19 | -510 |\n",
       "| 20200503 | 2020-05-03 | IL | AIAN |  82 |   3 | 20200426 |  65 |   2 | 17 |    1 |\n",
       "| 20200510 | 2020-05-10 | IL | AIAN | 126 |   6 | 20200503 |  82 |   3 | 44 |    3 |\n",
       "| 20200517 | 2020-05-17 | IL | AIAN | 159 |   7 | 20200510 | 126 |   6 | 33 |    1 |\n",
       "| 20200524 | 2020-05-24 | IL | AIAN | 181 |   7 | 20200517 | 159 |   7 | 22 |    0 |\n",
       "\n"
      ],
      "text/plain": [
       "  Date     DateAsDate State Race Cases Deaths PrevDate PrevCases PrevDeaths\n",
       "1 20200419 2020-04-19 IL    AIAN  46   512    20200412  24         2       \n",
       "2 20200426 2020-04-26 IL    AIAN  65     2    20200419  46       512       \n",
       "3 20200503 2020-05-03 IL    AIAN  82     3    20200426  65         2       \n",
       "4 20200510 2020-05-10 IL    AIAN 126     6    20200503  82         3       \n",
       "5 20200517 2020-05-17 IL    AIAN 159     7    20200510 126         6       \n",
       "6 20200524 2020-05-24 IL    AIAN 181     7    20200517 159         7       \n",
       "  NewCases NewDeaths\n",
       "1 22        510     \n",
       "2 19       -510     \n",
       "3 17          1     \n",
       "4 44          3     \n",
       "5 33          1     \n",
       "6 22          0     "
      ]
     },
     "metadata": {},
     "output_type": "display_data"
    }
   ],
   "source": [
    "head(ts)"
   ]
  },
  {
   "cell_type": "markdown",
   "metadata": {
    "papermill": {
     "duration": 0.103029,
     "end_time": "2021-03-18T02:24:14.681279",
     "exception": false,
     "start_time": "2021-03-18T02:24:14.578250",
     "status": "completed"
    },
    "tags": []
   },
   "source": [
    "We are using a window size of 5 and regarding a point more than 3 from hte MAD as an outlier."
   ]
  },
  {
   "cell_type": "code",
   "execution_count": 43,
   "metadata": {
    "execution": {
     "iopub.execute_input": "2021-03-18T02:24:14.892816Z",
     "iopub.status.busy": "2021-03-18T02:24:14.891021Z",
     "iopub.status.idle": "2021-03-18T02:24:14.912397Z",
     "shell.execute_reply": "2021-03-18T02:24:14.910805Z"
    },
    "papermill": {
     "duration": 0.128945,
     "end_time": "2021-03-18T02:24:14.912555",
     "exception": false,
     "start_time": "2021-03-18T02:24:14.783610",
     "status": "completed"
    },
    "tags": []
   },
   "outputs": [
    {
     "data": {
      "text/html": [
       "<style>\n",
       ".list-inline {list-style: none; margin:0; padding: 0}\n",
       ".list-inline>li {display: inline-block}\n",
       ".list-inline>li:not(:last-child)::after {content: \"\\00b7\"; padding: 0 .5ex}\n",
       "</style>\n",
       "<ol class=list-inline><li>12</li><li>19</li><li>21</li><li>28</li><li>30</li><li>33</li><li>40</li></ol>\n"
      ],
      "text/latex": [
       "\\begin{enumerate*}\n",
       "\\item 12\n",
       "\\item 19\n",
       "\\item 21\n",
       "\\item 28\n",
       "\\item 30\n",
       "\\item 33\n",
       "\\item 40\n",
       "\\end{enumerate*}\n"
      ],
      "text/markdown": [
       "1. 12\n",
       "2. 19\n",
       "3. 21\n",
       "4. 28\n",
       "5. 30\n",
       "6. 33\n",
       "7. 40\n",
       "\n",
       "\n"
      ],
      "text/plain": [
       "[1] 12 19 21 28 30 33 40"
      ]
     },
     "metadata": {},
     "output_type": "display_data"
    }
   ],
   "source": [
    "ts.hampel <- hampel(ts$NewDeaths, 5, 3)\n",
    "ts.hampel$ind"
   ]
  },
  {
   "cell_type": "markdown",
   "metadata": {
    "papermill": {
     "duration": 0.105783,
     "end_time": "2021-03-18T02:24:15.122750",
     "exception": false,
     "start_time": "2021-03-18T02:24:15.016967",
     "status": "completed"
    },
    "tags": []
   },
   "source": [
    "Collect times and values at these indices for plotting."
   ]
  },
  {
   "cell_type": "code",
   "execution_count": 44,
   "metadata": {
    "execution": {
     "iopub.execute_input": "2021-03-18T02:24:15.335741Z",
     "iopub.status.busy": "2021-03-18T02:24:15.333860Z",
     "iopub.status.idle": "2021-03-18T02:24:15.431161Z",
     "shell.execute_reply": "2021-03-18T02:24:15.429634Z"
    },
    "papermill": {
     "duration": 0.20452,
     "end_time": "2021-03-18T02:24:15.431357",
     "exception": false,
     "start_time": "2021-03-18T02:24:15.226837",
     "status": "completed"
    },
    "tags": []
   },
   "outputs": [
    {
     "data": {
      "image/png": "[encoded data removed]"
     },
     "metadata": {
      "image/png": {
       "height": 240,
       "width": 480
      }
     },
     "output_type": "display_data"
    }
   ],
   "source": [
    "options(repr.plot.width=8, repr.plot.height=4)\n",
    "plot(ts[,c(\"DateAsDate\", \"NewDeaths\")], col=\"dodgerblue2\",\n",
    "     main = \"Illinois AIAN with outliers in read\" )\n",
    "points(ts$DateAsDate[ts.hampel$ind], ts$NewDeaths[ts.hampel$ind],\n",
    "    pch=4, col=\"red\")\n",
    "grid()"
   ]
  },
  {
   "cell_type": "markdown",
   "metadata": {
    "papermill": {
     "duration": 0.10474,
     "end_time": "2021-03-18T02:24:15.643941",
     "exception": false,
     "start_time": "2021-03-18T02:24:15.539201",
     "status": "completed"
    },
    "tags": []
   },
   "source": [
    "Not great-- it missed the two big outliers at the beginning, and the things it found were unimportant wiggles."
   ]
  },
  {
   "cell_type": "markdown",
   "metadata": {
    "papermill": {
     "duration": 0.104955,
     "end_time": "2021-03-18T02:24:15.853596",
     "exception": false,
     "start_time": "2021-03-18T02:24:15.748641",
     "status": "completed"
    },
    "tags": []
   },
   "source": [
    "### Illinois Unknown"
   ]
  },
  {
   "cell_type": "code",
   "execution_count": 45,
   "metadata": {
    "execution": {
     "iopub.execute_input": "2021-03-18T02:24:16.069838Z",
     "iopub.status.busy": "2021-03-18T02:24:16.068074Z",
     "iopub.status.idle": "2021-03-18T02:24:16.118400Z",
     "shell.execute_reply": "2021-03-18T02:24:16.116830Z"
    },
    "papermill": {
     "duration": 0.159418,
     "end_time": "2021-03-18T02:24:16.118562",
     "exception": false,
     "start_time": "2021-03-18T02:24:15.959144",
     "status": "completed"
    },
    "tags": []
   },
   "outputs": [
    {
     "data": {
      "text/html": [
       "<table class=\"dataframe\">\n",
       "<caption>A grouped_df: 3 × 11</caption>\n",
       "<thead>\n",
       "\t<tr><th scope=col>Date</th><th scope=col>DateAsDate</th><th scope=col>State</th><th scope=col>Race</th><th scope=col>Cases</th><th scope=col>Deaths</th><th scope=col>PrevDate</th><th scope=col>PrevCases</th><th scope=col>PrevDeaths</th><th scope=col>NewCases</th><th scope=col>NewDeaths</th></tr>\n",
       "\t<tr><th scope=col>&lt;dbl&gt;</th><th scope=col>&lt;date&gt;</th><th scope=col>&lt;fct&gt;</th><th scope=col>&lt;fct&gt;</th><th scope=col>&lt;dbl&gt;</th><th scope=col>&lt;dbl&gt;</th><th scope=col>&lt;dbl&gt;</th><th scope=col>&lt;dbl&gt;</th><th scope=col>&lt;dbl&gt;</th><th scope=col>&lt;dbl&gt;</th><th scope=col>&lt;dbl&gt;</th></tr>\n",
       "</thead>\n",
       "<tbody>\n",
       "\t<tr><td>20200419</td><td>2020-04-19</td><td>IL</td><td>Unknown</td><td> 7898</td><td>15</td><td>20200412</td><td> 5936</td><td>41</td><td>1962</td><td>-26</td></tr>\n",
       "\t<tr><td>20200426</td><td>2020-04-26</td><td>IL</td><td>Unknown</td><td>11341</td><td>19</td><td>20200419</td><td> 7898</td><td>15</td><td>3443</td><td>  4</td></tr>\n",
       "\t<tr><td>20200503</td><td>2020-05-03</td><td>IL</td><td>Unknown</td><td>16517</td><td>30</td><td>20200426</td><td>11341</td><td>19</td><td>5176</td><td> 11</td></tr>\n",
       "</tbody>\n",
       "</table>\n"
      ],
      "text/latex": [
       "A grouped\\_df: 3 × 11\n",
       "\\begin{tabular}{lllllllllll}\n",
       " Date & DateAsDate & State & Race & Cases & Deaths & PrevDate & PrevCases & PrevDeaths & NewCases & NewDeaths\\\\\n",
       " <dbl> & <date> & <fct> & <fct> & <dbl> & <dbl> & <dbl> & <dbl> & <dbl> & <dbl> & <dbl>\\\\\n",
       "\\hline\n",
       "\t 20200419 & 2020-04-19 & IL & Unknown &  7898 & 15 & 20200412 &  5936 & 41 & 1962 & -26\\\\\n",
       "\t 20200426 & 2020-04-26 & IL & Unknown & 11341 & 19 & 20200419 &  7898 & 15 & 3443 &   4\\\\\n",
       "\t 20200503 & 2020-05-03 & IL & Unknown & 16517 & 30 & 20200426 & 11341 & 19 & 5176 &  11\\\\\n",
       "\\end{tabular}\n"
      ],
      "text/markdown": [
       "\n",
       "A grouped_df: 3 × 11\n",
       "\n",
       "| Date &lt;dbl&gt; | DateAsDate &lt;date&gt; | State &lt;fct&gt; | Race &lt;fct&gt; | Cases &lt;dbl&gt; | Deaths &lt;dbl&gt; | PrevDate &lt;dbl&gt; | PrevCases &lt;dbl&gt; | PrevDeaths &lt;dbl&gt; | NewCases &lt;dbl&gt; | NewDeaths &lt;dbl&gt; |\n",
       "|---|---|---|---|---|---|---|---|---|---|---|\n",
       "| 20200419 | 2020-04-19 | IL | Unknown |  7898 | 15 | 20200412 |  5936 | 41 | 1962 | -26 |\n",
       "| 20200426 | 2020-04-26 | IL | Unknown | 11341 | 19 | 20200419 |  7898 | 15 | 3443 |   4 |\n",
       "| 20200503 | 2020-05-03 | IL | Unknown | 16517 | 30 | 20200426 | 11341 | 19 | 5176 |  11 |\n",
       "\n"
      ],
      "text/plain": [
       "  Date     DateAsDate State Race    Cases Deaths PrevDate PrevCases PrevDeaths\n",
       "1 20200419 2020-04-19 IL    Unknown  7898 15     20200412  5936     41        \n",
       "2 20200426 2020-04-26 IL    Unknown 11341 19     20200419  7898     15        \n",
       "3 20200503 2020-05-03 IL    Unknown 16517 30     20200426 11341     19        \n",
       "  NewCases NewDeaths\n",
       "1 1962     -26      \n",
       "2 3443       4      \n",
       "3 5176      11      "
      ]
     },
     "metadata": {},
     "output_type": "display_data"
    }
   ],
   "source": [
    "covidLaggedOneState <- covidLaggedClean[covidLaggedClean$State==\"IL\",]\n",
    "ts <- covidLaggedOneState[covidLaggedOneState$Race==\"Unknown\",]\n",
    "head(ts, 3)"
   ]
  },
  {
   "cell_type": "code",
   "execution_count": 46,
   "metadata": {
    "execution": {
     "iopub.execute_input": "2021-03-18T02:24:16.341957Z",
     "iopub.status.busy": "2021-03-18T02:24:16.340662Z",
     "iopub.status.idle": "2021-03-18T02:24:16.359828Z",
     "shell.execute_reply": "2021-03-18T02:24:16.358557Z"
    },
    "papermill": {
     "duration": 0.13297,
     "end_time": "2021-03-18T02:24:16.359982",
     "exception": false,
     "start_time": "2021-03-18T02:24:16.227012",
     "status": "completed"
    },
    "tags": []
   },
   "outputs": [
    {
     "data": {
      "text/html": [
       "<style>\n",
       ".list-inline {list-style: none; margin:0; padding: 0}\n",
       ".list-inline>li {display: inline-block}\n",
       ".list-inline>li:not(:last-child)::after {content: \"\\00b7\"; padding: 0 .5ex}\n",
       "</style>\n",
       "<ol class=list-inline><li>11</li><li>12</li></ol>\n"
      ],
      "text/latex": [
       "\\begin{enumerate*}\n",
       "\\item 11\n",
       "\\item 12\n",
       "\\end{enumerate*}\n"
      ],
      "text/markdown": [
       "1. 11\n",
       "2. 12\n",
       "\n",
       "\n"
      ],
      "text/plain": [
       "[1] 11 12"
      ]
     },
     "metadata": {},
     "output_type": "display_data"
    }
   ],
   "source": [
    "ts.hampel <- hampel(ts$NewDeaths, 5, 3)\n",
    "ts.hampel$ind"
   ]
  },
  {
   "cell_type": "code",
   "execution_count": 47,
   "metadata": {
    "execution": {
     "iopub.execute_input": "2021-03-18T02:24:16.612474Z",
     "iopub.status.busy": "2021-03-18T02:24:16.609857Z",
     "iopub.status.idle": "2021-03-18T02:24:16.717695Z",
     "shell.execute_reply": "2021-03-18T02:24:16.717257Z"
    },
    "papermill": {
     "duration": 0.246953,
     "end_time": "2021-03-18T02:24:16.717831",
     "exception": false,
     "start_time": "2021-03-18T02:24:16.470878",
     "status": "completed"
    },
    "tags": []
   },
   "outputs": [
    {
     "data": {
      "image/png": "[encoded data removed]"
     },
     "metadata": {
      "image/png": {
       "height": 240,
       "width": 480
      }
     },
     "output_type": "display_data"
    }
   ],
   "source": [
    "options(repr.plot.width=8, repr.plot.height=4)\n",
    "plot(ts[,c(\"DateAsDate\", \"NewDeaths\")], col=\"dodgerblue2\",\n",
    "     main = \"Illinois Unknown with outliers in red\" )\n",
    "points(ts$DateAsDate[ts.hampel$ind], ts$NewDeaths[ts.hampel$ind],\n",
    "    pch=4, col=\"red\")\n",
    "grid()"
   ]
  },
  {
   "cell_type": "markdown",
   "metadata": {
    "papermill": {
     "duration": 0.1129,
     "end_time": "2021-03-18T02:24:16.940731",
     "exception": false,
     "start_time": "2021-03-18T02:24:16.827831",
     "status": "completed"
    },
    "tags": []
   },
   "source": [
    "This was a good cleaning job, although it still did miss some negative new deaths."
   ]
  },
  {
   "cell_type": "markdown",
   "metadata": {
    "papermill": {
     "duration": 0.109064,
     "end_time": "2021-03-18T02:24:17.158968",
     "exception": false,
     "start_time": "2021-03-18T02:24:17.049904",
     "status": "completed"
    },
    "tags": []
   },
   "source": [
    "### Illinois White-- no outliers"
   ]
  },
  {
   "cell_type": "code",
   "execution_count": 48,
   "metadata": {
    "execution": {
     "iopub.execute_input": "2021-03-18T02:24:17.382169Z",
     "iopub.status.busy": "2021-03-18T02:24:17.380779Z",
     "iopub.status.idle": "2021-03-18T02:24:17.428129Z",
     "shell.execute_reply": "2021-03-18T02:24:17.426931Z"
    },
    "papermill": {
     "duration": 0.160691,
     "end_time": "2021-03-18T02:24:17.428312",
     "exception": false,
     "start_time": "2021-03-18T02:24:17.267621",
     "status": "completed"
    },
    "tags": []
   },
   "outputs": [
    {
     "data": {
      "text/html": [
       "<table class=\"dataframe\">\n",
       "<caption>A grouped_df: 3 × 11</caption>\n",
       "<thead>\n",
       "\t<tr><th scope=col>Date</th><th scope=col>DateAsDate</th><th scope=col>State</th><th scope=col>Race</th><th scope=col>Cases</th><th scope=col>Deaths</th><th scope=col>PrevDate</th><th scope=col>PrevCases</th><th scope=col>PrevDeaths</th><th scope=col>NewCases</th><th scope=col>NewDeaths</th></tr>\n",
       "\t<tr><th scope=col>&lt;dbl&gt;</th><th scope=col>&lt;date&gt;</th><th scope=col>&lt;fct&gt;</th><th scope=col>&lt;fct&gt;</th><th scope=col>&lt;dbl&gt;</th><th scope=col>&lt;dbl&gt;</th><th scope=col>&lt;dbl&gt;</th><th scope=col>&lt;dbl&gt;</th><th scope=col>&lt;dbl&gt;</th><th scope=col>&lt;dbl&gt;</th><th scope=col>&lt;dbl&gt;</th></tr>\n",
       "</thead>\n",
       "<tbody>\n",
       "\t<tr><td>20200419</td><td>2020-04-19</td><td>IL</td><td>White</td><td> 7554</td><td> 501</td><td>20200412</td><td> 5214</td><td>259</td><td>2340</td><td>242</td></tr>\n",
       "\t<tr><td>20200426</td><td>2020-04-26</td><td>IL</td><td>White</td><td>10427</td><td> 794</td><td>20200419</td><td> 7554</td><td>501</td><td>2873</td><td>293</td></tr>\n",
       "\t<tr><td>20200503</td><td>2020-05-03</td><td>IL</td><td>White</td><td>13566</td><td>1096</td><td>20200426</td><td>10427</td><td>794</td><td>3139</td><td>302</td></tr>\n",
       "</tbody>\n",
       "</table>\n"
      ],
      "text/latex": [
       "A grouped\\_df: 3 × 11\n",
       "\\begin{tabular}{lllllllllll}\n",
       " Date & DateAsDate & State & Race & Cases & Deaths & PrevDate & PrevCases & PrevDeaths & NewCases & NewDeaths\\\\\n",
       " <dbl> & <date> & <fct> & <fct> & <dbl> & <dbl> & <dbl> & <dbl> & <dbl> & <dbl> & <dbl>\\\\\n",
       "\\hline\n",
       "\t 20200419 & 2020-04-19 & IL & White &  7554 &  501 & 20200412 &  5214 & 259 & 2340 & 242\\\\\n",
       "\t 20200426 & 2020-04-26 & IL & White & 10427 &  794 & 20200419 &  7554 & 501 & 2873 & 293\\\\\n",
       "\t 20200503 & 2020-05-03 & IL & White & 13566 & 1096 & 20200426 & 10427 & 794 & 3139 & 302\\\\\n",
       "\\end{tabular}\n"
      ],
      "text/markdown": [
       "\n",
       "A grouped_df: 3 × 11\n",
       "\n",
       "| Date &lt;dbl&gt; | DateAsDate &lt;date&gt; | State &lt;fct&gt; | Race &lt;fct&gt; | Cases &lt;dbl&gt; | Deaths &lt;dbl&gt; | PrevDate &lt;dbl&gt; | PrevCases &lt;dbl&gt; | PrevDeaths &lt;dbl&gt; | NewCases &lt;dbl&gt; | NewDeaths &lt;dbl&gt; |\n",
       "|---|---|---|---|---|---|---|---|---|---|---|\n",
       "| 20200419 | 2020-04-19 | IL | White |  7554 |  501 | 20200412 |  5214 | 259 | 2340 | 242 |\n",
       "| 20200426 | 2020-04-26 | IL | White | 10427 |  794 | 20200419 |  7554 | 501 | 2873 | 293 |\n",
       "| 20200503 | 2020-05-03 | IL | White | 13566 | 1096 | 20200426 | 10427 | 794 | 3139 | 302 |\n",
       "\n"
      ],
      "text/plain": [
       "  Date     DateAsDate State Race  Cases Deaths PrevDate PrevCases PrevDeaths\n",
       "1 20200419 2020-04-19 IL    White  7554  501   20200412  5214     259       \n",
       "2 20200426 2020-04-26 IL    White 10427  794   20200419  7554     501       \n",
       "3 20200503 2020-05-03 IL    White 13566 1096   20200426 10427     794       \n",
       "  NewCases NewDeaths\n",
       "1 2340     242      \n",
       "2 2873     293      \n",
       "3 3139     302      "
      ]
     },
     "metadata": {},
     "output_type": "display_data"
    }
   ],
   "source": [
    "covidLaggedOneState <- covidLaggedClean[covidLaggedClean$State==\"IL\",]\n",
    "ts <- covidLaggedOneState[covidLaggedOneState$Race==\"White\",]\n",
    "head(ts, 3)"
   ]
  },
  {
   "cell_type": "markdown",
   "metadata": {
    "papermill": {
     "duration": 0.11154,
     "end_time": "2021-03-18T02:24:17.653164",
     "exception": false,
     "start_time": "2021-03-18T02:24:17.541624",
     "status": "completed"
    },
    "tags": []
   },
   "source": [
    "### Apply to all"
   ]
  },
  {
   "cell_type": "markdown",
   "metadata": {
    "papermill": {
     "duration": 0.11191,
     "end_time": "2021-03-18T02:24:17.875396",
     "exception": false,
     "start_time": "2021-03-18T02:24:17.763486",
     "status": "completed"
    },
    "tags": []
   },
   "source": [
    "The code below works but is kinda slow."
   ]
  },
  {
   "cell_type": "code",
   "execution_count": 49,
   "metadata": {
    "execution": {
     "iopub.execute_input": "2021-03-18T02:24:18.105494Z",
     "iopub.status.busy": "2021-03-18T02:24:18.104217Z",
     "iopub.status.idle": "2021-03-18T02:24:18.118438Z",
     "shell.execute_reply": "2021-03-18T02:24:18.117087Z"
    },
    "papermill": {
     "duration": 0.131273,
     "end_time": "2021-03-18T02:24:18.118609",
     "exception": false,
     "start_time": "2021-03-18T02:24:17.987336",
     "status": "completed"
    },
    "tags": []
   },
   "outputs": [],
   "source": [
    "hampelWindow <- 5\n",
    "hampelThreshold <- 3"
   ]
  },
  {
   "cell_type": "code",
   "execution_count": 50,
   "metadata": {
    "execution": {
     "iopub.execute_input": "2021-03-18T02:24:18.348464Z",
     "iopub.status.busy": "2021-03-18T02:24:18.346762Z",
     "iopub.status.idle": "2021-03-18T02:24:27.170129Z",
     "shell.execute_reply": "2021-03-18T02:24:27.168749Z"
    },
    "papermill": {
     "duration": 8.940562,
     "end_time": "2021-03-18T02:24:27.170481",
     "exception": false,
     "start_time": "2021-03-18T02:24:18.229919",
     "status": "completed"
    },
    "tags": []
   },
   "outputs": [],
   "source": [
    "states <- unique(covidLaggedClean$State)\n",
    "races <- unique(covidLaggedClean$Race)\n",
    "datalist = list()\n",
    "countlist = list()\n",
    "i <- 1\n",
    "for (state in states) {\n",
    "    for (race in races) {\n",
    "        oneState <- covidLaggedClean[covidLaggedClean$State == state,]\n",
    "        oneStateOneRace <- oneState[oneState$Race == race,]\n",
    "        if (nrow(oneStateOneRace) > 0) {\n",
    "            h1 <- hampel(oneStateOneRace$NewCases, hampelWindow, hampelThreshold)\n",
    "            numNewCaseOutliers <- length(h1$ind) \n",
    "            h2 <- hampel(oneStateOneRace$NewDeaths, hampelWindow, hampelThreshold)\n",
    "            numNewDeathOutliers <- length(h2$ind)\n",
    "            len <- length(oneStateOneRace$NewCases)\n",
    "            df <- data.frame(Date=oneStateOneRace$Date,\n",
    "                             DateAsDate=oneStateOneRace$DateAsDate,\n",
    "                             State=rep(state, len),\n",
    "                             Race=rep(race, len),\n",
    "                             NewCases <- h1$y, NewDeaths <- h2$y)\n",
    "            datalist[[i]] <- df\n",
    "            countlist[[i]] <- data.frame(State=state, Race=race,\n",
    "                             NumNewCaseOutliers=length(h1$ind),\n",
    "                             NumNewDeathOutliers=length(h2$ind))\n",
    "          i <- i+1\n",
    "        }\n",
    "    }\n",
    "}\n",
    "numOutliers <- dplyr::bind_rows(countlist)\n",
    "covidImputed <- dplyr::bind_rows(datalist)\n",
    "names(covidImputed) <- c(\"Date\", \"DateAsDate\", \"State\", \"Race\", \"NewCases\", \"NewDeaths\")"
   ]
  },
  {
   "cell_type": "code",
   "execution_count": 51,
   "metadata": {
    "execution": {
     "iopub.execute_input": "2021-03-18T02:24:27.398947Z",
     "iopub.status.busy": "2021-03-18T02:24:27.397716Z",
     "iopub.status.idle": "2021-03-18T02:24:27.420276Z",
     "shell.execute_reply": "2021-03-18T02:24:27.419163Z"
    },
    "papermill": {
     "duration": 0.138389,
     "end_time": "2021-03-18T02:24:27.420438",
     "exception": false,
     "start_time": "2021-03-18T02:24:27.282049",
     "status": "completed"
    },
    "tags": []
   },
   "outputs": [
    {
     "data": {
      "text/html": [
       "16732"
      ],
      "text/latex": [
       "16732"
      ],
      "text/markdown": [
       "16732"
      ],
      "text/plain": [
       "[1] 16732"
      ]
     },
     "metadata": {},
     "output_type": "display_data"
    }
   ],
   "source": [
    "nrow(covidImputed)"
   ]
  },
  {
   "cell_type": "markdown",
   "metadata": {
    "papermill": {
     "duration": 0.137136,
     "end_time": "2021-03-18T02:24:27.671786",
     "exception": false,
     "start_time": "2021-03-18T02:24:27.534650",
     "status": "completed"
    },
    "tags": []
   },
   "source": [
    "Below is one of the cases we saw above where two outliers were identified-- the imputed values look more in line now."
   ]
  },
  {
   "cell_type": "code",
   "execution_count": 52,
   "metadata": {
    "execution": {
     "iopub.execute_input": "2021-03-18T02:24:27.899719Z",
     "iopub.status.busy": "2021-03-18T02:24:27.898172Z",
     "iopub.status.idle": "2021-03-18T02:24:27.971033Z",
     "shell.execute_reply": "2021-03-18T02:24:27.970605Z"
    },
    "papermill": {
     "duration": 0.187608,
     "end_time": "2021-03-18T02:24:27.971171",
     "exception": false,
     "start_time": "2021-03-18T02:24:27.783563",
     "status": "completed"
    },
    "tags": []
   },
   "outputs": [
    {
     "data": {
      "image/png": "[encoded data removed]"
     },
     "metadata": {
      "image/png": {
       "height": 240,
       "width": 480
      }
     },
     "output_type": "display_data"
    }
   ],
   "source": [
    "covidOneState <- covidImputed[covidImputed$State==\"IL\",]\n",
    "ts <- covidOneState[covidOneState$Race==\"Unknown\",]\n",
    "plot(ts[,c(\"DateAsDate\", \"NewDeaths\")], col=\"dodgerblue2\",\n",
    "     main = \"Illinois Unknown using imputed data\" )"
   ]
  },
  {
   "cell_type": "code",
   "execution_count": 53,
   "metadata": {
    "execution": {
     "iopub.execute_input": "2021-03-18T02:24:28.206765Z",
     "iopub.status.busy": "2021-03-18T02:24:28.205416Z",
     "iopub.status.idle": "2021-03-18T02:24:28.224923Z",
     "shell.execute_reply": "2021-03-18T02:24:28.223737Z"
    },
    "papermill": {
     "duration": 0.136981,
     "end_time": "2021-03-18T02:24:28.225083",
     "exception": false,
     "start_time": "2021-03-18T02:24:28.088102",
     "status": "completed"
    },
    "tags": []
   },
   "outputs": [
    {
     "data": {
      "text/html": [
       "<table class=\"dataframe\">\n",
       "<caption>A data.frame: 3 × 4</caption>\n",
       "<thead>\n",
       "\t<tr><th></th><th scope=col>State</th><th scope=col>Race</th><th scope=col>NumNewCaseOutliers</th><th scope=col>NumNewDeathOutliers</th></tr>\n",
       "\t<tr><th></th><th scope=col>&lt;fct&gt;</th><th scope=col>&lt;fct&gt;</th><th scope=col>&lt;int&gt;</th><th scope=col>&lt;int&gt;</th></tr>\n",
       "</thead>\n",
       "<tbody>\n",
       "\t<tr><th scope=row>1</th><td>AK</td><td>AIAN </td><td>0</td><td>2</td></tr>\n",
       "\t<tr><th scope=row>2</th><td>AK</td><td>Asian</td><td>5</td><td>5</td></tr>\n",
       "\t<tr><th scope=row>3</th><td>AK</td><td>Black</td><td>2</td><td>8</td></tr>\n",
       "</tbody>\n",
       "</table>\n"
      ],
      "text/latex": [
       "A data.frame: 3 × 4\n",
       "\\begin{tabular}{r|llll}\n",
       "  & State & Race & NumNewCaseOutliers & NumNewDeathOutliers\\\\\n",
       "  & <fct> & <fct> & <int> & <int>\\\\\n",
       "\\hline\n",
       "\t1 & AK & AIAN  & 0 & 2\\\\\n",
       "\t2 & AK & Asian & 5 & 5\\\\\n",
       "\t3 & AK & Black & 2 & 8\\\\\n",
       "\\end{tabular}\n"
      ],
      "text/markdown": [
       "\n",
       "A data.frame: 3 × 4\n",
       "\n",
       "| <!--/--> | State &lt;fct&gt; | Race &lt;fct&gt; | NumNewCaseOutliers &lt;int&gt; | NumNewDeathOutliers &lt;int&gt; |\n",
       "|---|---|---|---|---|\n",
       "| 1 | AK | AIAN  | 0 | 2 |\n",
       "| 2 | AK | Asian | 5 | 5 |\n",
       "| 3 | AK | Black | 2 | 8 |\n",
       "\n"
      ],
      "text/plain": [
       "  State Race  NumNewCaseOutliers NumNewDeathOutliers\n",
       "1 AK    AIAN  0                  2                  \n",
       "2 AK    Asian 5                  5                  \n",
       "3 AK    Black 2                  8                  "
      ]
     },
     "metadata": {},
     "output_type": "display_data"
    }
   ],
   "source": [
    "head(numOutliers, 3)"
   ]
  },
  {
   "cell_type": "code",
   "execution_count": 54,
   "metadata": {
    "execution": {
     "iopub.execute_input": "2021-03-18T02:24:28.456769Z",
     "iopub.status.busy": "2021-03-18T02:24:28.455370Z",
     "iopub.status.idle": "2021-03-18T02:24:28.477832Z",
     "shell.execute_reply": "2021-03-18T02:24:28.476447Z"
    },
    "papermill": {
     "duration": 0.138962,
     "end_time": "2021-03-18T02:24:28.477995",
     "exception": false,
     "start_time": "2021-03-18T02:24:28.339033",
     "status": "completed"
    },
    "tags": []
   },
   "outputs": [
    {
     "data": {
      "text/html": [
       "<table class=\"dataframe\">\n",
       "<caption>A data.frame: 3 × 4</caption>\n",
       "<thead>\n",
       "\t<tr><th></th><th scope=col>State</th><th scope=col>Race</th><th scope=col>NumNewCaseOutliers</th><th scope=col>NumNewDeathOutliers</th></tr>\n",
       "\t<tr><th></th><th scope=col>&lt;fct&gt;</th><th scope=col>&lt;fct&gt;</th><th scope=col>&lt;int&gt;</th><th scope=col>&lt;int&gt;</th></tr>\n",
       "</thead>\n",
       "<tbody>\n",
       "\t<tr><th scope=row>105</th><td>IL</td><td>AIAN   </td><td>0</td><td>7</td></tr>\n",
       "\t<tr><th scope=row>110</th><td>IL</td><td>Unknown</td><td>0</td><td>2</td></tr>\n",
       "\t<tr><th scope=row>111</th><td>IL</td><td>White  </td><td>0</td><td>0</td></tr>\n",
       "</tbody>\n",
       "</table>\n"
      ],
      "text/latex": [
       "A data.frame: 3 × 4\n",
       "\\begin{tabular}{r|llll}\n",
       "  & State & Race & NumNewCaseOutliers & NumNewDeathOutliers\\\\\n",
       "  & <fct> & <fct> & <int> & <int>\\\\\n",
       "\\hline\n",
       "\t105 & IL & AIAN    & 0 & 7\\\\\n",
       "\t110 & IL & Unknown & 0 & 2\\\\\n",
       "\t111 & IL & White   & 0 & 0\\\\\n",
       "\\end{tabular}\n"
      ],
      "text/markdown": [
       "\n",
       "A data.frame: 3 × 4\n",
       "\n",
       "| <!--/--> | State &lt;fct&gt; | Race &lt;fct&gt; | NumNewCaseOutliers &lt;int&gt; | NumNewDeathOutliers &lt;int&gt; |\n",
       "|---|---|---|---|---|\n",
       "| 105 | IL | AIAN    | 0 | 7 |\n",
       "| 110 | IL | Unknown | 0 | 2 |\n",
       "| 111 | IL | White   | 0 | 0 |\n",
       "\n"
      ],
      "text/plain": [
       "    State Race    NumNewCaseOutliers NumNewDeathOutliers\n",
       "105 IL    AIAN    0                  7                  \n",
       "110 IL    Unknown 0                  2                  \n",
       "111 IL    White   0                  0                  "
      ]
     },
     "metadata": {},
     "output_type": "display_data"
    }
   ],
   "source": [
    "tmp <- numOutliers[numOutliers$State==\"IL\",]\n",
    "tmp[tmp$Race %in% c(\"AIAN\", \"Unknown\", \"White\"),]"
   ]
  },
  {
   "cell_type": "code",
   "execution_count": 55,
   "metadata": {
    "execution": {
     "iopub.execute_input": "2021-03-18T02:24:28.712876Z",
     "iopub.status.busy": "2021-03-18T02:24:28.711383Z",
     "iopub.status.idle": "2021-03-18T02:24:28.730553Z",
     "shell.execute_reply": "2021-03-18T02:24:28.729151Z"
    },
    "papermill": {
     "duration": 0.138337,
     "end_time": "2021-03-18T02:24:28.730705",
     "exception": false,
     "start_time": "2021-03-18T02:24:28.592368",
     "status": "completed"
    },
    "tags": []
   },
   "outputs": [
    {
     "data": {
      "text/html": [
       "<table class=\"dataframe\">\n",
       "<caption>A data.frame: 1 × 2</caption>\n",
       "<thead>\n",
       "\t<tr><th scope=col>NumNewCaseOutliers</th><th scope=col>NumNewDeathOutliers</th></tr>\n",
       "\t<tr><th scope=col>&lt;int&gt;</th><th scope=col>&lt;int&gt;</th></tr>\n",
       "</thead>\n",
       "<tbody>\n",
       "\t<tr><td>595</td><td>987</td></tr>\n",
       "</tbody>\n",
       "</table>\n"
      ],
      "text/latex": [
       "A data.frame: 1 × 2\n",
       "\\begin{tabular}{ll}\n",
       " NumNewCaseOutliers & NumNewDeathOutliers\\\\\n",
       " <int> & <int>\\\\\n",
       "\\hline\n",
       "\t 595 & 987\\\\\n",
       "\\end{tabular}\n"
      ],
      "text/markdown": [
       "\n",
       "A data.frame: 1 × 2\n",
       "\n",
       "| NumNewCaseOutliers &lt;int&gt; | NumNewDeathOutliers &lt;int&gt; |\n",
       "|---|---|\n",
       "| 595 | 987 |\n",
       "\n"
      ],
      "text/plain": [
       "  NumNewCaseOutliers NumNewDeathOutliers\n",
       "1 595                987                "
      ]
     },
     "metadata": {},
     "output_type": "display_data"
    }
   ],
   "source": [
    "data.frame(NumNewCaseOutliers=sum(numOutliers$NumNewCaseOutliers), NumNewDeathOutliers=sum(numOutliers$NumNewDeathOutliers))\n"
   ]
  },
  {
   "cell_type": "markdown",
   "metadata": {
    "papermill": {
     "duration": 0.117379,
     "end_time": "2021-03-18T02:24:28.965459",
     "exception": false,
     "start_time": "2021-03-18T02:24:28.848080",
     "status": "completed"
    },
    "tags": []
   },
   "source": [
    "#### non-iterative way to do the same thing"
   ]
  },
  {
   "cell_type": "markdown",
   "metadata": {
    "papermill": {
     "duration": 0.116166,
     "end_time": "2021-03-18T02:24:29.197474",
     "exception": false,
     "start_time": "2021-03-18T02:24:29.081308",
     "status": "completed"
    },
    "tags": []
   },
   "source": [
    "The code below uses tidyr to the outlier count more efficiently BUT it does not include using the imputed data."
   ]
  },
  {
   "cell_type": "code",
   "execution_count": 56,
   "metadata": {
    "execution": {
     "iopub.execute_input": "2021-03-18T02:24:29.433927Z",
     "iopub.status.busy": "2021-03-18T02:24:29.432700Z",
     "iopub.status.idle": "2021-03-18T02:24:30.557556Z",
     "shell.execute_reply": "2021-03-18T02:24:30.555959Z"
    },
    "papermill": {
     "duration": 1.2439,
     "end_time": "2021-03-18T02:24:30.557711",
     "exception": false,
     "start_time": "2021-03-18T02:24:29.313811",
     "status": "completed"
    },
    "tags": []
   },
   "outputs": [
    {
     "data": {
      "text/html": [
       "<table class=\"dataframe\">\n",
       "<caption>A grouped_df: 3 × 4</caption>\n",
       "<thead>\n",
       "\t<tr><th scope=col>State</th><th scope=col>Race</th><th scope=col>name</th><th scope=col>NumOutlierNewDeaths</th></tr>\n",
       "\t<tr><th scope=col>&lt;fct&gt;</th><th scope=col>&lt;fct&gt;</th><th scope=col>&lt;int&gt;</th><th scope=col>&lt;int&gt;</th></tr>\n",
       "</thead>\n",
       "<tbody>\n",
       "\t<tr><td>AK</td><td>AIAN </td><td>1</td><td>2</td></tr>\n",
       "\t<tr><td>AK</td><td>Asian</td><td>1</td><td>5</td></tr>\n",
       "\t<tr><td>AK</td><td>Black</td><td>1</td><td>8</td></tr>\n",
       "</tbody>\n",
       "</table>\n"
      ],
      "text/latex": [
       "A grouped\\_df: 3 × 4\n",
       "\\begin{tabular}{llll}\n",
       " State & Race & name & NumOutlierNewDeaths\\\\\n",
       " <fct> & <fct> & <int> & <int>\\\\\n",
       "\\hline\n",
       "\t AK & AIAN  & 1 & 2\\\\\n",
       "\t AK & Asian & 1 & 5\\\\\n",
       "\t AK & Black & 1 & 8\\\\\n",
       "\\end{tabular}\n"
      ],
      "text/markdown": [
       "\n",
       "A grouped_df: 3 × 4\n",
       "\n",
       "| State &lt;fct&gt; | Race &lt;fct&gt; | name &lt;int&gt; | NumOutlierNewDeaths &lt;int&gt; |\n",
       "|---|---|---|---|\n",
       "| AK | AIAN  | 1 | 2 |\n",
       "| AK | Asian | 1 | 5 |\n",
       "| AK | Black | 1 | 8 |\n",
       "\n"
      ],
      "text/plain": [
       "  State Race  name NumOutlierNewDeaths\n",
       "1 AK    AIAN  1    2                  \n",
       "2 AK    Asian 1    5                  \n",
       "3 AK    Black 1    8                  "
      ]
     },
     "metadata": {},
     "output_type": "display_data"
    }
   ],
   "source": [
    "numOutlierNewDeaths <- covidLaggedClean %>%\n",
    "  group_by(State, Race) %>%\n",
    "  arrange(Date) %>%\n",
    "  group_modify(~ {\n",
    "     length(hampel(.x$NewDeaths, 5, 3)$ind) %>%\n",
    "     tibble::enframe(value = \"NumOutlierNewDeaths\")\n",
    "  })\n",
    "head(numOutlierNewDeaths, 3)"
   ]
  },
  {
   "cell_type": "code",
   "execution_count": 57,
   "metadata": {
    "execution": {
     "iopub.execute_input": "2021-03-18T02:24:30.795352Z",
     "iopub.status.busy": "2021-03-18T02:24:30.793757Z",
     "iopub.status.idle": "2021-03-18T02:24:30.831042Z",
     "shell.execute_reply": "2021-03-18T02:24:30.829898Z"
    },
    "papermill": {
     "duration": 0.157415,
     "end_time": "2021-03-18T02:24:30.831224",
     "exception": false,
     "start_time": "2021-03-18T02:24:30.673809",
     "status": "completed"
    },
    "tags": []
   },
   "outputs": [
    {
     "data": {
      "text/html": [
       "<table class=\"dataframe\">\n",
       "<caption>A grouped_df: 3 × 4</caption>\n",
       "<thead>\n",
       "\t<tr><th scope=col>State</th><th scope=col>Race</th><th scope=col>name</th><th scope=col>NumOutlierNewDeaths</th></tr>\n",
       "\t<tr><th scope=col>&lt;fct&gt;</th><th scope=col>&lt;fct&gt;</th><th scope=col>&lt;int&gt;</th><th scope=col>&lt;int&gt;</th></tr>\n",
       "</thead>\n",
       "<tbody>\n",
       "\t<tr><td>IL</td><td>AIAN   </td><td>1</td><td>7</td></tr>\n",
       "\t<tr><td>IL</td><td>Unknown</td><td>1</td><td>2</td></tr>\n",
       "\t<tr><td>IL</td><td>White  </td><td>1</td><td>0</td></tr>\n",
       "</tbody>\n",
       "</table>\n"
      ],
      "text/latex": [
       "A grouped\\_df: 3 × 4\n",
       "\\begin{tabular}{llll}\n",
       " State & Race & name & NumOutlierNewDeaths\\\\\n",
       " <fct> & <fct> & <int> & <int>\\\\\n",
       "\\hline\n",
       "\t IL & AIAN    & 1 & 7\\\\\n",
       "\t IL & Unknown & 1 & 2\\\\\n",
       "\t IL & White   & 1 & 0\\\\\n",
       "\\end{tabular}\n"
      ],
      "text/markdown": [
       "\n",
       "A grouped_df: 3 × 4\n",
       "\n",
       "| State &lt;fct&gt; | Race &lt;fct&gt; | name &lt;int&gt; | NumOutlierNewDeaths &lt;int&gt; |\n",
       "|---|---|---|---|\n",
       "| IL | AIAN    | 1 | 7 |\n",
       "| IL | Unknown | 1 | 2 |\n",
       "| IL | White   | 1 | 0 |\n",
       "\n"
      ],
      "text/plain": [
       "  State Race    name NumOutlierNewDeaths\n",
       "1 IL    AIAN    1    7                  \n",
       "2 IL    Unknown 1    2                  \n",
       "3 IL    White   1    0                  "
      ]
     },
     "metadata": {},
     "output_type": "display_data"
    }
   ],
   "source": [
    "tmp <- numOutlierNewDeaths[numOutlierNewDeaths$State==\"IL\",]\n",
    "tmp[tmp$Race %in% c(\"AIAN\", \"Unknown\",\"White\"),]"
   ]
  },
  {
   "cell_type": "markdown",
   "metadata": {
    "papermill": {
     "duration": 0.119409,
     "end_time": "2021-03-18T02:24:31.069855",
     "exception": false,
     "start_time": "2021-03-18T02:24:30.950446",
     "status": "completed"
    },
    "tags": []
   },
   "source": [
    "## Lags"
   ]
  },
  {
   "cell_type": "code",
   "execution_count": 58,
   "metadata": {
    "execution": {
     "iopub.execute_input": "2021-03-18T02:24:31.308385Z",
     "iopub.status.busy": "2021-03-18T02:24:31.307131Z",
     "iopub.status.idle": "2021-03-18T02:24:43.925334Z",
     "shell.execute_reply": "2021-03-18T02:24:43.924120Z"
    },
    "papermill": {
     "duration": 12.739191,
     "end_time": "2021-03-18T02:24:43.925773",
     "exception": false,
     "start_time": "2021-03-18T02:24:31.186582",
     "status": "completed"
    },
    "tags": []
   },
   "outputs": [],
   "source": [
    "lagRange <- 1:4\n",
    "col_names <- paste0(\"NewCases_Lag_\", lagRange)\n",
    "\n",
    "covidImputedLagged <- covidImputed %>%\n",
    "  group_by(State, Race) %>%\n",
    "  arrange(Date) %>%\n",
    "    tq_mutate(\n",
    "        select     = NewCases,\n",
    "        mutate_fun = lag.xts,\n",
    "        k          = lagRange,\n",
    "        col_rename = col_names\n",
    "    )"
   ]
  },
  {
   "cell_type": "code",
   "execution_count": 59,
   "metadata": {
    "execution": {
     "iopub.execute_input": "2021-03-18T02:24:44.179315Z",
     "iopub.status.busy": "2021-03-18T02:24:44.177977Z",
     "iopub.status.idle": "2021-03-18T02:24:44.209566Z",
     "shell.execute_reply": "2021-03-18T02:24:44.208174Z"
    },
    "papermill": {
     "duration": 0.157593,
     "end_time": "2021-03-18T02:24:44.209724",
     "exception": false,
     "start_time": "2021-03-18T02:24:44.052131",
     "status": "completed"
    },
    "tags": []
   },
   "outputs": [
    {
     "data": {
      "text/html": [
       "<table class=\"dataframe\">\n",
       "<caption>A grouped_df: 6 × 10</caption>\n",
       "<thead>\n",
       "\t<tr><th scope=col>State</th><th scope=col>Race</th><th scope=col>Date</th><th scope=col>DateAsDate</th><th scope=col>NewCases</th><th scope=col>NewDeaths</th><th scope=col>NewCases_Lag_1</th><th scope=col>NewCases_Lag_2</th><th scope=col>NewCases_Lag_3</th><th scope=col>NewCases_Lag_4</th></tr>\n",
       "\t<tr><th scope=col>&lt;fct&gt;</th><th scope=col>&lt;fct&gt;</th><th scope=col>&lt;dbl&gt;</th><th scope=col>&lt;date&gt;</th><th scope=col>&lt;dbl&gt;</th><th scope=col>&lt;dbl&gt;</th><th scope=col>&lt;dbl&gt;</th><th scope=col>&lt;dbl&gt;</th><th scope=col>&lt;dbl&gt;</th><th scope=col>&lt;dbl&gt;</th></tr>\n",
       "</thead>\n",
       "<tbody>\n",
       "\t<tr><td>WY</td><td>Latinx</td><td>20210131</td><td>2021-01-31</td><td>84</td><td>2</td><td>136</td><td>156</td><td>131</td><td>116</td></tr>\n",
       "\t<tr><td>WY</td><td>Latinx</td><td>20210207</td><td>2021-02-07</td><td>58</td><td>6</td><td> 84</td><td>136</td><td>156</td><td>131</td></tr>\n",
       "\t<tr><td>WY</td><td>Latinx</td><td>20210214</td><td>2021-02-14</td><td>20</td><td>2</td><td> 58</td><td> 84</td><td>136</td><td>156</td></tr>\n",
       "\t<tr><td>WY</td><td>Latinx</td><td>20210221</td><td>2021-02-21</td><td>23</td><td>1</td><td> 20</td><td> 58</td><td> 84</td><td>136</td></tr>\n",
       "\t<tr><td>WY</td><td>Latinx</td><td>20210228</td><td>2021-02-28</td><td>26</td><td>0</td><td> 23</td><td> 20</td><td> 58</td><td> 84</td></tr>\n",
       "\t<tr><td>WY</td><td>Latinx</td><td>20210307</td><td>2021-03-07</td><td>23</td><td>1</td><td> 26</td><td> 23</td><td> 20</td><td> 58</td></tr>\n",
       "</tbody>\n",
       "</table>\n"
      ],
      "text/latex": [
       "A grouped\\_df: 6 × 10\n",
       "\\begin{tabular}{llllllllll}\n",
       " State & Race & Date & DateAsDate & NewCases & NewDeaths & NewCases\\_Lag\\_1 & NewCases\\_Lag\\_2 & NewCases\\_Lag\\_3 & NewCases\\_Lag\\_4\\\\\n",
       " <fct> & <fct> & <dbl> & <date> & <dbl> & <dbl> & <dbl> & <dbl> & <dbl> & <dbl>\\\\\n",
       "\\hline\n",
       "\t WY & Latinx & 20210131 & 2021-01-31 & 84 & 2 & 136 & 156 & 131 & 116\\\\\n",
       "\t WY & Latinx & 20210207 & 2021-02-07 & 58 & 6 &  84 & 136 & 156 & 131\\\\\n",
       "\t WY & Latinx & 20210214 & 2021-02-14 & 20 & 2 &  58 &  84 & 136 & 156\\\\\n",
       "\t WY & Latinx & 20210221 & 2021-02-21 & 23 & 1 &  20 &  58 &  84 & 136\\\\\n",
       "\t WY & Latinx & 20210228 & 2021-02-28 & 26 & 0 &  23 &  20 &  58 &  84\\\\\n",
       "\t WY & Latinx & 20210307 & 2021-03-07 & 23 & 1 &  26 &  23 &  20 &  58\\\\\n",
       "\\end{tabular}\n"
      ],
      "text/markdown": [
       "\n",
       "A grouped_df: 6 × 10\n",
       "\n",
       "| State &lt;fct&gt; | Race &lt;fct&gt; | Date &lt;dbl&gt; | DateAsDate &lt;date&gt; | NewCases &lt;dbl&gt; | NewDeaths &lt;dbl&gt; | NewCases_Lag_1 &lt;dbl&gt; | NewCases_Lag_2 &lt;dbl&gt; | NewCases_Lag_3 &lt;dbl&gt; | NewCases_Lag_4 &lt;dbl&gt; |\n",
       "|---|---|---|---|---|---|---|---|---|---|\n",
       "| WY | Latinx | 20210131 | 2021-01-31 | 84 | 2 | 136 | 156 | 131 | 116 |\n",
       "| WY | Latinx | 20210207 | 2021-02-07 | 58 | 6 |  84 | 136 | 156 | 131 |\n",
       "| WY | Latinx | 20210214 | 2021-02-14 | 20 | 2 |  58 |  84 | 136 | 156 |\n",
       "| WY | Latinx | 20210221 | 2021-02-21 | 23 | 1 |  20 |  58 |  84 | 136 |\n",
       "| WY | Latinx | 20210228 | 2021-02-28 | 26 | 0 |  23 |  20 |  58 |  84 |\n",
       "| WY | Latinx | 20210307 | 2021-03-07 | 23 | 1 |  26 |  23 |  20 |  58 |\n",
       "\n"
      ],
      "text/plain": [
       "  State Race   Date     DateAsDate NewCases NewDeaths NewCases_Lag_1\n",
       "1 WY    Latinx 20210131 2021-01-31 84       2         136           \n",
       "2 WY    Latinx 20210207 2021-02-07 58       6          84           \n",
       "3 WY    Latinx 20210214 2021-02-14 20       2          58           \n",
       "4 WY    Latinx 20210221 2021-02-21 23       1          20           \n",
       "5 WY    Latinx 20210228 2021-02-28 26       0          23           \n",
       "6 WY    Latinx 20210307 2021-03-07 23       1          26           \n",
       "  NewCases_Lag_2 NewCases_Lag_3 NewCases_Lag_4\n",
       "1 156            131            116           \n",
       "2 136            156            131           \n",
       "3  84            136            156           \n",
       "4  58             84            136           \n",
       "5  20             58             84           \n",
       "6  23             20             58           "
      ]
     },
     "metadata": {},
     "output_type": "display_data"
    }
   ],
   "source": [
    "tail(covidImputedLagged)"
   ]
  },
  {
   "cell_type": "markdown",
   "metadata": {
    "papermill": {
     "duration": 0.11683,
     "end_time": "2021-03-18T02:24:44.443468",
     "exception": false,
     "start_time": "2021-03-18T02:24:44.326638",
     "status": "completed"
    },
    "tags": []
   },
   "source": [
    "## Export"
   ]
  },
  {
   "cell_type": "markdown",
   "metadata": {
    "papermill": {
     "duration": 0.120197,
     "end_time": "2021-03-18T02:24:44.681336",
     "exception": false,
     "start_time": "2021-03-18T02:24:44.561139",
     "status": "completed"
    },
    "tags": []
   },
   "source": [
    "Now this data set is ready for export!  Uncomment the line below to export a fresh copy."
   ]
  },
  {
   "cell_type": "code",
   "execution_count": 60,
   "metadata": {
    "execution": {
     "iopub.execute_input": "2021-03-18T02:24:44.923011Z",
     "iopub.status.busy": "2021-03-18T02:24:44.921742Z",
     "iopub.status.idle": "2021-03-18T02:24:44.932570Z",
     "shell.execute_reply": "2021-03-18T02:24:44.931279Z"
    },
    "papermill": {
     "duration": 0.133902,
     "end_time": "2021-03-18T02:24:44.932739",
     "exception": false,
     "start_time": "2021-03-18T02:24:44.798837",
     "status": "completed"
    },
    "tags": []
   },
   "outputs": [],
   "source": [
    "# write.csv(covidImputed,\"kaggle_imputed.csv\", row.names = FALSE)"
   ]
  },
  {
   "cell_type": "code",
   "execution_count": 61,
   "metadata": {
    "execution": {
     "iopub.execute_input": "2021-03-18T02:24:45.177479Z",
     "iopub.status.busy": "2021-03-18T02:24:45.176103Z",
     "iopub.status.idle": "2021-03-18T02:24:45.410428Z",
     "shell.execute_reply": "2021-03-18T02:24:45.409221Z"
    },
    "papermill": {
     "duration": 0.357853,
     "end_time": "2021-03-18T02:24:45.410613",
     "exception": false,
     "start_time": "2021-03-18T02:24:45.052760",
     "status": "completed"
    },
    "tags": []
   },
   "outputs": [],
   "source": [
    "write.csv(covidImputedLagged,\"kaggle_imputed_and_lagged.csv\", row.names = FALSE)"
   ]
  },
  {
   "cell_type": "code",
   "execution_count": 62,
   "metadata": {
    "execution": {
     "iopub.execute_input": "2021-03-18T02:24:45.653047Z",
     "iopub.status.busy": "2021-03-18T02:24:45.651773Z",
     "iopub.status.idle": "2021-03-18T02:24:45.666387Z",
     "shell.execute_reply": "2021-03-18T02:24:45.665415Z"
    },
    "papermill": {
     "duration": 0.136529,
     "end_time": "2021-03-18T02:24:45.666538",
     "exception": false,
     "start_time": "2021-03-18T02:24:45.530009",
     "status": "completed"
    },
    "tags": []
   },
   "outputs": [
    {
     "data": {
      "text/html": [
       "16732"
      ],
      "text/latex": [
       "16732"
      ],
      "text/markdown": [
       "16732"
      ],
      "text/plain": [
       "[1] 16732"
      ]
     },
     "metadata": {},
     "output_type": "display_data"
    }
   ],
   "source": [
    "nrow(covidImputed)"
   ]
  },
  {
   "cell_type": "code",
   "execution_count": 63,
   "metadata": {
    "execution": {
     "iopub.execute_input": "2021-03-18T02:24:45.910329Z",
     "iopub.status.busy": "2021-03-18T02:24:45.908912Z",
     "iopub.status.idle": "2021-03-18T02:24:45.919982Z",
     "shell.execute_reply": "2021-03-18T02:24:45.918641Z"
    },
    "papermill": {
     "duration": 0.135051,
     "end_time": "2021-03-18T02:24:45.920139",
     "exception": false,
     "start_time": "2021-03-18T02:24:45.785088",
     "status": "completed"
    },
    "tags": []
   },
   "outputs": [],
   "source": [
    "# Raw data without anything imputed\n",
    "# write.csv(covidLaggedClean,\"kaggle_covid_new_cases_new_deaths.csv\", row.names = FALSE)"
   ]
  },
  {
   "cell_type": "markdown",
   "metadata": {
    "papermill": {
     "duration": 0.118595,
     "end_time": "2021-03-18T02:24:46.160021",
     "exception": false,
     "start_time": "2021-03-18T02:24:46.041426",
     "status": "completed"
    },
    "tags": []
   },
   "source": [
    "# Simple plots and analysis"
   ]
  },
  {
   "cell_type": "code",
   "execution_count": 64,
   "metadata": {
    "execution": {
     "iopub.execute_input": "2021-03-18T02:24:46.401694Z",
     "iopub.status.busy": "2021-03-18T02:24:46.400279Z",
     "iopub.status.idle": "2021-03-18T02:24:46.410921Z",
     "shell.execute_reply": "2021-03-18T02:24:46.409873Z"
    },
    "papermill": {
     "duration": 0.132758,
     "end_time": "2021-03-18T02:24:46.411076",
     "exception": false,
     "start_time": "2021-03-18T02:24:46.278318",
     "status": "completed"
    },
    "tags": []
   },
   "outputs": [],
   "source": [
    "# covidLaggedClean$DateAsDate <- as.Date(as.character(covidLaggedClean[[\"Date\"]]), \"%Y%m%d\")"
   ]
  },
  {
   "cell_type": "markdown",
   "metadata": {
    "papermill": {
     "duration": 0.11817,
     "end_time": "2021-03-18T02:24:46.647415",
     "exception": false,
     "start_time": "2021-03-18T02:24:46.529245",
     "status": "completed"
    },
    "tags": []
   },
   "source": [
    "## Libraries"
   ]
  },
  {
   "cell_type": "code",
   "execution_count": 65,
   "metadata": {
    "execution": {
     "iopub.execute_input": "2021-03-18T02:24:46.888881Z",
     "iopub.status.busy": "2021-03-18T02:24:46.887409Z",
     "iopub.status.idle": "2021-03-18T02:24:46.923381Z",
     "shell.execute_reply": "2021-03-18T02:24:46.922229Z"
    },
    "papermill": {
     "duration": 0.157937,
     "end_time": "2021-03-18T02:24:46.923552",
     "exception": false,
     "start_time": "2021-03-18T02:24:46.765615",
     "status": "completed"
    },
    "tags": []
   },
   "outputs": [
    {
     "name": "stderr",
     "output_type": "stream",
     "text": [
      "\n",
      "Attaching package: ‘scales’\n",
      "\n",
      "\n",
      "The following object is masked from ‘package:purrr’:\n",
      "\n",
      "    discard\n",
      "\n",
      "\n",
      "The following object is masked from ‘package:readr’:\n",
      "\n",
      "    col_factor\n",
      "\n",
      "\n"
     ]
    }
   ],
   "source": [
    "library(ggplot2) # Data visualization\n",
    "library(scales) # Data visualization (date labels)"
   ]
  },
  {
   "cell_type": "markdown",
   "metadata": {
    "papermill": {
     "duration": 0.120234,
     "end_time": "2021-03-18T02:24:47.165248",
     "exception": false,
     "start_time": "2021-03-18T02:24:47.045014",
     "status": "completed"
    },
    "tags": []
   },
   "source": [
    "## Plotting Time Series"
   ]
  },
  {
   "cell_type": "markdown",
   "metadata": {
    "papermill": {
     "duration": 0.11891,
     "end_time": "2021-03-18T02:24:47.403489",
     "exception": false,
     "start_time": "2021-03-18T02:24:47.284579",
     "status": "completed"
    },
    "tags": []
   },
   "source": [
    "Let's pick a state, Illinois, and look at how things have varied."
   ]
  },
  {
   "cell_type": "code",
   "execution_count": 66,
   "metadata": {
    "execution": {
     "iopub.execute_input": "2021-03-18T02:24:47.646024Z",
     "iopub.status.busy": "2021-03-18T02:24:47.645014Z",
     "iopub.status.idle": "2021-03-18T02:24:47.671370Z",
     "shell.execute_reply": "2021-03-18T02:24:47.670152Z"
    },
    "papermill": {
     "duration": 0.149515,
     "end_time": "2021-03-18T02:24:47.671534",
     "exception": false,
     "start_time": "2021-03-18T02:24:47.522019",
     "status": "completed"
    },
    "tags": []
   },
   "outputs": [
    {
     "data": {
      "text/html": [
       "47"
      ],
      "text/latex": [
       "47"
      ],
      "text/markdown": [
       "47"
      ],
      "text/plain": [
       "[1] 47"
      ]
     },
     "metadata": {},
     "output_type": "display_data"
    }
   ],
   "source": [
    "covidLaggedOneState <- covidLaggedClean[covidLaggedClean$State==\"IL\",]\n",
    "covidLaggedOneState <- covidImputed[covidImputed$State==\"IL\",]\n",
    "length(unique(covidLaggedOneState$Date))"
   ]
  },
  {
   "cell_type": "markdown",
   "metadata": {
    "papermill": {
     "duration": 0.120317,
     "end_time": "2021-03-18T02:24:47.914794",
     "exception": false,
     "start_time": "2021-03-18T02:24:47.794477",
     "status": "completed"
    },
    "tags": []
   },
   "source": [
    "There will be 33 weeks of data for each race."
   ]
  },
  {
   "cell_type": "code",
   "execution_count": 67,
   "metadata": {
    "execution": {
     "iopub.execute_input": "2021-03-18T02:24:48.166983Z",
     "iopub.status.busy": "2021-03-18T02:24:48.165581Z",
     "iopub.status.idle": "2021-03-18T02:24:48.867223Z",
     "shell.execute_reply": "2021-03-18T02:24:48.865739Z"
    },
    "papermill": {
     "duration": 0.829553,
     "end_time": "2021-03-18T02:24:48.867400",
     "exception": false,
     "start_time": "2021-03-18T02:24:48.037847",
     "status": "completed"
    },
    "tags": []
   },
   "outputs": [
    {
     "data": {
      "image/png": "[encoded data removed]"
     },
     "metadata": {
      "image/png": {
       "height": 240,
       "width": 480
      }
     },
     "output_type": "display_data"
    }
   ],
   "source": [
    "plot <- ggplot(data=covidLaggedOneState, aes(x=DateAsDate, y=NewCases, group=Race, color=Race)) + geom_line()\n",
    "plot + labs(title=\"Covid in IL\", y=\"# New Cases\")"
   ]
  },
  {
   "cell_type": "code",
   "execution_count": 68,
   "metadata": {
    "execution": {
     "iopub.execute_input": "2021-03-18T02:24:49.133653Z",
     "iopub.status.busy": "2021-03-18T02:24:49.131943Z",
     "iopub.status.idle": "2021-03-18T02:24:49.795785Z",
     "shell.execute_reply": "2021-03-18T02:24:49.794738Z"
    },
    "papermill": {
     "duration": 0.799189,
     "end_time": "2021-03-18T02:24:49.795942",
     "exception": false,
     "start_time": "2021-03-18T02:24:48.996753",
     "status": "completed"
    },
    "tags": []
   },
   "outputs": [
    {
     "data": {
      "image/png": "[encoded data removed]"
     },
     "metadata": {
      "image/png": {
       "height": 240,
       "width": 480
      }
     },
     "output_type": "display_data"
    }
   ],
   "source": [
    "plot <- ggplot(data=covidLaggedOneState, aes(x=DateAsDate, y=NewDeaths, group=Race, color=Race)) + geom_line()\n",
    "plot + labs(title=\"Covid in IL\", y=\"# New Deaths\")"
   ]
  },
  {
   "cell_type": "markdown",
   "metadata": {
    "papermill": {
     "duration": 0.129594,
     "end_time": "2021-03-18T02:24:50.054875",
     "exception": false,
     "start_time": "2021-03-18T02:24:49.925281",
     "status": "completed"
    },
    "tags": []
   },
   "source": [
    "### Oops"
   ]
  },
  {
   "cell_type": "markdown",
   "metadata": {
    "papermill": {
     "duration": 0.126204,
     "end_time": "2021-03-18T02:24:50.308582",
     "exception": false,
     "start_time": "2021-03-18T02:24:50.182378",
     "status": "completed"
    },
    "tags": []
   },
   "source": [
    "The big negative in new deaths is of course impossible-- it indicates a bad data value.\n",
    "TODO: Clean data like this for IL and other states."
   ]
  },
  {
   "cell_type": "code",
   "execution_count": 69,
   "metadata": {
    "execution": {
     "iopub.execute_input": "2021-03-18T02:24:50.567745Z",
     "iopub.status.busy": "2021-03-18T02:24:50.567210Z",
     "iopub.status.idle": "2021-03-18T02:24:50.587267Z",
     "shell.execute_reply": "2021-03-18T02:24:50.585928Z"
    },
    "papermill": {
     "duration": 0.15345,
     "end_time": "2021-03-18T02:24:50.587419",
     "exception": false,
     "start_time": "2021-03-18T02:24:50.433969",
     "status": "completed"
    },
    "tags": []
   },
   "outputs": [
    {
     "data": {
      "text/html": [
       "<table class=\"dataframe\">\n",
       "<caption>A data.frame: 6 × 6</caption>\n",
       "<thead>\n",
       "\t<tr><th></th><th scope=col>Date</th><th scope=col>DateAsDate</th><th scope=col>State</th><th scope=col>Race</th><th scope=col>NewCases</th><th scope=col>NewDeaths</th></tr>\n",
       "\t<tr><th></th><th scope=col>&lt;dbl&gt;</th><th scope=col>&lt;date&gt;</th><th scope=col>&lt;fct&gt;</th><th scope=col>&lt;fct&gt;</th><th scope=col>&lt;dbl&gt;</th><th scope=col>&lt;dbl&gt;</th></tr>\n",
       "</thead>\n",
       "<tbody>\n",
       "\t<tr><th scope=row>4889</th><td>20200419</td><td>2020-04-19</td><td>IL</td><td>AIAN</td><td>22</td><td> 510</td></tr>\n",
       "\t<tr><th scope=row>4890</th><td>20200426</td><td>2020-04-26</td><td>IL</td><td>AIAN</td><td>19</td><td>-510</td></tr>\n",
       "\t<tr><th scope=row>4891</th><td>20200503</td><td>2020-05-03</td><td>IL</td><td>AIAN</td><td>17</td><td>   1</td></tr>\n",
       "\t<tr><th scope=row>4892</th><td>20200510</td><td>2020-05-10</td><td>IL</td><td>AIAN</td><td>44</td><td>   3</td></tr>\n",
       "\t<tr><th scope=row>4893</th><td>20200517</td><td>2020-05-17</td><td>IL</td><td>AIAN</td><td>33</td><td>   1</td></tr>\n",
       "\t<tr><th scope=row>4894</th><td>20200524</td><td>2020-05-24</td><td>IL</td><td>AIAN</td><td>22</td><td>   0</td></tr>\n",
       "</tbody>\n",
       "</table>\n"
      ],
      "text/latex": [
       "A data.frame: 6 × 6\n",
       "\\begin{tabular}{r|llllll}\n",
       "  & Date & DateAsDate & State & Race & NewCases & NewDeaths\\\\\n",
       "  & <dbl> & <date> & <fct> & <fct> & <dbl> & <dbl>\\\\\n",
       "\\hline\n",
       "\t4889 & 20200419 & 2020-04-19 & IL & AIAN & 22 &  510\\\\\n",
       "\t4890 & 20200426 & 2020-04-26 & IL & AIAN & 19 & -510\\\\\n",
       "\t4891 & 20200503 & 2020-05-03 & IL & AIAN & 17 &    1\\\\\n",
       "\t4892 & 20200510 & 2020-05-10 & IL & AIAN & 44 &    3\\\\\n",
       "\t4893 & 20200517 & 2020-05-17 & IL & AIAN & 33 &    1\\\\\n",
       "\t4894 & 20200524 & 2020-05-24 & IL & AIAN & 22 &    0\\\\\n",
       "\\end{tabular}\n"
      ],
      "text/markdown": [
       "\n",
       "A data.frame: 6 × 6\n",
       "\n",
       "| <!--/--> | Date &lt;dbl&gt; | DateAsDate &lt;date&gt; | State &lt;fct&gt; | Race &lt;fct&gt; | NewCases &lt;dbl&gt; | NewDeaths &lt;dbl&gt; |\n",
       "|---|---|---|---|---|---|---|\n",
       "| 4889 | 20200419 | 2020-04-19 | IL | AIAN | 22 |  510 |\n",
       "| 4890 | 20200426 | 2020-04-26 | IL | AIAN | 19 | -510 |\n",
       "| 4891 | 20200503 | 2020-05-03 | IL | AIAN | 17 |    1 |\n",
       "| 4892 | 20200510 | 2020-05-10 | IL | AIAN | 44 |    3 |\n",
       "| 4893 | 20200517 | 2020-05-17 | IL | AIAN | 33 |    1 |\n",
       "| 4894 | 20200524 | 2020-05-24 | IL | AIAN | 22 |    0 |\n",
       "\n"
      ],
      "text/plain": [
       "     Date     DateAsDate State Race NewCases NewDeaths\n",
       "4889 20200419 2020-04-19 IL    AIAN 22        510     \n",
       "4890 20200426 2020-04-26 IL    AIAN 19       -510     \n",
       "4891 20200503 2020-05-03 IL    AIAN 17          1     \n",
       "4892 20200510 2020-05-10 IL    AIAN 44          3     \n",
       "4893 20200517 2020-05-17 IL    AIAN 33          1     \n",
       "4894 20200524 2020-05-24 IL    AIAN 22          0     "
      ]
     },
     "metadata": {},
     "output_type": "display_data"
    }
   ],
   "source": [
    "head(covidLaggedOneState[covidLaggedOneState$Race==\"AIAN\",], 6)"
   ]
  },
  {
   "cell_type": "markdown",
   "metadata": {
    "papermill": {
     "duration": 0.127454,
     "end_time": "2021-03-18T02:24:50.841820",
     "exception": false,
     "start_time": "2021-03-18T02:24:50.714366",
     "status": "completed"
    },
    "tags": []
   },
   "source": [
    "Below I confirm the anomalous value of 512 is in the original data, before I started processing."
   ]
  },
  {
   "cell_type": "code",
   "execution_count": 70,
   "metadata": {
    "execution": {
     "iopub.execute_input": "2021-03-18T02:24:51.102063Z",
     "iopub.status.busy": "2021-03-18T02:24:51.100865Z",
     "iopub.status.idle": "2021-03-18T02:24:51.125588Z",
     "shell.execute_reply": "2021-03-18T02:24:51.124396Z"
    },
    "papermill": {
     "duration": 0.157431,
     "end_time": "2021-03-18T02:24:51.125759",
     "exception": false,
     "start_time": "2021-03-18T02:24:50.968328",
     "status": "completed"
    },
    "tags": []
   },
   "outputs": [
    {
     "data": {
      "text/html": [
       "<table class=\"dataframe\">\n",
       "<caption>A tibble: 5 × 2</caption>\n",
       "<thead>\n",
       "\t<tr><th scope=col>Date</th><th scope=col>Deaths_AIAN</th></tr>\n",
       "\t<tr><th scope=col>&lt;dbl&gt;</th><th scope=col>&lt;dbl&gt;</th></tr>\n",
       "</thead>\n",
       "<tbody>\n",
       "\t<tr><td>20200412</td><td>  2</td></tr>\n",
       "\t<tr><td>20200415</td><td>  1</td></tr>\n",
       "\t<tr><td>20200419</td><td>512</td></tr>\n",
       "\t<tr><td>20200422</td><td>  1</td></tr>\n",
       "\t<tr><td>20200426</td><td>  2</td></tr>\n",
       "</tbody>\n",
       "</table>\n"
      ],
      "text/latex": [
       "A tibble: 5 × 2\n",
       "\\begin{tabular}{ll}\n",
       " Date & Deaths\\_AIAN\\\\\n",
       " <dbl> & <dbl>\\\\\n",
       "\\hline\n",
       "\t 20200412 &   2\\\\\n",
       "\t 20200415 &   1\\\\\n",
       "\t 20200419 & 512\\\\\n",
       "\t 20200422 &   1\\\\\n",
       "\t 20200426 &   2\\\\\n",
       "\\end{tabular}\n"
      ],
      "text/markdown": [
       "\n",
       "A tibble: 5 × 2\n",
       "\n",
       "| Date &lt;dbl&gt; | Deaths_AIAN &lt;dbl&gt; |\n",
       "|---|---|\n",
       "| 20200412 |   2 |\n",
       "| 20200415 |   1 |\n",
       "| 20200419 | 512 |\n",
       "| 20200422 |   1 |\n",
       "| 20200426 |   2 |\n",
       "\n"
      ],
      "text/plain": [
       "  Date     Deaths_AIAN\n",
       "1 20200412   2        \n",
       "2 20200415   1        \n",
       "3 20200419 512        \n",
       "4 20200422   1        \n",
       "5 20200426   2        "
      ]
     },
     "metadata": {},
     "output_type": "display_data"
    }
   ],
   "source": [
    "tmp <- covidByStateRaw[covidByStateRaw$State==\"IL\", c(\"Date\", \"Deaths_AIAN\")]\n",
    "tmp[tmp$Date <= 20200426,] %>% arrange(Date)"
   ]
  },
  {
   "cell_type": "markdown",
   "metadata": {
    "papermill": {
     "duration": 0.126899,
     "end_time": "2021-03-18T02:24:51.381861",
     "exception": false,
     "start_time": "2021-03-18T02:24:51.254962",
     "status": "completed"
    },
    "tags": []
   },
   "source": [
    "I won't analyze data on AIAN until that bad data is cleaned up.  (Notice also cumulative deaths go down, but at least it's only off by one rather than 512.)"
   ]
  },
  {
   "cell_type": "markdown",
   "metadata": {
    "papermill": {
     "duration": 0.127112,
     "end_time": "2021-03-18T02:24:51.636057",
     "exception": false,
     "start_time": "2021-03-18T02:24:51.508945",
     "status": "completed"
    },
    "tags": []
   },
   "source": [
    "## Autocorrelation and cross correlation"
   ]
  },
  {
   "cell_type": "markdown",
   "metadata": {
    "papermill": {
     "duration": 0.129266,
     "end_time": "2021-03-18T02:24:51.897951",
     "exception": false,
     "start_time": "2021-03-18T02:24:51.768685",
     "status": "completed"
    },
    "tags": []
   },
   "source": [
    "Auto and cross correlations need to be within each state and ethnic group, so I need to work on a general function, but here it is for a few racial groups."
   ]
  },
  {
   "cell_type": "code",
   "execution_count": 71,
   "metadata": {
    "execution": {
     "iopub.execute_input": "2021-03-18T02:24:52.164590Z",
     "iopub.status.busy": "2021-03-18T02:24:52.163676Z",
     "iopub.status.idle": "2021-03-18T02:24:52.359043Z",
     "shell.execute_reply": "2021-03-18T02:24:52.357612Z"
    },
    "papermill": {
     "duration": 0.331301,
     "end_time": "2021-03-18T02:24:52.359225",
     "exception": false,
     "start_time": "2021-03-18T02:24:52.027924",
     "status": "completed"
    },
    "tags": []
   },
   "outputs": [
    {
     "data": {
      "image/png": "[encoded data removed]"
     },
     "metadata": {
      "image/png": {
       "height": 240,
       "width": 480
      }
     },
     "output_type": "display_data"
    },
    {
     "data": {
      "image/png": "[encoded data removed]"
     },
     "metadata": {
      "image/png": {
       "height": 240,
       "width": 480
      }
     },
     "output_type": "display_data"
    },
    {
     "data": {
      "image/png": "[encoded data removed]"
     },
     "metadata": {
      "image/png": {
       "height": 240,
       "width": 480
      }
     },
     "output_type": "display_data"
    }
   ],
   "source": [
    "data <- covidLaggedOneState\n",
    "data <- data[data$Race==\"Black\", ]\n",
    "acf(data$NewCases)\n",
    "pacf(data$NewCases)\n",
    "ccf(data$NewCases, data$NewDeaths)"
   ]
  },
  {
   "cell_type": "code",
   "execution_count": 72,
   "metadata": {
    "execution": {
     "iopub.execute_input": "2021-03-18T02:24:52.628595Z",
     "iopub.status.busy": "2021-03-18T02:24:52.627251Z",
     "iopub.status.idle": "2021-03-18T02:24:52.648684Z",
     "shell.execute_reply": "2021-03-18T02:24:52.647380Z"
    },
    "papermill": {
     "duration": 0.158271,
     "end_time": "2021-03-18T02:24:52.648853",
     "exception": false,
     "start_time": "2021-03-18T02:24:52.490582",
     "status": "completed"
    },
    "tags": []
   },
   "outputs": [
    {
     "ename": "ERROR",
     "evalue": "Error in ts(x): 'ts' object must have one or more observations\n",
     "output_type": "error",
     "traceback": [
      "Error in ts(x): 'ts' object must have one or more observations\nTraceback:\n",
      "1. acf(data$NewCases)",
      "2. na.action(as.ts(x))",
      "3. as.ts(x)",
      "4. as.ts.default(x)",
      "5. ts(x)",
      "6. stop(\"'ts' object must have one or more observations\")"
     ]
    }
   ],
   "source": [
    "data <- covidLaggedOneState\n",
    "data <- data[data$Race==\"LatinX\", ]\n",
    "acf(data$NewCases)\n",
    "pacf(data$NewCases)\n",
    "ccf(data$NewCases, data$NewDeaths)"
   ]
  },
  {
   "cell_type": "code",
   "execution_count": 73,
   "metadata": {
    "execution": {
     "iopub.execute_input": "2021-03-18T02:24:52.920932Z",
     "iopub.status.busy": "2021-03-18T02:24:52.919261Z",
     "iopub.status.idle": "2021-03-18T02:24:53.050413Z",
     "shell.execute_reply": "2021-03-18T02:24:53.048722Z"
    },
    "papermill": {
     "duration": 0.269057,
     "end_time": "2021-03-18T02:24:53.050574",
     "exception": false,
     "start_time": "2021-03-18T02:24:52.781517",
     "status": "completed"
    },
    "tags": []
   },
   "outputs": [
    {
     "data": {
      "image/png": "[encoded data removed]"
     },
     "metadata": {
      "image/png": {
       "height": 240,
       "width": 480
      }
     },
     "output_type": "display_data"
    },
    {
     "data": {
      "image/png": "[encoded data removed]"
     },
     "metadata": {
      "image/png": {
       "height": 240,
       "width": 480
      }
     },
     "output_type": "display_data"
    }
   ],
   "source": [
    "data <- covidLaggedOneState\n",
    "data <- data[data$Race==\"White\", ]\n",
    "data <- data[complete.cases(data), ]\n",
    "acf(data$NewCases)\n",
    "ccf(data$NewCases, data$NewDeaths)"
   ]
  }
 ],
 "metadata": {
  "kernelspec": {
   "display_name": "R",
   "language": "R",
   "name": "ir"
  },
  "language_info": {
   "codemirror_mode": "r",
   "file_extension": ".r",
   "mimetype": "text/x-r-source",
   "name": "R",
   "pygments_lexer": "r",
   "version": "4.1.0"
  },
  "papermill": {
   "default_parameters": {},
   "duration": 169.569739,
   "end_time": "2021-03-18T02:24:53.296764",
   "environment_variables": {},
   "exception": null,
   "input_path": "__notebook__.ipynb",
   "output_path": "__notebook__.ipynb",
   "parameters": {},
   "start_time": "2021-03-18T02:22:03.727025",
   "version": "2.2.2"
  }
 },
 "nbformat": 4,
 "nbformat_minor": 4
}
